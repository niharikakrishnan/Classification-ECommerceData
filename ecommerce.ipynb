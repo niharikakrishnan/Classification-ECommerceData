{
 "cells": [
  {
   "cell_type": "markdown",
   "metadata": {
    "colab_type": "text",
    "id": "QYg_pZ9NuHkY"
   },
   "source": [
    "# Customer Classification using E-Commerce Dataset\n"
   ]
  },
  {
   "cell_type": "markdown",
   "metadata": {
    "colab_type": "text",
    "id": "J4zKjTKxuHka"
   },
   "source": [
    "## About Dataset\n",
    "This is a transnational data set which contains all the transactions occurring between 01/12/2010 and 09/12/2011 for a UK-based and registered non-store online retail.The company mainly sells unique all-occasion gifts. Many customers of the company are wholesalers."
   ]
  },
  {
   "cell_type": "markdown",
   "metadata": {
    "colab_type": "text",
    "id": "kh6nl9youHkd"
   },
   "source": [
    "## Aim\n",
    "We aim to implement various classification algorithms like SVM, Logistic Regression, Naive Bayes, Random Forest, SGD, k-NN to predict a customer's origin and to compare the performance of these supervised machine learning models."
   ]
  },
  {
   "cell_type": "markdown",
   "metadata": {},
   "source": [
    "## AZURE ML WORKSPACE"
   ]
  },
  {
   "cell_type": "code",
   "execution_count": 1,
   "metadata": {},
   "outputs": [
    {
     "name": "stdout",
     "output_type": "stream",
     "text": [
      "1.0.15\n"
     ]
    }
   ],
   "source": [
    "import azureml.core\n",
    "print(azureml.core.VERSION)"
   ]
  },
  {
   "cell_type": "code",
   "execution_count": null,
   "metadata": {},
   "outputs": [],
   "source": [
    "from azureml.core import Workspace\n",
    "ws = Workspace.create(name='myworkspace', subscription_id='<azure-subscription-id>', resource_group='myresourcegroup', \n",
    "                      create_resource_group=True, location='eastus2')"
   ]
  },
  {
   "cell_type": "code",
   "execution_count": null,
   "metadata": {},
   "outputs": [],
   "source": [
    "ws.get_details()"
   ]
  },
  {
   "cell_type": "markdown",
   "metadata": {
    "colab_type": "text",
    "id": "khoVbiFRuHke"
   },
   "source": [
    "### 1. Data Processing"
   ]
  },
  {
   "cell_type": "code",
   "execution_count": 1,
   "metadata": {
    "colab": {},
    "colab_type": "code",
    "id": "20hOiKQsuHkf"
   },
   "outputs": [],
   "source": [
    "#Importing necessary libraries\n",
    "import numpy as np\n",
    "import pandas as pd \n",
    "import matplotlib.pyplot as plt\n",
    "import seaborn as sns\n",
    "import sklearn\n",
    "import warnings\n",
    "import nltk\n",
    "warnings.filterwarnings('ignore')"
   ]
  },
  {
   "cell_type": "code",
   "execution_count": 2,
   "metadata": {
    "colab": {},
    "colab_type": "code",
    "id": "-yBy3NZRuHkm"
   },
   "outputs": [],
   "source": [
    "#Loading dataset\n",
    "df = pd.read_csv('data.csv', encoding = 'ISO-8859-1')"
   ]
  },
  {
   "cell_type": "code",
   "execution_count": 3,
   "metadata": {
    "colab": {},
    "colab_type": "code",
    "id": "9yLCOoyEuHks",
    "scrolled": false
   },
   "outputs": [],
   "source": [
    "#Function to display information about the dataset\n",
    "def information(df):\n",
    "    print(df.describe())\n",
    "    print(df.dtypes)\n",
    "    print(df.head())"
   ]
  },
  {
   "cell_type": "code",
   "execution_count": 4,
   "metadata": {},
   "outputs": [],
   "source": [
    "#Returns the shape of the dataset\n",
    "def shape(df):\n",
    "    print(df.shape)"
   ]
  },
  {
   "cell_type": "code",
   "execution_count": 5,
   "metadata": {
    "colab": {},
    "colab_type": "code",
    "id": "bX5Die5GXg9g"
   },
   "outputs": [],
   "source": [
    "#Creating new columns by extracting Year, Month, Day and Hour from TimeStamp\n",
    "df.InvoiceDate = pd.to_datetime(df.InvoiceDate, format=\"%m/%d/%Y %H:%M\")\n",
    "df['Year'] = df['InvoiceDate'].dt.year\n",
    "df['Month'] = df['InvoiceDate'].dt.month \n",
    "df['Day'] = df['InvoiceDate'].dt.day \n",
    "df['Hour'] = df['InvoiceDate'].dt.hour "
   ]
  },
  {
   "cell_type": "code",
   "execution_count": 6,
   "metadata": {},
   "outputs": [
    {
     "name": "stdout",
     "output_type": "stream",
     "text": [
      "(541909, 11)\n"
     ]
    }
   ],
   "source": [
    "# Drop Invoice Date since values extracted\n",
    "df.drop(columns=['InvoiceDate'], inplace=True)\n",
    "shape(df)"
   ]
  },
  {
   "cell_type": "code",
   "execution_count": 7,
   "metadata": {},
   "outputs": [
    {
     "name": "stdout",
     "output_type": "stream",
     "text": [
      "(536640, 11)\n"
     ]
    }
   ],
   "source": [
    "# Drop duplicates by keeping the first value\n",
    "df.drop_duplicates(keep='first', inplace=True)\n",
    "shape(df)"
   ]
  },
  {
   "cell_type": "code",
   "execution_count": 8,
   "metadata": {
    "colab": {
     "base_uri": "https://localhost:8080/",
     "height": 34
    },
    "colab_type": "code",
    "id": "j0Ukwc8fuHlE",
    "outputId": "61b4ab1a-17f4-4cd4-f5c2-a726e1e1a41d"
   },
   "outputs": [
    {
     "name": "stdout",
     "output_type": "stream",
     "text": [
      "(536640, 12)\n"
     ]
    }
   ],
   "source": [
    "#We now add another variable - Total Price for better EDA\n",
    "df['TotalPrice'] = df['UnitPrice'] * df['Quantity']\n",
    "shape(df)"
   ]
  },
  {
   "cell_type": "code",
   "execution_count": 9,
   "metadata": {},
   "outputs": [
    {
     "data": {
      "text/plain": [
       "CustomerID     135037\n",
       "Description      1454\n",
       "TotalPrice          0\n",
       "Hour                0\n",
       "Day                 0\n",
       "Month               0\n",
       "Year                0\n",
       "Country             0\n",
       "UnitPrice           0\n",
       "Quantity            0\n",
       "StockCode           0\n",
       "InvoiceNo           0\n",
       "dtype: int64"
      ]
     },
     "execution_count": 9,
     "metadata": {},
     "output_type": "execute_result"
    }
   ],
   "source": [
    "#Check missing values for each column\n",
    "df.isnull().sum().sort_values(ascending=False)"
   ]
  },
  {
   "cell_type": "code",
   "execution_count": 10,
   "metadata": {},
   "outputs": [
    {
     "data": {
      "text/plain": [
       "InvoiceNo      25900\n",
       "StockCode       4070\n",
       "Description     4223\n",
       "Quantity         722\n",
       "UnitPrice       1630\n",
       "CustomerID      4372\n",
       "Country           38\n",
       "Year               2\n",
       "Month             12\n",
       "Day               31\n",
       "Hour              15\n",
       "TotalPrice      6204\n",
       "dtype: int64"
      ]
     },
     "execution_count": 10,
     "metadata": {},
     "output_type": "execute_result"
    }
   ],
   "source": [
    "#Count the total number of countries - y label - multi-class classification with 37 classes\n",
    "df.nunique()"
   ]
  },
  {
   "cell_type": "markdown",
   "metadata": {
    "colab_type": "text",
    "id": "z82wfOiKuHlL"
   },
   "source": [
    "### 2. Exploratory Data Analysis"
   ]
  },
  {
   "cell_type": "markdown",
   "metadata": {
    "colab_type": "text",
    "id": "0lzZ5ERyuHlM"
   },
   "source": [
    "#### Exploring the content of variables\n",
    "\n",
    "This dataframe contains 8 variables that correspond to:\n",
    "<br><br>\n",
    "__InvoiceNo:__ Invoice number. Nominal - A 6-digit integral number uniquely assigned to each transaction. If this code starts with letter 'C', it indicates a cancellation. <br>\n",
    "__StockCode:__ Product code. Nominal - A 5-digit integral number uniquely assigned to each distinct product.<br>\n",
    "__Description:__ Product (item) name. Nominal. \n",
    "<br>\n",
    "__Quantity:__ Numeric - The quantities of each product (item) per transaction. <br>\n",
    "__InvoiceDate:__ Invice Date and time. Numeric - The day and time when each transaction was generated. <br>\n",
    "__UnitPrice:__ Unit price. Numeric - Price per unit of the product <br>\n",
    "__CustomerID:__ Customer number. Nominal - A 5-digit integral number uniquely assigned to each customer. <br>\n",
    "__Country:__ Country name. Nominal - The name of the country where each customer resides.<br>"
   ]
  },
  {
   "cell_type": "markdown",
   "metadata": {},
   "source": [
    "### Exploring each feature of the dataset"
   ]
  },
  {
   "cell_type": "markdown",
   "metadata": {},
   "source": [
    "#### 1. Correlation of Numeric features in the dataset"
   ]
  },
  {
   "cell_type": "code",
   "execution_count": 11,
   "metadata": {},
   "outputs": [
    {
     "data": {
      "text/html": [
       "<style  type=\"text/css\" >\n",
       "    #T_a2bd5114_3fdf_11e9_bce5_4c3488ea64a0row0_col0 {\n",
       "            background-color:  #b40426;\n",
       "        }    #T_a2bd5114_3fdf_11e9_bce5_4c3488ea64a0row0_col1 {\n",
       "            background-color:  #3d50c3;\n",
       "        }    #T_a2bd5114_3fdf_11e9_bce5_4c3488ea64a0row0_col2 {\n",
       "            background-color:  #3c4ec2;\n",
       "        }    #T_a2bd5114_3fdf_11e9_bce5_4c3488ea64a0row0_col3 {\n",
       "            background-color:  #3e51c5;\n",
       "        }    #T_a2bd5114_3fdf_11e9_bce5_4c3488ea64a0row0_col4 {\n",
       "            background-color:  #3d50c3;\n",
       "        }    #T_a2bd5114_3fdf_11e9_bce5_4c3488ea64a0row0_col5 {\n",
       "            background-color:  #3d50c3;\n",
       "        }    #T_a2bd5114_3fdf_11e9_bce5_4c3488ea64a0row0_col6 {\n",
       "            background-color:  #3b4cc0;\n",
       "        }    #T_a2bd5114_3fdf_11e9_bce5_4c3488ea64a0row0_col7 {\n",
       "            background-color:  #d95847;\n",
       "        }    #T_a2bd5114_3fdf_11e9_bce5_4c3488ea64a0row1_col0 {\n",
       "            background-color:  #6687ed;\n",
       "        }    #T_a2bd5114_3fdf_11e9_bce5_4c3488ea64a0row1_col1 {\n",
       "            background-color:  #b40426;\n",
       "        }    #T_a2bd5114_3fdf_11e9_bce5_4c3488ea64a0row1_col2 {\n",
       "            background-color:  #6485ec;\n",
       "        }    #T_a2bd5114_3fdf_11e9_bce5_4c3488ea64a0row1_col3 {\n",
       "            background-color:  #6485ec;\n",
       "        }    #T_a2bd5114_3fdf_11e9_bce5_4c3488ea64a0row1_col4 {\n",
       "            background-color:  #6687ed;\n",
       "        }    #T_a2bd5114_3fdf_11e9_bce5_4c3488ea64a0row1_col5 {\n",
       "            background-color:  #6687ed;\n",
       "        }    #T_a2bd5114_3fdf_11e9_bce5_4c3488ea64a0row1_col6 {\n",
       "            background-color:  #6687ed;\n",
       "        }    #T_a2bd5114_3fdf_11e9_bce5_4c3488ea64a0row1_col7 {\n",
       "            background-color:  #3b4cc0;\n",
       "        }    #T_a2bd5114_3fdf_11e9_bce5_4c3488ea64a0row2_col0 {\n",
       "            background-color:  #4358cb;\n",
       "        }    #T_a2bd5114_3fdf_11e9_bce5_4c3488ea64a0row2_col1 {\n",
       "            background-color:  #4358cb;\n",
       "        }    #T_a2bd5114_3fdf_11e9_bce5_4c3488ea64a0row2_col2 {\n",
       "            background-color:  #b40426;\n",
       "        }    #T_a2bd5114_3fdf_11e9_bce5_4c3488ea64a0row2_col3 {\n",
       "            background-color:  #3b4cc0;\n",
       "        }    #T_a2bd5114_3fdf_11e9_bce5_4c3488ea64a0row2_col4 {\n",
       "            background-color:  #4e68d8;\n",
       "        }    #T_a2bd5114_3fdf_11e9_bce5_4c3488ea64a0row2_col5 {\n",
       "            background-color:  #445acc;\n",
       "        }    #T_a2bd5114_3fdf_11e9_bce5_4c3488ea64a0row2_col6 {\n",
       "            background-color:  #5875e1;\n",
       "        }    #T_a2bd5114_3fdf_11e9_bce5_4c3488ea64a0row2_col7 {\n",
       "            background-color:  #445acc;\n",
       "        }    #T_a2bd5114_3fdf_11e9_bce5_4c3488ea64a0row3_col0 {\n",
       "            background-color:  #94b6ff;\n",
       "        }    #T_a2bd5114_3fdf_11e9_bce5_4c3488ea64a0row3_col1 {\n",
       "            background-color:  #93b5fe;\n",
       "        }    #T_a2bd5114_3fdf_11e9_bce5_4c3488ea64a0row3_col2 {\n",
       "            background-color:  #8badfd;\n",
       "        }    #T_a2bd5114_3fdf_11e9_bce5_4c3488ea64a0row3_col3 {\n",
       "            background-color:  #b40426;\n",
       "        }    #T_a2bd5114_3fdf_11e9_bce5_4c3488ea64a0row3_col4 {\n",
       "            background-color:  #3b4cc0;\n",
       "        }    #T_a2bd5114_3fdf_11e9_bce5_4c3488ea64a0row3_col5 {\n",
       "            background-color:  #bcd2f7;\n",
       "        }    #T_a2bd5114_3fdf_11e9_bce5_4c3488ea64a0row3_col6 {\n",
       "            background-color:  #92b4fe;\n",
       "        }    #T_a2bd5114_3fdf_11e9_bce5_4c3488ea64a0row3_col7 {\n",
       "            background-color:  #94b6ff;\n",
       "        }    #T_a2bd5114_3fdf_11e9_bce5_4c3488ea64a0row4_col0 {\n",
       "            background-color:  #93b5fe;\n",
       "        }    #T_a2bd5114_3fdf_11e9_bce5_4c3488ea64a0row4_col1 {\n",
       "            background-color:  #94b6ff;\n",
       "        }    #T_a2bd5114_3fdf_11e9_bce5_4c3488ea64a0row4_col2 {\n",
       "            background-color:  #9bbcff;\n",
       "        }    #T_a2bd5114_3fdf_11e9_bce5_4c3488ea64a0row4_col3 {\n",
       "            background-color:  #3b4cc0;\n",
       "        }    #T_a2bd5114_3fdf_11e9_bce5_4c3488ea64a0row4_col4 {\n",
       "            background-color:  #b40426;\n",
       "        }    #T_a2bd5114_3fdf_11e9_bce5_4c3488ea64a0row4_col5 {\n",
       "            background-color:  #7699f6;\n",
       "        }    #T_a2bd5114_3fdf_11e9_bce5_4c3488ea64a0row4_col6 {\n",
       "            background-color:  #9abbff;\n",
       "        }    #T_a2bd5114_3fdf_11e9_bce5_4c3488ea64a0row4_col7 {\n",
       "            background-color:  #94b6ff;\n",
       "        }    #T_a2bd5114_3fdf_11e9_bce5_4c3488ea64a0row5_col0 {\n",
       "            background-color:  #5b7ae5;\n",
       "        }    #T_a2bd5114_3fdf_11e9_bce5_4c3488ea64a0row5_col1 {\n",
       "            background-color:  #5a78e4;\n",
       "        }    #T_a2bd5114_3fdf_11e9_bce5_4c3488ea64a0row5_col2 {\n",
       "            background-color:  #5a78e4;\n",
       "        }    #T_a2bd5114_3fdf_11e9_bce5_4c3488ea64a0row5_col3 {\n",
       "            background-color:  #8db0fe;\n",
       "        }    #T_a2bd5114_3fdf_11e9_bce5_4c3488ea64a0row5_col4 {\n",
       "            background-color:  #3b4cc0;\n",
       "        }    #T_a2bd5114_3fdf_11e9_bce5_4c3488ea64a0row5_col5 {\n",
       "            background-color:  #b40426;\n",
       "        }    #T_a2bd5114_3fdf_11e9_bce5_4c3488ea64a0row5_col6 {\n",
       "            background-color:  #5b7ae5;\n",
       "        }    #T_a2bd5114_3fdf_11e9_bce5_4c3488ea64a0row5_col7 {\n",
       "            background-color:  #5b7ae5;\n",
       "        }    #T_a2bd5114_3fdf_11e9_bce5_4c3488ea64a0row6_col0 {\n",
       "            background-color:  #3b4cc0;\n",
       "        }    #T_a2bd5114_3fdf_11e9_bce5_4c3488ea64a0row6_col1 {\n",
       "            background-color:  #3e51c5;\n",
       "        }    #T_a2bd5114_3fdf_11e9_bce5_4c3488ea64a0row6_col2 {\n",
       "            background-color:  #516ddb;\n",
       "        }    #T_a2bd5114_3fdf_11e9_bce5_4c3488ea64a0row6_col3 {\n",
       "            background-color:  #3b4cc0;\n",
       "        }    #T_a2bd5114_3fdf_11e9_bce5_4c3488ea64a0row6_col4 {\n",
       "            background-color:  #455cce;\n",
       "        }    #T_a2bd5114_3fdf_11e9_bce5_4c3488ea64a0row6_col5 {\n",
       "            background-color:  #3d50c3;\n",
       "        }    #T_a2bd5114_3fdf_11e9_bce5_4c3488ea64a0row6_col6 {\n",
       "            background-color:  #b40426;\n",
       "        }    #T_a2bd5114_3fdf_11e9_bce5_4c3488ea64a0row6_col7 {\n",
       "            background-color:  #3b4cc0;\n",
       "        }    #T_a2bd5114_3fdf_11e9_bce5_4c3488ea64a0row7_col0 {\n",
       "            background-color:  #d55042;\n",
       "        }    #T_a2bd5114_3fdf_11e9_bce5_4c3488ea64a0row7_col1 {\n",
       "            background-color:  #3b4cc0;\n",
       "        }    #T_a2bd5114_3fdf_11e9_bce5_4c3488ea64a0row7_col2 {\n",
       "            background-color:  #6687ed;\n",
       "        }    #T_a2bd5114_3fdf_11e9_bce5_4c3488ea64a0row7_col3 {\n",
       "            background-color:  #6687ed;\n",
       "        }    #T_a2bd5114_3fdf_11e9_bce5_4c3488ea64a0row7_col4 {\n",
       "            background-color:  #6687ed;\n",
       "        }    #T_a2bd5114_3fdf_11e9_bce5_4c3488ea64a0row7_col5 {\n",
       "            background-color:  #6687ed;\n",
       "        }    #T_a2bd5114_3fdf_11e9_bce5_4c3488ea64a0row7_col6 {\n",
       "            background-color:  #6384eb;\n",
       "        }    #T_a2bd5114_3fdf_11e9_bce5_4c3488ea64a0row7_col7 {\n",
       "            background-color:  #b40426;\n",
       "        }</style>  \n",
       "<table id=\"T_a2bd5114_3fdf_11e9_bce5_4c3488ea64a0\" > \n",
       "<thead>    <tr> \n",
       "        <th class=\"blank level0\" ></th> \n",
       "        <th class=\"col_heading level0 col0\" >Quantity</th> \n",
       "        <th class=\"col_heading level0 col1\" >UnitPrice</th> \n",
       "        <th class=\"col_heading level0 col2\" >CustomerID</th> \n",
       "        <th class=\"col_heading level0 col3\" >Year</th> \n",
       "        <th class=\"col_heading level0 col4\" >Month</th> \n",
       "        <th class=\"col_heading level0 col5\" >Day</th> \n",
       "        <th class=\"col_heading level0 col6\" >Hour</th> \n",
       "        <th class=\"col_heading level0 col7\" >TotalPrice</th> \n",
       "    </tr></thead> \n",
       "<tbody>    <tr> \n",
       "        <th id=\"T_a2bd5114_3fdf_11e9_bce5_4c3488ea64a0level0_row0\" class=\"row_heading level0 row0\" >Quantity</th> \n",
       "        <td id=\"T_a2bd5114_3fdf_11e9_bce5_4c3488ea64a0row0_col0\" class=\"data row0 col0\" >1.0</td> \n",
       "        <td id=\"T_a2bd5114_3fdf_11e9_bce5_4c3488ea64a0row0_col1\" class=\"data row0 col1\" >-0.0012</td> \n",
       "        <td id=\"T_a2bd5114_3fdf_11e9_bce5_4c3488ea64a0row0_col2\" class=\"data row0 col2\" >-0.0035</td> \n",
       "        <td id=\"T_a2bd5114_3fdf_11e9_bce5_4c3488ea64a0row0_col3\" class=\"data row0 col3\" >0.002</td> \n",
       "        <td id=\"T_a2bd5114_3fdf_11e9_bce5_4c3488ea64a0row0_col4\" class=\"data row0 col4\" >-0.001</td> \n",
       "        <td id=\"T_a2bd5114_3fdf_11e9_bce5_4c3488ea64a0row0_col5\" class=\"data row0 col5\" >-4.4e-05</td> \n",
       "        <td id=\"T_a2bd5114_3fdf_11e9_bce5_4c3488ea64a0row0_col6\" class=\"data row0 col6\" >-0.011</td> \n",
       "        <td id=\"T_a2bd5114_3fdf_11e9_bce5_4c3488ea64a0row0_col7\" class=\"data row0 col7\" >0.89</td> \n",
       "    </tr>    <tr> \n",
       "        <th id=\"T_a2bd5114_3fdf_11e9_bce5_4c3488ea64a0level0_row1\" class=\"row_heading level0 row1\" >UnitPrice</th> \n",
       "        <td id=\"T_a2bd5114_3fdf_11e9_bce5_4c3488ea64a0row1_col0\" class=\"data row1 col0\" >-0.0012</td> \n",
       "        <td id=\"T_a2bd5114_3fdf_11e9_bce5_4c3488ea64a0row1_col1\" class=\"data row1 col1\" >1.0</td> \n",
       "        <td id=\"T_a2bd5114_3fdf_11e9_bce5_4c3488ea64a0row1_col2\" class=\"data row1 col2\" >-0.0045</td> \n",
       "        <td id=\"T_a2bd5114_3fdf_11e9_bce5_4c3488ea64a0row1_col3\" class=\"data row1 col3\" >-0.0046</td> \n",
       "        <td id=\"T_a2bd5114_3fdf_11e9_bce5_4c3488ea64a0row1_col4\" class=\"data row1 col4\" >-0.00044</td> \n",
       "        <td id=\"T_a2bd5114_3fdf_11e9_bce5_4c3488ea64a0row1_col5\" class=\"data row1 col5\" >-0.0027</td> \n",
       "        <td id=\"T_a2bd5114_3fdf_11e9_bce5_4c3488ea64a0row1_col6\" class=\"data row1 col6\" >0.0013</td> \n",
       "        <td id=\"T_a2bd5114_3fdf_11e9_bce5_4c3488ea64a0row1_col7\" class=\"data row1 col7\" >-0.16</td> \n",
       "    </tr>    <tr> \n",
       "        <th id=\"T_a2bd5114_3fdf_11e9_bce5_4c3488ea64a0level0_row2\" class=\"row_heading level0 row2\" >CustomerID</th> \n",
       "        <td id=\"T_a2bd5114_3fdf_11e9_bce5_4c3488ea64a0row2_col0\" class=\"data row2 col0\" >-0.0035</td> \n",
       "        <td id=\"T_a2bd5114_3fdf_11e9_bce5_4c3488ea64a0row2_col1\" class=\"data row2 col1\" >-0.0045</td> \n",
       "        <td id=\"T_a2bd5114_3fdf_11e9_bce5_4c3488ea64a0row2_col2\" class=\"data row2 col2\" >1.0</td> \n",
       "        <td id=\"T_a2bd5114_3fdf_11e9_bce5_4c3488ea64a0row2_col3\" class=\"data row2 col3\" >-0.035</td> \n",
       "        <td id=\"T_a2bd5114_3fdf_11e9_bce5_4c3488ea64a0row2_col4\" class=\"data row2 col4\" >0.03</td> \n",
       "        <td id=\"T_a2bd5114_3fdf_11e9_bce5_4c3488ea64a0row2_col5\" class=\"data row2 col5\" >-0.0019</td> \n",
       "        <td id=\"T_a2bd5114_3fdf_11e9_bce5_4c3488ea64a0row2_col6\" class=\"data row2 col6\" >0.064</td> \n",
       "        <td id=\"T_a2bd5114_3fdf_11e9_bce5_4c3488ea64a0row2_col7\" class=\"data row2 col7\" >-0.0021</td> \n",
       "    </tr>    <tr> \n",
       "        <th id=\"T_a2bd5114_3fdf_11e9_bce5_4c3488ea64a0level0_row3\" class=\"row_heading level0 row3\" >Year</th> \n",
       "        <td id=\"T_a2bd5114_3fdf_11e9_bce5_4c3488ea64a0row3_col0\" class=\"data row3 col0\" >0.002</td> \n",
       "        <td id=\"T_a2bd5114_3fdf_11e9_bce5_4c3488ea64a0row3_col1\" class=\"data row3 col1\" >-0.0046</td> \n",
       "        <td id=\"T_a2bd5114_3fdf_11e9_bce5_4c3488ea64a0row3_col2\" class=\"data row3 col2\" >-0.035</td> \n",
       "        <td id=\"T_a2bd5114_3fdf_11e9_bce5_4c3488ea64a0row3_col3\" class=\"data row3 col3\" >1.0</td> \n",
       "        <td id=\"T_a2bd5114_3fdf_11e9_bce5_4c3488ea64a0row3_col4\" class=\"data row3 col4\" >-0.37</td> \n",
       "        <td id=\"T_a2bd5114_3fdf_11e9_bce5_4c3488ea64a0row3_col5\" class=\"data row3 col5\" >0.16</td> \n",
       "        <td id=\"T_a2bd5114_3fdf_11e9_bce5_4c3488ea64a0row3_col6\" class=\"data row3 col6\" >-0.011</td> \n",
       "        <td id=\"T_a2bd5114_3fdf_11e9_bce5_4c3488ea64a0row3_col7\" class=\"data row3 col7\" >0.00026</td> \n",
       "    </tr>    <tr> \n",
       "        <th id=\"T_a2bd5114_3fdf_11e9_bce5_4c3488ea64a0level0_row4\" class=\"row_heading level0 row4\" >Month</th> \n",
       "        <td id=\"T_a2bd5114_3fdf_11e9_bce5_4c3488ea64a0row4_col0\" class=\"data row4 col0\" >-0.001</td> \n",
       "        <td id=\"T_a2bd5114_3fdf_11e9_bce5_4c3488ea64a0row4_col1\" class=\"data row4 col1\" >-0.00044</td> \n",
       "        <td id=\"T_a2bd5114_3fdf_11e9_bce5_4c3488ea64a0row4_col2\" class=\"data row4 col2\" >0.03</td> \n",
       "        <td id=\"T_a2bd5114_3fdf_11e9_bce5_4c3488ea64a0row4_col3\" class=\"data row4 col3\" >-0.37</td> \n",
       "        <td id=\"T_a2bd5114_3fdf_11e9_bce5_4c3488ea64a0row4_col4\" class=\"data row4 col4\" >1.0</td> \n",
       "        <td id=\"T_a2bd5114_3fdf_11e9_bce5_4c3488ea64a0row4_col5\" class=\"data row4 col5\" >-0.12</td> \n",
       "        <td id=\"T_a2bd5114_3fdf_11e9_bce5_4c3488ea64a0row4_col6\" class=\"data row4 col6\" >0.026</td> \n",
       "        <td id=\"T_a2bd5114_3fdf_11e9_bce5_4c3488ea64a0row4_col7\" class=\"data row4 col7\" >0.00024</td> \n",
       "    </tr>    <tr> \n",
       "        <th id=\"T_a2bd5114_3fdf_11e9_bce5_4c3488ea64a0level0_row5\" class=\"row_heading level0 row5\" >Day</th> \n",
       "        <td id=\"T_a2bd5114_3fdf_11e9_bce5_4c3488ea64a0row5_col0\" class=\"data row5 col0\" >-4.4e-05</td> \n",
       "        <td id=\"T_a2bd5114_3fdf_11e9_bce5_4c3488ea64a0row5_col1\" class=\"data row5 col1\" >-0.0027</td> \n",
       "        <td id=\"T_a2bd5114_3fdf_11e9_bce5_4c3488ea64a0row5_col2\" class=\"data row5 col2\" >-0.0019</td> \n",
       "        <td id=\"T_a2bd5114_3fdf_11e9_bce5_4c3488ea64a0row5_col3\" class=\"data row5 col3\" >0.16</td> \n",
       "        <td id=\"T_a2bd5114_3fdf_11e9_bce5_4c3488ea64a0row5_col4\" class=\"data row5 col4\" >-0.12</td> \n",
       "        <td id=\"T_a2bd5114_3fdf_11e9_bce5_4c3488ea64a0row5_col5\" class=\"data row5 col5\" >1.0</td> \n",
       "        <td id=\"T_a2bd5114_3fdf_11e9_bce5_4c3488ea64a0row5_col6\" class=\"data row5 col6\" >-0.00015</td> \n",
       "        <td id=\"T_a2bd5114_3fdf_11e9_bce5_4c3488ea64a0row5_col7\" class=\"data row5 col7\" >-0.00028</td> \n",
       "    </tr>    <tr> \n",
       "        <th id=\"T_a2bd5114_3fdf_11e9_bce5_4c3488ea64a0level0_row6\" class=\"row_heading level0 row6\" >Hour</th> \n",
       "        <td id=\"T_a2bd5114_3fdf_11e9_bce5_4c3488ea64a0row6_col0\" class=\"data row6 col0\" >-0.011</td> \n",
       "        <td id=\"T_a2bd5114_3fdf_11e9_bce5_4c3488ea64a0row6_col1\" class=\"data row6 col1\" >0.0013</td> \n",
       "        <td id=\"T_a2bd5114_3fdf_11e9_bce5_4c3488ea64a0row6_col2\" class=\"data row6 col2\" >0.064</td> \n",
       "        <td id=\"T_a2bd5114_3fdf_11e9_bce5_4c3488ea64a0row6_col3\" class=\"data row6 col3\" >-0.011</td> \n",
       "        <td id=\"T_a2bd5114_3fdf_11e9_bce5_4c3488ea64a0row6_col4\" class=\"data row6 col4\" >0.026</td> \n",
       "        <td id=\"T_a2bd5114_3fdf_11e9_bce5_4c3488ea64a0row6_col5\" class=\"data row6 col5\" >-0.00015</td> \n",
       "        <td id=\"T_a2bd5114_3fdf_11e9_bce5_4c3488ea64a0row6_col6\" class=\"data row6 col6\" >1.0</td> \n",
       "        <td id=\"T_a2bd5114_3fdf_11e9_bce5_4c3488ea64a0row6_col7\" class=\"data row6 col7\" >-0.0091</td> \n",
       "    </tr>    <tr> \n",
       "        <th id=\"T_a2bd5114_3fdf_11e9_bce5_4c3488ea64a0level0_row7\" class=\"row_heading level0 row7\" >TotalPrice</th> \n",
       "        <td id=\"T_a2bd5114_3fdf_11e9_bce5_4c3488ea64a0row7_col0\" class=\"data row7 col0\" >0.89</td> \n",
       "        <td id=\"T_a2bd5114_3fdf_11e9_bce5_4c3488ea64a0row7_col1\" class=\"data row7 col1\" >-0.16</td> \n",
       "        <td id=\"T_a2bd5114_3fdf_11e9_bce5_4c3488ea64a0row7_col2\" class=\"data row7 col2\" >-0.0021</td> \n",
       "        <td id=\"T_a2bd5114_3fdf_11e9_bce5_4c3488ea64a0row7_col3\" class=\"data row7 col3\" >0.00026</td> \n",
       "        <td id=\"T_a2bd5114_3fdf_11e9_bce5_4c3488ea64a0row7_col4\" class=\"data row7 col4\" >0.00024</td> \n",
       "        <td id=\"T_a2bd5114_3fdf_11e9_bce5_4c3488ea64a0row7_col5\" class=\"data row7 col5\" >-0.00028</td> \n",
       "        <td id=\"T_a2bd5114_3fdf_11e9_bce5_4c3488ea64a0row7_col6\" class=\"data row7 col6\" >-0.0091</td> \n",
       "        <td id=\"T_a2bd5114_3fdf_11e9_bce5_4c3488ea64a0row7_col7\" class=\"data row7 col7\" >1.0</td> \n",
       "    </tr></tbody> \n",
       "</table> "
      ],
      "text/plain": [
       "<pandas.io.formats.style.Styler at 0x20897786d68>"
      ]
     },
     "execution_count": 11,
     "metadata": {},
     "output_type": "execute_result"
    }
   ],
   "source": [
    "df.corr(method='pearson').style.format(\"{:.2}\").background_gradient(cmap=plt.get_cmap('coolwarm'), axis=1)"
   ]
  },
  {
   "cell_type": "markdown",
   "metadata": {},
   "source": [
    "#### 2. Exploratory Data Analysis with respect to each country"
   ]
  },
  {
   "cell_type": "code",
   "execution_count": 12,
   "metadata": {},
   "outputs": [
    {
     "data": {
      "image/png": "[encoded data removed]",
      "text/plain": [
       "<Figure size 432x288 with 1 Axes>"
      ]
     },
     "metadata": {
      "needs_background": "light"
     },
     "output_type": "display_data"
    }
   ],
   "source": [
    "# Number of orders made by each country\n",
    "# Inference - People from United Kingdom purchase the most \n",
    "total_orders=df.groupby('Country')['Quantity'].count().sort_values(ascending=False)\n",
    "total_orders.plot('bar')\n",
    "plt.xlabel('Country')\n",
    "plt.ylabel('Number of Orders')\n",
    "plt.title('Number of Orders per Country', fontsize=16)\n",
    "plt.show()"
   ]
  },
  {
   "cell_type": "code",
   "execution_count": 13,
   "metadata": {},
   "outputs": [
    {
     "data": {
      "image/png": "[encoded data removed]",
      "text/plain": [
       "<Figure size 1080x864 with 1 Axes>"
      ]
     },
     "metadata": {
      "needs_background": "light"
     },
     "output_type": "display_data"
    }
   ],
   "source": [
    "# No.of Invoices per country\n",
    "## Inference - People from United Kingdom have the most visits/transactions\n",
    "No_invoice_per_country = df.groupby([\"Country\"])[\"InvoiceNo\"].count().sort_values()\n",
    "No_invoice_per_country.plot(kind='barh', figsize=(15,12))\n",
    "plt.title(\"Number of Invoices per Country\")\n",
    "plt.show()"
   ]
  },
  {
   "cell_type": "code",
   "execution_count": 14,
   "metadata": {},
   "outputs": [
    {
     "data": {
      "image/png": "[encoded data removed]",
      "text/plain": [
       "<Figure size 1080x864 with 1 Axes>"
      ]
     },
     "metadata": {
      "needs_background": "light"
     },
     "output_type": "display_data"
    }
   ],
   "source": [
    "#Best Buyer with respect to country\n",
    "best_buyer = df.groupby([\"Country\", \"InvoiceNo\"])[\"TotalPrice\"].sum().reset_index().groupby([\"Country\"])[\"TotalPrice\"].mean().sort_values()\n",
    "best_buyer.plot(kind='barh', figsize=(15,12))\n",
    "plt.title(\"Average Basket Price per Country\")\n",
    "plt.show()"
   ]
  },
  {
   "cell_type": "markdown",
   "metadata": {},
   "source": [
    "#### 3. Exploratory Data Analysis with respect to Quantity"
   ]
  },
  {
   "cell_type": "markdown",
   "metadata": {},
   "source": [
    "Using violin plot to get the distribution of quantity data its probability density.\n",
    "\n",
    "Inference: Value of quantity is skewed - Max amd min have values around 80000 which has adverse effects with the training data"
   ]
  },
  {
   "cell_type": "code",
   "execution_count": 15,
   "metadata": {},
   "outputs": [
    {
     "data": {
      "text/plain": [
       "<matplotlib.axes._subplots.AxesSubplot at 0x2089805a4e0>"
      ]
     },
     "execution_count": 15,
     "metadata": {},
     "output_type": "execute_result"
    },
    {
     "data": {
      "image/png": "[encoded data removed]",
      "text/plain": [
       "<Figure size 432x288 with 1 Axes>"
      ]
     },
     "metadata": {},
     "output_type": "display_data"
    }
   ],
   "source": [
    "sns.set(style=\"whitegrid\")\n",
    "sns.violinplot(x=df.Quantity)"
   ]
  },
  {
   "cell_type": "code",
   "execution_count": 16,
   "metadata": {},
   "outputs": [
    {
     "data": {
      "text/plain": [
       "Text(0, 0.5, 'Occurrence')"
      ]
     },
     "execution_count": 16,
     "metadata": {},
     "output_type": "execute_result"
    },
    {
     "data": {
      "image/png": "[encoded data removed]",
      "text/plain": [
       "<Figure size 1080x1080 with 1 Axes>"
      ]
     },
     "metadata": {},
     "output_type": "display_data"
    }
   ],
   "source": [
    "#Visualising total quantity. Shows outliers where quantity is less than -2000. \n",
    "\n",
    "plt.figure(figsize=(15,15))\n",
    "x=df.Quantity.value_counts().reset_index().as_matrix().transpose()\n",
    "plt.subplot(411) #1st digit #rows, 2nd digit #columns, 3rd digit plot number\n",
    "plt.scatter(x[0], x[1], marker='o')\n",
    "plt.title('Quantity plots',fontsize=15)\n",
    "plt.ylabel('Occurrence',fontsize=12)"
   ]
  },
  {
   "cell_type": "code",
   "execution_count": 17,
   "metadata": {},
   "outputs": [
    {
     "data": {
      "text/plain": [
       "Text(0, 0.5, 'Occurrence')"
      ]
     },
     "execution_count": 17,
     "metadata": {},
     "output_type": "execute_result"
    },
    {
     "data": {
      "image/png": "[encoded data removed]",
      "text/plain": [
       "<Figure size 1080x1080 with 1 Axes>"
      ]
     },
     "metadata": {},
     "output_type": "display_data"
    }
   ],
   "source": [
    "#Visualising quantity which are negative. -80000 to -70000 are clear outliers\n",
    "plt.figure(figsize=(15,15))\n",
    "x=df[df['Quantity']<0].Quantity.value_counts().reset_index().as_matrix().transpose()\n",
    "plt.subplot(412)\n",
    "plt.scatter(x[0], x[1], marker='o')\n",
    "plt.ylabel('Occurrence')"
   ]
  },
  {
   "cell_type": "code",
   "execution_count": 18,
   "metadata": {},
   "outputs": [
    {
     "data": {
      "text/plain": [
       "Text(0, 0.5, 'Occurrence')"
      ]
     },
     "execution_count": 18,
     "metadata": {},
     "output_type": "execute_result"
    },
    {
     "data": {
      "image/png": "[encoded data removed]",
      "text/plain": [
       "<Figure size 1080x1080 with 1 Axes>"
      ]
     },
     "metadata": {},
     "output_type": "display_data"
    }
   ],
   "source": [
    "#Visualising quantity above 50000\n",
    "plt.figure(figsize=(15,15))\n",
    "x=df[df['Quantity']>10000].Quantity.value_counts().reset_index().as_matrix().transpose()\n",
    "plt.subplot(413)\n",
    "plt.scatter(x[0], x[1], marker='o')\n",
    "plt.ylabel('Occurrence',fontsize=12)"
   ]
  },
  {
   "cell_type": "markdown",
   "metadata": {},
   "source": [
    "Identifying if the outliers have an equivalent counterpart ie same quantity value that has been bought and cancelled\n",
    "Inference - Two items satisfy the condition and are removed from the dataset"
   ]
  },
  {
   "cell_type": "code",
   "execution_count": 19,
   "metadata": {},
   "outputs": [
    {
     "data": {
      "text/html": [
       "<div>\n",
       "<style scoped>\n",
       "    .dataframe tbody tr th:only-of-type {\n",
       "        vertical-align: middle;\n",
       "    }\n",
       "\n",
       "    .dataframe tbody tr th {\n",
       "        vertical-align: top;\n",
       "    }\n",
       "\n",
       "    .dataframe thead th {\n",
       "        text-align: right;\n",
       "    }\n",
       "</style>\n",
       "<table border=\"1\" class=\"dataframe\">\n",
       "  <thead>\n",
       "    <tr style=\"text-align: right;\">\n",
       "      <th></th>\n",
       "      <th>InvoiceNo</th>\n",
       "      <th>StockCode</th>\n",
       "      <th>Description</th>\n",
       "      <th>Quantity</th>\n",
       "      <th>UnitPrice</th>\n",
       "      <th>CustomerID</th>\n",
       "      <th>Country</th>\n",
       "      <th>Year</th>\n",
       "      <th>Month</th>\n",
       "      <th>Day</th>\n",
       "      <th>Hour</th>\n",
       "      <th>TotalPrice</th>\n",
       "    </tr>\n",
       "  </thead>\n",
       "  <tbody>\n",
       "    <tr>\n",
       "      <th>61619</th>\n",
       "      <td>541431</td>\n",
       "      <td>23166</td>\n",
       "      <td>MEDIUM CERAMIC TOP STORAGE JAR</td>\n",
       "      <td>74215</td>\n",
       "      <td>1.04</td>\n",
       "      <td>12346.0</td>\n",
       "      <td>United Kingdom</td>\n",
       "      <td>2011</td>\n",
       "      <td>1</td>\n",
       "      <td>18</td>\n",
       "      <td>10</td>\n",
       "      <td>77183.6</td>\n",
       "    </tr>\n",
       "    <tr>\n",
       "      <th>61624</th>\n",
       "      <td>C541433</td>\n",
       "      <td>23166</td>\n",
       "      <td>MEDIUM CERAMIC TOP STORAGE JAR</td>\n",
       "      <td>-74215</td>\n",
       "      <td>1.04</td>\n",
       "      <td>12346.0</td>\n",
       "      <td>United Kingdom</td>\n",
       "      <td>2011</td>\n",
       "      <td>1</td>\n",
       "      <td>18</td>\n",
       "      <td>10</td>\n",
       "      <td>-77183.6</td>\n",
       "    </tr>\n",
       "    <tr>\n",
       "      <th>540421</th>\n",
       "      <td>581483</td>\n",
       "      <td>23843</td>\n",
       "      <td>PAPER CRAFT , LITTLE BIRDIE</td>\n",
       "      <td>80995</td>\n",
       "      <td>2.08</td>\n",
       "      <td>16446.0</td>\n",
       "      <td>United Kingdom</td>\n",
       "      <td>2011</td>\n",
       "      <td>12</td>\n",
       "      <td>9</td>\n",
       "      <td>9</td>\n",
       "      <td>168469.6</td>\n",
       "    </tr>\n",
       "    <tr>\n",
       "      <th>540422</th>\n",
       "      <td>C581484</td>\n",
       "      <td>23843</td>\n",
       "      <td>PAPER CRAFT , LITTLE BIRDIE</td>\n",
       "      <td>-80995</td>\n",
       "      <td>2.08</td>\n",
       "      <td>16446.0</td>\n",
       "      <td>United Kingdom</td>\n",
       "      <td>2011</td>\n",
       "      <td>12</td>\n",
       "      <td>9</td>\n",
       "      <td>9</td>\n",
       "      <td>-168469.6</td>\n",
       "    </tr>\n",
       "  </tbody>\n",
       "</table>\n",
       "</div>"
      ],
      "text/plain": [
       "       InvoiceNo StockCode                     Description  Quantity  \\\n",
       "61619     541431     23166  MEDIUM CERAMIC TOP STORAGE JAR     74215   \n",
       "61624    C541433     23166  MEDIUM CERAMIC TOP STORAGE JAR    -74215   \n",
       "540421    581483     23843     PAPER CRAFT , LITTLE BIRDIE     80995   \n",
       "540422   C581484     23843     PAPER CRAFT , LITTLE BIRDIE    -80995   \n",
       "\n",
       "        UnitPrice  CustomerID         Country  Year  Month  Day  Hour  \\\n",
       "61619        1.04     12346.0  United Kingdom  2011      1   18    10   \n",
       "61624        1.04     12346.0  United Kingdom  2011      1   18    10   \n",
       "540421       2.08     16446.0  United Kingdom  2011     12    9     9   \n",
       "540422       2.08     16446.0  United Kingdom  2011     12    9     9   \n",
       "\n",
       "        TotalPrice  \n",
       "61619      77183.6  \n",
       "61624     -77183.6  \n",
       "540421    168469.6  \n",
       "540422   -168469.6  "
      ]
     },
     "execution_count": 19,
     "metadata": {},
     "output_type": "execute_result"
    }
   ],
   "source": [
    "df[df['Quantity'].abs()>50000]"
   ]
  },
  {
   "cell_type": "markdown",
   "metadata": {},
   "source": [
    "Removing the outliers, that is the items which have more than 50000 or less than 50000 as quantity."
   ]
  },
  {
   "cell_type": "code",
   "execution_count": 20,
   "metadata": {},
   "outputs": [],
   "source": [
    "df.drop([61619, 61624, 540421, 540422], inplace=True)"
   ]
  },
  {
   "cell_type": "markdown",
   "metadata": {},
   "source": [
    "Identifying if there are similar conditions where quantity is more that 5000 and less than 50000. To also check if these are fake purchases with null unit price. "
   ]
  },
  {
   "cell_type": "code",
   "execution_count": 21,
   "metadata": {},
   "outputs": [
    {
     "data": {
      "text/html": [
       "<div>\n",
       "<style scoped>\n",
       "    .dataframe tbody tr th:only-of-type {\n",
       "        vertical-align: middle;\n",
       "    }\n",
       "\n",
       "    .dataframe tbody tr th {\n",
       "        vertical-align: top;\n",
       "    }\n",
       "\n",
       "    .dataframe thead th {\n",
       "        text-align: right;\n",
       "    }\n",
       "</style>\n",
       "<table border=\"1\" class=\"dataframe\">\n",
       "  <thead>\n",
       "    <tr style=\"text-align: right;\">\n",
       "      <th></th>\n",
       "      <th>InvoiceNo</th>\n",
       "      <th>StockCode</th>\n",
       "      <th>Description</th>\n",
       "      <th>Quantity</th>\n",
       "      <th>UnitPrice</th>\n",
       "      <th>CustomerID</th>\n",
       "      <th>Country</th>\n",
       "      <th>Year</th>\n",
       "      <th>Month</th>\n",
       "      <th>Day</th>\n",
       "      <th>Hour</th>\n",
       "      <th>TotalPrice</th>\n",
       "    </tr>\n",
       "  </thead>\n",
       "  <tbody>\n",
       "    <tr>\n",
       "      <th>4287</th>\n",
       "      <td>C536757</td>\n",
       "      <td>84347</td>\n",
       "      <td>ROTATING SILVER ANGELS T-LIGHT HLDR</td>\n",
       "      <td>-9360</td>\n",
       "      <td>0.03</td>\n",
       "      <td>15838.0</td>\n",
       "      <td>United Kingdom</td>\n",
       "      <td>2010</td>\n",
       "      <td>12</td>\n",
       "      <td>2</td>\n",
       "      <td>14</td>\n",
       "      <td>-280.8</td>\n",
       "    </tr>\n",
       "    <tr>\n",
       "      <th>74614</th>\n",
       "      <td>542504</td>\n",
       "      <td>37413</td>\n",
       "      <td>NaN</td>\n",
       "      <td>5568</td>\n",
       "      <td>0.00</td>\n",
       "      <td>NaN</td>\n",
       "      <td>United Kingdom</td>\n",
       "      <td>2011</td>\n",
       "      <td>1</td>\n",
       "      <td>28</td>\n",
       "      <td>12</td>\n",
       "      <td>0.0</td>\n",
       "    </tr>\n",
       "    <tr>\n",
       "      <th>115818</th>\n",
       "      <td>546152</td>\n",
       "      <td>72140F</td>\n",
       "      <td>throw away</td>\n",
       "      <td>-5368</td>\n",
       "      <td>0.00</td>\n",
       "      <td>NaN</td>\n",
       "      <td>United Kingdom</td>\n",
       "      <td>2011</td>\n",
       "      <td>3</td>\n",
       "      <td>9</td>\n",
       "      <td>17</td>\n",
       "      <td>-0.0</td>\n",
       "    </tr>\n",
       "    <tr>\n",
       "      <th>225528</th>\n",
       "      <td>556687</td>\n",
       "      <td>23003</td>\n",
       "      <td>Printing smudges/thrown away</td>\n",
       "      <td>-9058</td>\n",
       "      <td>0.00</td>\n",
       "      <td>NaN</td>\n",
       "      <td>United Kingdom</td>\n",
       "      <td>2011</td>\n",
       "      <td>6</td>\n",
       "      <td>14</td>\n",
       "      <td>10</td>\n",
       "      <td>-0.0</td>\n",
       "    </tr>\n",
       "    <tr>\n",
       "      <th>225529</th>\n",
       "      <td>556690</td>\n",
       "      <td>23005</td>\n",
       "      <td>printing smudges/thrown away</td>\n",
       "      <td>-9600</td>\n",
       "      <td>0.00</td>\n",
       "      <td>NaN</td>\n",
       "      <td>United Kingdom</td>\n",
       "      <td>2011</td>\n",
       "      <td>6</td>\n",
       "      <td>14</td>\n",
       "      <td>10</td>\n",
       "      <td>-0.0</td>\n",
       "    </tr>\n",
       "    <tr>\n",
       "      <th>225530</th>\n",
       "      <td>556691</td>\n",
       "      <td>23005</td>\n",
       "      <td>printing smudges/thrown away</td>\n",
       "      <td>-9600</td>\n",
       "      <td>0.00</td>\n",
       "      <td>NaN</td>\n",
       "      <td>United Kingdom</td>\n",
       "      <td>2011</td>\n",
       "      <td>6</td>\n",
       "      <td>14</td>\n",
       "      <td>10</td>\n",
       "      <td>-0.0</td>\n",
       "    </tr>\n",
       "    <tr>\n",
       "      <th>502122</th>\n",
       "      <td>578841</td>\n",
       "      <td>84826</td>\n",
       "      <td>ASSTD DESIGN 3D PAPER STICKERS</td>\n",
       "      <td>12540</td>\n",
       "      <td>0.00</td>\n",
       "      <td>13256.0</td>\n",
       "      <td>United Kingdom</td>\n",
       "      <td>2011</td>\n",
       "      <td>11</td>\n",
       "      <td>25</td>\n",
       "      <td>15</td>\n",
       "      <td>0.0</td>\n",
       "    </tr>\n",
       "  </tbody>\n",
       "</table>\n",
       "</div>"
      ],
      "text/plain": [
       "       InvoiceNo StockCode                          Description  Quantity  \\\n",
       "4287     C536757     84347  ROTATING SILVER ANGELS T-LIGHT HLDR     -9360   \n",
       "74614     542504     37413                                  NaN      5568   \n",
       "115818    546152    72140F                           throw away     -5368   \n",
       "225528    556687     23003         Printing smudges/thrown away     -9058   \n",
       "225529    556690     23005         printing smudges/thrown away     -9600   \n",
       "225530    556691     23005         printing smudges/thrown away     -9600   \n",
       "502122    578841     84826       ASSTD DESIGN 3D PAPER STICKERS     12540   \n",
       "\n",
       "        UnitPrice  CustomerID         Country  Year  Month  Day  Hour  \\\n",
       "4287         0.03     15838.0  United Kingdom  2010     12    2    14   \n",
       "74614        0.00         NaN  United Kingdom  2011      1   28    12   \n",
       "115818       0.00         NaN  United Kingdom  2011      3    9    17   \n",
       "225528       0.00         NaN  United Kingdom  2011      6   14    10   \n",
       "225529       0.00         NaN  United Kingdom  2011      6   14    10   \n",
       "225530       0.00         NaN  United Kingdom  2011      6   14    10   \n",
       "502122       0.00     13256.0  United Kingdom  2011     11   25    15   \n",
       "\n",
       "        TotalPrice  \n",
       "4287        -280.8  \n",
       "74614          0.0  \n",
       "115818        -0.0  \n",
       "225528        -0.0  \n",
       "225529        -0.0  \n",
       "225530        -0.0  \n",
       "502122         0.0  "
      ]
     },
     "execution_count": 21,
     "metadata": {},
     "output_type": "execute_result"
    }
   ],
   "source": [
    "df[(df['Quantity'].abs()>5000) & (df['Quantity'].abs()<50000)]"
   ]
  },
  {
   "cell_type": "code",
   "execution_count": 22,
   "metadata": {},
   "outputs": [],
   "source": [
    "#Removing the outliers\n",
    "df.drop([4287, 74614, 115818, 225528, 225529, 225530, 502122], inplace=True)"
   ]
  },
  {
   "cell_type": "markdown",
   "metadata": {},
   "source": [
    "Plotting the feature of quantity on violin plot again to check if the skewness is better "
   ]
  },
  {
   "cell_type": "code",
   "execution_count": 23,
   "metadata": {},
   "outputs": [
    {
     "data": {
      "text/plain": [
       "<matplotlib.axes._subplots.AxesSubplot at 0x208983172b0>"
      ]
     },
     "execution_count": 23,
     "metadata": {},
     "output_type": "execute_result"
    },
    {
     "data": {
      "image/png": "[encoded data removed]",
      "text/plain": [
       "<Figure size 432x288 with 1 Axes>"
      ]
     },
     "metadata": {},
     "output_type": "display_data"
    }
   ],
   "source": [
    "sns.set(style=\"whitegrid\")\n",
    "sns.violinplot(x=df.Quantity)"
   ]
  },
  {
   "cell_type": "markdown",
   "metadata": {},
   "source": [
    "#### 4. Exploratory Data Analysis with respect to Unit Price (to find outliers)"
   ]
  },
  {
   "cell_type": "markdown",
   "metadata": {},
   "source": [
    "Plotting the feature on of uit price to check for outliers and find out if they are genuine transactions. \n",
    "\n",
    "Inference - Unit price is as low as 10,000 and as high as 40,000. Let's find out"
   ]
  },
  {
   "cell_type": "code",
   "execution_count": 24,
   "metadata": {},
   "outputs": [
    {
     "data": {
      "text/plain": [
       "<matplotlib.axes._subplots.AxesSubplot at 0x208983864a8>"
      ]
     },
     "execution_count": 24,
     "metadata": {},
     "output_type": "execute_result"
    },
    {
     "data": {
      "image/png": "[encoded data removed]",
      "text/plain": [
       "<Figure size 432x288 with 1 Axes>"
      ]
     },
     "metadata": {},
     "output_type": "display_data"
    }
   ],
   "source": [
    "sns.violinplot(df.UnitPrice)"
   ]
  },
  {
   "cell_type": "code",
   "execution_count": 25,
   "metadata": {},
   "outputs": [
    {
     "data": {
      "image/png": "[encoded data removed]",
      "text/plain": [
       "<Figure size 1080x1080 with 1 Axes>"
      ]
     },
     "metadata": {},
     "output_type": "display_data"
    }
   ],
   "source": [
    "#Count the unit price and plot to check outliers\n",
    "#Inference - Show items which have less than 0 unit price which is not possible. let's check\n",
    "\n",
    "plt.figure(figsize=(15,15))\n",
    "\n",
    "x=df.UnitPrice.value_counts().reset_index().as_matrix().transpose()\n",
    "plt.subplot(411)\n",
    "plt.scatter(x[0], x[1], marker='o')\n",
    "plt.title('UnitPrice plots',fontsize=15)\n",
    "plt.ylabel('Occurrence',fontsize=12)\n",
    "plt.show()"
   ]
  },
  {
   "cell_type": "code",
   "execution_count": 26,
   "metadata": {},
   "outputs": [
    {
     "data": {
      "image/png": "[encoded data removed]",
      "text/plain": [
       "<Figure size 1080x1080 with 1 Axes>"
      ]
     },
     "metadata": {},
     "output_type": "display_data"
    }
   ],
   "source": [
    "#This shows that there are two rows which are non numeric since even after absolute, they are showing negative. \n",
    "plt.figure(figsize=(15,15))\n",
    "x=df[df['UnitPrice'].abs()>10000].UnitPrice.value_counts().reset_index().as_matrix().transpose()\n",
    "plt.subplot(412)\n",
    "plt.scatter(x[0], x[1], marker='o')\n",
    "plt.ylabel('Occurrence',fontsize=12)\n",
    "plt.show()"
   ]
  },
  {
   "cell_type": "code",
   "execution_count": 27,
   "metadata": {
    "scrolled": true
   },
   "outputs": [
    {
     "data": {
      "text/html": [
       "<div>\n",
       "<style scoped>\n",
       "    .dataframe tbody tr th:only-of-type {\n",
       "        vertical-align: middle;\n",
       "    }\n",
       "\n",
       "    .dataframe tbody tr th {\n",
       "        vertical-align: top;\n",
       "    }\n",
       "\n",
       "    .dataframe thead th {\n",
       "        text-align: right;\n",
       "    }\n",
       "</style>\n",
       "<table border=\"1\" class=\"dataframe\">\n",
       "  <thead>\n",
       "    <tr style=\"text-align: right;\">\n",
       "      <th></th>\n",
       "      <th>InvoiceNo</th>\n",
       "      <th>StockCode</th>\n",
       "      <th>Description</th>\n",
       "      <th>Quantity</th>\n",
       "      <th>UnitPrice</th>\n",
       "      <th>CustomerID</th>\n",
       "      <th>Country</th>\n",
       "      <th>Year</th>\n",
       "      <th>Month</th>\n",
       "      <th>Day</th>\n",
       "      <th>Hour</th>\n",
       "      <th>TotalPrice</th>\n",
       "    </tr>\n",
       "  </thead>\n",
       "  <tbody>\n",
       "    <tr>\n",
       "      <th>299983</th>\n",
       "      <td>A563186</td>\n",
       "      <td>B</td>\n",
       "      <td>Adjust bad debt</td>\n",
       "      <td>1</td>\n",
       "      <td>-11062.06</td>\n",
       "      <td>NaN</td>\n",
       "      <td>United Kingdom</td>\n",
       "      <td>2011</td>\n",
       "      <td>8</td>\n",
       "      <td>12</td>\n",
       "      <td>14</td>\n",
       "      <td>-11062.06</td>\n",
       "    </tr>\n",
       "    <tr>\n",
       "      <th>299984</th>\n",
       "      <td>A563187</td>\n",
       "      <td>B</td>\n",
       "      <td>Adjust bad debt</td>\n",
       "      <td>1</td>\n",
       "      <td>-11062.06</td>\n",
       "      <td>NaN</td>\n",
       "      <td>United Kingdom</td>\n",
       "      <td>2011</td>\n",
       "      <td>8</td>\n",
       "      <td>12</td>\n",
       "      <td>14</td>\n",
       "      <td>-11062.06</td>\n",
       "    </tr>\n",
       "  </tbody>\n",
       "</table>\n",
       "</div>"
      ],
      "text/plain": [
       "       InvoiceNo StockCode      Description  Quantity  UnitPrice  CustomerID  \\\n",
       "299983   A563186         B  Adjust bad debt         1  -11062.06         NaN   \n",
       "299984   A563187         B  Adjust bad debt         1  -11062.06         NaN   \n",
       "\n",
       "               Country  Year  Month  Day  Hour  TotalPrice  \n",
       "299983  United Kingdom  2011      8   12    14   -11062.06  \n",
       "299984  United Kingdom  2011      8   12    14   -11062.06  "
      ]
     },
     "execution_count": 27,
     "metadata": {},
     "output_type": "execute_result"
    }
   ],
   "source": [
    "df[df['UnitPrice']<0]"
   ]
  },
  {
   "cell_type": "code",
   "execution_count": 28,
   "metadata": {},
   "outputs": [],
   "source": [
    "#Hence removed the outliers\n",
    "df.drop([299983, 299984], inplace=True)"
   ]
  },
  {
   "cell_type": "code",
   "execution_count": 29,
   "metadata": {},
   "outputs": [
    {
     "data": {
      "image/png": "[encoded data removed]",
      "text/plain": [
       "<Figure size 1080x1080 with 1 Axes>"
      ]
     },
     "metadata": {},
     "output_type": "display_data"
    }
   ],
   "source": [
    "#To find outliers where price is above 15000.\n",
    "plt.figure(figsize=(15,15))\n",
    "x=df[df['UnitPrice'].abs()>15000].UnitPrice.value_counts().reset_index().as_matrix().transpose()\n",
    "plt.subplot(413)\n",
    "plt.scatter(x[0], x[1], marker='o')\n",
    "plt.ylabel('Occurrence',fontsize=12)\n",
    "plt.show()"
   ]
  },
  {
   "cell_type": "code",
   "execution_count": 30,
   "metadata": {},
   "outputs": [
    {
     "data": {
      "text/html": [
       "<div>\n",
       "<style scoped>\n",
       "    .dataframe tbody tr th:only-of-type {\n",
       "        vertical-align: middle;\n",
       "    }\n",
       "\n",
       "    .dataframe tbody tr th {\n",
       "        vertical-align: top;\n",
       "    }\n",
       "\n",
       "    .dataframe thead th {\n",
       "        text-align: right;\n",
       "    }\n",
       "</style>\n",
       "<table border=\"1\" class=\"dataframe\">\n",
       "  <thead>\n",
       "    <tr style=\"text-align: right;\">\n",
       "      <th></th>\n",
       "      <th>InvoiceNo</th>\n",
       "      <th>StockCode</th>\n",
       "      <th>Description</th>\n",
       "      <th>Quantity</th>\n",
       "      <th>UnitPrice</th>\n",
       "      <th>CustomerID</th>\n",
       "      <th>Country</th>\n",
       "      <th>Year</th>\n",
       "      <th>Month</th>\n",
       "      <th>Day</th>\n",
       "      <th>Hour</th>\n",
       "      <th>TotalPrice</th>\n",
       "    </tr>\n",
       "  </thead>\n",
       "  <tbody>\n",
       "    <tr>\n",
       "      <th>43702</th>\n",
       "      <td>C540117</td>\n",
       "      <td>AMAZONFEE</td>\n",
       "      <td>AMAZON FEE</td>\n",
       "      <td>-1</td>\n",
       "      <td>16888.02</td>\n",
       "      <td>NaN</td>\n",
       "      <td>United Kingdom</td>\n",
       "      <td>2011</td>\n",
       "      <td>1</td>\n",
       "      <td>5</td>\n",
       "      <td>9</td>\n",
       "      <td>-16888.02</td>\n",
       "    </tr>\n",
       "    <tr>\n",
       "      <th>43703</th>\n",
       "      <td>C540118</td>\n",
       "      <td>AMAZONFEE</td>\n",
       "      <td>AMAZON FEE</td>\n",
       "      <td>-1</td>\n",
       "      <td>16453.71</td>\n",
       "      <td>NaN</td>\n",
       "      <td>United Kingdom</td>\n",
       "      <td>2011</td>\n",
       "      <td>1</td>\n",
       "      <td>5</td>\n",
       "      <td>9</td>\n",
       "      <td>-16453.71</td>\n",
       "    </tr>\n",
       "    <tr>\n",
       "      <th>222681</th>\n",
       "      <td>C556445</td>\n",
       "      <td>M</td>\n",
       "      <td>Manual</td>\n",
       "      <td>-1</td>\n",
       "      <td>38970.00</td>\n",
       "      <td>15098.0</td>\n",
       "      <td>United Kingdom</td>\n",
       "      <td>2011</td>\n",
       "      <td>6</td>\n",
       "      <td>10</td>\n",
       "      <td>15</td>\n",
       "      <td>-38970.00</td>\n",
       "    </tr>\n",
       "    <tr>\n",
       "      <th>524602</th>\n",
       "      <td>C580605</td>\n",
       "      <td>AMAZONFEE</td>\n",
       "      <td>AMAZON FEE</td>\n",
       "      <td>-1</td>\n",
       "      <td>17836.46</td>\n",
       "      <td>NaN</td>\n",
       "      <td>United Kingdom</td>\n",
       "      <td>2011</td>\n",
       "      <td>12</td>\n",
       "      <td>5</td>\n",
       "      <td>11</td>\n",
       "      <td>-17836.46</td>\n",
       "    </tr>\n",
       "  </tbody>\n",
       "</table>\n",
       "</div>"
      ],
      "text/plain": [
       "       InvoiceNo  StockCode Description  Quantity  UnitPrice  CustomerID  \\\n",
       "43702    C540117  AMAZONFEE  AMAZON FEE        -1   16888.02         NaN   \n",
       "43703    C540118  AMAZONFEE  AMAZON FEE        -1   16453.71         NaN   \n",
       "222681   C556445          M      Manual        -1   38970.00     15098.0   \n",
       "524602   C580605  AMAZONFEE  AMAZON FEE        -1   17836.46         NaN   \n",
       "\n",
       "               Country  Year  Month  Day  Hour  TotalPrice  \n",
       "43702   United Kingdom  2011      1    5     9   -16888.02  \n",
       "43703   United Kingdom  2011      1    5     9   -16453.71  \n",
       "222681  United Kingdom  2011      6   10    15   -38970.00  \n",
       "524602  United Kingdom  2011     12    5    11   -17836.46  "
      ]
     },
     "execution_count": 30,
     "metadata": {},
     "output_type": "execute_result"
    }
   ],
   "source": [
    "df[df['UnitPrice']>15000]"
   ]
  },
  {
   "cell_type": "code",
   "execution_count": 31,
   "metadata": {},
   "outputs": [],
   "source": [
    "#Hence removed the outliers\n",
    "df.drop([222681, 524602, 43702, 43703], inplace=True)"
   ]
  },
  {
   "cell_type": "code",
   "execution_count": 32,
   "metadata": {},
   "outputs": [
    {
     "data": {
      "text/html": [
       "<div>\n",
       "<style scoped>\n",
       "    .dataframe tbody tr th:only-of-type {\n",
       "        vertical-align: middle;\n",
       "    }\n",
       "\n",
       "    .dataframe tbody tr th {\n",
       "        vertical-align: top;\n",
       "    }\n",
       "\n",
       "    .dataframe thead th {\n",
       "        text-align: right;\n",
       "    }\n",
       "</style>\n",
       "<table border=\"1\" class=\"dataframe\">\n",
       "  <thead>\n",
       "    <tr style=\"text-align: right;\">\n",
       "      <th></th>\n",
       "      <th>InvoiceNo</th>\n",
       "      <th>StockCode</th>\n",
       "      <th>Description</th>\n",
       "      <th>Quantity</th>\n",
       "      <th>UnitPrice</th>\n",
       "      <th>CustomerID</th>\n",
       "      <th>Country</th>\n",
       "      <th>Year</th>\n",
       "      <th>Month</th>\n",
       "      <th>Day</th>\n",
       "      <th>Hour</th>\n",
       "      <th>TotalPrice</th>\n",
       "    </tr>\n",
       "  </thead>\n",
       "  <tbody>\n",
       "    <tr>\n",
       "      <th>15016</th>\n",
       "      <td>C537630</td>\n",
       "      <td>AMAZONFEE</td>\n",
       "      <td>AMAZON FEE</td>\n",
       "      <td>-1</td>\n",
       "      <td>13541.33</td>\n",
       "      <td>NaN</td>\n",
       "      <td>United Kingdom</td>\n",
       "      <td>2010</td>\n",
       "      <td>12</td>\n",
       "      <td>7</td>\n",
       "      <td>15</td>\n",
       "      <td>-13541.33</td>\n",
       "    </tr>\n",
       "    <tr>\n",
       "      <th>15017</th>\n",
       "      <td>537632</td>\n",
       "      <td>AMAZONFEE</td>\n",
       "      <td>AMAZON FEE</td>\n",
       "      <td>1</td>\n",
       "      <td>13541.33</td>\n",
       "      <td>NaN</td>\n",
       "      <td>United Kingdom</td>\n",
       "      <td>2010</td>\n",
       "      <td>12</td>\n",
       "      <td>7</td>\n",
       "      <td>15</td>\n",
       "      <td>13541.33</td>\n",
       "    </tr>\n",
       "    <tr>\n",
       "      <th>16232</th>\n",
       "      <td>C537644</td>\n",
       "      <td>AMAZONFEE</td>\n",
       "      <td>AMAZON FEE</td>\n",
       "      <td>-1</td>\n",
       "      <td>13474.79</td>\n",
       "      <td>NaN</td>\n",
       "      <td>United Kingdom</td>\n",
       "      <td>2010</td>\n",
       "      <td>12</td>\n",
       "      <td>7</td>\n",
       "      <td>15</td>\n",
       "      <td>-13474.79</td>\n",
       "    </tr>\n",
       "    <tr>\n",
       "      <th>16313</th>\n",
       "      <td>C537647</td>\n",
       "      <td>AMAZONFEE</td>\n",
       "      <td>AMAZON FEE</td>\n",
       "      <td>-1</td>\n",
       "      <td>5519.25</td>\n",
       "      <td>NaN</td>\n",
       "      <td>United Kingdom</td>\n",
       "      <td>2010</td>\n",
       "      <td>12</td>\n",
       "      <td>7</td>\n",
       "      <td>15</td>\n",
       "      <td>-5519.25</td>\n",
       "    </tr>\n",
       "    <tr>\n",
       "      <th>16356</th>\n",
       "      <td>C537651</td>\n",
       "      <td>AMAZONFEE</td>\n",
       "      <td>AMAZON FEE</td>\n",
       "      <td>-1</td>\n",
       "      <td>13541.33</td>\n",
       "      <td>NaN</td>\n",
       "      <td>United Kingdom</td>\n",
       "      <td>2010</td>\n",
       "      <td>12</td>\n",
       "      <td>7</td>\n",
       "      <td>15</td>\n",
       "      <td>-13541.33</td>\n",
       "    </tr>\n",
       "    <tr>\n",
       "      <th>16357</th>\n",
       "      <td>C537652</td>\n",
       "      <td>AMAZONFEE</td>\n",
       "      <td>AMAZON FEE</td>\n",
       "      <td>-1</td>\n",
       "      <td>6706.71</td>\n",
       "      <td>NaN</td>\n",
       "      <td>United Kingdom</td>\n",
       "      <td>2010</td>\n",
       "      <td>12</td>\n",
       "      <td>7</td>\n",
       "      <td>15</td>\n",
       "      <td>-6706.71</td>\n",
       "    </tr>\n",
       "    <tr>\n",
       "      <th>96844</th>\n",
       "      <td>C544587</td>\n",
       "      <td>AMAZONFEE</td>\n",
       "      <td>AMAZON FEE</td>\n",
       "      <td>-1</td>\n",
       "      <td>5575.28</td>\n",
       "      <td>NaN</td>\n",
       "      <td>United Kingdom</td>\n",
       "      <td>2011</td>\n",
       "      <td>2</td>\n",
       "      <td>21</td>\n",
       "      <td>15</td>\n",
       "      <td>-5575.28</td>\n",
       "    </tr>\n",
       "    <tr>\n",
       "      <th>96845</th>\n",
       "      <td>C544589</td>\n",
       "      <td>AMAZONFEE</td>\n",
       "      <td>AMAZON FEE</td>\n",
       "      <td>-1</td>\n",
       "      <td>5258.77</td>\n",
       "      <td>NaN</td>\n",
       "      <td>United Kingdom</td>\n",
       "      <td>2011</td>\n",
       "      <td>2</td>\n",
       "      <td>21</td>\n",
       "      <td>15</td>\n",
       "      <td>-5258.77</td>\n",
       "    </tr>\n",
       "    <tr>\n",
       "      <th>124741</th>\n",
       "      <td>C546987</td>\n",
       "      <td>AMAZONFEE</td>\n",
       "      <td>AMAZON FEE</td>\n",
       "      <td>-1</td>\n",
       "      <td>5693.05</td>\n",
       "      <td>NaN</td>\n",
       "      <td>United Kingdom</td>\n",
       "      <td>2011</td>\n",
       "      <td>3</td>\n",
       "      <td>18</td>\n",
       "      <td>12</td>\n",
       "      <td>-5693.05</td>\n",
       "    </tr>\n",
       "    <tr>\n",
       "      <th>124787</th>\n",
       "      <td>C546989</td>\n",
       "      <td>AMAZONFEE</td>\n",
       "      <td>AMAZON FEE</td>\n",
       "      <td>-1</td>\n",
       "      <td>5225.03</td>\n",
       "      <td>NaN</td>\n",
       "      <td>United Kingdom</td>\n",
       "      <td>2011</td>\n",
       "      <td>3</td>\n",
       "      <td>18</td>\n",
       "      <td>12</td>\n",
       "      <td>-5225.03</td>\n",
       "    </tr>\n",
       "    <tr>\n",
       "      <th>173277</th>\n",
       "      <td>C551685</td>\n",
       "      <td>POST</td>\n",
       "      <td>POSTAGE</td>\n",
       "      <td>-1</td>\n",
       "      <td>8142.75</td>\n",
       "      <td>16029.0</td>\n",
       "      <td>United Kingdom</td>\n",
       "      <td>2011</td>\n",
       "      <td>5</td>\n",
       "      <td>3</td>\n",
       "      <td>12</td>\n",
       "      <td>-8142.75</td>\n",
       "    </tr>\n",
       "    <tr>\n",
       "      <th>173382</th>\n",
       "      <td>551697</td>\n",
       "      <td>POST</td>\n",
       "      <td>POSTAGE</td>\n",
       "      <td>1</td>\n",
       "      <td>8142.75</td>\n",
       "      <td>16029.0</td>\n",
       "      <td>United Kingdom</td>\n",
       "      <td>2011</td>\n",
       "      <td>5</td>\n",
       "      <td>3</td>\n",
       "      <td>13</td>\n",
       "      <td>8142.75</td>\n",
       "    </tr>\n",
       "    <tr>\n",
       "      <th>173391</th>\n",
       "      <td>C551699</td>\n",
       "      <td>M</td>\n",
       "      <td>Manual</td>\n",
       "      <td>-1</td>\n",
       "      <td>6930.00</td>\n",
       "      <td>16029.0</td>\n",
       "      <td>United Kingdom</td>\n",
       "      <td>2011</td>\n",
       "      <td>5</td>\n",
       "      <td>3</td>\n",
       "      <td>14</td>\n",
       "      <td>-6930.00</td>\n",
       "    </tr>\n",
       "    <tr>\n",
       "      <th>191385</th>\n",
       "      <td>C553354</td>\n",
       "      <td>AMAZONFEE</td>\n",
       "      <td>AMAZON FEE</td>\n",
       "      <td>-1</td>\n",
       "      <td>5876.40</td>\n",
       "      <td>NaN</td>\n",
       "      <td>United Kingdom</td>\n",
       "      <td>2011</td>\n",
       "      <td>5</td>\n",
       "      <td>16</td>\n",
       "      <td>13</td>\n",
       "      <td>-5876.40</td>\n",
       "    </tr>\n",
       "    <tr>\n",
       "      <th>191386</th>\n",
       "      <td>C553355</td>\n",
       "      <td>AMAZONFEE</td>\n",
       "      <td>AMAZON FEE</td>\n",
       "      <td>-1</td>\n",
       "      <td>7006.83</td>\n",
       "      <td>NaN</td>\n",
       "      <td>United Kingdom</td>\n",
       "      <td>2011</td>\n",
       "      <td>5</td>\n",
       "      <td>16</td>\n",
       "      <td>13</td>\n",
       "      <td>-7006.83</td>\n",
       "    </tr>\n",
       "    <tr>\n",
       "      <th>239250</th>\n",
       "      <td>C558036</td>\n",
       "      <td>AMAZONFEE</td>\n",
       "      <td>AMAZON FEE</td>\n",
       "      <td>-1</td>\n",
       "      <td>5791.18</td>\n",
       "      <td>NaN</td>\n",
       "      <td>United Kingdom</td>\n",
       "      <td>2011</td>\n",
       "      <td>6</td>\n",
       "      <td>24</td>\n",
       "      <td>12</td>\n",
       "      <td>-5791.18</td>\n",
       "    </tr>\n",
       "    <tr>\n",
       "      <th>239251</th>\n",
       "      <td>C558037</td>\n",
       "      <td>AMAZONFEE</td>\n",
       "      <td>AMAZON FEE</td>\n",
       "      <td>-1</td>\n",
       "      <td>4534.24</td>\n",
       "      <td>NaN</td>\n",
       "      <td>United Kingdom</td>\n",
       "      <td>2011</td>\n",
       "      <td>6</td>\n",
       "      <td>24</td>\n",
       "      <td>12</td>\n",
       "      <td>-4534.24</td>\n",
       "    </tr>\n",
       "    <tr>\n",
       "      <th>262413</th>\n",
       "      <td>C559915</td>\n",
       "      <td>AMAZONFEE</td>\n",
       "      <td>AMAZON FEE</td>\n",
       "      <td>-1</td>\n",
       "      <td>4383.62</td>\n",
       "      <td>NaN</td>\n",
       "      <td>United Kingdom</td>\n",
       "      <td>2011</td>\n",
       "      <td>7</td>\n",
       "      <td>13</td>\n",
       "      <td>15</td>\n",
       "      <td>-4383.62</td>\n",
       "    </tr>\n",
       "    <tr>\n",
       "      <th>262414</th>\n",
       "      <td>C559917</td>\n",
       "      <td>AMAZONFEE</td>\n",
       "      <td>AMAZON FEE</td>\n",
       "      <td>-1</td>\n",
       "      <td>6497.47</td>\n",
       "      <td>NaN</td>\n",
       "      <td>United Kingdom</td>\n",
       "      <td>2011</td>\n",
       "      <td>7</td>\n",
       "      <td>13</td>\n",
       "      <td>15</td>\n",
       "      <td>-6497.47</td>\n",
       "    </tr>\n",
       "    <tr>\n",
       "      <th>268027</th>\n",
       "      <td>C560372</td>\n",
       "      <td>M</td>\n",
       "      <td>Manual</td>\n",
       "      <td>-1</td>\n",
       "      <td>4287.63</td>\n",
       "      <td>17448.0</td>\n",
       "      <td>United Kingdom</td>\n",
       "      <td>2011</td>\n",
       "      <td>7</td>\n",
       "      <td>18</td>\n",
       "      <td>12</td>\n",
       "      <td>-4287.63</td>\n",
       "    </tr>\n",
       "    <tr>\n",
       "      <th>268028</th>\n",
       "      <td>560373</td>\n",
       "      <td>M</td>\n",
       "      <td>Manual</td>\n",
       "      <td>1</td>\n",
       "      <td>4287.63</td>\n",
       "      <td>NaN</td>\n",
       "      <td>United Kingdom</td>\n",
       "      <td>2011</td>\n",
       "      <td>7</td>\n",
       "      <td>18</td>\n",
       "      <td>12</td>\n",
       "      <td>4287.63</td>\n",
       "    </tr>\n",
       "    <tr>\n",
       "      <th>271151</th>\n",
       "      <td>C560647</td>\n",
       "      <td>M</td>\n",
       "      <td>Manual</td>\n",
       "      <td>-1</td>\n",
       "      <td>3060.60</td>\n",
       "      <td>18102.0</td>\n",
       "      <td>United Kingdom</td>\n",
       "      <td>2011</td>\n",
       "      <td>7</td>\n",
       "      <td>20</td>\n",
       "      <td>11</td>\n",
       "      <td>-3060.60</td>\n",
       "    </tr>\n",
       "    <tr>\n",
       "      <th>287103</th>\n",
       "      <td>C562062</td>\n",
       "      <td>AMAZONFEE</td>\n",
       "      <td>AMAZON FEE</td>\n",
       "      <td>-1</td>\n",
       "      <td>4575.64</td>\n",
       "      <td>NaN</td>\n",
       "      <td>United Kingdom</td>\n",
       "      <td>2011</td>\n",
       "      <td>8</td>\n",
       "      <td>2</td>\n",
       "      <td>12</td>\n",
       "      <td>-4575.64</td>\n",
       "    </tr>\n",
       "    <tr>\n",
       "      <th>287150</th>\n",
       "      <td>C562086</td>\n",
       "      <td>AMAZONFEE</td>\n",
       "      <td>AMAZON FEE</td>\n",
       "      <td>-1</td>\n",
       "      <td>6721.37</td>\n",
       "      <td>NaN</td>\n",
       "      <td>United Kingdom</td>\n",
       "      <td>2011</td>\n",
       "      <td>8</td>\n",
       "      <td>2</td>\n",
       "      <td>12</td>\n",
       "      <td>-6721.37</td>\n",
       "    </tr>\n",
       "    <tr>\n",
       "      <th>293842</th>\n",
       "      <td>C562647</td>\n",
       "      <td>M</td>\n",
       "      <td>Manual</td>\n",
       "      <td>-1</td>\n",
       "      <td>3155.95</td>\n",
       "      <td>15502.0</td>\n",
       "      <td>United Kingdom</td>\n",
       "      <td>2011</td>\n",
       "      <td>8</td>\n",
       "      <td>8</td>\n",
       "      <td>12</td>\n",
       "      <td>-3155.95</td>\n",
       "    </tr>\n",
       "    <tr>\n",
       "      <th>297723</th>\n",
       "      <td>562955</td>\n",
       "      <td>DOT</td>\n",
       "      <td>DOTCOM POSTAGE</td>\n",
       "      <td>1</td>\n",
       "      <td>4505.17</td>\n",
       "      <td>NaN</td>\n",
       "      <td>United Kingdom</td>\n",
       "      <td>2011</td>\n",
       "      <td>8</td>\n",
       "      <td>11</td>\n",
       "      <td>10</td>\n",
       "      <td>4505.17</td>\n",
       "    </tr>\n",
       "    <tr>\n",
       "      <th>299982</th>\n",
       "      <td>A563185</td>\n",
       "      <td>B</td>\n",
       "      <td>Adjust bad debt</td>\n",
       "      <td>1</td>\n",
       "      <td>11062.06</td>\n",
       "      <td>NaN</td>\n",
       "      <td>United Kingdom</td>\n",
       "      <td>2011</td>\n",
       "      <td>8</td>\n",
       "      <td>12</td>\n",
       "      <td>14</td>\n",
       "      <td>11062.06</td>\n",
       "    </tr>\n",
       "    <tr>\n",
       "      <th>312092</th>\n",
       "      <td>C564340</td>\n",
       "      <td>AMAZONFEE</td>\n",
       "      <td>AMAZON FEE</td>\n",
       "      <td>-1</td>\n",
       "      <td>4527.65</td>\n",
       "      <td>NaN</td>\n",
       "      <td>United Kingdom</td>\n",
       "      <td>2011</td>\n",
       "      <td>8</td>\n",
       "      <td>24</td>\n",
       "      <td>14</td>\n",
       "      <td>-4527.65</td>\n",
       "    </tr>\n",
       "    <tr>\n",
       "      <th>312246</th>\n",
       "      <td>C564341</td>\n",
       "      <td>AMAZONFEE</td>\n",
       "      <td>AMAZON FEE</td>\n",
       "      <td>-1</td>\n",
       "      <td>6662.51</td>\n",
       "      <td>NaN</td>\n",
       "      <td>United Kingdom</td>\n",
       "      <td>2011</td>\n",
       "      <td>8</td>\n",
       "      <td>24</td>\n",
       "      <td>14</td>\n",
       "      <td>-6662.51</td>\n",
       "    </tr>\n",
       "    <tr>\n",
       "      <th>342611</th>\n",
       "      <td>C566889</td>\n",
       "      <td>AMAZONFEE</td>\n",
       "      <td>AMAZON FEE</td>\n",
       "      <td>-1</td>\n",
       "      <td>5522.14</td>\n",
       "      <td>NaN</td>\n",
       "      <td>United Kingdom</td>\n",
       "      <td>2011</td>\n",
       "      <td>9</td>\n",
       "      <td>15</td>\n",
       "      <td>13</td>\n",
       "      <td>-5522.14</td>\n",
       "    </tr>\n",
       "    <tr>\n",
       "      <th>342635</th>\n",
       "      <td>C566899</td>\n",
       "      <td>AMAZONFEE</td>\n",
       "      <td>AMAZON FEE</td>\n",
       "      <td>-1</td>\n",
       "      <td>7427.97</td>\n",
       "      <td>NaN</td>\n",
       "      <td>United Kingdom</td>\n",
       "      <td>2011</td>\n",
       "      <td>9</td>\n",
       "      <td>15</td>\n",
       "      <td>13</td>\n",
       "      <td>-7427.97</td>\n",
       "    </tr>\n",
       "    <tr>\n",
       "      <th>374542</th>\n",
       "      <td>569382</td>\n",
       "      <td>M</td>\n",
       "      <td>Manual</td>\n",
       "      <td>1</td>\n",
       "      <td>3155.95</td>\n",
       "      <td>15502.0</td>\n",
       "      <td>United Kingdom</td>\n",
       "      <td>2011</td>\n",
       "      <td>10</td>\n",
       "      <td>3</td>\n",
       "      <td>16</td>\n",
       "      <td>3155.95</td>\n",
       "    </tr>\n",
       "    <tr>\n",
       "      <th>383495</th>\n",
       "      <td>C570025</td>\n",
       "      <td>AMAZONFEE</td>\n",
       "      <td>AMAZON FEE</td>\n",
       "      <td>-1</td>\n",
       "      <td>5942.57</td>\n",
       "      <td>NaN</td>\n",
       "      <td>United Kingdom</td>\n",
       "      <td>2011</td>\n",
       "      <td>10</td>\n",
       "      <td>7</td>\n",
       "      <td>10</td>\n",
       "      <td>-5942.57</td>\n",
       "    </tr>\n",
       "    <tr>\n",
       "      <th>406404</th>\n",
       "      <td>C571750</td>\n",
       "      <td>M</td>\n",
       "      <td>Manual</td>\n",
       "      <td>-1</td>\n",
       "      <td>3949.32</td>\n",
       "      <td>12744.0</td>\n",
       "      <td>Singapore</td>\n",
       "      <td>2011</td>\n",
       "      <td>10</td>\n",
       "      <td>19</td>\n",
       "      <td>11</td>\n",
       "      <td>-3949.32</td>\n",
       "    </tr>\n",
       "    <tr>\n",
       "      <th>406406</th>\n",
       "      <td>571751</td>\n",
       "      <td>M</td>\n",
       "      <td>Manual</td>\n",
       "      <td>1</td>\n",
       "      <td>3949.32</td>\n",
       "      <td>12744.0</td>\n",
       "      <td>Singapore</td>\n",
       "      <td>2011</td>\n",
       "      <td>10</td>\n",
       "      <td>19</td>\n",
       "      <td>11</td>\n",
       "      <td>3949.32</td>\n",
       "    </tr>\n",
       "    <tr>\n",
       "      <th>422351</th>\n",
       "      <td>573077</td>\n",
       "      <td>M</td>\n",
       "      <td>Manual</td>\n",
       "      <td>1</td>\n",
       "      <td>4161.06</td>\n",
       "      <td>12536.0</td>\n",
       "      <td>France</td>\n",
       "      <td>2011</td>\n",
       "      <td>10</td>\n",
       "      <td>27</td>\n",
       "      <td>14</td>\n",
       "      <td>4161.06</td>\n",
       "    </tr>\n",
       "    <tr>\n",
       "      <th>422375</th>\n",
       "      <td>C573079</td>\n",
       "      <td>M</td>\n",
       "      <td>Manual</td>\n",
       "      <td>-2</td>\n",
       "      <td>4161.06</td>\n",
       "      <td>12536.0</td>\n",
       "      <td>France</td>\n",
       "      <td>2011</td>\n",
       "      <td>10</td>\n",
       "      <td>27</td>\n",
       "      <td>14</td>\n",
       "      <td>-8322.12</td>\n",
       "    </tr>\n",
       "    <tr>\n",
       "      <th>422376</th>\n",
       "      <td>573080</td>\n",
       "      <td>M</td>\n",
       "      <td>Manual</td>\n",
       "      <td>1</td>\n",
       "      <td>4161.06</td>\n",
       "      <td>12536.0</td>\n",
       "      <td>France</td>\n",
       "      <td>2011</td>\n",
       "      <td>10</td>\n",
       "      <td>27</td>\n",
       "      <td>14</td>\n",
       "      <td>4161.06</td>\n",
       "    </tr>\n",
       "    <tr>\n",
       "      <th>429248</th>\n",
       "      <td>C573549</td>\n",
       "      <td>AMAZONFEE</td>\n",
       "      <td>AMAZON FEE</td>\n",
       "      <td>-1</td>\n",
       "      <td>5942.57</td>\n",
       "      <td>NaN</td>\n",
       "      <td>United Kingdom</td>\n",
       "      <td>2011</td>\n",
       "      <td>10</td>\n",
       "      <td>31</td>\n",
       "      <td>13</td>\n",
       "      <td>-5942.57</td>\n",
       "    </tr>\n",
       "    <tr>\n",
       "      <th>446434</th>\n",
       "      <td>C574897</td>\n",
       "      <td>AMAZONFEE</td>\n",
       "      <td>AMAZON FEE</td>\n",
       "      <td>-1</td>\n",
       "      <td>5877.18</td>\n",
       "      <td>NaN</td>\n",
       "      <td>United Kingdom</td>\n",
       "      <td>2011</td>\n",
       "      <td>11</td>\n",
       "      <td>7</td>\n",
       "      <td>15</td>\n",
       "      <td>-5877.18</td>\n",
       "    </tr>\n",
       "    <tr>\n",
       "      <th>446533</th>\n",
       "      <td>C574902</td>\n",
       "      <td>AMAZONFEE</td>\n",
       "      <td>AMAZON FEE</td>\n",
       "      <td>-1</td>\n",
       "      <td>8286.22</td>\n",
       "      <td>NaN</td>\n",
       "      <td>United Kingdom</td>\n",
       "      <td>2011</td>\n",
       "      <td>11</td>\n",
       "      <td>7</td>\n",
       "      <td>15</td>\n",
       "      <td>-8286.22</td>\n",
       "    </tr>\n",
       "    <tr>\n",
       "      <th>524601</th>\n",
       "      <td>C580604</td>\n",
       "      <td>AMAZONFEE</td>\n",
       "      <td>AMAZON FEE</td>\n",
       "      <td>-1</td>\n",
       "      <td>11586.50</td>\n",
       "      <td>NaN</td>\n",
       "      <td>United Kingdom</td>\n",
       "      <td>2011</td>\n",
       "      <td>12</td>\n",
       "      <td>5</td>\n",
       "      <td>11</td>\n",
       "      <td>-11586.50</td>\n",
       "    </tr>\n",
       "  </tbody>\n",
       "</table>\n",
       "</div>"
      ],
      "text/plain": [
       "       InvoiceNo  StockCode      Description  Quantity  UnitPrice  CustomerID  \\\n",
       "15016    C537630  AMAZONFEE       AMAZON FEE        -1   13541.33         NaN   \n",
       "15017     537632  AMAZONFEE       AMAZON FEE         1   13541.33         NaN   \n",
       "16232    C537644  AMAZONFEE       AMAZON FEE        -1   13474.79         NaN   \n",
       "16313    C537647  AMAZONFEE       AMAZON FEE        -1    5519.25         NaN   \n",
       "16356    C537651  AMAZONFEE       AMAZON FEE        -1   13541.33         NaN   \n",
       "16357    C537652  AMAZONFEE       AMAZON FEE        -1    6706.71         NaN   \n",
       "96844    C544587  AMAZONFEE       AMAZON FEE        -1    5575.28         NaN   \n",
       "96845    C544589  AMAZONFEE       AMAZON FEE        -1    5258.77         NaN   \n",
       "124741   C546987  AMAZONFEE       AMAZON FEE        -1    5693.05         NaN   \n",
       "124787   C546989  AMAZONFEE       AMAZON FEE        -1    5225.03         NaN   \n",
       "173277   C551685       POST          POSTAGE        -1    8142.75     16029.0   \n",
       "173382    551697       POST          POSTAGE         1    8142.75     16029.0   \n",
       "173391   C551699          M           Manual        -1    6930.00     16029.0   \n",
       "191385   C553354  AMAZONFEE       AMAZON FEE        -1    5876.40         NaN   \n",
       "191386   C553355  AMAZONFEE       AMAZON FEE        -1    7006.83         NaN   \n",
       "239250   C558036  AMAZONFEE       AMAZON FEE        -1    5791.18         NaN   \n",
       "239251   C558037  AMAZONFEE       AMAZON FEE        -1    4534.24         NaN   \n",
       "262413   C559915  AMAZONFEE       AMAZON FEE        -1    4383.62         NaN   \n",
       "262414   C559917  AMAZONFEE       AMAZON FEE        -1    6497.47         NaN   \n",
       "268027   C560372          M           Manual        -1    4287.63     17448.0   \n",
       "268028    560373          M           Manual         1    4287.63         NaN   \n",
       "271151   C560647          M           Manual        -1    3060.60     18102.0   \n",
       "287103   C562062  AMAZONFEE       AMAZON FEE        -1    4575.64         NaN   \n",
       "287150   C562086  AMAZONFEE       AMAZON FEE        -1    6721.37         NaN   \n",
       "293842   C562647          M           Manual        -1    3155.95     15502.0   \n",
       "297723    562955        DOT   DOTCOM POSTAGE         1    4505.17         NaN   \n",
       "299982   A563185          B  Adjust bad debt         1   11062.06         NaN   \n",
       "312092   C564340  AMAZONFEE       AMAZON FEE        -1    4527.65         NaN   \n",
       "312246   C564341  AMAZONFEE       AMAZON FEE        -1    6662.51         NaN   \n",
       "342611   C566889  AMAZONFEE       AMAZON FEE        -1    5522.14         NaN   \n",
       "342635   C566899  AMAZONFEE       AMAZON FEE        -1    7427.97         NaN   \n",
       "374542    569382          M           Manual         1    3155.95     15502.0   \n",
       "383495   C570025  AMAZONFEE       AMAZON FEE        -1    5942.57         NaN   \n",
       "406404   C571750          M           Manual        -1    3949.32     12744.0   \n",
       "406406    571751          M           Manual         1    3949.32     12744.0   \n",
       "422351    573077          M           Manual         1    4161.06     12536.0   \n",
       "422375   C573079          M           Manual        -2    4161.06     12536.0   \n",
       "422376    573080          M           Manual         1    4161.06     12536.0   \n",
       "429248   C573549  AMAZONFEE       AMAZON FEE        -1    5942.57         NaN   \n",
       "446434   C574897  AMAZONFEE       AMAZON FEE        -1    5877.18         NaN   \n",
       "446533   C574902  AMAZONFEE       AMAZON FEE        -1    8286.22         NaN   \n",
       "524601   C580604  AMAZONFEE       AMAZON FEE        -1   11586.50         NaN   \n",
       "\n",
       "               Country  Year  Month  Day  Hour  TotalPrice  \n",
       "15016   United Kingdom  2010     12    7    15   -13541.33  \n",
       "15017   United Kingdom  2010     12    7    15    13541.33  \n",
       "16232   United Kingdom  2010     12    7    15   -13474.79  \n",
       "16313   United Kingdom  2010     12    7    15    -5519.25  \n",
       "16356   United Kingdom  2010     12    7    15   -13541.33  \n",
       "16357   United Kingdom  2010     12    7    15    -6706.71  \n",
       "96844   United Kingdom  2011      2   21    15    -5575.28  \n",
       "96845   United Kingdom  2011      2   21    15    -5258.77  \n",
       "124741  United Kingdom  2011      3   18    12    -5693.05  \n",
       "124787  United Kingdom  2011      3   18    12    -5225.03  \n",
       "173277  United Kingdom  2011      5    3    12    -8142.75  \n",
       "173382  United Kingdom  2011      5    3    13     8142.75  \n",
       "173391  United Kingdom  2011      5    3    14    -6930.00  \n",
       "191385  United Kingdom  2011      5   16    13    -5876.40  \n",
       "191386  United Kingdom  2011      5   16    13    -7006.83  \n",
       "239250  United Kingdom  2011      6   24    12    -5791.18  \n",
       "239251  United Kingdom  2011      6   24    12    -4534.24  \n",
       "262413  United Kingdom  2011      7   13    15    -4383.62  \n",
       "262414  United Kingdom  2011      7   13    15    -6497.47  \n",
       "268027  United Kingdom  2011      7   18    12    -4287.63  \n",
       "268028  United Kingdom  2011      7   18    12     4287.63  \n",
       "271151  United Kingdom  2011      7   20    11    -3060.60  \n",
       "287103  United Kingdom  2011      8    2    12    -4575.64  \n",
       "287150  United Kingdom  2011      8    2    12    -6721.37  \n",
       "293842  United Kingdom  2011      8    8    12    -3155.95  \n",
       "297723  United Kingdom  2011      8   11    10     4505.17  \n",
       "299982  United Kingdom  2011      8   12    14    11062.06  \n",
       "312092  United Kingdom  2011      8   24    14    -4527.65  \n",
       "312246  United Kingdom  2011      8   24    14    -6662.51  \n",
       "342611  United Kingdom  2011      9   15    13    -5522.14  \n",
       "342635  United Kingdom  2011      9   15    13    -7427.97  \n",
       "374542  United Kingdom  2011     10    3    16     3155.95  \n",
       "383495  United Kingdom  2011     10    7    10    -5942.57  \n",
       "406404       Singapore  2011     10   19    11    -3949.32  \n",
       "406406       Singapore  2011     10   19    11     3949.32  \n",
       "422351          France  2011     10   27    14     4161.06  \n",
       "422375          France  2011     10   27    14    -8322.12  \n",
       "422376          France  2011     10   27    14     4161.06  \n",
       "429248  United Kingdom  2011     10   31    13    -5942.57  \n",
       "446434  United Kingdom  2011     11    7    15    -5877.18  \n",
       "446533  United Kingdom  2011     11    7    15    -8286.22  \n",
       "524601  United Kingdom  2011     12    5    11   -11586.50  "
      ]
     },
     "execution_count": 32,
     "metadata": {},
     "output_type": "execute_result"
    }
   ],
   "source": [
    "#Just to check what items are above a unit price of 3000. \n",
    "#Inference - Amazon Fee\n",
    "df[(df['UnitPrice']>3000)]"
   ]
  },
  {
   "cell_type": "code",
   "execution_count": 33,
   "metadata": {},
   "outputs": [
    {
     "name": "stdout",
     "output_type": "stream",
     "text": [
      "The number of rows with negative Quantity: 10576\n",
      "The number of rows with negative UnitPrice: 0\n"
     ]
    }
   ],
   "source": [
    "#We count the negative value of of quantity and Unit Price\n",
    "print(\"The number of rows with negative Quantity:\",sum(n < 0 for n in df.Quantity))\n",
    "print(\"The number of rows with negative UnitPrice:\",sum(n < 0 for n in df.UnitPrice))"
   ]
  },
  {
   "cell_type": "markdown",
   "metadata": {},
   "source": [
    "#### 5. Exploratory Data Analysis with respect to Customers and products"
   ]
  },
  {
   "cell_type": "code",
   "execution_count": 34,
   "metadata": {},
   "outputs": [
    {
     "data": {
      "text/html": [
       "<div>\n",
       "<style scoped>\n",
       "    .dataframe tbody tr th:only-of-type {\n",
       "        vertical-align: middle;\n",
       "    }\n",
       "\n",
       "    .dataframe tbody tr th {\n",
       "        vertical-align: top;\n",
       "    }\n",
       "\n",
       "    .dataframe thead th {\n",
       "        text-align: right;\n",
       "    }\n",
       "</style>\n",
       "<table border=\"1\" class=\"dataframe\">\n",
       "  <thead>\n",
       "    <tr style=\"text-align: right;\">\n",
       "      <th></th>\n",
       "      <th>products</th>\n",
       "      <th>transactions</th>\n",
       "      <th>customers</th>\n",
       "    </tr>\n",
       "  </thead>\n",
       "  <tbody>\n",
       "    <tr>\n",
       "      <th>quantity</th>\n",
       "      <td>4068</td>\n",
       "      <td>25883</td>\n",
       "      <td>4370</td>\n",
       "    </tr>\n",
       "  </tbody>\n",
       "</table>\n",
       "</div>"
      ],
      "text/plain": [
       "          products  transactions  customers\n",
       "quantity      4068         25883       4370"
      ]
     },
     "execution_count": 34,
     "metadata": {},
     "output_type": "execute_result"
    }
   ],
   "source": [
    "pd.DataFrame([{'products': len(df['StockCode'].value_counts()),    \n",
    "               'transactions': len(df['InvoiceNo'].value_counts()),\n",
    "               'customers': len(df['CustomerID'].value_counts()),  \n",
    "              }], columns = ['products', 'transactions', 'customers'], index = ['quantity'])"
   ]
  },
  {
   "cell_type": "markdown",
   "metadata": {},
   "source": [
    "It can be seen that the data concern 4370 users and that they bought 4068 different products. The total number of transactions carried out is more than 21000"
   ]
  },
  {
   "cell_type": "code",
   "execution_count": 35,
   "metadata": {},
   "outputs": [
    {
     "data": {
      "text/html": [
       "<div>\n",
       "<style scoped>\n",
       "    .dataframe tbody tr th:only-of-type {\n",
       "        vertical-align: middle;\n",
       "    }\n",
       "\n",
       "    .dataframe tbody tr th {\n",
       "        vertical-align: top;\n",
       "    }\n",
       "\n",
       "    .dataframe thead th {\n",
       "        text-align: right;\n",
       "    }\n",
       "</style>\n",
       "<table border=\"1\" class=\"dataframe\">\n",
       "  <thead>\n",
       "    <tr style=\"text-align: right;\">\n",
       "      <th></th>\n",
       "      <th>CustomerID</th>\n",
       "      <th>Quantity</th>\n",
       "    </tr>\n",
       "  </thead>\n",
       "  <tbody>\n",
       "    <tr>\n",
       "      <th>4040</th>\n",
       "      <td>17841.0</td>\n",
       "      <td>7812</td>\n",
       "    </tr>\n",
       "    <tr>\n",
       "      <th>1893</th>\n",
       "      <td>14911.0</td>\n",
       "      <td>5898</td>\n",
       "    </tr>\n",
       "    <tr>\n",
       "      <th>1298</th>\n",
       "      <td>14096.0</td>\n",
       "      <td>5128</td>\n",
       "    </tr>\n",
       "    <tr>\n",
       "      <th>329</th>\n",
       "      <td>12748.0</td>\n",
       "      <td>4459</td>\n",
       "    </tr>\n",
       "    <tr>\n",
       "      <th>1672</th>\n",
       "      <td>14606.0</td>\n",
       "      <td>2759</td>\n",
       "    </tr>\n",
       "    <tr>\n",
       "      <th>2190</th>\n",
       "      <td>15311.0</td>\n",
       "      <td>2478</td>\n",
       "    </tr>\n",
       "    <tr>\n",
       "      <th>1701</th>\n",
       "      <td>14646.0</td>\n",
       "      <td>2085</td>\n",
       "    </tr>\n",
       "    <tr>\n",
       "      <th>567</th>\n",
       "      <td>13089.0</td>\n",
       "      <td>1853</td>\n",
       "    </tr>\n",
       "    <tr>\n",
       "      <th>696</th>\n",
       "      <td>13263.0</td>\n",
       "      <td>1667</td>\n",
       "    </tr>\n",
       "    <tr>\n",
       "      <th>1445</th>\n",
       "      <td>14298.0</td>\n",
       "      <td>1640</td>\n",
       "    </tr>\n",
       "    <tr>\n",
       "      <th>1978</th>\n",
       "      <td>15039.0</td>\n",
       "      <td>1483</td>\n",
       "    </tr>\n",
       "    <tr>\n",
       "      <th>1343</th>\n",
       "      <td>14156.0</td>\n",
       "      <td>1415</td>\n",
       "    </tr>\n",
       "    <tr>\n",
       "      <th>4243</th>\n",
       "      <td>18118.0</td>\n",
       "      <td>1268</td>\n",
       "    </tr>\n",
       "    <tr>\n",
       "      <th>1346</th>\n",
       "      <td>14159.0</td>\n",
       "      <td>1183</td>\n",
       "    </tr>\n",
       "    <tr>\n",
       "      <th>1811</th>\n",
       "      <td>14796.0</td>\n",
       "      <td>1156</td>\n",
       "    </tr>\n",
       "    <tr>\n",
       "      <th>1951</th>\n",
       "      <td>15005.0</td>\n",
       "      <td>1152</td>\n",
       "    </tr>\n",
       "    <tr>\n",
       "      <th>2723</th>\n",
       "      <td>16033.0</td>\n",
       "      <td>1143</td>\n",
       "    </tr>\n",
       "    <tr>\n",
       "      <th>1271</th>\n",
       "      <td>14056.0</td>\n",
       "      <td>1110</td>\n",
       "    </tr>\n",
       "    <tr>\n",
       "      <th>3799</th>\n",
       "      <td>17511.0</td>\n",
       "      <td>1076</td>\n",
       "    </tr>\n",
       "    <tr>\n",
       "      <th>1792</th>\n",
       "      <td>14769.0</td>\n",
       "      <td>1065</td>\n",
       "    </tr>\n",
       "  </tbody>\n",
       "</table>\n",
       "</div>"
      ],
      "text/plain": [
       "      CustomerID  Quantity\n",
       "4040     17841.0      7812\n",
       "1893     14911.0      5898\n",
       "1298     14096.0      5128\n",
       "329      12748.0      4459\n",
       "1672     14606.0      2759\n",
       "2190     15311.0      2478\n",
       "1701     14646.0      2085\n",
       "567      13089.0      1853\n",
       "696      13263.0      1667\n",
       "1445     14298.0      1640\n",
       "1978     15039.0      1483\n",
       "1343     14156.0      1415\n",
       "4243     18118.0      1268\n",
       "1346     14159.0      1183\n",
       "1811     14796.0      1156\n",
       "1951     15005.0      1152\n",
       "2723     16033.0      1143\n",
       "1271     14056.0      1110\n",
       "3799     17511.0      1076\n",
       "1792     14769.0      1065"
      ]
     },
     "execution_count": 35,
     "metadata": {},
     "output_type": "execute_result"
    }
   ],
   "source": [
    "#Number of products purchased per customer\n",
    "temp = df.groupby(by=['CustomerID'], as_index=False)['Quantity'].count()\n",
    "nb_products_per_basket = temp.rename(columns = {'InvoiceNo':'Quantity'})\n",
    "nb_products_per_basket.sort_values('Quantity', ascending=False)[:20]"
   ]
  },
  {
   "cell_type": "code",
   "execution_count": 36,
   "metadata": {},
   "outputs": [
    {
     "data": {
      "image/png": "[encoded data removed]",
      "text/plain": [
       "<Figure size 1008x1008 with 4 Axes>"
      ]
     },
     "metadata": {},
     "output_type": "display_data"
    }
   ],
   "source": [
    "#Top selling products\n",
    "grps = np.array([['Month', 'Week'], ['Hour', 'Minute']])\n",
    "ctry = np.array([['United Kingdom', 'Japan'], ['Germany', 'France']])\n",
    "fltr = ['DOT', 'POST', 'M']\n",
    "top_n = 10\n",
    "\n",
    "fig, ax = plt.subplots(grps.shape[0],grps.shape[1], figsize=(14, 14))\n",
    "\n",
    "for i in range(0, ctry.shape[0]):\n",
    "    for j in range(0, ctry.shape[1]):\n",
    "        grp_data = df[df['Country'] == ctry[i,j]]\n",
    "        grp_data = grp_data[~grp_data['StockCode'].isin(fltr)]\n",
    "        grp_data = grp_data[['StockCode', 'TotalPrice']].groupby(['StockCode']).sum().sort_values(by='TotalPrice', ascending=False)        \n",
    "        grp_data = grp_data[0:top_n]    \n",
    "        grp_data = grp_data.reset_index()\n",
    "        \n",
    "        ax[i,j].barh(y=grp_data.index, width='TotalPrice', data=grp_data)\n",
    "        ax[i,j].invert_yaxis()\n",
    "        ax[i,j].set_yticks(range(0,top_n))\n",
    "        ax[i,j].set_yticklabels(grp_data['StockCode'].tolist())\n",
    "        ax[i,j].set_ylabel('Stock code')        \n",
    "        ax[i,j].set_xlabel('TotalPrice')                \n",
    "        ax[i,j].set_title('Top 10 ' + ctry[i,j])        \n",
    "        \n",
    "plt.show()"
   ]
  },
  {
   "cell_type": "markdown",
   "metadata": {},
   "source": [
    "#### 6. Exploratory Data Analysis for Stock Code"
   ]
  },
  {
   "cell_type": "code",
   "execution_count": 37,
   "metadata": {},
   "outputs": [
    {
     "data": {
      "text/plain": [
       "array(['POST', 'D', 'C2', 'DOT', 'M', 'BANK CHARGES', 'S', 'AMAZONFEE',\n",
       "       'DCGS0076', 'DCGS0003', 'gift_0001_40', 'DCGS0070', 'm',\n",
       "       'gift_0001_50', 'gift_0001_30', 'gift_0001_20', 'DCGS0055',\n",
       "       'DCGS0072', 'DCGS0074', 'DCGS0069', 'DCGS0057', 'DCGSSBOY',\n",
       "       'DCGSSGIRL', 'gift_0001_10', 'PADS', 'DCGS0004', 'DCGS0073',\n",
       "       'DCGS0071', 'DCGS0068', 'DCGS0067', 'DCGS0066P', 'B', 'CRUK'],\n",
       "      dtype=object)"
      ]
     },
     "execution_count": 37,
     "metadata": {},
     "output_type": "execute_result"
    }
   ],
   "source": [
    "list_special_codes = df[df['StockCode'].str.contains('^[a-zA-Z]+', regex=True)]['StockCode'].unique()\n",
    "list_special_codes"
   ]
  },
  {
   "cell_type": "code",
   "execution_count": 38,
   "metadata": {},
   "outputs": [
    {
     "data": {
      "text/html": [
       "<div>\n",
       "<style scoped>\n",
       "    .dataframe tbody tr th:only-of-type {\n",
       "        vertical-align: middle;\n",
       "    }\n",
       "\n",
       "    .dataframe tbody tr th {\n",
       "        vertical-align: top;\n",
       "    }\n",
       "\n",
       "    .dataframe thead th {\n",
       "        text-align: right;\n",
       "    }\n",
       "</style>\n",
       "<table border=\"1\" class=\"dataframe\">\n",
       "  <thead>\n",
       "    <tr style=\"text-align: right;\">\n",
       "      <th></th>\n",
       "      <th>StockCode</th>\n",
       "      <th>Description</th>\n",
       "    </tr>\n",
       "  </thead>\n",
       "  <tbody>\n",
       "    <tr>\n",
       "      <th>173</th>\n",
       "      <td>20713</td>\n",
       "      <td>8</td>\n",
       "    </tr>\n",
       "    <tr>\n",
       "      <th>429</th>\n",
       "      <td>21181</td>\n",
       "      <td>5</td>\n",
       "    </tr>\n",
       "    <tr>\n",
       "      <th>711</th>\n",
       "      <td>21621</td>\n",
       "      <td>4</td>\n",
       "    </tr>\n",
       "    <tr>\n",
       "      <th>864</th>\n",
       "      <td>21823</td>\n",
       "      <td>4</td>\n",
       "    </tr>\n",
       "    <tr>\n",
       "      <th>870</th>\n",
       "      <td>21829</td>\n",
       "      <td>4</td>\n",
       "    </tr>\n",
       "    <tr>\n",
       "      <th>871</th>\n",
       "      <td>21830</td>\n",
       "      <td>6</td>\n",
       "    </tr>\n",
       "    <tr>\n",
       "      <th>1078</th>\n",
       "      <td>22121</td>\n",
       "      <td>4</td>\n",
       "    </tr>\n",
       "    <tr>\n",
       "      <th>1421</th>\n",
       "      <td>22501</td>\n",
       "      <td>4</td>\n",
       "    </tr>\n",
       "    <tr>\n",
       "      <th>1630</th>\n",
       "      <td>22719</td>\n",
       "      <td>4</td>\n",
       "    </tr>\n",
       "    <tr>\n",
       "      <th>1644</th>\n",
       "      <td>22734</td>\n",
       "      <td>4</td>\n",
       "    </tr>\n",
       "    <tr>\n",
       "      <th>1719</th>\n",
       "      <td>22812</td>\n",
       "      <td>4</td>\n",
       "    </tr>\n",
       "    <tr>\n",
       "      <th>1743</th>\n",
       "      <td>22837</td>\n",
       "      <td>4</td>\n",
       "    </tr>\n",
       "    <tr>\n",
       "      <th>1830</th>\n",
       "      <td>22927</td>\n",
       "      <td>4</td>\n",
       "    </tr>\n",
       "    <tr>\n",
       "      <th>1982</th>\n",
       "      <td>23084</td>\n",
       "      <td>7</td>\n",
       "    </tr>\n",
       "    <tr>\n",
       "      <th>2012</th>\n",
       "      <td>23118</td>\n",
       "      <td>4</td>\n",
       "    </tr>\n",
       "    <tr>\n",
       "      <th>2025</th>\n",
       "      <td>23131</td>\n",
       "      <td>5</td>\n",
       "    </tr>\n",
       "    <tr>\n",
       "      <th>2089</th>\n",
       "      <td>23196</td>\n",
       "      <td>4</td>\n",
       "    </tr>\n",
       "    <tr>\n",
       "      <th>2096</th>\n",
       "      <td>23203</td>\n",
       "      <td>4</td>\n",
       "    </tr>\n",
       "    <tr>\n",
       "      <th>2102</th>\n",
       "      <td>23209</td>\n",
       "      <td>4</td>\n",
       "    </tr>\n",
       "    <tr>\n",
       "      <th>2129</th>\n",
       "      <td>23236</td>\n",
       "      <td>4</td>\n",
       "    </tr>\n",
       "    <tr>\n",
       "      <th>2224</th>\n",
       "      <td>23343</td>\n",
       "      <td>5</td>\n",
       "    </tr>\n",
       "    <tr>\n",
       "      <th>2599</th>\n",
       "      <td>35965</td>\n",
       "      <td>4</td>\n",
       "    </tr>\n",
       "    <tr>\n",
       "      <th>2608</th>\n",
       "      <td>37327</td>\n",
       "      <td>4</td>\n",
       "    </tr>\n",
       "    <tr>\n",
       "      <th>2680</th>\n",
       "      <td>46000S</td>\n",
       "      <td>4</td>\n",
       "    </tr>\n",
       "    <tr>\n",
       "      <th>2854</th>\n",
       "      <td>72802A</td>\n",
       "      <td>4</td>\n",
       "    </tr>\n",
       "    <tr>\n",
       "      <th>2862</th>\n",
       "      <td>72807A</td>\n",
       "      <td>5</td>\n",
       "    </tr>\n",
       "    <tr>\n",
       "      <th>2863</th>\n",
       "      <td>72807B</td>\n",
       "      <td>4</td>\n",
       "    </tr>\n",
       "    <tr>\n",
       "      <th>2864</th>\n",
       "      <td>72807C</td>\n",
       "      <td>4</td>\n",
       "    </tr>\n",
       "    <tr>\n",
       "      <th>2893</th>\n",
       "      <td>79030G</td>\n",
       "      <td>4</td>\n",
       "    </tr>\n",
       "    <tr>\n",
       "      <th>2964</th>\n",
       "      <td>82583</td>\n",
       "      <td>4</td>\n",
       "    </tr>\n",
       "    <tr>\n",
       "      <th>2966</th>\n",
       "      <td>82600</td>\n",
       "      <td>4</td>\n",
       "    </tr>\n",
       "    <tr>\n",
       "      <th>3534</th>\n",
       "      <td>85123A</td>\n",
       "      <td>4</td>\n",
       "    </tr>\n",
       "    <tr>\n",
       "      <th>3588</th>\n",
       "      <td>85172</td>\n",
       "      <td>5</td>\n",
       "    </tr>\n",
       "    <tr>\n",
       "      <th>3591</th>\n",
       "      <td>85175</td>\n",
       "      <td>6</td>\n",
       "    </tr>\n",
       "    <tr>\n",
       "      <th>3605</th>\n",
       "      <td>85185B</td>\n",
       "      <td>4</td>\n",
       "    </tr>\n",
       "  </tbody>\n",
       "</table>\n",
       "</div>"
      ],
      "text/plain": [
       "     StockCode  Description\n",
       "173      20713            8\n",
       "429      21181            5\n",
       "711      21621            4\n",
       "864      21823            4\n",
       "870      21829            4\n",
       "871      21830            6\n",
       "1078     22121            4\n",
       "1421     22501            4\n",
       "1630     22719            4\n",
       "1644     22734            4\n",
       "1719     22812            4\n",
       "1743     22837            4\n",
       "1830     22927            4\n",
       "1982     23084            7\n",
       "2012     23118            4\n",
       "2025     23131            5\n",
       "2089     23196            4\n",
       "2096     23203            4\n",
       "2102     23209            4\n",
       "2129     23236            4\n",
       "2224     23343            5\n",
       "2599     35965            4\n",
       "2608     37327            4\n",
       "2680    46000S            4\n",
       "2854    72802A            4\n",
       "2862    72807A            5\n",
       "2863    72807B            4\n",
       "2864    72807C            4\n",
       "2893    79030G            4\n",
       "2964     82583            4\n",
       "2966     82600            4\n",
       "3534    85123A            4\n",
       "3588     85172            5\n",
       "3591     85175            6\n",
       "3605    85185B            4"
      ]
     },
     "execution_count": 38,
     "metadata": {},
     "output_type": "execute_result"
    }
   ],
   "source": [
    "#To check if the stock code is actually unique or not\n",
    "#inference - Stock code is not a unique value.\n",
    "df_stk=df.groupby(\"StockCode\")['Description'].nunique().reset_index()\n",
    "df_stockcode=df_stk[df_stk[\"Description\"]>3]\n",
    "df_stockcode"
   ]
  },
  {
   "cell_type": "markdown",
   "metadata": {},
   "source": [
    "#### 7. Exploratory Data Analysis of Time Stamp"
   ]
  },
  {
   "cell_type": "code",
   "execution_count": 39,
   "metadata": {},
   "outputs": [
    {
     "data": {
      "image/png": "[encoded data removed]",
      "text/plain": [
       "<Figure size 1008x504 with 1 Axes>"
      ]
     },
     "metadata": {},
     "output_type": "display_data"
    }
   ],
   "source": [
    "# To find the numer of purchases each month\n",
    "df.pivot_table(index=df['Month'],values='InvoiceNo',aggfunc=np.size).plot(kind='bar',\n",
    "        figsize=(14,7),title='Frequency of orders(Monthly)');"
   ]
  },
  {
   "cell_type": "code",
   "execution_count": 40,
   "metadata": {},
   "outputs": [
    {
     "data": {
      "image/png": "[encoded data removed]",
      "text/plain": [
       "<Figure size 1008x504 with 1 Axes>"
      ]
     },
     "metadata": {},
     "output_type": "display_data"
    }
   ],
   "source": [
    "#To find the number of purchases each day  grouped by all months\n",
    "df.pivot_table(index=df['Day'],values='InvoiceNo',aggfunc=np.size).plot(kind='bar',\n",
    "        figsize=(14,7),title='Frequency of orders(Monthly)');"
   ]
  },
  {
   "cell_type": "code",
   "execution_count": 41,
   "metadata": {},
   "outputs": [
    {
     "data": {
      "image/png": "[encoded data removed]",
      "text/plain": [
       "<Figure size 1008x504 with 1 Axes>"
      ]
     },
     "metadata": {},
     "output_type": "display_data"
    }
   ],
   "source": [
    "#To find the time at which maximum orders take place\n",
    "# Inference - No orders after 8pm and 6am\n",
    "df.pivot_table(index=df['Hour'],values='InvoiceNo',aggfunc=np.size).plot(kind='bar',\n",
    "        figsize=(14,7),title='Frequency of orders(Monthly)');"
   ]
  },
  {
   "cell_type": "markdown",
   "metadata": {},
   "source": [
    "Heat map graphical representation of data where the individual values ie Hour and Day are plotted to find which is the optimal period for shoppers\n",
    "\n",
    "Inference - 21st day of the month at 3pm is the best. Major transactions happen between 12pm and 3pm"
   ]
  },
  {
   "cell_type": "code",
   "execution_count": 42,
   "metadata": {},
   "outputs": [
    {
     "data": {
      "image/png": "[encoded data removed]",
      "text/plain": [
       "<Figure size 864x432 with 2 Axes>"
      ]
     },
     "metadata": {},
     "output_type": "display_data"
    }
   ],
   "source": [
    "week_vs_hour = df.pivot_table(index=df['Day'],values='InvoiceNo',columns=df['Hour'],aggfunc=np.size)\n",
    "plt.figure(figsize=(12,6))\n",
    "sns.heatmap(week_vs_hour,cmap='coolwarm',linecolor='white',linewidths=0.01);"
   ]
  },
  {
   "cell_type": "markdown",
   "metadata": {},
   "source": [
    "#### 8. Exploratory Data Analysis for Description"
   ]
  },
  {
   "cell_type": "code",
   "execution_count": 43,
   "metadata": {},
   "outputs": [],
   "source": [
    "# Handle incorrect Description\n",
    "df = df[df[\"Description\"].str.startswith(\"?\") == False]\n",
    "df = df[df[\"Description\"].str.isupper() == True]\n",
    "df = df[df[\"Description\"].str.contains(\"LOST\") == False]"
   ]
  },
  {
   "cell_type": "code",
   "execution_count": 44,
   "metadata": {},
   "outputs": [
    {
     "data": {
      "image/png": "[encoded data removed]",
      "text/plain": [
       "<Figure size 432x288 with 1 Axes>"
      ]
     },
     "metadata": {},
     "output_type": "display_data"
    }
   ],
   "source": [
    "# Find the maximum purchased products\n",
    "# Inference - White Hanging Herat T-Light Holder\n",
    "high_descrip = df.groupby('Description')['Quantity'].count().sort_values(ascending=False)[:10]\n",
    "high_descrip.plot('bar')\n",
    "plt.xlabel('Description')\n",
    "plt.ylabel('Total Quantity')\n",
    "plt.title('Items most purchased', fontsize=16)\n",
    "plt.show()"
   ]
  },
  {
   "cell_type": "markdown",
   "metadata": {},
   "source": [
    "#### 8. Exploratory Data Analysis on Null Customer and imputing data"
   ]
  },
  {
   "cell_type": "code",
   "execution_count": 45,
   "metadata": {
    "colab": {
     "base_uri": "https://localhost:8080/",
     "height": 330
    },
    "colab_type": "code",
    "id": "ewhiDy-zr5Qg",
    "outputId": "52427f4d-f47b-4624-fdde-ff15f2c34ef1",
    "scrolled": true
   },
   "outputs": [
    {
     "data": {
      "image/png": "[encoded data removed]",
      "text/plain": [
       "<Figure size 432x288 with 1 Axes>"
      ]
     },
     "metadata": {},
     "output_type": "display_data"
    }
   ],
   "source": [
    "# Analysing the percentage of not null customers in the dataset. Inference - 25.2% Null, 74.8% Not Null\n",
    "CustomerID_notnull = df.loc[~df['CustomerID'].isnull()] \n",
    "CustomerID_null = df.loc[df['CustomerID'].isnull()] \n",
    "pie_data = []\n",
    "pie_data.append(len(CustomerID_null))\n",
    "pie_data.append(len(CustomerID_notnull))\n",
    "plt.pie(pie_data, labels=['Null', 'Not Null'], autopct='%1.1f%%',)\n",
    "plt.show()"
   ]
  },
  {
   "cell_type": "code",
   "execution_count": 46,
   "metadata": {
    "colab": {
     "base_uri": "https://localhost:8080/",
     "height": 210
    },
    "colab_type": "code",
    "id": "VomsM3TG5O4B",
    "outputId": "5b8301be-15c0-473d-dca5-b6c404f1df18"
   },
   "outputs": [
    {
     "data": {
      "text/plain": [
       "Country\n",
       "United Kingdom    130996\n",
       "EIRE                 695\n",
       "Hong Kong            278\n",
       "Unspecified          201\n",
       "Switzerland          117\n",
       "France                66\n",
       "Israel                47\n",
       "Portugal              39\n",
       "Bahrain                2\n",
       "dtype: int64"
      ]
     },
     "execution_count": 46,
     "metadata": {},
     "output_type": "execute_result"
    }
   ],
   "source": [
    "# To find from which country the maximum number of Null occurs\n",
    "CustomerID_null.groupby(['Country']).size().sort_values(ascending=False)"
   ]
  },
  {
   "cell_type": "code",
   "execution_count": 47,
   "metadata": {
    "colab": {
     "base_uri": "https://localhost:8080/",
     "height": 574
    },
    "colab_type": "code",
    "id": "nRBcL7Kt0ch2",
    "outputId": "ef8b5596-270d-44ec-9f4a-e78a0a34a312"
   },
   "outputs": [
    {
     "data": {
      "text/plain": [
       "<matplotlib.axes._subplots.AxesSubplot at 0x208986b4748>"
      ]
     },
     "execution_count": 47,
     "metadata": {},
     "output_type": "execute_result"
    },
    {
     "data": {
      "image/png": "[encoded data removed]",
      "text/plain": [
       "<Figure size 1008x648 with 2 Axes>"
      ]
     },
     "metadata": {},
     "output_type": "display_data"
    }
   ],
   "source": [
    "#To find the ratio of quantity of units purchased by null & not null customers\n",
    "month_null = (CustomerID_null.groupby(['Month'])['Quantity'].sum())\n",
    "month_notnull  = (CustomerID_notnull.groupby(['Month'])['Quantity'].sum())\n",
    "month = pd.DataFrame([month_null, month_notnull]).transpose()\n",
    "\n",
    "fig, axes = plt.subplots(nrows=1, ncols=2, figsize=(14,9))\n",
    "month.plot.bar(stacked=True, ax=axes[0])\n",
    "\n",
    "month.plot.box(ax=axes[1])"
   ]
  },
  {
   "cell_type": "code",
   "execution_count": 48,
   "metadata": {
    "colab": {
     "base_uri": "https://localhost:8080/",
     "height": 330
    },
    "colab_type": "code",
    "id": "72ME1IA35pM9",
    "outputId": "30288e51-0878-412b-a348-dd55545ae77e"
   },
   "outputs": [
    {
     "data": {
      "image/png": "[encoded data removed]",
      "text/plain": [
       "<Figure size 432x288 with 1 Axes>"
      ]
     },
     "metadata": {},
     "output_type": "display_data"
    }
   ],
   "source": [
    "pie_data = []\n",
    "pie_data.append(CustomerID_null['Quantity'].sum())\n",
    "pie_data.append(CustomerID_notnull['Quantity'].sum())\n",
    "plt.pie(pie_data, labels=['Null', 'Non Null'], autopct='%1.1f%%',)\n",
    "plt.show()"
   ]
  },
  {
   "cell_type": "code",
   "execution_count": 49,
   "metadata": {
    "colab": {},
    "colab_type": "code",
    "id": "VtcMIb5O54ZF"
   },
   "outputs": [
    {
     "data": {
      "image/png": "[encoded data removed]",
      "text/plain": [
       "<Figure size 432x288 with 1 Axes>"
      ]
     },
     "metadata": {},
     "output_type": "display_data"
    }
   ],
   "source": [
    "#To find the ratio of amount spent by null & not null customers\n",
    "CustomerID_notnull['Total_Amount'] = CustomerID_notnull['Quantity']*CustomerID_notnull['UnitPrice']\n",
    "CustomerID_null['Total_Amount'] = CustomerID_null['Quantity']*CustomerID_null['UnitPrice']\n",
    "pie_data = []\n",
    "pie_data.append(CustomerID_null['Total_Amount'].sum())\n",
    "pie_data.append(CustomerID_notnull['Total_Amount'].sum())\n",
    "plt.pie(pie_data, labels=['Null', 'Non Null'], autopct='%1.1f%%',)\n",
    "plt.show()"
   ]
  },
  {
   "cell_type": "code",
   "execution_count": 50,
   "metadata": {
    "colab": {
     "base_uri": "https://localhost:8080/",
     "height": 347
    },
    "colab_type": "code",
    "id": "e-UYeLeB6msp",
    "outputId": "1858602f-8caa-4e39-e593-bbea45d40a3f"
   },
   "outputs": [
    {
     "name": "stdout",
     "output_type": "stream",
     "text": [
      "[]\n"
     ]
    }
   ],
   "source": [
    "# To analyse if any invoice intersects with the null/notnull CustomerID - Inference: None\n",
    "intersect = pd.Series(np.intersect1d(CustomerID_null['InvoiceNo'].values, CustomerID_notnull['InvoiceNo'].values))\n",
    "print(intersect.values)"
   ]
  },
  {
   "cell_type": "code",
   "execution_count": 51,
   "metadata": {},
   "outputs": [],
   "source": [
    "df[\"CustomerID\"].fillna(df[\"InvoiceNo\"], inplace=True)"
   ]
  },
  {
   "cell_type": "markdown",
   "metadata": {},
   "source": [
    "## Model Training"
   ]
  },
  {
   "cell_type": "markdown",
   "metadata": {},
   "source": [
    "### 1. Modifying categorical features"
   ]
  },
  {
   "cell_type": "code",
   "execution_count": 52,
   "metadata": {},
   "outputs": [],
   "source": [
    "from sklearn.preprocessing import LabelBinarizer\n",
    "encoder = LabelBinarizer()\n",
    "country_one_hot = encoder.fit_transform(df['Country'])\n",
    "Y_onehot=country_one_hot"
   ]
  },
  {
   "cell_type": "code",
   "execution_count": 53,
   "metadata": {},
   "outputs": [
    {
     "data": {
      "text/plain": [
       "array([[0, 0, 0, ..., 0, 1, 0],\n",
       "       [0, 0, 0, ..., 0, 1, 0],\n",
       "       [0, 0, 0, ..., 0, 1, 0],\n",
       "       ...,\n",
       "       [0, 0, 0, ..., 0, 0, 0],\n",
       "       [0, 0, 0, ..., 0, 0, 0],\n",
       "       [0, 0, 0, ..., 0, 0, 0]])"
      ]
     },
     "execution_count": 53,
     "metadata": {},
     "output_type": "execute_result"
    }
   ],
   "source": [
    "Y_onehot"
   ]
  },
  {
   "cell_type": "code",
   "execution_count": 54,
   "metadata": {},
   "outputs": [],
   "source": [
    "from sklearn.preprocessing import LabelEncoder\n",
    "\n",
    "y_en = LabelEncoder()\n",
    "Y_list = y_en.fit_transform(df[\"Country\"])"
   ]
  },
  {
   "cell_type": "code",
   "execution_count": 55,
   "metadata": {},
   "outputs": [
    {
     "data": {
      "text/plain": [
       "(532094,)"
      ]
     },
     "execution_count": 55,
     "metadata": {},
     "output_type": "execute_result"
    }
   ],
   "source": [
    "Y_list.shape"
   ]
  },
  {
   "cell_type": "code",
   "execution_count": 56,
   "metadata": {},
   "outputs": [],
   "source": [
    "from sklearn.preprocessing import LabelEncoder\n",
    "en = LabelEncoder()\n",
    "df[\"Description_Code\"] = en.fit_transform(df[\"Description\"])"
   ]
  },
  {
   "cell_type": "code",
   "execution_count": 57,
   "metadata": {},
   "outputs": [
    {
     "data": {
      "text/plain": [
       "InvoiceNo            object\n",
       "StockCode            object\n",
       "Description          object\n",
       "Quantity              int64\n",
       "UnitPrice           float64\n",
       "CustomerID           object\n",
       "Country              object\n",
       "Year                  int64\n",
       "Month                 int64\n",
       "Day                   int64\n",
       "Hour                  int64\n",
       "TotalPrice          float64\n",
       "Description_Code      int64\n",
       "dtype: object"
      ]
     },
     "execution_count": 57,
     "metadata": {},
     "output_type": "execute_result"
    }
   ],
   "source": [
    "df.dtypes"
   ]
  },
  {
   "cell_type": "code",
   "execution_count": 58,
   "metadata": {},
   "outputs": [],
   "source": [
    "#Creating X_train dataset\n",
    "d = {'Description': df['Description_Code'], 'Quantity': df['Quantity'], 'Unit Price': df['UnitPrice'], 'Month': df['Month'], 'Day': df['Day'], 'Hour': df['Hour']}"
   ]
  },
  {
   "cell_type": "code",
   "execution_count": 59,
   "metadata": {},
   "outputs": [],
   "source": [
    "X=pd.DataFrame(d)"
   ]
  },
  {
   "cell_type": "code",
   "execution_count": 60,
   "metadata": {},
   "outputs": [
    {
     "data": {
      "text/html": [
       "<style  type=\"text/css\" >\n",
       "    #T_b86d10c8_3fdf_11e9_b214_4c3488ea64a0row0_col0 {\n",
       "            background-color:  #b40426;\n",
       "        }    #T_b86d10c8_3fdf_11e9_b214_4c3488ea64a0row0_col1 {\n",
       "            background-color:  #4055c8;\n",
       "        }    #T_b86d10c8_3fdf_11e9_b214_4c3488ea64a0row0_col2 {\n",
       "            background-color:  #3b4cc0;\n",
       "        }    #T_b86d10c8_3fdf_11e9_b214_4c3488ea64a0row0_col3 {\n",
       "            background-color:  #4257c9;\n",
       "        }    #T_b86d10c8_3fdf_11e9_b214_4c3488ea64a0row0_col4 {\n",
       "            background-color:  #4055c8;\n",
       "        }    #T_b86d10c8_3fdf_11e9_b214_4c3488ea64a0row0_col5 {\n",
       "            background-color:  #3d50c3;\n",
       "        }    #T_b86d10c8_3fdf_11e9_b214_4c3488ea64a0row1_col0 {\n",
       "            background-color:  #4e68d8;\n",
       "        }    #T_b86d10c8_3fdf_11e9_b214_4c3488ea64a0row1_col1 {\n",
       "            background-color:  #b40426;\n",
       "        }    #T_b86d10c8_3fdf_11e9_b214_4c3488ea64a0row1_col2 {\n",
       "            background-color:  #4a63d3;\n",
       "        }    #T_b86d10c8_3fdf_11e9_b214_4c3488ea64a0row1_col3 {\n",
       "            background-color:  #4a63d3;\n",
       "        }    #T_b86d10c8_3fdf_11e9_b214_4c3488ea64a0row1_col4 {\n",
       "            background-color:  #4b64d5;\n",
       "        }    #T_b86d10c8_3fdf_11e9_b214_4c3488ea64a0row1_col5 {\n",
       "            background-color:  #3b4cc0;\n",
       "        }    #T_b86d10c8_3fdf_11e9_b214_4c3488ea64a0row2_col0 {\n",
       "            background-color:  #3b4cc0;\n",
       "        }    #T_b86d10c8_3fdf_11e9_b214_4c3488ea64a0row2_col1 {\n",
       "            background-color:  #3c4ec2;\n",
       "        }    #T_b86d10c8_3fdf_11e9_b214_4c3488ea64a0row2_col2 {\n",
       "            background-color:  #b40426;\n",
       "        }    #T_b86d10c8_3fdf_11e9_b214_4c3488ea64a0row2_col3 {\n",
       "            background-color:  #3f53c6;\n",
       "        }    #T_b86d10c8_3fdf_11e9_b214_4c3488ea64a0row2_col4 {\n",
       "            background-color:  #3e51c5;\n",
       "        }    #T_b86d10c8_3fdf_11e9_b214_4c3488ea64a0row2_col5 {\n",
       "            background-color:  #3f53c6;\n",
       "        }    #T_b86d10c8_3fdf_11e9_b214_4c3488ea64a0row3_col0 {\n",
       "            background-color:  #5e7de7;\n",
       "        }    #T_b86d10c8_3fdf_11e9_b214_4c3488ea64a0row3_col1 {\n",
       "            background-color:  #5977e3;\n",
       "        }    #T_b86d10c8_3fdf_11e9_b214_4c3488ea64a0row3_col2 {\n",
       "            background-color:  #5b7ae5;\n",
       "        }    #T_b86d10c8_3fdf_11e9_b214_4c3488ea64a0row3_col3 {\n",
       "            background-color:  #b40426;\n",
       "        }    #T_b86d10c8_3fdf_11e9_b214_4c3488ea64a0row3_col4 {\n",
       "            background-color:  #3b4cc0;\n",
       "        }    #T_b86d10c8_3fdf_11e9_b214_4c3488ea64a0row3_col5 {\n",
       "            background-color:  #6384eb;\n",
       "        }    #T_b86d10c8_3fdf_11e9_b214_4c3488ea64a0row4_col0 {\n",
       "            background-color:  #5d7ce6;\n",
       "        }    #T_b86d10c8_3fdf_11e9_b214_4c3488ea64a0row4_col1 {\n",
       "            background-color:  #5a78e4;\n",
       "        }    #T_b86d10c8_3fdf_11e9_b214_4c3488ea64a0row4_col2 {\n",
       "            background-color:  #5a78e4;\n",
       "        }    #T_b86d10c8_3fdf_11e9_b214_4c3488ea64a0row4_col3 {\n",
       "            background-color:  #3b4cc0;\n",
       "        }    #T_b86d10c8_3fdf_11e9_b214_4c3488ea64a0row4_col4 {\n",
       "            background-color:  #b40426;\n",
       "        }    #T_b86d10c8_3fdf_11e9_b214_4c3488ea64a0row4_col5 {\n",
       "            background-color:  #5b7ae5;\n",
       "        }    #T_b86d10c8_3fdf_11e9_b214_4c3488ea64a0row5_col0 {\n",
       "            background-color:  #4b64d5;\n",
       "        }    #T_b86d10c8_3fdf_11e9_b214_4c3488ea64a0row5_col1 {\n",
       "            background-color:  #3b4cc0;\n",
       "        }    #T_b86d10c8_3fdf_11e9_b214_4c3488ea64a0row5_col2 {\n",
       "            background-color:  #4e68d8;\n",
       "        }    #T_b86d10c8_3fdf_11e9_b214_4c3488ea64a0row5_col3 {\n",
       "            background-color:  #5470de;\n",
       "        }    #T_b86d10c8_3fdf_11e9_b214_4c3488ea64a0row5_col4 {\n",
       "            background-color:  #4c66d6;\n",
       "        }    #T_b86d10c8_3fdf_11e9_b214_4c3488ea64a0row5_col5 {\n",
       "            background-color:  #b40426;\n",
       "        }</style>  \n",
       "<table id=\"T_b86d10c8_3fdf_11e9_b214_4c3488ea64a0\" > \n",
       "<thead>    <tr> \n",
       "        <th class=\"blank level0\" ></th> \n",
       "        <th class=\"col_heading level0 col0\" >Description</th> \n",
       "        <th class=\"col_heading level0 col1\" >Quantity</th> \n",
       "        <th class=\"col_heading level0 col2\" >Unit Price</th> \n",
       "        <th class=\"col_heading level0 col3\" >Month</th> \n",
       "        <th class=\"col_heading level0 col4\" >Day</th> \n",
       "        <th class=\"col_heading level0 col5\" >Hour</th> \n",
       "    </tr></thead> \n",
       "<tbody>    <tr> \n",
       "        <th id=\"T_b86d10c8_3fdf_11e9_b214_4c3488ea64a0level0_row0\" class=\"row_heading level0 row0\" >Description</th> \n",
       "        <td id=\"T_b86d10c8_3fdf_11e9_b214_4c3488ea64a0row0_col0\" class=\"data row0 col0\" >1.0</td> \n",
       "        <td id=\"T_b86d10c8_3fdf_11e9_b214_4c3488ea64a0row0_col1\" class=\"data row0 col1\" >0.0042</td> \n",
       "        <td id=\"T_b86d10c8_3fdf_11e9_b214_4c3488ea64a0row0_col2\" class=\"data row0 col2\" >-0.016</td> \n",
       "        <td id=\"T_b86d10c8_3fdf_11e9_b214_4c3488ea64a0row0_col3\" class=\"data row0 col3\" >0.011</td> \n",
       "        <td id=\"T_b86d10c8_3fdf_11e9_b214_4c3488ea64a0row0_col4\" class=\"data row0 col4\" >0.0046</td> \n",
       "        <td id=\"T_b86d10c8_3fdf_11e9_b214_4c3488ea64a0row0_col5\" class=\"data row0 col5\" >-0.0061</td> \n",
       "    </tr>    <tr> \n",
       "        <th id=\"T_b86d10c8_3fdf_11e9_b214_4c3488ea64a0level0_row1\" class=\"row_heading level0 row1\" >Quantity</th> \n",
       "        <td id=\"T_b86d10c8_3fdf_11e9_b214_4c3488ea64a0row1_col0\" class=\"data row1 col0\" >0.0042</td> \n",
       "        <td id=\"T_b86d10c8_3fdf_11e9_b214_4c3488ea64a0row1_col1\" class=\"data row1 col1\" >1.0</td> \n",
       "        <td id=\"T_b86d10c8_3fdf_11e9_b214_4c3488ea64a0row1_col2\" class=\"data row1 col2\" >-0.0098</td> \n",
       "        <td id=\"T_b86d10c8_3fdf_11e9_b214_4c3488ea64a0row1_col3\" class=\"data row1 col3\" >-0.007</td> \n",
       "        <td id=\"T_b86d10c8_3fdf_11e9_b214_4c3488ea64a0row1_col4\" class=\"data row1 col4\" >-0.0025</td> \n",
       "        <td id=\"T_b86d10c8_3fdf_11e9_b214_4c3488ea64a0row1_col5\" class=\"data row1 col5\" >-0.065</td> \n",
       "    </tr>    <tr> \n",
       "        <th id=\"T_b86d10c8_3fdf_11e9_b214_4c3488ea64a0level0_row2\" class=\"row_heading level0 row2\" >Unit Price</th> \n",
       "        <td id=\"T_b86d10c8_3fdf_11e9_b214_4c3488ea64a0row2_col0\" class=\"data row2 col0\" >-0.016</td> \n",
       "        <td id=\"T_b86d10c8_3fdf_11e9_b214_4c3488ea64a0row2_col1\" class=\"data row2 col1\" >-0.0098</td> \n",
       "        <td id=\"T_b86d10c8_3fdf_11e9_b214_4c3488ea64a0row2_col2\" class=\"data row2 col2\" >1.0</td> \n",
       "        <td id=\"T_b86d10c8_3fdf_11e9_b214_4c3488ea64a0row2_col3\" class=\"data row2 col3\" >0.0022</td> \n",
       "        <td id=\"T_b86d10c8_3fdf_11e9_b214_4c3488ea64a0row2_col4\" class=\"data row2 col4\" >-0.0022</td> \n",
       "        <td id=\"T_b86d10c8_3fdf_11e9_b214_4c3488ea64a0row2_col5\" class=\"data row2 col5\" >0.0039</td> \n",
       "    </tr>    <tr> \n",
       "        <th id=\"T_b86d10c8_3fdf_11e9_b214_4c3488ea64a0level0_row3\" class=\"row_heading level0 row3\" >Month</th> \n",
       "        <td id=\"T_b86d10c8_3fdf_11e9_b214_4c3488ea64a0row3_col0\" class=\"data row3 col0\" >0.011</td> \n",
       "        <td id=\"T_b86d10c8_3fdf_11e9_b214_4c3488ea64a0row3_col1\" class=\"data row3 col1\" >-0.007</td> \n",
       "        <td id=\"T_b86d10c8_3fdf_11e9_b214_4c3488ea64a0row3_col2\" class=\"data row3 col2\" >0.0022</td> \n",
       "        <td id=\"T_b86d10c8_3fdf_11e9_b214_4c3488ea64a0row3_col3\" class=\"data row3 col3\" >1.0</td> \n",
       "        <td id=\"T_b86d10c8_3fdf_11e9_b214_4c3488ea64a0row3_col4\" class=\"data row3 col4\" >-0.12</td> \n",
       "        <td id=\"T_b86d10c8_3fdf_11e9_b214_4c3488ea64a0row3_col5\" class=\"data row3 col5\" >0.026</td> \n",
       "    </tr>    <tr> \n",
       "        <th id=\"T_b86d10c8_3fdf_11e9_b214_4c3488ea64a0level0_row4\" class=\"row_heading level0 row4\" >Day</th> \n",
       "        <td id=\"T_b86d10c8_3fdf_11e9_b214_4c3488ea64a0row4_col0\" class=\"data row4 col0\" >0.0046</td> \n",
       "        <td id=\"T_b86d10c8_3fdf_11e9_b214_4c3488ea64a0row4_col1\" class=\"data row4 col1\" >-0.0025</td> \n",
       "        <td id=\"T_b86d10c8_3fdf_11e9_b214_4c3488ea64a0row4_col2\" class=\"data row4 col2\" >-0.0022</td> \n",
       "        <td id=\"T_b86d10c8_3fdf_11e9_b214_4c3488ea64a0row4_col3\" class=\"data row4 col3\" >-0.12</td> \n",
       "        <td id=\"T_b86d10c8_3fdf_11e9_b214_4c3488ea64a0row4_col4\" class=\"data row4 col4\" >1.0</td> \n",
       "        <td id=\"T_b86d10c8_3fdf_11e9_b214_4c3488ea64a0row4_col5\" class=\"data row4 col5\" >-0.00018</td> \n",
       "    </tr>    <tr> \n",
       "        <th id=\"T_b86d10c8_3fdf_11e9_b214_4c3488ea64a0level0_row5\" class=\"row_heading level0 row5\" >Hour</th> \n",
       "        <td id=\"T_b86d10c8_3fdf_11e9_b214_4c3488ea64a0row5_col0\" class=\"data row5 col0\" >-0.0061</td> \n",
       "        <td id=\"T_b86d10c8_3fdf_11e9_b214_4c3488ea64a0row5_col1\" class=\"data row5 col1\" >-0.065</td> \n",
       "        <td id=\"T_b86d10c8_3fdf_11e9_b214_4c3488ea64a0row5_col2\" class=\"data row5 col2\" >0.0039</td> \n",
       "        <td id=\"T_b86d10c8_3fdf_11e9_b214_4c3488ea64a0row5_col3\" class=\"data row5 col3\" >0.026</td> \n",
       "        <td id=\"T_b86d10c8_3fdf_11e9_b214_4c3488ea64a0row5_col4\" class=\"data row5 col4\" >-0.00018</td> \n",
       "        <td id=\"T_b86d10c8_3fdf_11e9_b214_4c3488ea64a0row5_col5\" class=\"data row5 col5\" >1.0</td> \n",
       "    </tr></tbody> \n",
       "</table> "
      ],
      "text/plain": [
       "<pandas.io.formats.style.Styler at 0x2089866cb70>"
      ]
     },
     "execution_count": 60,
     "metadata": {},
     "output_type": "execute_result"
    }
   ],
   "source": [
    "X.corr(method='pearson').style.format(\"{:.2}\").background_gradient(cmap=plt.get_cmap('coolwarm'), axis=1)"
   ]
  },
  {
   "cell_type": "markdown",
   "metadata": {},
   "source": [
    "#### Implementing Supervised Machine Learning Classification Algorithms"
   ]
  },
  {
   "cell_type": "code",
   "execution_count": 61,
   "metadata": {
    "colab": {},
    "colab_type": "code",
    "id": "bFudhsCluHmP"
   },
   "outputs": [],
   "source": [
    "from sklearn import metrics\n",
    "from sklearn.model_selection import train_test_split, GridSearchCV, KFold\n",
    "from sklearn.datasets import make_classification\n",
    "from sklearn.tree import DecisionTreeClassifier \n",
    "from sklearn.svm import SVC, LinearSVC\n",
    "from sklearn.neighbors import KNeighborsClassifier\n",
    "from sklearn.naive_bayes import GaussianNB\n",
    "from sklearn.linear_model import LogisticRegression, SGDClassifier\n",
    "from sklearn.ensemble import RandomForestClassifier\n",
    "from sklearn.multiclass import OneVsRestClassifier"
   ]
  },
  {
   "cell_type": "code",
   "execution_count": 62,
   "metadata": {},
   "outputs": [
    {
     "name": "stdout",
     "output_type": "stream",
     "text": [
      "[     0      1      2 ... 532089 532091 532093]\n",
      "[     5     12     13 ... 532085 532090 532092]\n",
      "0.9120739717531644\n",
      "[     0      1      3 ... 532091 532092 532093]\n",
      "[     2     19     21 ... 532074 532086 532088]\n",
      "0.9138217799453106\n",
      "[     1      2      3 ... 532091 532092 532093]\n",
      "[     0      6      8 ... 532071 532072 532089]\n",
      "0.9117262894783826\n",
      "[     0      1      2 ... 532090 532091 532092]\n",
      "[     3      7      9 ... 532081 532087 532093]\n",
      "0.9148272394967064\n",
      "[     0      2      3 ... 532090 532092 532093]\n",
      "[     1      4     22 ... 532083 532084 532091]\n",
      "0.9126839444454885\n",
      "Accuracy score of 0.9130266450238105\n",
      "[     0      1      2 ... 532089 532091 532093]\n",
      "[     5     12     13 ... 532085 532090 532092]\n",
      "0.9116417181142465\n",
      "[     0      1      3 ... 532091 532092 532093]\n",
      "[     2     19     21 ... 532074 532086 532088]\n",
      "0.9127411458480159\n",
      "[     1      2      3 ... 532091 532092 532093]\n",
      "[     0      6      8 ... 532071 532072 532089]\n",
      "0.9100160685591858\n",
      "[     0      1      2 ... 532090 532091 532092]\n",
      "[     3      7      9 ... 532081 532087 532093]\n",
      "0.9143667954030765\n",
      "[     0      2      3 ... 532090 532092 532093]\n",
      "[     1      4     22 ... 532083 532084 532091]\n",
      "0.9101843673062828\n",
      "Accuracy score of 0.9117900190461615\n"
     ]
    }
   ],
   "source": [
    "#Implementing Stochastic Gradient Descent and Logistic Regression\n",
    "numFolds = 5\n",
    "kf = KFold(numFolds, shuffle=True, random_state=0)\n",
    "\n",
    "Models = [LogisticRegression, SGDClassifier]\n",
    "params = [{}, {\"loss\": \"log\", \"penalty\": \"l2\", 'n_iter':5}]\n",
    "\n",
    "for param, Model in zip(params, Models):\n",
    "    total = 0\n",
    "    for train_index, test_index in kf.split(X):\n",
    "        print(train_index)\n",
    "        print(test_index)\n",
    "        X_train, X_test = X.iloc[train_index], X.iloc[test_index]\n",
    "        y_train, y_test = Y_list[train_index], Y_list[test_index]\n",
    "        reg = Model(**param)\n",
    "        reg.fit(X_train, y_train)\n",
    "        predictions = reg.predict(X_test)\n",
    "        accuracy = metrics.accuracy_score(y_test, predictions)\n",
    "        print(accuracy)\n",
    "        total+=accuracy\n",
    "\n",
    "    accuracy = total / numFolds\n",
    "    print (\"Accuracy score of\", accuracy)"
   ]
  },
  {
   "cell_type": "code",
   "execution_count": 62,
   "metadata": {},
   "outputs": [],
   "source": [
    "#Splitting the dataset: 75% train, 25% test\n",
    "X_train_onehot, X_test_onehot, y_train_onehot, y_test_onehot = train_test_split(X, Y_onehot, random_state = 0)\n",
    "X_train_list, X_test_list, y_train_list, y_test_list = train_test_split(X, Y_list, random_state = 0)"
   ]
  },
  {
   "cell_type": "code",
   "execution_count": 63,
   "metadata": {},
   "outputs": [
    {
     "name": "stdout",
     "output_type": "stream",
     "text": [
      "(399070, 6)\n",
      "(399070, 38)\n",
      "(133024, 6)\n",
      "(133024, 38)\n",
      "(399070, 6)\n",
      "(399070,)\n",
      "(133024, 6)\n",
      "(133024,)\n"
     ]
    }
   ],
   "source": [
    "print(X_train_onehot.shape)\n",
    "print(y_train_onehot.shape)\n",
    "print(X_test_onehot.shape)\n",
    "print(y_test_onehot.shape)\n",
    "print(X_train_list.shape)\n",
    "print(y_train_list.shape)\n",
    "print(X_test_list.shape)\n",
    "print(y_test_list.shape)"
   ]
  },
  {
   "cell_type": "code",
   "execution_count": 66,
   "metadata": {},
   "outputs": [
    {
     "name": "stdout",
     "output_type": "stream",
     "text": [
      "0.8729928433966803\n",
      "0.8135223719028145\n",
      "0.8908467644936252\n",
      "0.8679411234063026\n",
      "0.8986573851335098\n",
      "0.8868550036083714\n",
      "0.9023108611979793\n",
      "0.895537647341833\n",
      "0.9047014072648545\n",
      "0.9002059778686553\n"
     ]
    },
    {
     "data": {
      "text/plain": [
       "<matplotlib.legend.Legend at 0x1a8e5459e10>"
      ]
     },
     "execution_count": 66,
     "metadata": {},
     "output_type": "execute_result"
    },
    {
     "data": {
      "image/png": "[encoded data removed]",
      "text/plain": [
       "<Figure size 432x288 with 1 Axes>"
      ]
     },
     "metadata": {},
     "output_type": "display_data"
    }
   ],
   "source": [
    "#K-NN\n",
    "\n",
    "testaccuracy=[]\n",
    "neighbours=range(1,11)\n",
    "\n",
    "for value in neighbours:\n",
    "    knn_model = KNeighborsClassifier(n_neighbors = value)\n",
    "    knn_model.fit(X_train_onehot, y_train_onehot)\n",
    "    y_knn_pred = knn_model.predict(X_test_onehot)\n",
    "    y_classes_pred = y_knn_pred.argmax(axis=-1)\n",
    "    y_classes_test = y_test_onehot.argmax(axis=-1)\n",
    "    knn_test_accuracy = metrics.accuracy_score(y_classes_test, y_classes_pred)\n",
    "    print(knn_test_accuracy)\n",
    "    testaccuracy.append(knn_test_accuracy)\n",
    "\n",
    "plt.plot(neighbours, testaccuracy, label=\"test accuarcy\")\n",
    "plt.ylabel(\"Accuracy\")\n",
    "plt.xlabel(\"n_neighbours\")\n",
    "plt.legend()"
   ]
  },
  {
   "cell_type": "code",
   "execution_count": 64,
   "metadata": {
    "colab": {
     "base_uri": "https://localhost:8080/",
     "height": 34
    },
    "colab_type": "code",
    "id": "3Dc49GHWj3r7",
    "outputId": "ce495091-243a-4e5b-cd9f-6351a8ce7567"
   },
   "outputs": [
    {
     "name": "stdout",
     "output_type": "stream",
     "text": [
      "0.9130457661775319\n",
      "0.9130457661775319\n",
      "0.9128728650469088\n",
      "0.9143538008178975\n",
      "0.9129029348087563\n",
      "0.9138350974260284\n",
      "0.9132186673081549\n",
      "0.911106266538369\n",
      "0.9069641568438778\n",
      "0.9021755472696656\n",
      "0.897995850372865\n",
      "0.8940567115708443\n",
      "0.891681200384893\n",
      "0.8902378518162136\n",
      "0.8890876834255472\n",
      "0.8888997474140005\n"
     ]
    },
    {
     "data": {
      "text/plain": [
       "<matplotlib.legend.Legend at 0x20898740780>"
      ]
     },
     "execution_count": 64,
     "metadata": {},
     "output_type": "execute_result"
    },
    {
     "data": {
      "image/png": "[encoded data removed]",
      "text/plain": [
       "<Figure size 432x288 with 1 Axes>"
      ]
     },
     "metadata": {},
     "output_type": "display_data"
    }
   ],
   "source": [
    "#Decision Tree\n",
    "testaccuracy=[]\n",
    "depth=[1, 3, 5, 7, 9, 11, 13, 15, 17, 19, 21, 23, 25, 27, 29, 30]\n",
    "\n",
    "for value in depth:\n",
    "    decision_model = DecisionTreeClassifier(max_depth = value)\n",
    "    decision_model.fit(X_train_onehot, y_train_onehot) \n",
    "    y_decision_pred = decision_model.predict(X_test_onehot)\n",
    "    y_classes_pred = y_decision_pred.argmax(axis=-1)\n",
    "    y_classes_test = y_test_onehot.argmax(axis=-1)\n",
    "    decision_test_accuracy = metrics.accuracy_score(y_classes_test, y_classes_pred)\n",
    "    print(decision_test_accuracy)\n",
    "    testaccuracy.append(decision_test_accuracy)\n",
    "\n",
    "plt.plot(depth, testaccuracy, label=\"test accuracy\")\n",
    "plt.ylabel(\"Accuracy\")\n",
    "plt.xlabel(\"n_neighbours\")\n",
    "plt.ylim((0.87,0.92))\n",
    "plt.legend()"
   ]
  },
  {
   "cell_type": "code",
   "execution_count": 68,
   "metadata": {
    "colab": {
     "base_uri": "https://localhost:8080/",
     "height": 90
    },
    "colab_type": "code",
    "id": "ZipJKy_YmAbv",
    "outputId": "ab333c1c-9e71-4c40-eed5-de61e8ffd60e"
   },
   "outputs": [
    {
     "name": "stdout",
     "output_type": "stream",
     "text": [
      "0.8950790834736589\n"
     ]
    }
   ],
   "source": [
    "#Naive-Bayes\n",
    "nb = GaussianNB()\n",
    "nb_model = nb.fit(X_train_list, y_train_list)\n",
    "y_nb_pred = nb_model.predict_proba(X_test_list)\n",
    "y_classes_pred = y_nb_pred.argmax(axis=-1)\n",
    "nb_test_accuracy = metrics.accuracy_score(y_test_list, y_classes_pred)\n",
    "print(nb_test_accuracy)"
   ]
  },
  {
   "cell_type": "code",
   "execution_count": 71,
   "metadata": {},
   "outputs": [
    {
     "name": "stdout",
     "output_type": "stream",
     "text": [
      "0.056425908106807796\n"
     ]
    }
   ],
   "source": [
    "#Support Vector Machine\n",
    "svm_model = OneVsRestClassifier(LinearSVC(random_state=0)).fit(X_train_onehot, y_train_onehot)\n",
    "y_svm_pred = svm_model.predict(X_test_onehot) \n",
    "y_classes_pred = y_svm_pred.argmax(axis=-1)\n",
    "y_classes_test = y_test_onehot.argmax(axis=-1)\n",
    "svm_test_accuracy = metrics.accuracy_score(y_classes_test, y_classes_pred)\n",
    "print(svm_test_accuracy)"
   ]
  },
  {
   "cell_type": "code",
   "execution_count": null,
   "metadata": {},
   "outputs": [],
   "source": [
    "#Implementing Random Forest\n",
    "param_grid = { 'n_estimators': [200, 700], 'max_features': ['auto', 'sqrt', 'log2']}\n",
    "CV_rfc = GridSearchCV(estimator=rfc, param_grid=param_grid, cv= 5)\n",
    "CV_rfc.fit(X_train_list, y_train_list)\n",
    "print (CV_rfc.best_params_)"
   ]
  }
 ],
 "metadata": {
  "accelerator": "GPU",
  "colab": {
   "collapsed_sections": [],
   "name": "ecommerce.ipynb",
   "provenance": [],
   "version": "0.3.2"
  },
  "kernelspec": {
   "display_name": "Python 3",
   "language": "python",
   "name": "python3"
  },
  "language_info": {
   "codemirror_mode": {
    "name": "ipython",
    "version": 3
   },
   "file_extension": ".py",
   "mimetype": "text/x-python",
   "name": "python",
   "nbconvert_exporter": "python",
   "pygments_lexer": "ipython3",
   "version": "3.6.7"
  }
 },
 "nbformat": 4,
 "nbformat_minor": 1
}
