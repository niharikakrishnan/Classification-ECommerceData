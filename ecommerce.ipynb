{
 "cells": [
  {
   "cell_type": "markdown",
   "metadata": {
    "colab_type": "text",
    "id": "QYg_pZ9NuHkY"
   },
   "source": [
    "# Customer Classification using E-Commerce Dataset\n"
   ]
  },
  {
   "cell_type": "markdown",
   "metadata": {
    "colab_type": "text",
    "id": "J4zKjTKxuHka"
   },
   "source": [
    "## About Dataset\n",
    "This is a transnational data set which contains all the transactions occurring between 01/12/2010 and 09/12/2011 for a UK-based and registered non-store online retail.The company mainly sells unique all-occasion gifts. Many customers of the company are wholesalers."
   ]
  },
  {
   "cell_type": "markdown",
   "metadata": {
    "colab_type": "text",
    "id": "kh6nl9youHkd"
   },
   "source": [
    "## Aim\n",
    "We aim to implement various classification algorithms like SVM, Logistic Regression, Naive Bayes, Random Forest, SGD, k-NN to predict a customer's origin and to compare the performance of these supervised machine learning models."
   ]
  },
  {
   "cell_type": "markdown",
   "metadata": {
    "colab_type": "text",
    "id": "khoVbiFRuHke"
   },
   "source": [
    "### 1. Data Processing"
   ]
  },
  {
   "cell_type": "code",
   "execution_count": 39,
   "metadata": {
    "colab": {},
    "colab_type": "code",
    "id": "20hOiKQsuHkf"
   },
   "outputs": [],
   "source": [
    "#Importing necessary libraries\n",
    "import numpy as np\n",
    "import pandas as pd \n",
    "import matplotlib.pyplot as plt\n",
    "import seaborn as sns\n",
    "import sklearn\n",
    "import warnings\n",
    "import nltk\n",
    "warnings.filterwarnings('ignore')"
   ]
  },
  {
   "cell_type": "code",
   "execution_count": 40,
   "metadata": {
    "colab": {},
    "colab_type": "code",
    "id": "-yBy3NZRuHkm"
   },
   "outputs": [],
   "source": [
    "#Loading dataset\n",
    "df = pd.read_csv('data.csv', encoding = 'ISO-8859-1')"
   ]
  },
  {
   "cell_type": "code",
   "execution_count": 41,
   "metadata": {
    "colab": {},
    "colab_type": "code",
    "id": "9yLCOoyEuHks",
    "scrolled": false
   },
   "outputs": [],
   "source": [
    "#Function to display information about the dataset\n",
    "def information(df):\n",
    "    print(df.describe())\n",
    "    print(df.dtypes)\n",
    "    print(df.head())"
   ]
  },
  {
   "cell_type": "code",
   "execution_count": 42,
   "metadata": {},
   "outputs": [],
   "source": [
    "#Returns the shape of the dataset\n",
    "def shape(df):\n",
    "    print(df.shape)"
   ]
  },
  {
   "cell_type": "code",
   "execution_count": 43,
   "metadata": {
    "colab": {},
    "colab_type": "code",
    "id": "bX5Die5GXg9g"
   },
   "outputs": [],
   "source": [
    "#Creating new columns by extracting Year, Month, Day and Hour from TimeStamp\n",
    "df.InvoiceDate = pd.to_datetime(df.InvoiceDate, format=\"%m/%d/%Y %H:%M\")\n",
    "df['Year'] = df['InvoiceDate'].dt.year\n",
    "df['Month'] = df['InvoiceDate'].dt.month \n",
    "df['Day'] = df['InvoiceDate'].dt.day \n",
    "df['Hour'] = df['InvoiceDate'].dt.hour "
   ]
  },
  {
   "cell_type": "code",
   "execution_count": 44,
   "metadata": {},
   "outputs": [
    {
     "name": "stdout",
     "output_type": "stream",
     "text": [
      "(541909, 11)\n"
     ]
    }
   ],
   "source": [
    "# Drop Invoice Date since values extracted\n",
    "df.drop(columns=['InvoiceDate'], inplace=True)\n",
    "shape(df)"
   ]
  },
  {
   "cell_type": "code",
   "execution_count": 45,
   "metadata": {},
   "outputs": [
    {
     "name": "stdout",
     "output_type": "stream",
     "text": [
      "(536640, 11)\n"
     ]
    }
   ],
   "source": [
    "# Drop duplicates by keeping the first value\n",
    "df.drop_duplicates(keep='first', inplace=True)\n",
    "shape(df)"
   ]
  },
  {
   "cell_type": "code",
   "execution_count": 46,
   "metadata": {
    "colab": {
     "base_uri": "https://localhost:8080/",
     "height": 34
    },
    "colab_type": "code",
    "id": "j0Ukwc8fuHlE",
    "outputId": "61b4ab1a-17f4-4cd4-f5c2-a726e1e1a41d"
   },
   "outputs": [
    {
     "name": "stdout",
     "output_type": "stream",
     "text": [
      "(536640, 12)\n"
     ]
    }
   ],
   "source": [
    "#We now add another variable - Total Price for better EDA\n",
    "df['TotalPrice'] = df['UnitPrice'] * df['Quantity']\n",
    "shape(df)"
   ]
  },
  {
   "cell_type": "code",
   "execution_count": 47,
   "metadata": {},
   "outputs": [
    {
     "data": {
      "text/plain": [
       "CustomerID     135037\n",
       "Description      1454\n",
       "TotalPrice          0\n",
       "Hour                0\n",
       "Day                 0\n",
       "Month               0\n",
       "Year                0\n",
       "Country             0\n",
       "UnitPrice           0\n",
       "Quantity            0\n",
       "StockCode           0\n",
       "InvoiceNo           0\n",
       "dtype: int64"
      ]
     },
     "execution_count": 47,
     "metadata": {},
     "output_type": "execute_result"
    }
   ],
   "source": [
    "#Check missing values for each column\n",
    "df.isnull().sum().sort_values(ascending=False)"
   ]
  },
  {
   "cell_type": "code",
   "execution_count": 48,
   "metadata": {},
   "outputs": [
    {
     "data": {
      "text/plain": [
       "InvoiceNo      25900\n",
       "StockCode       4070\n",
       "Description     4223\n",
       "Quantity         722\n",
       "UnitPrice       1630\n",
       "CustomerID      4372\n",
       "Country           38\n",
       "Year               2\n",
       "Month             12\n",
       "Day               31\n",
       "Hour              15\n",
       "TotalPrice      6204\n",
       "dtype: int64"
      ]
     },
     "execution_count": 48,
     "metadata": {},
     "output_type": "execute_result"
    }
   ],
   "source": [
    "#Count the total number of countries - y label - multi-class classification with 37 classes\n",
    "df.nunique()"
   ]
  },
  {
   "cell_type": "markdown",
   "metadata": {
    "colab_type": "text",
    "id": "z82wfOiKuHlL"
   },
   "source": [
    "### 2. Exploratory Data Analysis"
   ]
  },
  {
   "cell_type": "markdown",
   "metadata": {
    "colab_type": "text",
    "id": "0lzZ5ERyuHlM"
   },
   "source": [
    "#### Exploring the content of variables\n",
    "\n",
    "This dataframe contains 8 variables that correspond to:\n",
    "<br><br>\n",
    "__InvoiceNo:__ Invoice number. Nominal - A 6-digit integral number uniquely assigned to each transaction. If this code starts with letter 'C', it indicates a cancellation. <br>\n",
    "__StockCode:__ Product code. Nominal - A 5-digit integral number uniquely assigned to each distinct product.<br>\n",
    "__Description:__ Product (item) name. Nominal. \n",
    "<br>\n",
    "__Quantity:__ Numeric - The quantities of each product (item) per transaction. <br>\n",
    "__InvoiceDate:__ Invice Date and time. Numeric - The day and time when each transaction was generated. <br>\n",
    "__UnitPrice:__ Unit price. Numeric - Price per unit of the product <br>\n",
    "__CustomerID:__ Customer number. Nominal - A 5-digit integral number uniquely assigned to each customer. <br>\n",
    "__Country:__ Country name. Nominal - The name of the country where each customer resides.<br>"
   ]
  },
  {
   "cell_type": "markdown",
   "metadata": {},
   "source": [
    "### Exploring each feature of the dataset"
   ]
  },
  {
   "cell_type": "markdown",
   "metadata": {},
   "source": [
    "#### 1. Correlation of Numeric features in the dataset"
   ]
  },
  {
   "cell_type": "code",
   "execution_count": 49,
   "metadata": {},
   "outputs": [
    {
     "data": {
      "text/html": [
       "<style  type=\"text/css\" >\n",
       "    #T_13b5f06e_314b_11e9_b7b0_4c3488ea64a0row0_col0 {\n",
       "            background-color:  #b40426;\n",
       "        }    #T_13b5f06e_314b_11e9_b7b0_4c3488ea64a0row0_col1 {\n",
       "            background-color:  #3d50c3;\n",
       "        }    #T_13b5f06e_314b_11e9_b7b0_4c3488ea64a0row0_col2 {\n",
       "            background-color:  #3c4ec2;\n",
       "        }    #T_13b5f06e_314b_11e9_b7b0_4c3488ea64a0row0_col3 {\n",
       "            background-color:  #3e51c5;\n",
       "        }    #T_13b5f06e_314b_11e9_b7b0_4c3488ea64a0row0_col4 {\n",
       "            background-color:  #3d50c3;\n",
       "        }    #T_13b5f06e_314b_11e9_b7b0_4c3488ea64a0row0_col5 {\n",
       "            background-color:  #3d50c3;\n",
       "        }    #T_13b5f06e_314b_11e9_b7b0_4c3488ea64a0row0_col6 {\n",
       "            background-color:  #3b4cc0;\n",
       "        }    #T_13b5f06e_314b_11e9_b7b0_4c3488ea64a0row0_col7 {\n",
       "            background-color:  #d95847;\n",
       "        }    #T_13b5f06e_314b_11e9_b7b0_4c3488ea64a0row1_col0 {\n",
       "            background-color:  #6687ed;\n",
       "        }    #T_13b5f06e_314b_11e9_b7b0_4c3488ea64a0row1_col1 {\n",
       "            background-color:  #b40426;\n",
       "        }    #T_13b5f06e_314b_11e9_b7b0_4c3488ea64a0row1_col2 {\n",
       "            background-color:  #6485ec;\n",
       "        }    #T_13b5f06e_314b_11e9_b7b0_4c3488ea64a0row1_col3 {\n",
       "            background-color:  #6485ec;\n",
       "        }    #T_13b5f06e_314b_11e9_b7b0_4c3488ea64a0row1_col4 {\n",
       "            background-color:  #6687ed;\n",
       "        }    #T_13b5f06e_314b_11e9_b7b0_4c3488ea64a0row1_col5 {\n",
       "            background-color:  #6687ed;\n",
       "        }    #T_13b5f06e_314b_11e9_b7b0_4c3488ea64a0row1_col6 {\n",
       "            background-color:  #6687ed;\n",
       "        }    #T_13b5f06e_314b_11e9_b7b0_4c3488ea64a0row1_col7 {\n",
       "            background-color:  #3b4cc0;\n",
       "        }    #T_13b5f06e_314b_11e9_b7b0_4c3488ea64a0row2_col0 {\n",
       "            background-color:  #4358cb;\n",
       "        }    #T_13b5f06e_314b_11e9_b7b0_4c3488ea64a0row2_col1 {\n",
       "            background-color:  #4358cb;\n",
       "        }    #T_13b5f06e_314b_11e9_b7b0_4c3488ea64a0row2_col2 {\n",
       "            background-color:  #b40426;\n",
       "        }    #T_13b5f06e_314b_11e9_b7b0_4c3488ea64a0row2_col3 {\n",
       "            background-color:  #3b4cc0;\n",
       "        }    #T_13b5f06e_314b_11e9_b7b0_4c3488ea64a0row2_col4 {\n",
       "            background-color:  #4e68d8;\n",
       "        }    #T_13b5f06e_314b_11e9_b7b0_4c3488ea64a0row2_col5 {\n",
       "            background-color:  #445acc;\n",
       "        }    #T_13b5f06e_314b_11e9_b7b0_4c3488ea64a0row2_col6 {\n",
       "            background-color:  #5875e1;\n",
       "        }    #T_13b5f06e_314b_11e9_b7b0_4c3488ea64a0row2_col7 {\n",
       "            background-color:  #445acc;\n",
       "        }    #T_13b5f06e_314b_11e9_b7b0_4c3488ea64a0row3_col0 {\n",
       "            background-color:  #94b6ff;\n",
       "        }    #T_13b5f06e_314b_11e9_b7b0_4c3488ea64a0row3_col1 {\n",
       "            background-color:  #93b5fe;\n",
       "        }    #T_13b5f06e_314b_11e9_b7b0_4c3488ea64a0row3_col2 {\n",
       "            background-color:  #8badfd;\n",
       "        }    #T_13b5f06e_314b_11e9_b7b0_4c3488ea64a0row3_col3 {\n",
       "            background-color:  #b40426;\n",
       "        }    #T_13b5f06e_314b_11e9_b7b0_4c3488ea64a0row3_col4 {\n",
       "            background-color:  #3b4cc0;\n",
       "        }    #T_13b5f06e_314b_11e9_b7b0_4c3488ea64a0row3_col5 {\n",
       "            background-color:  #bcd2f7;\n",
       "        }    #T_13b5f06e_314b_11e9_b7b0_4c3488ea64a0row3_col6 {\n",
       "            background-color:  #92b4fe;\n",
       "        }    #T_13b5f06e_314b_11e9_b7b0_4c3488ea64a0row3_col7 {\n",
       "            background-color:  #94b6ff;\n",
       "        }    #T_13b5f06e_314b_11e9_b7b0_4c3488ea64a0row4_col0 {\n",
       "            background-color:  #93b5fe;\n",
       "        }    #T_13b5f06e_314b_11e9_b7b0_4c3488ea64a0row4_col1 {\n",
       "            background-color:  #94b6ff;\n",
       "        }    #T_13b5f06e_314b_11e9_b7b0_4c3488ea64a0row4_col2 {\n",
       "            background-color:  #9bbcff;\n",
       "        }    #T_13b5f06e_314b_11e9_b7b0_4c3488ea64a0row4_col3 {\n",
       "            background-color:  #3b4cc0;\n",
       "        }    #T_13b5f06e_314b_11e9_b7b0_4c3488ea64a0row4_col4 {\n",
       "            background-color:  #b40426;\n",
       "        }    #T_13b5f06e_314b_11e9_b7b0_4c3488ea64a0row4_col5 {\n",
       "            background-color:  #7699f6;\n",
       "        }    #T_13b5f06e_314b_11e9_b7b0_4c3488ea64a0row4_col6 {\n",
       "            background-color:  #9abbff;\n",
       "        }    #T_13b5f06e_314b_11e9_b7b0_4c3488ea64a0row4_col7 {\n",
       "            background-color:  #94b6ff;\n",
       "        }    #T_13b5f06e_314b_11e9_b7b0_4c3488ea64a0row5_col0 {\n",
       "            background-color:  #5b7ae5;\n",
       "        }    #T_13b5f06e_314b_11e9_b7b0_4c3488ea64a0row5_col1 {\n",
       "            background-color:  #5a78e4;\n",
       "        }    #T_13b5f06e_314b_11e9_b7b0_4c3488ea64a0row5_col2 {\n",
       "            background-color:  #5a78e4;\n",
       "        }    #T_13b5f06e_314b_11e9_b7b0_4c3488ea64a0row5_col3 {\n",
       "            background-color:  #8db0fe;\n",
       "        }    #T_13b5f06e_314b_11e9_b7b0_4c3488ea64a0row5_col4 {\n",
       "            background-color:  #3b4cc0;\n",
       "        }    #T_13b5f06e_314b_11e9_b7b0_4c3488ea64a0row5_col5 {\n",
       "            background-color:  #b40426;\n",
       "        }    #T_13b5f06e_314b_11e9_b7b0_4c3488ea64a0row5_col6 {\n",
       "            background-color:  #5b7ae5;\n",
       "        }    #T_13b5f06e_314b_11e9_b7b0_4c3488ea64a0row5_col7 {\n",
       "            background-color:  #5b7ae5;\n",
       "        }    #T_13b5f06e_314b_11e9_b7b0_4c3488ea64a0row6_col0 {\n",
       "            background-color:  #3b4cc0;\n",
       "        }    #T_13b5f06e_314b_11e9_b7b0_4c3488ea64a0row6_col1 {\n",
       "            background-color:  #3e51c5;\n",
       "        }    #T_13b5f06e_314b_11e9_b7b0_4c3488ea64a0row6_col2 {\n",
       "            background-color:  #516ddb;\n",
       "        }    #T_13b5f06e_314b_11e9_b7b0_4c3488ea64a0row6_col3 {\n",
       "            background-color:  #3b4cc0;\n",
       "        }    #T_13b5f06e_314b_11e9_b7b0_4c3488ea64a0row6_col4 {\n",
       "            background-color:  #455cce;\n",
       "        }    #T_13b5f06e_314b_11e9_b7b0_4c3488ea64a0row6_col5 {\n",
       "            background-color:  #3d50c3;\n",
       "        }    #T_13b5f06e_314b_11e9_b7b0_4c3488ea64a0row6_col6 {\n",
       "            background-color:  #b40426;\n",
       "        }    #T_13b5f06e_314b_11e9_b7b0_4c3488ea64a0row6_col7 {\n",
       "            background-color:  #3b4cc0;\n",
       "        }    #T_13b5f06e_314b_11e9_b7b0_4c3488ea64a0row7_col0 {\n",
       "            background-color:  #d55042;\n",
       "        }    #T_13b5f06e_314b_11e9_b7b0_4c3488ea64a0row7_col1 {\n",
       "            background-color:  #3b4cc0;\n",
       "        }    #T_13b5f06e_314b_11e9_b7b0_4c3488ea64a0row7_col2 {\n",
       "            background-color:  #6687ed;\n",
       "        }    #T_13b5f06e_314b_11e9_b7b0_4c3488ea64a0row7_col3 {\n",
       "            background-color:  #6687ed;\n",
       "        }    #T_13b5f06e_314b_11e9_b7b0_4c3488ea64a0row7_col4 {\n",
       "            background-color:  #6687ed;\n",
       "        }    #T_13b5f06e_314b_11e9_b7b0_4c3488ea64a0row7_col5 {\n",
       "            background-color:  #6687ed;\n",
       "        }    #T_13b5f06e_314b_11e9_b7b0_4c3488ea64a0row7_col6 {\n",
       "            background-color:  #6384eb;\n",
       "        }    #T_13b5f06e_314b_11e9_b7b0_4c3488ea64a0row7_col7 {\n",
       "            background-color:  #b40426;\n",
       "        }</style>  \n",
       "<table id=\"T_13b5f06e_314b_11e9_b7b0_4c3488ea64a0\" > \n",
       "<thead>    <tr> \n",
       "        <th class=\"blank level0\" ></th> \n",
       "        <th class=\"col_heading level0 col0\" >Quantity</th> \n",
       "        <th class=\"col_heading level0 col1\" >UnitPrice</th> \n",
       "        <th class=\"col_heading level0 col2\" >CustomerID</th> \n",
       "        <th class=\"col_heading level0 col3\" >Year</th> \n",
       "        <th class=\"col_heading level0 col4\" >Month</th> \n",
       "        <th class=\"col_heading level0 col5\" >Day</th> \n",
       "        <th class=\"col_heading level0 col6\" >Hour</th> \n",
       "        <th class=\"col_heading level0 col7\" >TotalPrice</th> \n",
       "    </tr></thead> \n",
       "<tbody>    <tr> \n",
       "        <th id=\"T_13b5f06e_314b_11e9_b7b0_4c3488ea64a0level0_row0\" class=\"row_heading level0 row0\" >Quantity</th> \n",
       "        <td id=\"T_13b5f06e_314b_11e9_b7b0_4c3488ea64a0row0_col0\" class=\"data row0 col0\" >1.0</td> \n",
       "        <td id=\"T_13b5f06e_314b_11e9_b7b0_4c3488ea64a0row0_col1\" class=\"data row0 col1\" >-0.0012</td> \n",
       "        <td id=\"T_13b5f06e_314b_11e9_b7b0_4c3488ea64a0row0_col2\" class=\"data row0 col2\" >-0.0035</td> \n",
       "        <td id=\"T_13b5f06e_314b_11e9_b7b0_4c3488ea64a0row0_col3\" class=\"data row0 col3\" >0.002</td> \n",
       "        <td id=\"T_13b5f06e_314b_11e9_b7b0_4c3488ea64a0row0_col4\" class=\"data row0 col4\" >-0.001</td> \n",
       "        <td id=\"T_13b5f06e_314b_11e9_b7b0_4c3488ea64a0row0_col5\" class=\"data row0 col5\" >-4.4e-05</td> \n",
       "        <td id=\"T_13b5f06e_314b_11e9_b7b0_4c3488ea64a0row0_col6\" class=\"data row0 col6\" >-0.011</td> \n",
       "        <td id=\"T_13b5f06e_314b_11e9_b7b0_4c3488ea64a0row0_col7\" class=\"data row0 col7\" >0.89</td> \n",
       "    </tr>    <tr> \n",
       "        <th id=\"T_13b5f06e_314b_11e9_b7b0_4c3488ea64a0level0_row1\" class=\"row_heading level0 row1\" >UnitPrice</th> \n",
       "        <td id=\"T_13b5f06e_314b_11e9_b7b0_4c3488ea64a0row1_col0\" class=\"data row1 col0\" >-0.0012</td> \n",
       "        <td id=\"T_13b5f06e_314b_11e9_b7b0_4c3488ea64a0row1_col1\" class=\"data row1 col1\" >1.0</td> \n",
       "        <td id=\"T_13b5f06e_314b_11e9_b7b0_4c3488ea64a0row1_col2\" class=\"data row1 col2\" >-0.0045</td> \n",
       "        <td id=\"T_13b5f06e_314b_11e9_b7b0_4c3488ea64a0row1_col3\" class=\"data row1 col3\" >-0.0046</td> \n",
       "        <td id=\"T_13b5f06e_314b_11e9_b7b0_4c3488ea64a0row1_col4\" class=\"data row1 col4\" >-0.00044</td> \n",
       "        <td id=\"T_13b5f06e_314b_11e9_b7b0_4c3488ea64a0row1_col5\" class=\"data row1 col5\" >-0.0027</td> \n",
       "        <td id=\"T_13b5f06e_314b_11e9_b7b0_4c3488ea64a0row1_col6\" class=\"data row1 col6\" >0.0013</td> \n",
       "        <td id=\"T_13b5f06e_314b_11e9_b7b0_4c3488ea64a0row1_col7\" class=\"data row1 col7\" >-0.16</td> \n",
       "    </tr>    <tr> \n",
       "        <th id=\"T_13b5f06e_314b_11e9_b7b0_4c3488ea64a0level0_row2\" class=\"row_heading level0 row2\" >CustomerID</th> \n",
       "        <td id=\"T_13b5f06e_314b_11e9_b7b0_4c3488ea64a0row2_col0\" class=\"data row2 col0\" >-0.0035</td> \n",
       "        <td id=\"T_13b5f06e_314b_11e9_b7b0_4c3488ea64a0row2_col1\" class=\"data row2 col1\" >-0.0045</td> \n",
       "        <td id=\"T_13b5f06e_314b_11e9_b7b0_4c3488ea64a0row2_col2\" class=\"data row2 col2\" >1.0</td> \n",
       "        <td id=\"T_13b5f06e_314b_11e9_b7b0_4c3488ea64a0row2_col3\" class=\"data row2 col3\" >-0.035</td> \n",
       "        <td id=\"T_13b5f06e_314b_11e9_b7b0_4c3488ea64a0row2_col4\" class=\"data row2 col4\" >0.03</td> \n",
       "        <td id=\"T_13b5f06e_314b_11e9_b7b0_4c3488ea64a0row2_col5\" class=\"data row2 col5\" >-0.0019</td> \n",
       "        <td id=\"T_13b5f06e_314b_11e9_b7b0_4c3488ea64a0row2_col6\" class=\"data row2 col6\" >0.064</td> \n",
       "        <td id=\"T_13b5f06e_314b_11e9_b7b0_4c3488ea64a0row2_col7\" class=\"data row2 col7\" >-0.0021</td> \n",
       "    </tr>    <tr> \n",
       "        <th id=\"T_13b5f06e_314b_11e9_b7b0_4c3488ea64a0level0_row3\" class=\"row_heading level0 row3\" >Year</th> \n",
       "        <td id=\"T_13b5f06e_314b_11e9_b7b0_4c3488ea64a0row3_col0\" class=\"data row3 col0\" >0.002</td> \n",
       "        <td id=\"T_13b5f06e_314b_11e9_b7b0_4c3488ea64a0row3_col1\" class=\"data row3 col1\" >-0.0046</td> \n",
       "        <td id=\"T_13b5f06e_314b_11e9_b7b0_4c3488ea64a0row3_col2\" class=\"data row3 col2\" >-0.035</td> \n",
       "        <td id=\"T_13b5f06e_314b_11e9_b7b0_4c3488ea64a0row3_col3\" class=\"data row3 col3\" >1.0</td> \n",
       "        <td id=\"T_13b5f06e_314b_11e9_b7b0_4c3488ea64a0row3_col4\" class=\"data row3 col4\" >-0.37</td> \n",
       "        <td id=\"T_13b5f06e_314b_11e9_b7b0_4c3488ea64a0row3_col5\" class=\"data row3 col5\" >0.16</td> \n",
       "        <td id=\"T_13b5f06e_314b_11e9_b7b0_4c3488ea64a0row3_col6\" class=\"data row3 col6\" >-0.011</td> \n",
       "        <td id=\"T_13b5f06e_314b_11e9_b7b0_4c3488ea64a0row3_col7\" class=\"data row3 col7\" >0.00026</td> \n",
       "    </tr>    <tr> \n",
       "        <th id=\"T_13b5f06e_314b_11e9_b7b0_4c3488ea64a0level0_row4\" class=\"row_heading level0 row4\" >Month</th> \n",
       "        <td id=\"T_13b5f06e_314b_11e9_b7b0_4c3488ea64a0row4_col0\" class=\"data row4 col0\" >-0.001</td> \n",
       "        <td id=\"T_13b5f06e_314b_11e9_b7b0_4c3488ea64a0row4_col1\" class=\"data row4 col1\" >-0.00044</td> \n",
       "        <td id=\"T_13b5f06e_314b_11e9_b7b0_4c3488ea64a0row4_col2\" class=\"data row4 col2\" >0.03</td> \n",
       "        <td id=\"T_13b5f06e_314b_11e9_b7b0_4c3488ea64a0row4_col3\" class=\"data row4 col3\" >-0.37</td> \n",
       "        <td id=\"T_13b5f06e_314b_11e9_b7b0_4c3488ea64a0row4_col4\" class=\"data row4 col4\" >1.0</td> \n",
       "        <td id=\"T_13b5f06e_314b_11e9_b7b0_4c3488ea64a0row4_col5\" class=\"data row4 col5\" >-0.12</td> \n",
       "        <td id=\"T_13b5f06e_314b_11e9_b7b0_4c3488ea64a0row4_col6\" class=\"data row4 col6\" >0.026</td> \n",
       "        <td id=\"T_13b5f06e_314b_11e9_b7b0_4c3488ea64a0row4_col7\" class=\"data row4 col7\" >0.00024</td> \n",
       "    </tr>    <tr> \n",
       "        <th id=\"T_13b5f06e_314b_11e9_b7b0_4c3488ea64a0level0_row5\" class=\"row_heading level0 row5\" >Day</th> \n",
       "        <td id=\"T_13b5f06e_314b_11e9_b7b0_4c3488ea64a0row5_col0\" class=\"data row5 col0\" >-4.4e-05</td> \n",
       "        <td id=\"T_13b5f06e_314b_11e9_b7b0_4c3488ea64a0row5_col1\" class=\"data row5 col1\" >-0.0027</td> \n",
       "        <td id=\"T_13b5f06e_314b_11e9_b7b0_4c3488ea64a0row5_col2\" class=\"data row5 col2\" >-0.0019</td> \n",
       "        <td id=\"T_13b5f06e_314b_11e9_b7b0_4c3488ea64a0row5_col3\" class=\"data row5 col3\" >0.16</td> \n",
       "        <td id=\"T_13b5f06e_314b_11e9_b7b0_4c3488ea64a0row5_col4\" class=\"data row5 col4\" >-0.12</td> \n",
       "        <td id=\"T_13b5f06e_314b_11e9_b7b0_4c3488ea64a0row5_col5\" class=\"data row5 col5\" >1.0</td> \n",
       "        <td id=\"T_13b5f06e_314b_11e9_b7b0_4c3488ea64a0row5_col6\" class=\"data row5 col6\" >-0.00015</td> \n",
       "        <td id=\"T_13b5f06e_314b_11e9_b7b0_4c3488ea64a0row5_col7\" class=\"data row5 col7\" >-0.00028</td> \n",
       "    </tr>    <tr> \n",
       "        <th id=\"T_13b5f06e_314b_11e9_b7b0_4c3488ea64a0level0_row6\" class=\"row_heading level0 row6\" >Hour</th> \n",
       "        <td id=\"T_13b5f06e_314b_11e9_b7b0_4c3488ea64a0row6_col0\" class=\"data row6 col0\" >-0.011</td> \n",
       "        <td id=\"T_13b5f06e_314b_11e9_b7b0_4c3488ea64a0row6_col1\" class=\"data row6 col1\" >0.0013</td> \n",
       "        <td id=\"T_13b5f06e_314b_11e9_b7b0_4c3488ea64a0row6_col2\" class=\"data row6 col2\" >0.064</td> \n",
       "        <td id=\"T_13b5f06e_314b_11e9_b7b0_4c3488ea64a0row6_col3\" class=\"data row6 col3\" >-0.011</td> \n",
       "        <td id=\"T_13b5f06e_314b_11e9_b7b0_4c3488ea64a0row6_col4\" class=\"data row6 col4\" >0.026</td> \n",
       "        <td id=\"T_13b5f06e_314b_11e9_b7b0_4c3488ea64a0row6_col5\" class=\"data row6 col5\" >-0.00015</td> \n",
       "        <td id=\"T_13b5f06e_314b_11e9_b7b0_4c3488ea64a0row6_col6\" class=\"data row6 col6\" >1.0</td> \n",
       "        <td id=\"T_13b5f06e_314b_11e9_b7b0_4c3488ea64a0row6_col7\" class=\"data row6 col7\" >-0.0091</td> \n",
       "    </tr>    <tr> \n",
       "        <th id=\"T_13b5f06e_314b_11e9_b7b0_4c3488ea64a0level0_row7\" class=\"row_heading level0 row7\" >TotalPrice</th> \n",
       "        <td id=\"T_13b5f06e_314b_11e9_b7b0_4c3488ea64a0row7_col0\" class=\"data row7 col0\" >0.89</td> \n",
       "        <td id=\"T_13b5f06e_314b_11e9_b7b0_4c3488ea64a0row7_col1\" class=\"data row7 col1\" >-0.16</td> \n",
       "        <td id=\"T_13b5f06e_314b_11e9_b7b0_4c3488ea64a0row7_col2\" class=\"data row7 col2\" >-0.0021</td> \n",
       "        <td id=\"T_13b5f06e_314b_11e9_b7b0_4c3488ea64a0row7_col3\" class=\"data row7 col3\" >0.00026</td> \n",
       "        <td id=\"T_13b5f06e_314b_11e9_b7b0_4c3488ea64a0row7_col4\" class=\"data row7 col4\" >0.00024</td> \n",
       "        <td id=\"T_13b5f06e_314b_11e9_b7b0_4c3488ea64a0row7_col5\" class=\"data row7 col5\" >-0.00028</td> \n",
       "        <td id=\"T_13b5f06e_314b_11e9_b7b0_4c3488ea64a0row7_col6\" class=\"data row7 col6\" >-0.0091</td> \n",
       "        <td id=\"T_13b5f06e_314b_11e9_b7b0_4c3488ea64a0row7_col7\" class=\"data row7 col7\" >1.0</td> \n",
       "    </tr></tbody> \n",
       "</table> "
      ],
      "text/plain": [
       "<pandas.io.formats.style.Styler at 0x2298366cc50>"
      ]
     },
     "execution_count": 49,
     "metadata": {},
     "output_type": "execute_result"
    }
   ],
   "source": [
    "df.corr(method='pearson').style.format(\"{:.2}\").background_gradient(cmap=plt.get_cmap('coolwarm'), axis=1)"
   ]
  },
  {
   "cell_type": "markdown",
   "metadata": {},
   "source": [
    "#### 2. Exploratory Data Analysis with respect to each country"
   ]
  },
  {
   "cell_type": "code",
   "execution_count": 50,
   "metadata": {},
   "outputs": [
    {
     "data": {
      "image/png": "[encoded data removed]",
      "text/plain": [
       "<Figure size 432x288 with 1 Axes>"
      ]
     },
     "metadata": {
      "needs_background": "light"
     },
     "output_type": "display_data"
    }
   ],
   "source": [
    "# Number of orders made by each country\n",
    "# Inference - People from United Kingdom purchase the most \n",
    "total_orders=df.groupby('Country')['Quantity'].count().sort_values(ascending=False)\n",
    "total_orders.plot('bar')\n",
    "plt.xlabel('Country')\n",
    "plt.ylabel('Number of Orders')\n",
    "plt.title('Number of Orders per Country', fontsize=16)\n",
    "plt.show()"
   ]
  },
  {
   "cell_type": "code",
   "execution_count": 51,
   "metadata": {},
   "outputs": [
    {
     "data": {
      "image/png": "[encoded data removed]",
      "text/plain": [
       "<Figure size 1080x864 with 1 Axes>"
      ]
     },
     "metadata": {
      "needs_background": "light"
     },
     "output_type": "display_data"
    }
   ],
   "source": [
    "# No.of Invoices per country\n",
    "No_invoice_per_country = df.groupby([\"Country\"])[\"InvoiceNo\"].count().sort_values()\n",
    "No_invoice_per_country.plot(kind='barh', figsize=(15,12))\n",
    "plt.title(\"Number of Invoices per Country\")\n",
    "plt.show()"
   ]
  },
  {
   "cell_type": "code",
   "execution_count": 52,
   "metadata": {},
   "outputs": [
    {
     "data": {
      "image/png": "[encoded data removed]",
      "text/plain": [
       "<Figure size 1080x864 with 1 Axes>"
      ]
     },
     "metadata": {
      "needs_background": "light"
     },
     "output_type": "display_data"
    }
   ],
   "source": [
    "#Best Buyer with respect to country\n",
    "best_buyer = df.groupby([\"Country\", \"InvoiceNo\"])[\"TotalPrice\"].sum().reset_index().groupby([\"Country\"])[\"TotalPrice\"].mean().sort_values()\n",
    "best_buyer.plot(kind='barh', figsize=(15,12))\n",
    "plt.title(\"Average Basket Price per Country\")\n",
    "plt.show()"
   ]
  },
  {
   "cell_type": "markdown",
   "metadata": {},
   "source": [
    "#### 3. Exploratory Data Analysis with respect to Quantity"
   ]
  },
  {
   "cell_type": "code",
   "execution_count": 53,
   "metadata": {},
   "outputs": [
    {
     "data": {
      "text/plain": [
       "<matplotlib.axes._subplots.AxesSubplot at 0x2298367b358>"
      ]
     },
     "execution_count": 53,
     "metadata": {},
     "output_type": "execute_result"
    },
    {
     "data": {
      "image/png": "[encoded data removed]",
      "text/plain": [
       "<Figure size 432x288 with 1 Axes>"
      ]
     },
     "metadata": {
      "needs_background": "light"
     },
     "output_type": "display_data"
    }
   ],
   "source": [
    "sns.violinplot(df.Quantity)"
   ]
  },
  {
   "cell_type": "code",
   "execution_count": 54,
   "metadata": {},
   "outputs": [
    {
     "data": {
      "image/png": "[encoded data removed]",
      "text/plain": [
       "<Figure size 1080x1080 with 4 Axes>"
      ]
     },
     "metadata": {
      "needs_background": "light"
     },
     "output_type": "display_data"
    }
   ],
   "source": [
    "#visualising Quantity\n",
    "\n",
    "plt.figure(figsize=(15,15))\n",
    "\n",
    "x=df.Quantity.value_counts().reset_index().as_matrix().transpose()\n",
    "plt.subplot(411) #1st digit #rows, 2nd digit #columns, 3rd digit plot number\n",
    "plt.scatter(x[0], x[1], marker='o')\n",
    "plt.title('Quantity plots',fontsize=15)\n",
    "plt.ylabel('Occurrence',fontsize=12)\n",
    "\n",
    "x=df[df['Quantity'].abs()<20000].Quantity.value_counts().reset_index().as_matrix().transpose()\n",
    "plt.subplot(412)\n",
    "plt.scatter(x[0], x[1], marker='o')\n",
    "plt.ylabel('Occurrence')\n",
    "\n",
    "#Based on 99th percentile\n",
    "x=df[df['Quantity'].abs()<100].Quantity.value_counts().reset_index().as_matrix().transpose()\n",
    "plt.subplot(413)\n",
    "plt.scatter(x[0], x[1], marker='o')\n",
    "plt.ylabel('Occurrence',fontsize=12)\n",
    "\n",
    "#Based on 3rd quartile\n",
    "x=df[df['Quantity'].abs()<10].Quantity.value_counts().reset_index().as_matrix().transpose()\n",
    "plt.subplot(414)\n",
    "plt.scatter(x[0], x[1], marker='o')\n",
    "plt.xlabel('Quantity',fontsize=12)\n",
    "plt.ylabel('Occurrence',fontsize=12)\n",
    "\n",
    "plt.show()"
   ]
  },
  {
   "cell_type": "code",
   "execution_count": 55,
   "metadata": {},
   "outputs": [
    {
     "data": {
      "text/html": [
       "<div>\n",
       "<style scoped>\n",
       "    .dataframe tbody tr th:only-of-type {\n",
       "        vertical-align: middle;\n",
       "    }\n",
       "\n",
       "    .dataframe tbody tr th {\n",
       "        vertical-align: top;\n",
       "    }\n",
       "\n",
       "    .dataframe thead th {\n",
       "        text-align: right;\n",
       "    }\n",
       "</style>\n",
       "<table border=\"1\" class=\"dataframe\">\n",
       "  <thead>\n",
       "    <tr style=\"text-align: right;\">\n",
       "      <th></th>\n",
       "      <th>InvoiceNo</th>\n",
       "      <th>StockCode</th>\n",
       "      <th>Description</th>\n",
       "      <th>Quantity</th>\n",
       "      <th>UnitPrice</th>\n",
       "      <th>CustomerID</th>\n",
       "      <th>Country</th>\n",
       "      <th>Year</th>\n",
       "      <th>Month</th>\n",
       "      <th>Day</th>\n",
       "      <th>Hour</th>\n",
       "      <th>TotalPrice</th>\n",
       "    </tr>\n",
       "  </thead>\n",
       "  <tbody>\n",
       "    <tr>\n",
       "      <th>61619</th>\n",
       "      <td>541431</td>\n",
       "      <td>23166</td>\n",
       "      <td>MEDIUM CERAMIC TOP STORAGE JAR</td>\n",
       "      <td>74215</td>\n",
       "      <td>1.04</td>\n",
       "      <td>12346.0</td>\n",
       "      <td>United Kingdom</td>\n",
       "      <td>2011</td>\n",
       "      <td>1</td>\n",
       "      <td>18</td>\n",
       "      <td>10</td>\n",
       "      <td>77183.6</td>\n",
       "    </tr>\n",
       "    <tr>\n",
       "      <th>61624</th>\n",
       "      <td>C541433</td>\n",
       "      <td>23166</td>\n",
       "      <td>MEDIUM CERAMIC TOP STORAGE JAR</td>\n",
       "      <td>-74215</td>\n",
       "      <td>1.04</td>\n",
       "      <td>12346.0</td>\n",
       "      <td>United Kingdom</td>\n",
       "      <td>2011</td>\n",
       "      <td>1</td>\n",
       "      <td>18</td>\n",
       "      <td>10</td>\n",
       "      <td>-77183.6</td>\n",
       "    </tr>\n",
       "    <tr>\n",
       "      <th>540421</th>\n",
       "      <td>581483</td>\n",
       "      <td>23843</td>\n",
       "      <td>PAPER CRAFT , LITTLE BIRDIE</td>\n",
       "      <td>80995</td>\n",
       "      <td>2.08</td>\n",
       "      <td>16446.0</td>\n",
       "      <td>United Kingdom</td>\n",
       "      <td>2011</td>\n",
       "      <td>12</td>\n",
       "      <td>9</td>\n",
       "      <td>9</td>\n",
       "      <td>168469.6</td>\n",
       "    </tr>\n",
       "    <tr>\n",
       "      <th>540422</th>\n",
       "      <td>C581484</td>\n",
       "      <td>23843</td>\n",
       "      <td>PAPER CRAFT , LITTLE BIRDIE</td>\n",
       "      <td>-80995</td>\n",
       "      <td>2.08</td>\n",
       "      <td>16446.0</td>\n",
       "      <td>United Kingdom</td>\n",
       "      <td>2011</td>\n",
       "      <td>12</td>\n",
       "      <td>9</td>\n",
       "      <td>9</td>\n",
       "      <td>-168469.6</td>\n",
       "    </tr>\n",
       "  </tbody>\n",
       "</table>\n",
       "</div>"
      ],
      "text/plain": [
       "       InvoiceNo StockCode                     Description  Quantity  \\\n",
       "61619     541431     23166  MEDIUM CERAMIC TOP STORAGE JAR     74215   \n",
       "61624    C541433     23166  MEDIUM CERAMIC TOP STORAGE JAR    -74215   \n",
       "540421    581483     23843     PAPER CRAFT , LITTLE BIRDIE     80995   \n",
       "540422   C581484     23843     PAPER CRAFT , LITTLE BIRDIE    -80995   \n",
       "\n",
       "        UnitPrice  CustomerID         Country  Year  Month  Day  Hour  \\\n",
       "61619        1.04     12346.0  United Kingdom  2011      1   18    10   \n",
       "61624        1.04     12346.0  United Kingdom  2011      1   18    10   \n",
       "540421       2.08     16446.0  United Kingdom  2011     12    9     9   \n",
       "540422       2.08     16446.0  United Kingdom  2011     12    9     9   \n",
       "\n",
       "        TotalPrice  \n",
       "61619      77183.6  \n",
       "61624     -77183.6  \n",
       "540421    168469.6  \n",
       "540422   -168469.6  "
      ]
     },
     "execution_count": 55,
     "metadata": {},
     "output_type": "execute_result"
    }
   ],
   "source": [
    "#Identifying what is the equivalent counterpart while taking a look at the outliers and deleting them from dataset\n",
    "df[df['Quantity'].abs()>50000]"
   ]
  },
  {
   "cell_type": "code",
   "execution_count": 56,
   "metadata": {},
   "outputs": [],
   "source": [
    "#Removing the outliers\n",
    "df.drop([61619, 61624, 540421, 540422], inplace=True)"
   ]
  },
  {
   "cell_type": "code",
   "execution_count": 57,
   "metadata": {},
   "outputs": [
    {
     "data": {
      "text/html": [
       "<div>\n",
       "<style scoped>\n",
       "    .dataframe tbody tr th:only-of-type {\n",
       "        vertical-align: middle;\n",
       "    }\n",
       "\n",
       "    .dataframe tbody tr th {\n",
       "        vertical-align: top;\n",
       "    }\n",
       "\n",
       "    .dataframe thead th {\n",
       "        text-align: right;\n",
       "    }\n",
       "</style>\n",
       "<table border=\"1\" class=\"dataframe\">\n",
       "  <thead>\n",
       "    <tr style=\"text-align: right;\">\n",
       "      <th></th>\n",
       "      <th>InvoiceNo</th>\n",
       "      <th>StockCode</th>\n",
       "      <th>Description</th>\n",
       "      <th>Quantity</th>\n",
       "      <th>UnitPrice</th>\n",
       "      <th>CustomerID</th>\n",
       "      <th>Country</th>\n",
       "      <th>Year</th>\n",
       "      <th>Month</th>\n",
       "      <th>Day</th>\n",
       "      <th>Hour</th>\n",
       "      <th>TotalPrice</th>\n",
       "    </tr>\n",
       "  </thead>\n",
       "  <tbody>\n",
       "    <tr>\n",
       "      <th>4287</th>\n",
       "      <td>C536757</td>\n",
       "      <td>84347</td>\n",
       "      <td>ROTATING SILVER ANGELS T-LIGHT HLDR</td>\n",
       "      <td>-9360</td>\n",
       "      <td>0.03</td>\n",
       "      <td>15838.0</td>\n",
       "      <td>United Kingdom</td>\n",
       "      <td>2010</td>\n",
       "      <td>12</td>\n",
       "      <td>2</td>\n",
       "      <td>14</td>\n",
       "      <td>-280.8</td>\n",
       "    </tr>\n",
       "    <tr>\n",
       "      <th>74614</th>\n",
       "      <td>542504</td>\n",
       "      <td>37413</td>\n",
       "      <td>NaN</td>\n",
       "      <td>5568</td>\n",
       "      <td>0.00</td>\n",
       "      <td>NaN</td>\n",
       "      <td>United Kingdom</td>\n",
       "      <td>2011</td>\n",
       "      <td>1</td>\n",
       "      <td>28</td>\n",
       "      <td>12</td>\n",
       "      <td>0.0</td>\n",
       "    </tr>\n",
       "    <tr>\n",
       "      <th>115818</th>\n",
       "      <td>546152</td>\n",
       "      <td>72140F</td>\n",
       "      <td>throw away</td>\n",
       "      <td>-5368</td>\n",
       "      <td>0.00</td>\n",
       "      <td>NaN</td>\n",
       "      <td>United Kingdom</td>\n",
       "      <td>2011</td>\n",
       "      <td>3</td>\n",
       "      <td>9</td>\n",
       "      <td>17</td>\n",
       "      <td>-0.0</td>\n",
       "    </tr>\n",
       "    <tr>\n",
       "      <th>225528</th>\n",
       "      <td>556687</td>\n",
       "      <td>23003</td>\n",
       "      <td>Printing smudges/thrown away</td>\n",
       "      <td>-9058</td>\n",
       "      <td>0.00</td>\n",
       "      <td>NaN</td>\n",
       "      <td>United Kingdom</td>\n",
       "      <td>2011</td>\n",
       "      <td>6</td>\n",
       "      <td>14</td>\n",
       "      <td>10</td>\n",
       "      <td>-0.0</td>\n",
       "    </tr>\n",
       "    <tr>\n",
       "      <th>225529</th>\n",
       "      <td>556690</td>\n",
       "      <td>23005</td>\n",
       "      <td>printing smudges/thrown away</td>\n",
       "      <td>-9600</td>\n",
       "      <td>0.00</td>\n",
       "      <td>NaN</td>\n",
       "      <td>United Kingdom</td>\n",
       "      <td>2011</td>\n",
       "      <td>6</td>\n",
       "      <td>14</td>\n",
       "      <td>10</td>\n",
       "      <td>-0.0</td>\n",
       "    </tr>\n",
       "    <tr>\n",
       "      <th>225530</th>\n",
       "      <td>556691</td>\n",
       "      <td>23005</td>\n",
       "      <td>printing smudges/thrown away</td>\n",
       "      <td>-9600</td>\n",
       "      <td>0.00</td>\n",
       "      <td>NaN</td>\n",
       "      <td>United Kingdom</td>\n",
       "      <td>2011</td>\n",
       "      <td>6</td>\n",
       "      <td>14</td>\n",
       "      <td>10</td>\n",
       "      <td>-0.0</td>\n",
       "    </tr>\n",
       "    <tr>\n",
       "      <th>502122</th>\n",
       "      <td>578841</td>\n",
       "      <td>84826</td>\n",
       "      <td>ASSTD DESIGN 3D PAPER STICKERS</td>\n",
       "      <td>12540</td>\n",
       "      <td>0.00</td>\n",
       "      <td>13256.0</td>\n",
       "      <td>United Kingdom</td>\n",
       "      <td>2011</td>\n",
       "      <td>11</td>\n",
       "      <td>25</td>\n",
       "      <td>15</td>\n",
       "      <td>0.0</td>\n",
       "    </tr>\n",
       "  </tbody>\n",
       "</table>\n",
       "</div>"
      ],
      "text/plain": [
       "       InvoiceNo StockCode                          Description  Quantity  \\\n",
       "4287     C536757     84347  ROTATING SILVER ANGELS T-LIGHT HLDR     -9360   \n",
       "74614     542504     37413                                  NaN      5568   \n",
       "115818    546152    72140F                           throw away     -5368   \n",
       "225528    556687     23003         Printing smudges/thrown away     -9058   \n",
       "225529    556690     23005         printing smudges/thrown away     -9600   \n",
       "225530    556691     23005         printing smudges/thrown away     -9600   \n",
       "502122    578841     84826       ASSTD DESIGN 3D PAPER STICKERS     12540   \n",
       "\n",
       "        UnitPrice  CustomerID         Country  Year  Month  Day  Hour  \\\n",
       "4287         0.03     15838.0  United Kingdom  2010     12    2    14   \n",
       "74614        0.00         NaN  United Kingdom  2011      1   28    12   \n",
       "115818       0.00         NaN  United Kingdom  2011      3    9    17   \n",
       "225528       0.00         NaN  United Kingdom  2011      6   14    10   \n",
       "225529       0.00         NaN  United Kingdom  2011      6   14    10   \n",
       "225530       0.00         NaN  United Kingdom  2011      6   14    10   \n",
       "502122       0.00     13256.0  United Kingdom  2011     11   25    15   \n",
       "\n",
       "        TotalPrice  \n",
       "4287        -280.8  \n",
       "74614          0.0  \n",
       "115818        -0.0  \n",
       "225528        -0.0  \n",
       "225529        -0.0  \n",
       "225530        -0.0  \n",
       "502122         0.0  "
      ]
     },
     "execution_count": 57,
     "metadata": {},
     "output_type": "execute_result"
    }
   ],
   "source": [
    "#Identifying what is the equivalent counterpart while taking a look at the outliers.\n",
    "df[(df['Quantity'].abs()>5000) & (df['Quantity'].abs()<50000)]"
   ]
  },
  {
   "cell_type": "code",
   "execution_count": 58,
   "metadata": {},
   "outputs": [],
   "source": [
    "#Removing the outliers\n",
    "df.drop([4287, 74614, 115818, 225528, 225529, 225530, 502122], inplace=True)"
   ]
  },
  {
   "cell_type": "code",
   "execution_count": 59,
   "metadata": {},
   "outputs": [
    {
     "data": {
      "text/html": [
       "<div>\n",
       "<style scoped>\n",
       "    .dataframe tbody tr th:only-of-type {\n",
       "        vertical-align: middle;\n",
       "    }\n",
       "\n",
       "    .dataframe tbody tr th {\n",
       "        vertical-align: top;\n",
       "    }\n",
       "\n",
       "    .dataframe thead th {\n",
       "        text-align: right;\n",
       "    }\n",
       "</style>\n",
       "<table border=\"1\" class=\"dataframe\">\n",
       "  <thead>\n",
       "    <tr style=\"text-align: right;\">\n",
       "      <th></th>\n",
       "      <th>InvoiceNo</th>\n",
       "      <th>StockCode</th>\n",
       "      <th>Description</th>\n",
       "      <th>Quantity</th>\n",
       "      <th>UnitPrice</th>\n",
       "      <th>CustomerID</th>\n",
       "      <th>Country</th>\n",
       "      <th>Year</th>\n",
       "      <th>Month</th>\n",
       "      <th>Day</th>\n",
       "      <th>Hour</th>\n",
       "      <th>TotalPrice</th>\n",
       "    </tr>\n",
       "  </thead>\n",
       "  <tbody>\n",
       "    <tr>\n",
       "      <th>141</th>\n",
       "      <td>C536379</td>\n",
       "      <td>D</td>\n",
       "      <td>Discount</td>\n",
       "      <td>-1</td>\n",
       "      <td>27.50</td>\n",
       "      <td>14527.0</td>\n",
       "      <td>United Kingdom</td>\n",
       "      <td>2010</td>\n",
       "      <td>12</td>\n",
       "      <td>1</td>\n",
       "      <td>9</td>\n",
       "      <td>-27.50</td>\n",
       "    </tr>\n",
       "    <tr>\n",
       "      <th>154</th>\n",
       "      <td>C536383</td>\n",
       "      <td>35004C</td>\n",
       "      <td>SET OF 3 COLOURED  FLYING DUCKS</td>\n",
       "      <td>-1</td>\n",
       "      <td>4.65</td>\n",
       "      <td>15311.0</td>\n",
       "      <td>United Kingdom</td>\n",
       "      <td>2010</td>\n",
       "      <td>12</td>\n",
       "      <td>1</td>\n",
       "      <td>9</td>\n",
       "      <td>-4.65</td>\n",
       "    </tr>\n",
       "    <tr>\n",
       "      <th>235</th>\n",
       "      <td>C536391</td>\n",
       "      <td>22556</td>\n",
       "      <td>PLASTERS IN TIN CIRCUS PARADE</td>\n",
       "      <td>-12</td>\n",
       "      <td>1.65</td>\n",
       "      <td>17548.0</td>\n",
       "      <td>United Kingdom</td>\n",
       "      <td>2010</td>\n",
       "      <td>12</td>\n",
       "      <td>1</td>\n",
       "      <td>10</td>\n",
       "      <td>-19.80</td>\n",
       "    </tr>\n",
       "    <tr>\n",
       "      <th>236</th>\n",
       "      <td>C536391</td>\n",
       "      <td>21984</td>\n",
       "      <td>PACK OF 12 PINK PAISLEY TISSUES</td>\n",
       "      <td>-24</td>\n",
       "      <td>0.29</td>\n",
       "      <td>17548.0</td>\n",
       "      <td>United Kingdom</td>\n",
       "      <td>2010</td>\n",
       "      <td>12</td>\n",
       "      <td>1</td>\n",
       "      <td>10</td>\n",
       "      <td>-6.96</td>\n",
       "    </tr>\n",
       "    <tr>\n",
       "      <th>237</th>\n",
       "      <td>C536391</td>\n",
       "      <td>21983</td>\n",
       "      <td>PACK OF 12 BLUE PAISLEY TISSUES</td>\n",
       "      <td>-24</td>\n",
       "      <td>0.29</td>\n",
       "      <td>17548.0</td>\n",
       "      <td>United Kingdom</td>\n",
       "      <td>2010</td>\n",
       "      <td>12</td>\n",
       "      <td>1</td>\n",
       "      <td>10</td>\n",
       "      <td>-6.96</td>\n",
       "    </tr>\n",
       "    <tr>\n",
       "      <th>238</th>\n",
       "      <td>C536391</td>\n",
       "      <td>21980</td>\n",
       "      <td>PACK OF 12 RED RETROSPOT TISSUES</td>\n",
       "      <td>-24</td>\n",
       "      <td>0.29</td>\n",
       "      <td>17548.0</td>\n",
       "      <td>United Kingdom</td>\n",
       "      <td>2010</td>\n",
       "      <td>12</td>\n",
       "      <td>1</td>\n",
       "      <td>10</td>\n",
       "      <td>-6.96</td>\n",
       "    </tr>\n",
       "    <tr>\n",
       "      <th>239</th>\n",
       "      <td>C536391</td>\n",
       "      <td>21484</td>\n",
       "      <td>CHICK GREY HOT WATER BOTTLE</td>\n",
       "      <td>-12</td>\n",
       "      <td>3.45</td>\n",
       "      <td>17548.0</td>\n",
       "      <td>United Kingdom</td>\n",
       "      <td>2010</td>\n",
       "      <td>12</td>\n",
       "      <td>1</td>\n",
       "      <td>10</td>\n",
       "      <td>-41.40</td>\n",
       "    </tr>\n",
       "    <tr>\n",
       "      <th>240</th>\n",
       "      <td>C536391</td>\n",
       "      <td>22557</td>\n",
       "      <td>PLASTERS IN TIN VINTAGE PAISLEY</td>\n",
       "      <td>-12</td>\n",
       "      <td>1.65</td>\n",
       "      <td>17548.0</td>\n",
       "      <td>United Kingdom</td>\n",
       "      <td>2010</td>\n",
       "      <td>12</td>\n",
       "      <td>1</td>\n",
       "      <td>10</td>\n",
       "      <td>-19.80</td>\n",
       "    </tr>\n",
       "    <tr>\n",
       "      <th>241</th>\n",
       "      <td>C536391</td>\n",
       "      <td>22553</td>\n",
       "      <td>PLASTERS IN TIN SKULLS</td>\n",
       "      <td>-24</td>\n",
       "      <td>1.65</td>\n",
       "      <td>17548.0</td>\n",
       "      <td>United Kingdom</td>\n",
       "      <td>2010</td>\n",
       "      <td>12</td>\n",
       "      <td>1</td>\n",
       "      <td>10</td>\n",
       "      <td>-39.60</td>\n",
       "    </tr>\n",
       "    <tr>\n",
       "      <th>939</th>\n",
       "      <td>C536506</td>\n",
       "      <td>22960</td>\n",
       "      <td>JAM MAKING SET WITH JARS</td>\n",
       "      <td>-6</td>\n",
       "      <td>4.25</td>\n",
       "      <td>17897.0</td>\n",
       "      <td>United Kingdom</td>\n",
       "      <td>2010</td>\n",
       "      <td>12</td>\n",
       "      <td>1</td>\n",
       "      <td>12</td>\n",
       "      <td>-25.50</td>\n",
       "    </tr>\n",
       "  </tbody>\n",
       "</table>\n",
       "</div>"
      ],
      "text/plain": [
       "    InvoiceNo StockCode                        Description  Quantity  \\\n",
       "141   C536379         D                           Discount        -1   \n",
       "154   C536383    35004C    SET OF 3 COLOURED  FLYING DUCKS        -1   \n",
       "235   C536391     22556     PLASTERS IN TIN CIRCUS PARADE        -12   \n",
       "236   C536391     21984   PACK OF 12 PINK PAISLEY TISSUES        -24   \n",
       "237   C536391     21983   PACK OF 12 BLUE PAISLEY TISSUES        -24   \n",
       "238   C536391     21980  PACK OF 12 RED RETROSPOT TISSUES        -24   \n",
       "239   C536391     21484        CHICK GREY HOT WATER BOTTLE       -12   \n",
       "240   C536391     22557   PLASTERS IN TIN VINTAGE PAISLEY        -12   \n",
       "241   C536391     22553             PLASTERS IN TIN SKULLS       -24   \n",
       "939   C536506     22960           JAM MAKING SET WITH JARS        -6   \n",
       "\n",
       "     UnitPrice  CustomerID         Country  Year  Month  Day  Hour  TotalPrice  \n",
       "141      27.50     14527.0  United Kingdom  2010     12    1     9      -27.50  \n",
       "154       4.65     15311.0  United Kingdom  2010     12    1     9       -4.65  \n",
       "235       1.65     17548.0  United Kingdom  2010     12    1    10      -19.80  \n",
       "236       0.29     17548.0  United Kingdom  2010     12    1    10       -6.96  \n",
       "237       0.29     17548.0  United Kingdom  2010     12    1    10       -6.96  \n",
       "238       0.29     17548.0  United Kingdom  2010     12    1    10       -6.96  \n",
       "239       3.45     17548.0  United Kingdom  2010     12    1    10      -41.40  \n",
       "240       1.65     17548.0  United Kingdom  2010     12    1    10      -19.80  \n",
       "241       1.65     17548.0  United Kingdom  2010     12    1    10      -39.60  \n",
       "939       4.25     17897.0  United Kingdom  2010     12    1    12      -25.50  "
      ]
     },
     "execution_count": 59,
     "metadata": {},
     "output_type": "execute_result"
    }
   ],
   "source": [
    "#Now lets check what is in our negative quantity\n",
    "df[df[\"Quantity\"]<=0].head(10)"
   ]
  },
  {
   "cell_type": "markdown",
   "metadata": {},
   "source": [
    "#### 4. Exploratory Data Analysis with respect to Unit Price (to find outliers)"
   ]
  },
  {
   "cell_type": "code",
   "execution_count": 60,
   "metadata": {},
   "outputs": [
    {
     "data": {
      "text/plain": [
       "<matplotlib.axes._subplots.AxesSubplot at 0x229836a3438>"
      ]
     },
     "execution_count": 60,
     "metadata": {},
     "output_type": "execute_result"
    },
    {
     "data": {
      "image/png": "[encoded data removed]",
      "text/plain": [
       "<Figure size 432x288 with 1 Axes>"
      ]
     },
     "metadata": {
      "needs_background": "light"
     },
     "output_type": "display_data"
    }
   ],
   "source": [
    "sns.violinplot(df.UnitPrice)"
   ]
  },
  {
   "cell_type": "code",
   "execution_count": 61,
   "metadata": {},
   "outputs": [
    {
     "data": {
      "image/png": "[encoded data removed]",
      "text/plain": [
       "<Figure size 1080x720 with 4 Axes>"
      ]
     },
     "metadata": {
      "needs_background": "light"
     },
     "output_type": "display_data"
    }
   ],
   "source": [
    "#plot price to see outliers\n",
    "\n",
    "plt.figure(figsize=(15,10))\n",
    "\n",
    "x=df.UnitPrice.value_counts().reset_index().as_matrix().transpose()\n",
    "plt.subplot(411)\n",
    "plt.scatter(x[0], x[1], marker='o')\n",
    "plt.title('UnitPrice plots',fontsize=15)\n",
    "plt.ylabel('Occurrence',fontsize=12)\n",
    "\n",
    "x=df[df['UnitPrice'].abs()<20000].UnitPrice.value_counts().reset_index().as_matrix().transpose()\n",
    "plt.subplot(412)\n",
    "plt.scatter(x[0], x[1], marker='o')\n",
    "plt.ylabel('Occurrence',fontsize=12)\n",
    "\n",
    "#99th-percentile\n",
    "x=df[df['UnitPrice'].abs()<18].UnitPrice.value_counts().reset_index().as_matrix().transpose()\n",
    "plt.subplot(413)\n",
    "plt.scatter(x[0], x[1], marker='o')\n",
    "plt.ylabel('Occurrence',fontsize=12)\n",
    "\n",
    "#3rd quartile\n",
    "x=df[df['UnitPrice'].abs()<4.13].UnitPrice.value_counts().reset_index().as_matrix().transpose()\n",
    "plt.subplot(414)\n",
    "plt.scatter(x[0], x[1], marker='o')\n",
    "plt.ylabel('Occurrence',fontsize=12)\n",
    "plt.xlabel('UnitPrice',fontsize=12)\n",
    "\n",
    "plt.show()"
   ]
  },
  {
   "cell_type": "code",
   "execution_count": 62,
   "metadata": {},
   "outputs": [
    {
     "data": {
      "text/html": [
       "<div>\n",
       "<style scoped>\n",
       "    .dataframe tbody tr th:only-of-type {\n",
       "        vertical-align: middle;\n",
       "    }\n",
       "\n",
       "    .dataframe tbody tr th {\n",
       "        vertical-align: top;\n",
       "    }\n",
       "\n",
       "    .dataframe thead th {\n",
       "        text-align: right;\n",
       "    }\n",
       "</style>\n",
       "<table border=\"1\" class=\"dataframe\">\n",
       "  <thead>\n",
       "    <tr style=\"text-align: right;\">\n",
       "      <th></th>\n",
       "      <th>InvoiceNo</th>\n",
       "      <th>StockCode</th>\n",
       "      <th>Description</th>\n",
       "      <th>Quantity</th>\n",
       "      <th>UnitPrice</th>\n",
       "      <th>CustomerID</th>\n",
       "      <th>Country</th>\n",
       "      <th>Year</th>\n",
       "      <th>Month</th>\n",
       "      <th>Day</th>\n",
       "      <th>Hour</th>\n",
       "      <th>TotalPrice</th>\n",
       "    </tr>\n",
       "  </thead>\n",
       "  <tbody>\n",
       "    <tr>\n",
       "      <th>299983</th>\n",
       "      <td>A563186</td>\n",
       "      <td>B</td>\n",
       "      <td>Adjust bad debt</td>\n",
       "      <td>1</td>\n",
       "      <td>-11062.06</td>\n",
       "      <td>NaN</td>\n",
       "      <td>United Kingdom</td>\n",
       "      <td>2011</td>\n",
       "      <td>8</td>\n",
       "      <td>12</td>\n",
       "      <td>14</td>\n",
       "      <td>-11062.06</td>\n",
       "    </tr>\n",
       "    <tr>\n",
       "      <th>299984</th>\n",
       "      <td>A563187</td>\n",
       "      <td>B</td>\n",
       "      <td>Adjust bad debt</td>\n",
       "      <td>1</td>\n",
       "      <td>-11062.06</td>\n",
       "      <td>NaN</td>\n",
       "      <td>United Kingdom</td>\n",
       "      <td>2011</td>\n",
       "      <td>8</td>\n",
       "      <td>12</td>\n",
       "      <td>14</td>\n",
       "      <td>-11062.06</td>\n",
       "    </tr>\n",
       "  </tbody>\n",
       "</table>\n",
       "</div>"
      ],
      "text/plain": [
       "       InvoiceNo StockCode      Description  Quantity  UnitPrice  CustomerID  \\\n",
       "299983   A563186         B  Adjust bad debt         1  -11062.06         NaN   \n",
       "299984   A563187         B  Adjust bad debt         1  -11062.06         NaN   \n",
       "\n",
       "               Country  Year  Month  Day  Hour  TotalPrice  \n",
       "299983  United Kingdom  2011      8   12    14   -11062.06  \n",
       "299984  United Kingdom  2011      8   12    14   -11062.06  "
      ]
     },
     "execution_count": 62,
     "metadata": {},
     "output_type": "execute_result"
    }
   ],
   "source": [
    "df[df['UnitPrice']<0]"
   ]
  },
  {
   "cell_type": "code",
   "execution_count": 63,
   "metadata": {},
   "outputs": [],
   "source": [
    "df.drop([299983, 299984], inplace=True)"
   ]
  },
  {
   "cell_type": "code",
   "execution_count": 64,
   "metadata": {},
   "outputs": [
    {
     "name": "stdout",
     "output_type": "stream",
     "text": [
      "The number of rows with negative Quantity: 10580\n",
      "The number of rows with negative UnitPrice: 0\n"
     ]
    }
   ],
   "source": [
    "#We count the negative value of of quantity and Unit Price\n",
    "print(\"The number of rows with negative Quantity:\",sum(n < 0 for n in df.Quantity))\n",
    "print(\"The number of rows with negative UnitPrice:\",sum(n < 0 for n in df.UnitPrice))"
   ]
  },
  {
   "cell_type": "markdown",
   "metadata": {},
   "source": [
    "#### 5. Exploratory Data Analysis with respect to Customers and products"
   ]
  },
  {
   "cell_type": "code",
   "execution_count": 65,
   "metadata": {},
   "outputs": [
    {
     "data": {
      "text/html": [
       "<div>\n",
       "<style scoped>\n",
       "    .dataframe tbody tr th:only-of-type {\n",
       "        vertical-align: middle;\n",
       "    }\n",
       "\n",
       "    .dataframe tbody tr th {\n",
       "        vertical-align: top;\n",
       "    }\n",
       "\n",
       "    .dataframe thead th {\n",
       "        text-align: right;\n",
       "    }\n",
       "</style>\n",
       "<table border=\"1\" class=\"dataframe\">\n",
       "  <thead>\n",
       "    <tr style=\"text-align: right;\">\n",
       "      <th></th>\n",
       "      <th>products</th>\n",
       "      <th>transactions</th>\n",
       "      <th>customers</th>\n",
       "    </tr>\n",
       "  </thead>\n",
       "  <tbody>\n",
       "    <tr>\n",
       "      <th>quantity</th>\n",
       "      <td>4068</td>\n",
       "      <td>25887</td>\n",
       "      <td>4370</td>\n",
       "    </tr>\n",
       "  </tbody>\n",
       "</table>\n",
       "</div>"
      ],
      "text/plain": [
       "          products  transactions  customers\n",
       "quantity      4068         25887       4370"
      ]
     },
     "execution_count": 65,
     "metadata": {},
     "output_type": "execute_result"
    }
   ],
   "source": [
    "pd.DataFrame([{'products': len(df['StockCode'].value_counts()),    \n",
    "               'transactions': len(df['InvoiceNo'].value_counts()),\n",
    "               'customers': len(df['CustomerID'].value_counts()),  \n",
    "              }], columns = ['products', 'transactions', 'customers'], index = ['quantity'])"
   ]
  },
  {
   "cell_type": "markdown",
   "metadata": {},
   "source": [
    "It can be seen that the data concern 4370 users and that they bought 4068 different products. The total number of transactions carried out is more than 21000"
   ]
  },
  {
   "cell_type": "code",
   "execution_count": 66,
   "metadata": {},
   "outputs": [
    {
     "data": {
      "text/html": [
       "<div>\n",
       "<style scoped>\n",
       "    .dataframe tbody tr th:only-of-type {\n",
       "        vertical-align: middle;\n",
       "    }\n",
       "\n",
       "    .dataframe tbody tr th {\n",
       "        vertical-align: top;\n",
       "    }\n",
       "\n",
       "    .dataframe thead th {\n",
       "        text-align: right;\n",
       "    }\n",
       "</style>\n",
       "<table border=\"1\" class=\"dataframe\">\n",
       "  <thead>\n",
       "    <tr style=\"text-align: right;\">\n",
       "      <th></th>\n",
       "      <th>CustomerID</th>\n",
       "      <th>Quantity</th>\n",
       "    </tr>\n",
       "  </thead>\n",
       "  <tbody>\n",
       "    <tr>\n",
       "      <th>4040</th>\n",
       "      <td>17841.0</td>\n",
       "      <td>7812</td>\n",
       "    </tr>\n",
       "    <tr>\n",
       "      <th>1893</th>\n",
       "      <td>14911.0</td>\n",
       "      <td>5898</td>\n",
       "    </tr>\n",
       "    <tr>\n",
       "      <th>1298</th>\n",
       "      <td>14096.0</td>\n",
       "      <td>5128</td>\n",
       "    </tr>\n",
       "    <tr>\n",
       "      <th>329</th>\n",
       "      <td>12748.0</td>\n",
       "      <td>4459</td>\n",
       "    </tr>\n",
       "    <tr>\n",
       "      <th>1672</th>\n",
       "      <td>14606.0</td>\n",
       "      <td>2759</td>\n",
       "    </tr>\n",
       "    <tr>\n",
       "      <th>2190</th>\n",
       "      <td>15311.0</td>\n",
       "      <td>2478</td>\n",
       "    </tr>\n",
       "    <tr>\n",
       "      <th>1701</th>\n",
       "      <td>14646.0</td>\n",
       "      <td>2085</td>\n",
       "    </tr>\n",
       "    <tr>\n",
       "      <th>567</th>\n",
       "      <td>13089.0</td>\n",
       "      <td>1853</td>\n",
       "    </tr>\n",
       "    <tr>\n",
       "      <th>696</th>\n",
       "      <td>13263.0</td>\n",
       "      <td>1667</td>\n",
       "    </tr>\n",
       "    <tr>\n",
       "      <th>1445</th>\n",
       "      <td>14298.0</td>\n",
       "      <td>1640</td>\n",
       "    </tr>\n",
       "    <tr>\n",
       "      <th>1978</th>\n",
       "      <td>15039.0</td>\n",
       "      <td>1483</td>\n",
       "    </tr>\n",
       "    <tr>\n",
       "      <th>1343</th>\n",
       "      <td>14156.0</td>\n",
       "      <td>1415</td>\n",
       "    </tr>\n",
       "    <tr>\n",
       "      <th>4243</th>\n",
       "      <td>18118.0</td>\n",
       "      <td>1268</td>\n",
       "    </tr>\n",
       "    <tr>\n",
       "      <th>1346</th>\n",
       "      <td>14159.0</td>\n",
       "      <td>1183</td>\n",
       "    </tr>\n",
       "    <tr>\n",
       "      <th>1811</th>\n",
       "      <td>14796.0</td>\n",
       "      <td>1156</td>\n",
       "    </tr>\n",
       "    <tr>\n",
       "      <th>1951</th>\n",
       "      <td>15005.0</td>\n",
       "      <td>1152</td>\n",
       "    </tr>\n",
       "    <tr>\n",
       "      <th>2723</th>\n",
       "      <td>16033.0</td>\n",
       "      <td>1143</td>\n",
       "    </tr>\n",
       "    <tr>\n",
       "      <th>1271</th>\n",
       "      <td>14056.0</td>\n",
       "      <td>1110</td>\n",
       "    </tr>\n",
       "    <tr>\n",
       "      <th>3799</th>\n",
       "      <td>17511.0</td>\n",
       "      <td>1076</td>\n",
       "    </tr>\n",
       "    <tr>\n",
       "      <th>1792</th>\n",
       "      <td>14769.0</td>\n",
       "      <td>1065</td>\n",
       "    </tr>\n",
       "  </tbody>\n",
       "</table>\n",
       "</div>"
      ],
      "text/plain": [
       "      CustomerID  Quantity\n",
       "4040     17841.0      7812\n",
       "1893     14911.0      5898\n",
       "1298     14096.0      5128\n",
       "329      12748.0      4459\n",
       "1672     14606.0      2759\n",
       "2190     15311.0      2478\n",
       "1701     14646.0      2085\n",
       "567      13089.0      1853\n",
       "696      13263.0      1667\n",
       "1445     14298.0      1640\n",
       "1978     15039.0      1483\n",
       "1343     14156.0      1415\n",
       "4243     18118.0      1268\n",
       "1346     14159.0      1183\n",
       "1811     14796.0      1156\n",
       "1951     15005.0      1152\n",
       "2723     16033.0      1143\n",
       "1271     14056.0      1110\n",
       "3799     17511.0      1076\n",
       "1792     14769.0      1065"
      ]
     },
     "execution_count": 66,
     "metadata": {},
     "output_type": "execute_result"
    }
   ],
   "source": [
    "#Number of products purchased per customer\n",
    "temp = df.groupby(by=['CustomerID'], as_index=False)['Quantity'].count()\n",
    "nb_products_per_basket = temp.rename(columns = {'InvoiceNo':'Quantity'})\n",
    "nb_products_per_basket.sort_values('Quantity', ascending=False)[:20]"
   ]
  },
  {
   "cell_type": "code",
   "execution_count": 67,
   "metadata": {},
   "outputs": [
    {
     "data": {
      "image/png": "[encoded data removed]",
      "text/plain": [
       "<Figure size 1008x1008 with 4 Axes>"
      ]
     },
     "metadata": {
      "needs_background": "light"
     },
     "output_type": "display_data"
    }
   ],
   "source": [
    "#Top selling products\n",
    "grps = np.array([['Month', 'Week'], ['Hour', 'Minute']])\n",
    "ctry = np.array([['United Kingdom', 'Japan'], ['Germany', 'France']])\n",
    "fltr = ['DOT', 'POST', 'M']\n",
    "top_n = 10\n",
    "\n",
    "fig, ax = plt.subplots(grps.shape[0],grps.shape[1], figsize=(14, 14))\n",
    "\n",
    "for i in range(0, ctry.shape[0]):\n",
    "    for j in range(0, ctry.shape[1]):\n",
    "        grp_data = df[df['Country'] == ctry[i,j]]\n",
    "        grp_data = grp_data[~grp_data['StockCode'].isin(fltr)]\n",
    "        grp_data = grp_data[['StockCode', 'TotalPrice']].groupby(['StockCode']).sum().sort_values(by='TotalPrice', ascending=False)        \n",
    "        grp_data = grp_data[0:top_n]    \n",
    "        grp_data = grp_data.reset_index()\n",
    "        \n",
    "        ax[i,j].barh(y=grp_data.index, width='TotalPrice', data=grp_data)\n",
    "        ax[i,j].invert_yaxis()\n",
    "        ax[i,j].set_yticks(range(0,top_n))\n",
    "        ax[i,j].set_yticklabels(grp_data['StockCode'].tolist())\n",
    "        ax[i,j].set_ylabel('Stock code')        \n",
    "        ax[i,j].set_xlabel('TotalPrice')                \n",
    "        ax[i,j].set_title('Top 10 ' + ctry[i,j])        \n",
    "        \n",
    "plt.show()"
   ]
  },
  {
   "cell_type": "markdown",
   "metadata": {},
   "source": [
    "#### 6. Exploratory Data Analysis for Stock Code"
   ]
  },
  {
   "cell_type": "code",
   "execution_count": 68,
   "metadata": {},
   "outputs": [
    {
     "data": {
      "text/plain": [
       "array(['POST', 'D', 'C2', 'DOT', 'M', 'BANK CHARGES', 'S', 'AMAZONFEE',\n",
       "       'DCGS0076', 'DCGS0003', 'gift_0001_40', 'DCGS0070', 'm',\n",
       "       'gift_0001_50', 'gift_0001_30', 'gift_0001_20', 'DCGS0055',\n",
       "       'DCGS0072', 'DCGS0074', 'DCGS0069', 'DCGS0057', 'DCGSSBOY',\n",
       "       'DCGSSGIRL', 'gift_0001_10', 'PADS', 'DCGS0004', 'DCGS0073',\n",
       "       'DCGS0071', 'DCGS0068', 'DCGS0067', 'DCGS0066P', 'B', 'CRUK'],\n",
       "      dtype=object)"
      ]
     },
     "execution_count": 68,
     "metadata": {},
     "output_type": "execute_result"
    }
   ],
   "source": [
    "list_special_codes = df[df['StockCode'].str.contains('^[a-zA-Z]+', regex=True)]['StockCode'].unique()\n",
    "list_special_codes"
   ]
  },
  {
   "cell_type": "code",
   "execution_count": 69,
   "metadata": {},
   "outputs": [
    {
     "data": {
      "text/html": [
       "<div>\n",
       "<style scoped>\n",
       "    .dataframe tbody tr th:only-of-type {\n",
       "        vertical-align: middle;\n",
       "    }\n",
       "\n",
       "    .dataframe tbody tr th {\n",
       "        vertical-align: top;\n",
       "    }\n",
       "\n",
       "    .dataframe thead th {\n",
       "        text-align: right;\n",
       "    }\n",
       "</style>\n",
       "<table border=\"1\" class=\"dataframe\">\n",
       "  <thead>\n",
       "    <tr style=\"text-align: right;\">\n",
       "      <th></th>\n",
       "      <th>StockCode</th>\n",
       "      <th>Description</th>\n",
       "    </tr>\n",
       "  </thead>\n",
       "  <tbody>\n",
       "    <tr>\n",
       "      <th>173</th>\n",
       "      <td>20713</td>\n",
       "      <td>8</td>\n",
       "    </tr>\n",
       "    <tr>\n",
       "      <th>429</th>\n",
       "      <td>21181</td>\n",
       "      <td>5</td>\n",
       "    </tr>\n",
       "    <tr>\n",
       "      <th>711</th>\n",
       "      <td>21621</td>\n",
       "      <td>4</td>\n",
       "    </tr>\n",
       "    <tr>\n",
       "      <th>864</th>\n",
       "      <td>21823</td>\n",
       "      <td>4</td>\n",
       "    </tr>\n",
       "    <tr>\n",
       "      <th>870</th>\n",
       "      <td>21829</td>\n",
       "      <td>4</td>\n",
       "    </tr>\n",
       "    <tr>\n",
       "      <th>871</th>\n",
       "      <td>21830</td>\n",
       "      <td>6</td>\n",
       "    </tr>\n",
       "    <tr>\n",
       "      <th>1078</th>\n",
       "      <td>22121</td>\n",
       "      <td>4</td>\n",
       "    </tr>\n",
       "    <tr>\n",
       "      <th>1421</th>\n",
       "      <td>22501</td>\n",
       "      <td>4</td>\n",
       "    </tr>\n",
       "    <tr>\n",
       "      <th>1630</th>\n",
       "      <td>22719</td>\n",
       "      <td>4</td>\n",
       "    </tr>\n",
       "    <tr>\n",
       "      <th>1644</th>\n",
       "      <td>22734</td>\n",
       "      <td>4</td>\n",
       "    </tr>\n",
       "    <tr>\n",
       "      <th>1719</th>\n",
       "      <td>22812</td>\n",
       "      <td>4</td>\n",
       "    </tr>\n",
       "    <tr>\n",
       "      <th>1743</th>\n",
       "      <td>22837</td>\n",
       "      <td>4</td>\n",
       "    </tr>\n",
       "    <tr>\n",
       "      <th>1830</th>\n",
       "      <td>22927</td>\n",
       "      <td>4</td>\n",
       "    </tr>\n",
       "    <tr>\n",
       "      <th>1982</th>\n",
       "      <td>23084</td>\n",
       "      <td>7</td>\n",
       "    </tr>\n",
       "    <tr>\n",
       "      <th>2012</th>\n",
       "      <td>23118</td>\n",
       "      <td>4</td>\n",
       "    </tr>\n",
       "    <tr>\n",
       "      <th>2025</th>\n",
       "      <td>23131</td>\n",
       "      <td>5</td>\n",
       "    </tr>\n",
       "    <tr>\n",
       "      <th>2089</th>\n",
       "      <td>23196</td>\n",
       "      <td>4</td>\n",
       "    </tr>\n",
       "    <tr>\n",
       "      <th>2096</th>\n",
       "      <td>23203</td>\n",
       "      <td>4</td>\n",
       "    </tr>\n",
       "    <tr>\n",
       "      <th>2102</th>\n",
       "      <td>23209</td>\n",
       "      <td>4</td>\n",
       "    </tr>\n",
       "    <tr>\n",
       "      <th>2129</th>\n",
       "      <td>23236</td>\n",
       "      <td>4</td>\n",
       "    </tr>\n",
       "    <tr>\n",
       "      <th>2224</th>\n",
       "      <td>23343</td>\n",
       "      <td>5</td>\n",
       "    </tr>\n",
       "    <tr>\n",
       "      <th>2599</th>\n",
       "      <td>35965</td>\n",
       "      <td>4</td>\n",
       "    </tr>\n",
       "    <tr>\n",
       "      <th>2608</th>\n",
       "      <td>37327</td>\n",
       "      <td>4</td>\n",
       "    </tr>\n",
       "    <tr>\n",
       "      <th>2680</th>\n",
       "      <td>46000S</td>\n",
       "      <td>4</td>\n",
       "    </tr>\n",
       "    <tr>\n",
       "      <th>2854</th>\n",
       "      <td>72802A</td>\n",
       "      <td>4</td>\n",
       "    </tr>\n",
       "    <tr>\n",
       "      <th>2862</th>\n",
       "      <td>72807A</td>\n",
       "      <td>5</td>\n",
       "    </tr>\n",
       "    <tr>\n",
       "      <th>2863</th>\n",
       "      <td>72807B</td>\n",
       "      <td>4</td>\n",
       "    </tr>\n",
       "    <tr>\n",
       "      <th>2864</th>\n",
       "      <td>72807C</td>\n",
       "      <td>4</td>\n",
       "    </tr>\n",
       "    <tr>\n",
       "      <th>2893</th>\n",
       "      <td>79030G</td>\n",
       "      <td>4</td>\n",
       "    </tr>\n",
       "    <tr>\n",
       "      <th>2964</th>\n",
       "      <td>82583</td>\n",
       "      <td>4</td>\n",
       "    </tr>\n",
       "    <tr>\n",
       "      <th>2966</th>\n",
       "      <td>82600</td>\n",
       "      <td>4</td>\n",
       "    </tr>\n",
       "    <tr>\n",
       "      <th>3534</th>\n",
       "      <td>85123A</td>\n",
       "      <td>4</td>\n",
       "    </tr>\n",
       "    <tr>\n",
       "      <th>3588</th>\n",
       "      <td>85172</td>\n",
       "      <td>5</td>\n",
       "    </tr>\n",
       "    <tr>\n",
       "      <th>3591</th>\n",
       "      <td>85175</td>\n",
       "      <td>6</td>\n",
       "    </tr>\n",
       "    <tr>\n",
       "      <th>3605</th>\n",
       "      <td>85185B</td>\n",
       "      <td>4</td>\n",
       "    </tr>\n",
       "  </tbody>\n",
       "</table>\n",
       "</div>"
      ],
      "text/plain": [
       "     StockCode  Description\n",
       "173      20713            8\n",
       "429      21181            5\n",
       "711      21621            4\n",
       "864      21823            4\n",
       "870      21829            4\n",
       "871      21830            6\n",
       "1078     22121            4\n",
       "1421     22501            4\n",
       "1630     22719            4\n",
       "1644     22734            4\n",
       "1719     22812            4\n",
       "1743     22837            4\n",
       "1830     22927            4\n",
       "1982     23084            7\n",
       "2012     23118            4\n",
       "2025     23131            5\n",
       "2089     23196            4\n",
       "2096     23203            4\n",
       "2102     23209            4\n",
       "2129     23236            4\n",
       "2224     23343            5\n",
       "2599     35965            4\n",
       "2608     37327            4\n",
       "2680    46000S            4\n",
       "2854    72802A            4\n",
       "2862    72807A            5\n",
       "2863    72807B            4\n",
       "2864    72807C            4\n",
       "2893    79030G            4\n",
       "2964     82583            4\n",
       "2966     82600            4\n",
       "3534    85123A            4\n",
       "3588     85172            5\n",
       "3591     85175            6\n",
       "3605    85185B            4"
      ]
     },
     "execution_count": 69,
     "metadata": {},
     "output_type": "execute_result"
    }
   ],
   "source": [
    "#To check if the stock code is actually unique or not\n",
    "df_stk=df.groupby(\"StockCode\")['Description'].nunique().reset_index()\n",
    "df_stockcode=df_stk[df_stk[\"Description\"]>3]\n",
    "df_stockcode"
   ]
  },
  {
   "cell_type": "code",
   "execution_count": 70,
   "metadata": {},
   "outputs": [
    {
     "data": {
      "image/png": "[encoded data removed]",
      "text/plain": [
       "<Figure size 864x648 with 2 Axes>"
      ]
     },
     "metadata": {
      "needs_background": "light"
     },
     "output_type": "display_data"
    }
   ],
   "source": [
    "stock_top = df[['TotalPrice', 'StockCode']].groupby(['StockCode']).sum().reset_index().sort_values(by='TotalPrice', ascending=False)['StockCode'][0:5]\n",
    "\n",
    "fig, ax = plt.subplots(2,1, figsize=(12, 9))\n",
    "\n",
    "for c in stock_top:\n",
    "    sales = df[df['StockCode'] == c]\n",
    "    sales = df[['Year', 'Month', 'TotalPrice']].groupby(['Year', 'Month']).sum().reset_index()\n",
    "    sales['Day'] = 1\n",
    "    sales['Date'] = pd.to_datetime(sales[['Year', 'Month', 'Day']])\n",
    "    sales = sales.set_index('Date')\n",
    "    sales = sales.drop(['Year', 'Month', 'Day'], axis=1)\n",
    "    ax[0].plot(sales['TotalPrice'], label=c)\n",
    "    ax[0].legend()\n",
    "    ax[0].set_title('Monthly revenue')            \n",
    "\n",
    "for c in stock_top:\n",
    "    sales = df[df['StockCode'] == c]\n",
    "    sales = sales[['Year', 'Month', 'TotalPrice']].groupby(['Year', 'Month']).sum().reset_index()\n",
    "    sales['Day'] = 1\n",
    "    sales['Date'] = pd.to_datetime(sales[['Year', 'Month', 'Day']])\n",
    "    sales = sales.set_index('Date')\n",
    "    sales = sales.drop(['Year', 'Month', 'Day'], axis=1)\n",
    "    ax[1].plot(sales.cumsum(), label=c)\n",
    "    ax[1].legend()\n",
    "    ax[1].set_title('Cumulative revenue')       "
   ]
  },
  {
   "cell_type": "markdown",
   "metadata": {},
   "source": [
    "#### 7. Exploratory Data Analysis of Time Stamp"
   ]
  },
  {
   "cell_type": "code",
   "execution_count": 71,
   "metadata": {},
   "outputs": [
    {
     "data": {
      "image/png": "[encoded data removed]",
      "text/plain": [
       "<Figure size 1008x504 with 1 Axes>"
      ]
     },
     "metadata": {
      "needs_background": "light"
     },
     "output_type": "display_data"
    }
   ],
   "source": [
    "#\n",
    "df.pivot_table(index=df['Month'],values='InvoiceNo',aggfunc=np.size).plot(kind='bar',\n",
    "        figsize=(14,7),title='Frequency of orders(Monthly)');"
   ]
  },
  {
   "cell_type": "code",
   "execution_count": 72,
   "metadata": {},
   "outputs": [
    {
     "data": {
      "image/png": "[encoded data removed]",
      "text/plain": [
       "<Figure size 1008x504 with 1 Axes>"
      ]
     },
     "metadata": {
      "needs_background": "light"
     },
     "output_type": "display_data"
    }
   ],
   "source": [
    "df.pivot_table(index=df['Day'],values='InvoiceNo',aggfunc=np.size).plot(kind='bar',\n",
    "        figsize=(14,7),title='Frequency of orders(Monthly)');"
   ]
  },
  {
   "cell_type": "code",
   "execution_count": 73,
   "metadata": {},
   "outputs": [
    {
     "data": {
      "image/png": "[encoded data removed]",
      "text/plain": [
       "<Figure size 1008x504 with 1 Axes>"
      ]
     },
     "metadata": {
      "needs_background": "light"
     },
     "output_type": "display_data"
    }
   ],
   "source": [
    "df.pivot_table(index=df['Hour'],values='InvoiceNo',aggfunc=np.size).plot(kind='bar',\n",
    "        figsize=(14,7),title='Frequency of orders(Monthly)');"
   ]
  },
  {
   "cell_type": "code",
   "execution_count": 74,
   "metadata": {},
   "outputs": [
    {
     "data": {
      "image/png": "[encoded data removed]",
      "text/plain": [
       "<Figure size 864x432 with 2 Axes>"
      ]
     },
     "metadata": {
      "needs_background": "light"
     },
     "output_type": "display_data"
    }
   ],
   "source": [
    "week_vs_hour = df.pivot_table(index=df['Day'],values='InvoiceNo',columns=df['Hour'],aggfunc=np.size)\n",
    "plt.figure(figsize=(12,6))\n",
    "sns.heatmap(week_vs_hour,cmap='coolwarm',linecolor='white',linewidths=0.01);"
   ]
  },
  {
   "cell_type": "markdown",
   "metadata": {},
   "source": [
    "#### 8. Exploratory Data Analysis for Description"
   ]
  },
  {
   "cell_type": "code",
   "execution_count": 75,
   "metadata": {},
   "outputs": [],
   "source": [
    "# Handle incorrect Description\n",
    "df = df[df[\"Description\"].str.startswith(\"?\") == False]\n",
    "df = df[df[\"Description\"].str.isupper() == True]\n",
    "df = df[df[\"Description\"].str.contains(\"LOST\") == False]"
   ]
  },
  {
   "cell_type": "code",
   "execution_count": 76,
   "metadata": {},
   "outputs": [
    {
     "data": {
      "image/png": "[encoded data removed]",
      "text/plain": [
       "<Figure size 432x288 with 1 Axes>"
      ]
     },
     "metadata": {
      "needs_background": "light"
     },
     "output_type": "display_data"
    }
   ],
   "source": [
    "# Find the maximum purchased products\n",
    "# Inference - White Hanging Herat T-Light Holder\n",
    "high_descrip = df.groupby('Description')['Quantity'].count().sort_values(ascending=False)[:10]\n",
    "high_descrip.plot('bar')\n",
    "plt.xlabel('Description')\n",
    "plt.ylabel('Total Quantity')\n",
    "plt.title('Items most purchased', fontsize=16)\n",
    "plt.show()"
   ]
  },
  {
   "cell_type": "markdown",
   "metadata": {},
   "source": [
    "#### 8. Exploratory Data Analysis on Null Customer and imputing data"
   ]
  },
  {
   "cell_type": "code",
   "execution_count": 77,
   "metadata": {
    "colab": {
     "base_uri": "https://localhost:8080/",
     "height": 330
    },
    "colab_type": "code",
    "id": "ewhiDy-zr5Qg",
    "outputId": "52427f4d-f47b-4624-fdde-ff15f2c34ef1",
    "scrolled": true
   },
   "outputs": [
    {
     "data": {
      "image/png": "[encoded data removed]",
      "text/plain": [
       "<Figure size 432x288 with 1 Axes>"
      ]
     },
     "metadata": {},
     "output_type": "display_data"
    }
   ],
   "source": [
    "# Analysing the percentage of not null customers in the dataset. Inference - 25.2% Null, 74.8% Not Null\n",
    "CustomerID_notnull = df.loc[~df['CustomerID'].isnull()] \n",
    "CustomerID_null = df.loc[df['CustomerID'].isnull()] \n",
    "pie_data = []\n",
    "pie_data.append(len(CustomerID_null))\n",
    "pie_data.append(len(CustomerID_notnull))\n",
    "plt.pie(pie_data, labels=['Null', 'Not Null'], autopct='%1.1f%%',)\n",
    "plt.show()"
   ]
  },
  {
   "cell_type": "code",
   "execution_count": 78,
   "metadata": {
    "colab": {
     "base_uri": "https://localhost:8080/",
     "height": 210
    },
    "colab_type": "code",
    "id": "VomsM3TG5O4B",
    "outputId": "5b8301be-15c0-473d-dca5-b6c404f1df18"
   },
   "outputs": [
    {
     "data": {
      "text/plain": [
       "Country\n",
       "United Kingdom    130999\n",
       "EIRE                 695\n",
       "Hong Kong            278\n",
       "Unspecified          201\n",
       "Switzerland          117\n",
       "France                66\n",
       "Israel                47\n",
       "Portugal              39\n",
       "Bahrain                2\n",
       "dtype: int64"
      ]
     },
     "execution_count": 78,
     "metadata": {},
     "output_type": "execute_result"
    }
   ],
   "source": [
    "# To find from which country the maximum number of Null occurs\n",
    "CustomerID_null.groupby(['Country']).size().sort_values(ascending=False)"
   ]
  },
  {
   "cell_type": "code",
   "execution_count": 79,
   "metadata": {
    "colab": {
     "base_uri": "https://localhost:8080/",
     "height": 574
    },
    "colab_type": "code",
    "id": "nRBcL7Kt0ch2",
    "outputId": "ef8b5596-270d-44ec-9f4a-e78a0a34a312"
   },
   "outputs": [
    {
     "data": {
      "text/plain": [
       "<matplotlib.axes._subplots.AxesSubplot at 0x229fdfc3550>"
      ]
     },
     "execution_count": 79,
     "metadata": {},
     "output_type": "execute_result"
    },
    {
     "data": {
      "image/png": "[encoded data removed]",
      "text/plain": [
       "<Figure size 1008x648 with 2 Axes>"
      ]
     },
     "metadata": {
      "needs_background": "light"
     },
     "output_type": "display_data"
    }
   ],
   "source": [
    "#To find the ratio of quantity of units purchased by null & not null customers\n",
    "month_null = (CustomerID_null.groupby(['Month'])['Quantity'].sum())\n",
    "month_notnull  = (CustomerID_notnull.groupby(['Month'])['Quantity'].sum())\n",
    "month = pd.DataFrame([month_null, month_notnull]).transpose()\n",
    "\n",
    "fig, axes = plt.subplots(nrows=1, ncols=2, figsize=(14,9))\n",
    "month.plot.bar(stacked=True, ax=axes[0])\n",
    "\n",
    "month.plot.box(ax=axes[1])"
   ]
  },
  {
   "cell_type": "code",
   "execution_count": 80,
   "metadata": {
    "colab": {
     "base_uri": "https://localhost:8080/",
     "height": 330
    },
    "colab_type": "code",
    "id": "72ME1IA35pM9",
    "outputId": "30288e51-0878-412b-a348-dd55545ae77e"
   },
   "outputs": [
    {
     "data": {
      "image/png": "[encoded data removed]",
      "text/plain": [
       "<Figure size 432x288 with 1 Axes>"
      ]
     },
     "metadata": {},
     "output_type": "display_data"
    }
   ],
   "source": [
    "pie_data = []\n",
    "pie_data.append(CustomerID_null['Quantity'].sum())\n",
    "pie_data.append(CustomerID_notnull['Quantity'].sum())\n",
    "plt.pie(pie_data, labels=['Null', 'Non Null'], autopct='%1.1f%%',)\n",
    "plt.show()"
   ]
  },
  {
   "cell_type": "code",
   "execution_count": 81,
   "metadata": {
    "colab": {},
    "colab_type": "code",
    "id": "VtcMIb5O54ZF"
   },
   "outputs": [
    {
     "data": {
      "image/png": "[encoded data removed]",
      "text/plain": [
       "<Figure size 432x288 with 1 Axes>"
      ]
     },
     "metadata": {},
     "output_type": "display_data"
    }
   ],
   "source": [
    "#To find the ratio of amount spent by null & not null customers\n",
    "CustomerID_notnull['Total_Amount'] = CustomerID_notnull['Quantity']*CustomerID_notnull['UnitPrice']\n",
    "CustomerID_null['Total_Amount'] = CustomerID_null['Quantity']*CustomerID_null['UnitPrice']\n",
    "pie_data = []\n",
    "pie_data.append(CustomerID_null['Total_Amount'].sum())\n",
    "pie_data.append(CustomerID_notnull['Total_Amount'].sum())\n",
    "plt.pie(pie_data, labels=['Null', 'Non Null'], autopct='%1.1f%%',)\n",
    "plt.show()"
   ]
  },
  {
   "cell_type": "code",
   "execution_count": 82,
   "metadata": {
    "colab": {
     "base_uri": "https://localhost:8080/",
     "height": 347
    },
    "colab_type": "code",
    "id": "e-UYeLeB6msp",
    "outputId": "1858602f-8caa-4e39-e593-bbea45d40a3f"
   },
   "outputs": [
    {
     "name": "stdout",
     "output_type": "stream",
     "text": [
      "[]\n"
     ]
    }
   ],
   "source": [
    "# To analyse if any invoice intersects with the null/notnull CustomerID - Inference: None\n",
    "intersect = pd.Series(np.intersect1d(CustomerID_null['InvoiceNo'].values, CustomerID_notnull['InvoiceNo'].values))\n",
    "print(intersect.values)"
   ]
  },
  {
   "cell_type": "code",
   "execution_count": 83,
   "metadata": {},
   "outputs": [],
   "source": [
    "df[\"CustomerID\"].fillna(df[\"InvoiceNo\"], inplace=True)"
   ]
  },
  {
   "cell_type": "markdown",
   "metadata": {},
   "source": [
    "## Model Training"
   ]
  },
  {
   "cell_type": "markdown",
   "metadata": {},
   "source": [
    "### 1. Modifying categorical features"
   ]
  },
  {
   "cell_type": "code",
   "execution_count": 84,
   "metadata": {},
   "outputs": [],
   "source": [
    "from sklearn.preprocessing import LabelBinarizer\n",
    "encoder = LabelBinarizer()\n",
    "country_one_hot = encoder.fit_transform(df['Country'])\n",
    "Y_onehot=country_one_hot"
   ]
  },
  {
   "cell_type": "code",
   "execution_count": 85,
   "metadata": {},
   "outputs": [
    {
     "data": {
      "text/plain": [
       "array([[0, 0, 0, ..., 0, 1, 0],\n",
       "       [0, 0, 0, ..., 0, 1, 0],\n",
       "       [0, 0, 0, ..., 0, 1, 0],\n",
       "       ...,\n",
       "       [0, 0, 0, ..., 0, 0, 0],\n",
       "       [0, 0, 0, ..., 0, 0, 0],\n",
       "       [0, 0, 0, ..., 0, 0, 0]])"
      ]
     },
     "execution_count": 85,
     "metadata": {},
     "output_type": "execute_result"
    }
   ],
   "source": [
    "Y_onehot"
   ]
  },
  {
   "cell_type": "code",
   "execution_count": 86,
   "metadata": {},
   "outputs": [],
   "source": [
    "from sklearn.preprocessing import LabelEncoder\n",
    "\n",
    "y_en = LabelEncoder()\n",
    "y_list = y_en.fit_transform(df[\"Country\"])"
   ]
  },
  {
   "cell_type": "code",
   "execution_count": 87,
   "metadata": {},
   "outputs": [
    {
     "data": {
      "text/plain": [
       "(532097,)"
      ]
     },
     "execution_count": 87,
     "metadata": {},
     "output_type": "execute_result"
    }
   ],
   "source": [
    "y_list.shape"
   ]
  },
  {
   "cell_type": "code",
   "execution_count": 88,
   "metadata": {},
   "outputs": [],
   "source": [
    "from sklearn.preprocessing import LabelEncoder\n",
    "en = LabelEncoder()\n",
    "df[\"Description_Code\"] = en.fit_transform(df[\"Description\"])"
   ]
  },
  {
   "cell_type": "code",
   "execution_count": 89,
   "metadata": {},
   "outputs": [
    {
     "data": {
      "text/plain": [
       "InvoiceNo            object\n",
       "StockCode            object\n",
       "Description          object\n",
       "Quantity              int64\n",
       "UnitPrice           float64\n",
       "CustomerID           object\n",
       "Country              object\n",
       "Year                  int64\n",
       "Month                 int64\n",
       "Day                   int64\n",
       "Hour                  int64\n",
       "TotalPrice          float64\n",
       "Description_Code      int64\n",
       "dtype: object"
      ]
     },
     "execution_count": 89,
     "metadata": {},
     "output_type": "execute_result"
    }
   ],
   "source": [
    "df.dtypes"
   ]
  },
  {
   "cell_type": "code",
   "execution_count": 90,
   "metadata": {},
   "outputs": [],
   "source": [
    "#Creating X_train dataset\n",
    "d = {'Description': df['Description_Code'], 'Quantity': df['Quantity'], 'Unit Price': df['UnitPrice'], 'Month': df['Month'], 'Day': df['Day'], 'Hour': df['Hour']}"
   ]
  },
  {
   "cell_type": "code",
   "execution_count": 91,
   "metadata": {},
   "outputs": [],
   "source": [
    "X=pd.DataFrame(d)"
   ]
  },
  {
   "cell_type": "code",
   "execution_count": 92,
   "metadata": {},
   "outputs": [
    {
     "data": {
      "text/html": [
       "<div>\n",
       "<style scoped>\n",
       "    .dataframe tbody tr th:only-of-type {\n",
       "        vertical-align: middle;\n",
       "    }\n",
       "\n",
       "    .dataframe tbody tr th {\n",
       "        vertical-align: top;\n",
       "    }\n",
       "\n",
       "    .dataframe thead th {\n",
       "        text-align: right;\n",
       "    }\n",
       "</style>\n",
       "<table border=\"1\" class=\"dataframe\">\n",
       "  <thead>\n",
       "    <tr style=\"text-align: right;\">\n",
       "      <th></th>\n",
       "      <th>Description</th>\n",
       "      <th>Quantity</th>\n",
       "      <th>Unit Price</th>\n",
       "      <th>Month</th>\n",
       "      <th>Day</th>\n",
       "      <th>Hour</th>\n",
       "    </tr>\n",
       "  </thead>\n",
       "  <tbody>\n",
       "    <tr>\n",
       "      <th>0</th>\n",
       "      <td>3833</td>\n",
       "      <td>6</td>\n",
       "      <td>2.55</td>\n",
       "      <td>12</td>\n",
       "      <td>1</td>\n",
       "      <td>8</td>\n",
       "    </tr>\n",
       "    <tr>\n",
       "      <th>1</th>\n",
       "      <td>3841</td>\n",
       "      <td>6</td>\n",
       "      <td>3.39</td>\n",
       "      <td>12</td>\n",
       "      <td>1</td>\n",
       "      <td>8</td>\n",
       "    </tr>\n",
       "    <tr>\n",
       "      <th>2</th>\n",
       "      <td>885</td>\n",
       "      <td>8</td>\n",
       "      <td>2.75</td>\n",
       "      <td>12</td>\n",
       "      <td>1</td>\n",
       "      <td>8</td>\n",
       "    </tr>\n",
       "    <tr>\n",
       "      <th>3</th>\n",
       "      <td>1850</td>\n",
       "      <td>6</td>\n",
       "      <td>3.39</td>\n",
       "      <td>12</td>\n",
       "      <td>1</td>\n",
       "      <td>8</td>\n",
       "    </tr>\n",
       "    <tr>\n",
       "      <th>4</th>\n",
       "      <td>2833</td>\n",
       "      <td>6</td>\n",
       "      <td>3.39</td>\n",
       "      <td>12</td>\n",
       "      <td>1</td>\n",
       "      <td>8</td>\n",
       "    </tr>\n",
       "    <tr>\n",
       "      <th>5</th>\n",
       "      <td>3080</td>\n",
       "      <td>2</td>\n",
       "      <td>7.65</td>\n",
       "      <td>12</td>\n",
       "      <td>1</td>\n",
       "      <td>8</td>\n",
       "    </tr>\n",
       "    <tr>\n",
       "      <th>6</th>\n",
       "      <td>1474</td>\n",
       "      <td>6</td>\n",
       "      <td>4.25</td>\n",
       "      <td>12</td>\n",
       "      <td>1</td>\n",
       "      <td>8</td>\n",
       "    </tr>\n",
       "    <tr>\n",
       "      <th>7</th>\n",
       "      <td>1597</td>\n",
       "      <td>6</td>\n",
       "      <td>1.85</td>\n",
       "      <td>12</td>\n",
       "      <td>1</td>\n",
       "      <td>8</td>\n",
       "    </tr>\n",
       "    <tr>\n",
       "      <th>8</th>\n",
       "      <td>1594</td>\n",
       "      <td>6</td>\n",
       "      <td>1.85</td>\n",
       "      <td>12</td>\n",
       "      <td>1</td>\n",
       "      <td>8</td>\n",
       "    </tr>\n",
       "    <tr>\n",
       "      <th>9</th>\n",
       "      <td>226</td>\n",
       "      <td>32</td>\n",
       "      <td>1.69</td>\n",
       "      <td>12</td>\n",
       "      <td>1</td>\n",
       "      <td>8</td>\n",
       "    </tr>\n",
       "    <tr>\n",
       "      <th>10</th>\n",
       "      <td>2667</td>\n",
       "      <td>6</td>\n",
       "      <td>2.10</td>\n",
       "      <td>12</td>\n",
       "      <td>1</td>\n",
       "      <td>8</td>\n",
       "    </tr>\n",
       "    <tr>\n",
       "      <th>11</th>\n",
       "      <td>2668</td>\n",
       "      <td>6</td>\n",
       "      <td>2.10</td>\n",
       "      <td>12</td>\n",
       "      <td>1</td>\n",
       "      <td>8</td>\n",
       "    </tr>\n",
       "    <tr>\n",
       "      <th>12</th>\n",
       "      <td>1241</td>\n",
       "      <td>8</td>\n",
       "      <td>3.75</td>\n",
       "      <td>12</td>\n",
       "      <td>1</td>\n",
       "      <td>8</td>\n",
       "    </tr>\n",
       "    <tr>\n",
       "      <th>13</th>\n",
       "      <td>1745</td>\n",
       "      <td>6</td>\n",
       "      <td>1.65</td>\n",
       "      <td>12</td>\n",
       "      <td>1</td>\n",
       "      <td>8</td>\n",
       "    </tr>\n",
       "    <tr>\n",
       "      <th>14</th>\n",
       "      <td>542</td>\n",
       "      <td>6</td>\n",
       "      <td>4.25</td>\n",
       "      <td>12</td>\n",
       "      <td>1</td>\n",
       "      <td>8</td>\n",
       "    </tr>\n",
       "    <tr>\n",
       "      <th>15</th>\n",
       "      <td>548</td>\n",
       "      <td>3</td>\n",
       "      <td>4.95</td>\n",
       "      <td>12</td>\n",
       "      <td>1</td>\n",
       "      <td>8</td>\n",
       "    </tr>\n",
       "    <tr>\n",
       "      <th>16</th>\n",
       "      <td>547</td>\n",
       "      <td>2</td>\n",
       "      <td>9.95</td>\n",
       "      <td>12</td>\n",
       "      <td>1</td>\n",
       "      <td>8</td>\n",
       "    </tr>\n",
       "    <tr>\n",
       "      <th>17</th>\n",
       "      <td>1690</td>\n",
       "      <td>3</td>\n",
       "      <td>5.95</td>\n",
       "      <td>12</td>\n",
       "      <td>1</td>\n",
       "      <td>8</td>\n",
       "    </tr>\n",
       "    <tr>\n",
       "      <th>18</th>\n",
       "      <td>1974</td>\n",
       "      <td>3</td>\n",
       "      <td>5.95</td>\n",
       "      <td>12</td>\n",
       "      <td>1</td>\n",
       "      <td>8</td>\n",
       "    </tr>\n",
       "    <tr>\n",
       "      <th>19</th>\n",
       "      <td>2736</td>\n",
       "      <td>4</td>\n",
       "      <td>7.95</td>\n",
       "      <td>12</td>\n",
       "      <td>1</td>\n",
       "      <td>8</td>\n",
       "    </tr>\n",
       "    <tr>\n",
       "      <th>20</th>\n",
       "      <td>1052</td>\n",
       "      <td>4</td>\n",
       "      <td>7.95</td>\n",
       "      <td>12</td>\n",
       "      <td>1</td>\n",
       "      <td>8</td>\n",
       "    </tr>\n",
       "    <tr>\n",
       "      <th>21</th>\n",
       "      <td>1774</td>\n",
       "      <td>6</td>\n",
       "      <td>4.25</td>\n",
       "      <td>12</td>\n",
       "      <td>1</td>\n",
       "      <td>8</td>\n",
       "    </tr>\n",
       "    <tr>\n",
       "      <th>22</th>\n",
       "      <td>2755</td>\n",
       "      <td>3</td>\n",
       "      <td>4.95</td>\n",
       "      <td>12</td>\n",
       "      <td>1</td>\n",
       "      <td>8</td>\n",
       "    </tr>\n",
       "    <tr>\n",
       "      <th>23</th>\n",
       "      <td>3974</td>\n",
       "      <td>3</td>\n",
       "      <td>4.95</td>\n",
       "      <td>12</td>\n",
       "      <td>1</td>\n",
       "      <td>8</td>\n",
       "    </tr>\n",
       "    <tr>\n",
       "      <th>24</th>\n",
       "      <td>428</td>\n",
       "      <td>3</td>\n",
       "      <td>4.95</td>\n",
       "      <td>12</td>\n",
       "      <td>1</td>\n",
       "      <td>8</td>\n",
       "    </tr>\n",
       "    <tr>\n",
       "      <th>25</th>\n",
       "      <td>293</td>\n",
       "      <td>3</td>\n",
       "      <td>5.95</td>\n",
       "      <td>12</td>\n",
       "      <td>1</td>\n",
       "      <td>8</td>\n",
       "    </tr>\n",
       "    <tr>\n",
       "      <th>26</th>\n",
       "      <td>146</td>\n",
       "      <td>24</td>\n",
       "      <td>3.75</td>\n",
       "      <td>12</td>\n",
       "      <td>1</td>\n",
       "      <td>8</td>\n",
       "    </tr>\n",
       "    <tr>\n",
       "      <th>27</th>\n",
       "      <td>147</td>\n",
       "      <td>24</td>\n",
       "      <td>3.75</td>\n",
       "      <td>12</td>\n",
       "      <td>1</td>\n",
       "      <td>8</td>\n",
       "    </tr>\n",
       "    <tr>\n",
       "      <th>28</th>\n",
       "      <td>143</td>\n",
       "      <td>12</td>\n",
       "      <td>3.75</td>\n",
       "      <td>12</td>\n",
       "      <td>1</td>\n",
       "      <td>8</td>\n",
       "    </tr>\n",
       "    <tr>\n",
       "      <th>29</th>\n",
       "      <td>2351</td>\n",
       "      <td>12</td>\n",
       "      <td>0.85</td>\n",
       "      <td>12</td>\n",
       "      <td>1</td>\n",
       "      <td>8</td>\n",
       "    </tr>\n",
       "    <tr>\n",
       "      <th>...</th>\n",
       "      <td>...</td>\n",
       "      <td>...</td>\n",
       "      <td>...</td>\n",
       "      <td>...</td>\n",
       "      <td>...</td>\n",
       "      <td>...</td>\n",
       "    </tr>\n",
       "    <tr>\n",
       "      <th>541879</th>\n",
       "      <td>143</td>\n",
       "      <td>8</td>\n",
       "      <td>3.75</td>\n",
       "      <td>12</td>\n",
       "      <td>9</td>\n",
       "      <td>12</td>\n",
       "    </tr>\n",
       "    <tr>\n",
       "      <th>541880</th>\n",
       "      <td>147</td>\n",
       "      <td>4</td>\n",
       "      <td>3.75</td>\n",
       "      <td>12</td>\n",
       "      <td>9</td>\n",
       "      <td>12</td>\n",
       "    </tr>\n",
       "    <tr>\n",
       "      <th>541881</th>\n",
       "      <td>1880</td>\n",
       "      <td>10</td>\n",
       "      <td>0.85</td>\n",
       "      <td>12</td>\n",
       "      <td>9</td>\n",
       "      <td>12</td>\n",
       "    </tr>\n",
       "    <tr>\n",
       "      <th>541882</th>\n",
       "      <td>3053</td>\n",
       "      <td>24</td>\n",
       "      <td>0.42</td>\n",
       "      <td>12</td>\n",
       "      <td>9</td>\n",
       "      <td>12</td>\n",
       "    </tr>\n",
       "    <tr>\n",
       "      <th>541883</th>\n",
       "      <td>541</td>\n",
       "      <td>25</td>\n",
       "      <td>0.42</td>\n",
       "      <td>12</td>\n",
       "      <td>9</td>\n",
       "      <td>12</td>\n",
       "    </tr>\n",
       "    <tr>\n",
       "      <th>541884</th>\n",
       "      <td>203</td>\n",
       "      <td>12</td>\n",
       "      <td>1.25</td>\n",
       "      <td>12</td>\n",
       "      <td>9</td>\n",
       "      <td>12</td>\n",
       "    </tr>\n",
       "    <tr>\n",
       "      <th>541885</th>\n",
       "      <td>3382</td>\n",
       "      <td>12</td>\n",
       "      <td>0.85</td>\n",
       "      <td>12</td>\n",
       "      <td>9</td>\n",
       "      <td>12</td>\n",
       "    </tr>\n",
       "    <tr>\n",
       "      <th>541886</th>\n",
       "      <td>2028</td>\n",
       "      <td>12</td>\n",
       "      <td>0.39</td>\n",
       "      <td>12</td>\n",
       "      <td>9</td>\n",
       "      <td>12</td>\n",
       "    </tr>\n",
       "    <tr>\n",
       "      <th>541887</th>\n",
       "      <td>3079</td>\n",
       "      <td>4</td>\n",
       "      <td>3.75</td>\n",
       "      <td>12</td>\n",
       "      <td>9</td>\n",
       "      <td>12</td>\n",
       "    </tr>\n",
       "    <tr>\n",
       "      <th>541888</th>\n",
       "      <td>4009</td>\n",
       "      <td>12</td>\n",
       "      <td>0.95</td>\n",
       "      <td>12</td>\n",
       "      <td>9</td>\n",
       "      <td>12</td>\n",
       "    </tr>\n",
       "    <tr>\n",
       "      <th>541889</th>\n",
       "      <td>1198</td>\n",
       "      <td>12</td>\n",
       "      <td>1.95</td>\n",
       "      <td>12</td>\n",
       "      <td>9</td>\n",
       "      <td>12</td>\n",
       "    </tr>\n",
       "    <tr>\n",
       "      <th>541890</th>\n",
       "      <td>1873</td>\n",
       "      <td>8</td>\n",
       "      <td>2.95</td>\n",
       "      <td>12</td>\n",
       "      <td>9</td>\n",
       "      <td>12</td>\n",
       "    </tr>\n",
       "    <tr>\n",
       "      <th>541891</th>\n",
       "      <td>3122</td>\n",
       "      <td>24</td>\n",
       "      <td>1.25</td>\n",
       "      <td>12</td>\n",
       "      <td>9</td>\n",
       "      <td>12</td>\n",
       "    </tr>\n",
       "    <tr>\n",
       "      <th>541892</th>\n",
       "      <td>2806</td>\n",
       "      <td>24</td>\n",
       "      <td>8.95</td>\n",
       "      <td>12</td>\n",
       "      <td>9</td>\n",
       "      <td>12</td>\n",
       "    </tr>\n",
       "    <tr>\n",
       "      <th>541893</th>\n",
       "      <td>1054</td>\n",
       "      <td>10</td>\n",
       "      <td>7.08</td>\n",
       "      <td>12</td>\n",
       "      <td>9</td>\n",
       "      <td>12</td>\n",
       "    </tr>\n",
       "    <tr>\n",
       "      <th>541894</th>\n",
       "      <td>806</td>\n",
       "      <td>12</td>\n",
       "      <td>1.95</td>\n",
       "      <td>12</td>\n",
       "      <td>9</td>\n",
       "      <td>12</td>\n",
       "    </tr>\n",
       "    <tr>\n",
       "      <th>541895</th>\n",
       "      <td>2639</td>\n",
       "      <td>12</td>\n",
       "      <td>1.65</td>\n",
       "      <td>12</td>\n",
       "      <td>9</td>\n",
       "      <td>12</td>\n",
       "    </tr>\n",
       "    <tr>\n",
       "      <th>541896</th>\n",
       "      <td>2642</td>\n",
       "      <td>12</td>\n",
       "      <td>1.65</td>\n",
       "      <td>12</td>\n",
       "      <td>9</td>\n",
       "      <td>12</td>\n",
       "    </tr>\n",
       "    <tr>\n",
       "      <th>541897</th>\n",
       "      <td>146</td>\n",
       "      <td>4</td>\n",
       "      <td>3.75</td>\n",
       "      <td>12</td>\n",
       "      <td>9</td>\n",
       "      <td>12</td>\n",
       "    </tr>\n",
       "    <tr>\n",
       "      <th>541898</th>\n",
       "      <td>147</td>\n",
       "      <td>4</td>\n",
       "      <td>3.75</td>\n",
       "      <td>12</td>\n",
       "      <td>9</td>\n",
       "      <td>12</td>\n",
       "    </tr>\n",
       "    <tr>\n",
       "      <th>541899</th>\n",
       "      <td>143</td>\n",
       "      <td>4</td>\n",
       "      <td>3.75</td>\n",
       "      <td>12</td>\n",
       "      <td>9</td>\n",
       "      <td>12</td>\n",
       "    </tr>\n",
       "    <tr>\n",
       "      <th>541900</th>\n",
       "      <td>144</td>\n",
       "      <td>4</td>\n",
       "      <td>3.75</td>\n",
       "      <td>12</td>\n",
       "      <td>9</td>\n",
       "      <td>12</td>\n",
       "    </tr>\n",
       "    <tr>\n",
       "      <th>541901</th>\n",
       "      <td>719</td>\n",
       "      <td>8</td>\n",
       "      <td>1.95</td>\n",
       "      <td>12</td>\n",
       "      <td>9</td>\n",
       "      <td>12</td>\n",
       "    </tr>\n",
       "    <tr>\n",
       "      <th>541902</th>\n",
       "      <td>3438</td>\n",
       "      <td>12</td>\n",
       "      <td>1.95</td>\n",
       "      <td>12</td>\n",
       "      <td>9</td>\n",
       "      <td>12</td>\n",
       "    </tr>\n",
       "    <tr>\n",
       "      <th>541903</th>\n",
       "      <td>726</td>\n",
       "      <td>4</td>\n",
       "      <td>4.15</td>\n",
       "      <td>12</td>\n",
       "      <td>9</td>\n",
       "      <td>12</td>\n",
       "    </tr>\n",
       "    <tr>\n",
       "      <th>541904</th>\n",
       "      <td>2310</td>\n",
       "      <td>12</td>\n",
       "      <td>0.85</td>\n",
       "      <td>12</td>\n",
       "      <td>9</td>\n",
       "      <td>12</td>\n",
       "    </tr>\n",
       "    <tr>\n",
       "      <th>541905</th>\n",
       "      <td>715</td>\n",
       "      <td>6</td>\n",
       "      <td>2.10</td>\n",
       "      <td>12</td>\n",
       "      <td>9</td>\n",
       "      <td>12</td>\n",
       "    </tr>\n",
       "    <tr>\n",
       "      <th>541906</th>\n",
       "      <td>721</td>\n",
       "      <td>4</td>\n",
       "      <td>4.15</td>\n",
       "      <td>12</td>\n",
       "      <td>9</td>\n",
       "      <td>12</td>\n",
       "    </tr>\n",
       "    <tr>\n",
       "      <th>541907</th>\n",
       "      <td>720</td>\n",
       "      <td>4</td>\n",
       "      <td>4.15</td>\n",
       "      <td>12</td>\n",
       "      <td>9</td>\n",
       "      <td>12</td>\n",
       "    </tr>\n",
       "    <tr>\n",
       "      <th>541908</th>\n",
       "      <td>278</td>\n",
       "      <td>3</td>\n",
       "      <td>4.95</td>\n",
       "      <td>12</td>\n",
       "      <td>9</td>\n",
       "      <td>12</td>\n",
       "    </tr>\n",
       "  </tbody>\n",
       "</table>\n",
       "<p>532097 rows × 6 columns</p>\n",
       "</div>"
      ],
      "text/plain": [
       "        Description  Quantity  Unit Price  Month  Day  Hour\n",
       "0              3833         6        2.55     12    1     8\n",
       "1              3841         6        3.39     12    1     8\n",
       "2               885         8        2.75     12    1     8\n",
       "3              1850         6        3.39     12    1     8\n",
       "4              2833         6        3.39     12    1     8\n",
       "5              3080         2        7.65     12    1     8\n",
       "6              1474         6        4.25     12    1     8\n",
       "7              1597         6        1.85     12    1     8\n",
       "8              1594         6        1.85     12    1     8\n",
       "9               226        32        1.69     12    1     8\n",
       "10             2667         6        2.10     12    1     8\n",
       "11             2668         6        2.10     12    1     8\n",
       "12             1241         8        3.75     12    1     8\n",
       "13             1745         6        1.65     12    1     8\n",
       "14              542         6        4.25     12    1     8\n",
       "15              548         3        4.95     12    1     8\n",
       "16              547         2        9.95     12    1     8\n",
       "17             1690         3        5.95     12    1     8\n",
       "18             1974         3        5.95     12    1     8\n",
       "19             2736         4        7.95     12    1     8\n",
       "20             1052         4        7.95     12    1     8\n",
       "21             1774         6        4.25     12    1     8\n",
       "22             2755         3        4.95     12    1     8\n",
       "23             3974         3        4.95     12    1     8\n",
       "24              428         3        4.95     12    1     8\n",
       "25              293         3        5.95     12    1     8\n",
       "26              146        24        3.75     12    1     8\n",
       "27              147        24        3.75     12    1     8\n",
       "28              143        12        3.75     12    1     8\n",
       "29             2351        12        0.85     12    1     8\n",
       "...             ...       ...         ...    ...  ...   ...\n",
       "541879          143         8        3.75     12    9    12\n",
       "541880          147         4        3.75     12    9    12\n",
       "541881         1880        10        0.85     12    9    12\n",
       "541882         3053        24        0.42     12    9    12\n",
       "541883          541        25        0.42     12    9    12\n",
       "541884          203        12        1.25     12    9    12\n",
       "541885         3382        12        0.85     12    9    12\n",
       "541886         2028        12        0.39     12    9    12\n",
       "541887         3079         4        3.75     12    9    12\n",
       "541888         4009        12        0.95     12    9    12\n",
       "541889         1198        12        1.95     12    9    12\n",
       "541890         1873         8        2.95     12    9    12\n",
       "541891         3122        24        1.25     12    9    12\n",
       "541892         2806        24        8.95     12    9    12\n",
       "541893         1054        10        7.08     12    9    12\n",
       "541894          806        12        1.95     12    9    12\n",
       "541895         2639        12        1.65     12    9    12\n",
       "541896         2642        12        1.65     12    9    12\n",
       "541897          146         4        3.75     12    9    12\n",
       "541898          147         4        3.75     12    9    12\n",
       "541899          143         4        3.75     12    9    12\n",
       "541900          144         4        3.75     12    9    12\n",
       "541901          719         8        1.95     12    9    12\n",
       "541902         3438        12        1.95     12    9    12\n",
       "541903          726         4        4.15     12    9    12\n",
       "541904         2310        12        0.85     12    9    12\n",
       "541905          715         6        2.10     12    9    12\n",
       "541906          721         4        4.15     12    9    12\n",
       "541907          720         4        4.15     12    9    12\n",
       "541908          278         3        4.95     12    9    12\n",
       "\n",
       "[532097 rows x 6 columns]"
      ]
     },
     "execution_count": 92,
     "metadata": {},
     "output_type": "execute_result"
    }
   ],
   "source": [
    "X"
   ]
  },
  {
   "cell_type": "code",
   "execution_count": 93,
   "metadata": {},
   "outputs": [
    {
     "data": {
      "text/html": [
       "<style  type=\"text/css\" >\n",
       "    #T_4823c292_314b_11e9_94fb_4c3488ea64a0row0_col0 {\n",
       "            background-color:  #b40426;\n",
       "        }    #T_4823c292_314b_11e9_94fb_4c3488ea64a0row0_col1 {\n",
       "            background-color:  #3f53c6;\n",
       "        }    #T_4823c292_314b_11e9_94fb_4c3488ea64a0row0_col2 {\n",
       "            background-color:  #3b4cc0;\n",
       "        }    #T_4823c292_314b_11e9_94fb_4c3488ea64a0row0_col3 {\n",
       "            background-color:  #4257c9;\n",
       "        }    #T_4823c292_314b_11e9_94fb_4c3488ea64a0row0_col4 {\n",
       "            background-color:  #4055c8;\n",
       "        }    #T_4823c292_314b_11e9_94fb_4c3488ea64a0row0_col5 {\n",
       "            background-color:  #3d50c3;\n",
       "        }    #T_4823c292_314b_11e9_94fb_4c3488ea64a0row1_col0 {\n",
       "            background-color:  #4e68d8;\n",
       "        }    #T_4823c292_314b_11e9_94fb_4c3488ea64a0row1_col1 {\n",
       "            background-color:  #b40426;\n",
       "        }    #T_4823c292_314b_11e9_94fb_4c3488ea64a0row1_col2 {\n",
       "            background-color:  #4a63d3;\n",
       "        }    #T_4823c292_314b_11e9_94fb_4c3488ea64a0row1_col3 {\n",
       "            background-color:  #4a63d3;\n",
       "        }    #T_4823c292_314b_11e9_94fb_4c3488ea64a0row1_col4 {\n",
       "            background-color:  #4b64d5;\n",
       "        }    #T_4823c292_314b_11e9_94fb_4c3488ea64a0row1_col5 {\n",
       "            background-color:  #3b4cc0;\n",
       "        }    #T_4823c292_314b_11e9_94fb_4c3488ea64a0row2_col0 {\n",
       "            background-color:  #3b4cc0;\n",
       "        }    #T_4823c292_314b_11e9_94fb_4c3488ea64a0row2_col1 {\n",
       "            background-color:  #3c4ec2;\n",
       "        }    #T_4823c292_314b_11e9_94fb_4c3488ea64a0row2_col2 {\n",
       "            background-color:  #b40426;\n",
       "        }    #T_4823c292_314b_11e9_94fb_4c3488ea64a0row2_col3 {\n",
       "            background-color:  #3f53c6;\n",
       "        }    #T_4823c292_314b_11e9_94fb_4c3488ea64a0row2_col4 {\n",
       "            background-color:  #3e51c5;\n",
       "        }    #T_4823c292_314b_11e9_94fb_4c3488ea64a0row2_col5 {\n",
       "            background-color:  #3f53c6;\n",
       "        }    #T_4823c292_314b_11e9_94fb_4c3488ea64a0row3_col0 {\n",
       "            background-color:  #5e7de7;\n",
       "        }    #T_4823c292_314b_11e9_94fb_4c3488ea64a0row3_col1 {\n",
       "            background-color:  #5977e3;\n",
       "        }    #T_4823c292_314b_11e9_94fb_4c3488ea64a0row3_col2 {\n",
       "            background-color:  #5b7ae5;\n",
       "        }    #T_4823c292_314b_11e9_94fb_4c3488ea64a0row3_col3 {\n",
       "            background-color:  #b40426;\n",
       "        }    #T_4823c292_314b_11e9_94fb_4c3488ea64a0row3_col4 {\n",
       "            background-color:  #3b4cc0;\n",
       "        }    #T_4823c292_314b_11e9_94fb_4c3488ea64a0row3_col5 {\n",
       "            background-color:  #6384eb;\n",
       "        }    #T_4823c292_314b_11e9_94fb_4c3488ea64a0row4_col0 {\n",
       "            background-color:  #5d7ce6;\n",
       "        }    #T_4823c292_314b_11e9_94fb_4c3488ea64a0row4_col1 {\n",
       "            background-color:  #5a78e4;\n",
       "        }    #T_4823c292_314b_11e9_94fb_4c3488ea64a0row4_col2 {\n",
       "            background-color:  #5a78e4;\n",
       "        }    #T_4823c292_314b_11e9_94fb_4c3488ea64a0row4_col3 {\n",
       "            background-color:  #3b4cc0;\n",
       "        }    #T_4823c292_314b_11e9_94fb_4c3488ea64a0row4_col4 {\n",
       "            background-color:  #b40426;\n",
       "        }    #T_4823c292_314b_11e9_94fb_4c3488ea64a0row4_col5 {\n",
       "            background-color:  #5b7ae5;\n",
       "        }    #T_4823c292_314b_11e9_94fb_4c3488ea64a0row5_col0 {\n",
       "            background-color:  #4b64d5;\n",
       "        }    #T_4823c292_314b_11e9_94fb_4c3488ea64a0row5_col1 {\n",
       "            background-color:  #3b4cc0;\n",
       "        }    #T_4823c292_314b_11e9_94fb_4c3488ea64a0row5_col2 {\n",
       "            background-color:  #4c66d6;\n",
       "        }    #T_4823c292_314b_11e9_94fb_4c3488ea64a0row5_col3 {\n",
       "            background-color:  #5470de;\n",
       "        }    #T_4823c292_314b_11e9_94fb_4c3488ea64a0row5_col4 {\n",
       "            background-color:  #4c66d6;\n",
       "        }    #T_4823c292_314b_11e9_94fb_4c3488ea64a0row5_col5 {\n",
       "            background-color:  #b40426;\n",
       "        }</style>  \n",
       "<table id=\"T_4823c292_314b_11e9_94fb_4c3488ea64a0\" > \n",
       "<thead>    <tr> \n",
       "        <th class=\"blank level0\" ></th> \n",
       "        <th class=\"col_heading level0 col0\" >Description</th> \n",
       "        <th class=\"col_heading level0 col1\" >Quantity</th> \n",
       "        <th class=\"col_heading level0 col2\" >Unit Price</th> \n",
       "        <th class=\"col_heading level0 col3\" >Month</th> \n",
       "        <th class=\"col_heading level0 col4\" >Day</th> \n",
       "        <th class=\"col_heading level0 col5\" >Hour</th> \n",
       "    </tr></thead> \n",
       "<tbody>    <tr> \n",
       "        <th id=\"T_4823c292_314b_11e9_94fb_4c3488ea64a0level0_row0\" class=\"row_heading level0 row0\" >Description</th> \n",
       "        <td id=\"T_4823c292_314b_11e9_94fb_4c3488ea64a0row0_col0\" class=\"data row0 col0\" >1.0</td> \n",
       "        <td id=\"T_4823c292_314b_11e9_94fb_4c3488ea64a0row0_col1\" class=\"data row0 col1\" >0.0042</td> \n",
       "        <td id=\"T_4823c292_314b_11e9_94fb_4c3488ea64a0row0_col2\" class=\"data row0 col2\" >-0.015</td> \n",
       "        <td id=\"T_4823c292_314b_11e9_94fb_4c3488ea64a0row0_col3\" class=\"data row0 col3\" >0.011</td> \n",
       "        <td id=\"T_4823c292_314b_11e9_94fb_4c3488ea64a0row0_col4\" class=\"data row0 col4\" >0.0046</td> \n",
       "        <td id=\"T_4823c292_314b_11e9_94fb_4c3488ea64a0row0_col5\" class=\"data row0 col5\" >-0.0061</td> \n",
       "    </tr>    <tr> \n",
       "        <th id=\"T_4823c292_314b_11e9_94fb_4c3488ea64a0level0_row1\" class=\"row_heading level0 row1\" >Quantity</th> \n",
       "        <td id=\"T_4823c292_314b_11e9_94fb_4c3488ea64a0row1_col0\" class=\"data row1 col0\" >0.0042</td> \n",
       "        <td id=\"T_4823c292_314b_11e9_94fb_4c3488ea64a0row1_col1\" class=\"data row1 col1\" >1.0</td> \n",
       "        <td id=\"T_4823c292_314b_11e9_94fb_4c3488ea64a0row1_col2\" class=\"data row1 col2\" >-0.0085</td> \n",
       "        <td id=\"T_4823c292_314b_11e9_94fb_4c3488ea64a0row1_col3\" class=\"data row1 col3\" >-0.007</td> \n",
       "        <td id=\"T_4823c292_314b_11e9_94fb_4c3488ea64a0row1_col4\" class=\"data row1 col4\" >-0.0025</td> \n",
       "        <td id=\"T_4823c292_314b_11e9_94fb_4c3488ea64a0row1_col5\" class=\"data row1 col5\" >-0.065</td> \n",
       "    </tr>    <tr> \n",
       "        <th id=\"T_4823c292_314b_11e9_94fb_4c3488ea64a0level0_row2\" class=\"row_heading level0 row2\" >Unit Price</th> \n",
       "        <td id=\"T_4823c292_314b_11e9_94fb_4c3488ea64a0row2_col0\" class=\"data row2 col0\" >-0.015</td> \n",
       "        <td id=\"T_4823c292_314b_11e9_94fb_4c3488ea64a0row2_col1\" class=\"data row2 col1\" >-0.0085</td> \n",
       "        <td id=\"T_4823c292_314b_11e9_94fb_4c3488ea64a0row2_col2\" class=\"data row2 col2\" >1.0</td> \n",
       "        <td id=\"T_4823c292_314b_11e9_94fb_4c3488ea64a0row2_col3\" class=\"data row2 col3\" >0.00079</td> \n",
       "        <td id=\"T_4823c292_314b_11e9_94fb_4c3488ea64a0row2_col4\" class=\"data row2 col4\" >-0.0034</td> \n",
       "        <td id=\"T_4823c292_314b_11e9_94fb_4c3488ea64a0row2_col5\" class=\"data row2 col5\" >0.0014</td> \n",
       "    </tr>    <tr> \n",
       "        <th id=\"T_4823c292_314b_11e9_94fb_4c3488ea64a0level0_row3\" class=\"row_heading level0 row3\" >Month</th> \n",
       "        <td id=\"T_4823c292_314b_11e9_94fb_4c3488ea64a0row3_col0\" class=\"data row3 col0\" >0.011</td> \n",
       "        <td id=\"T_4823c292_314b_11e9_94fb_4c3488ea64a0row3_col1\" class=\"data row3 col1\" >-0.007</td> \n",
       "        <td id=\"T_4823c292_314b_11e9_94fb_4c3488ea64a0row3_col2\" class=\"data row3 col2\" >0.00079</td> \n",
       "        <td id=\"T_4823c292_314b_11e9_94fb_4c3488ea64a0row3_col3\" class=\"data row3 col3\" >1.0</td> \n",
       "        <td id=\"T_4823c292_314b_11e9_94fb_4c3488ea64a0row3_col4\" class=\"data row3 col4\" >-0.12</td> \n",
       "        <td id=\"T_4823c292_314b_11e9_94fb_4c3488ea64a0row3_col5\" class=\"data row3 col5\" >0.026</td> \n",
       "    </tr>    <tr> \n",
       "        <th id=\"T_4823c292_314b_11e9_94fb_4c3488ea64a0level0_row4\" class=\"row_heading level0 row4\" >Day</th> \n",
       "        <td id=\"T_4823c292_314b_11e9_94fb_4c3488ea64a0row4_col0\" class=\"data row4 col0\" >0.0046</td> \n",
       "        <td id=\"T_4823c292_314b_11e9_94fb_4c3488ea64a0row4_col1\" class=\"data row4 col1\" >-0.0025</td> \n",
       "        <td id=\"T_4823c292_314b_11e9_94fb_4c3488ea64a0row4_col2\" class=\"data row4 col2\" >-0.0034</td> \n",
       "        <td id=\"T_4823c292_314b_11e9_94fb_4c3488ea64a0row4_col3\" class=\"data row4 col3\" >-0.12</td> \n",
       "        <td id=\"T_4823c292_314b_11e9_94fb_4c3488ea64a0row4_col4\" class=\"data row4 col4\" >1.0</td> \n",
       "        <td id=\"T_4823c292_314b_11e9_94fb_4c3488ea64a0row4_col5\" class=\"data row4 col5\" >-0.00017</td> \n",
       "    </tr>    <tr> \n",
       "        <th id=\"T_4823c292_314b_11e9_94fb_4c3488ea64a0level0_row5\" class=\"row_heading level0 row5\" >Hour</th> \n",
       "        <td id=\"T_4823c292_314b_11e9_94fb_4c3488ea64a0row5_col0\" class=\"data row5 col0\" >-0.0061</td> \n",
       "        <td id=\"T_4823c292_314b_11e9_94fb_4c3488ea64a0row5_col1\" class=\"data row5 col1\" >-0.065</td> \n",
       "        <td id=\"T_4823c292_314b_11e9_94fb_4c3488ea64a0row5_col2\" class=\"data row5 col2\" >0.0014</td> \n",
       "        <td id=\"T_4823c292_314b_11e9_94fb_4c3488ea64a0row5_col3\" class=\"data row5 col3\" >0.026</td> \n",
       "        <td id=\"T_4823c292_314b_11e9_94fb_4c3488ea64a0row5_col4\" class=\"data row5 col4\" >-0.00017</td> \n",
       "        <td id=\"T_4823c292_314b_11e9_94fb_4c3488ea64a0row5_col5\" class=\"data row5 col5\" >1.0</td> \n",
       "    </tr></tbody> \n",
       "</table> "
      ],
      "text/plain": [
       "<pandas.io.formats.style.Styler at 0x229825d83c8>"
      ]
     },
     "execution_count": 93,
     "metadata": {},
     "output_type": "execute_result"
    }
   ],
   "source": [
    "X.corr(method='pearson').style.format(\"{:.2}\").background_gradient(cmap=plt.get_cmap('coolwarm'), axis=1)"
   ]
  },
  {
   "cell_type": "markdown",
   "metadata": {},
   "source": [
    "#### Implementing Supervised Machine Learning Classification Algorithms"
   ]
  },
  {
   "cell_type": "code",
   "execution_count": 94,
   "metadata": {
    "colab": {},
    "colab_type": "code",
    "id": "bFudhsCluHmP"
   },
   "outputs": [],
   "source": [
    "from sklearn.model_selection import train_test_split\n",
    "from sklearn.metrics import confusion_matrix \n",
    "from sklearn.metrics import accuracy_score\n",
    "from sklearn.tree import DecisionTreeClassifier \n",
    "from sklearn.svm import SVC\n",
    "from sklearn.neighbors import KNeighborsClassifier\n",
    "from sklearn.naive_bayes import GaussianNB\n",
    "from sklearn.linear_model import LogisticRegression\n",
    "from sklearn.ensemble import RandomForestClassifier\n",
    "from sklearn.datasets import make_classification\n",
    "\n",
    "#Splitting the dataset: 75% train, 25% test\n",
    "X_train_onehot, X_test_onehot, y_train_onehot, y_test_onehot = train_test_split(X, Y_onehot, random_state = 0)"
   ]
  },
  {
   "cell_type": "code",
   "execution_count": 95,
   "metadata": {},
   "outputs": [],
   "source": [
    "X_train_list, X_test_list, y_train_list, y_test_list = train_test_split(X, y_list, random_state = 0)"
   ]
  },
  {
   "cell_type": "code",
   "execution_count": 97,
   "metadata": {},
   "outputs": [
    {
     "name": "stdout",
     "output_type": "stream",
     "text": [
      "(399072, 6)\n",
      "(399072, 38)\n",
      "(133025, 6)\n",
      "(133025, 38)\n"
     ]
    }
   ],
   "source": [
    "print(X_train_onehot.shape)\n",
    "print(y_train_onehot.shape)\n",
    "print(X_test_onehot.shape)\n",
    "print(y_test_onehot.shape)"
   ]
  },
  {
   "cell_type": "code",
   "execution_count": 98,
   "metadata": {},
   "outputs": [
    {
     "name": "stdout",
     "output_type": "stream",
     "text": [
      "(399072, 6)\n",
      "(399072,)\n",
      "(133025, 6)\n",
      "(133025,)\n"
     ]
    }
   ],
   "source": [
    "print(X_train_list.shape)\n",
    "print(y_train_list.shape)\n",
    "print(X_test_list.shape)\n",
    "print(y_test_list.shape)"
   ]
  },
  {
   "cell_type": "code",
   "execution_count": 69,
   "metadata": {},
   "outputs": [
    {
     "name": "stdout",
     "output_type": "stream",
     "text": [
      "0.9972561342314169\n",
      "0.873873332080436\n",
      "0.8739375350813888\n",
      "0.8119075361774103\n"
     ]
    }
   ],
   "source": [
    "#K-NN\n",
    "\n",
    "training_accuracy=[]\n",
    "test_accuracy=[]\n",
    "neighbours=range(1,3)\n",
    "\n",
    "for value in neighbours:\n",
    "    knn_model = KNeighborsClassifier(n_neighbors = value).fit(X_train, y_train)\n",
    "    training_accuracy = knn_model.score(X_train, y_train)\n",
    "    test_accuracy = knn_model.score(X_test, y_test)\n",
    "    print(training_accuracy)\n",
    "    print(test_accuracy)\n",
    "\n",
    "# # creating a confusion matrix \n",
    "# knn_predictions = knn_model.predict(X_test)  \n",
    "# knn_cm = confusion_matrix(y_test, knn_predictions) \n",
    "\n",
    "# plt.plot(neighbours, training_accuracy, label=\"training accuarcy\")\n",
    "# plt.plot(neighbours, test_accuracy, label=\"test accuracy\")\n",
    "# plt.ylabel(\"Accuracy\")\n",
    "# plt.xlabel(\"n_neighbours\")\n",
    "# plt.legend()"
   ]
  },
  {
   "cell_type": "code",
   "execution_count": 106,
   "metadata": {
    "colab": {
     "base_uri": "https://localhost:8080/",
     "height": 34
    },
    "colab_type": "code",
    "id": "3Dc49GHWj3r7",
    "outputId": "ce495091-243a-4e5b-cd9f-6351a8ce7567"
   },
   "outputs": [
    {
     "name": "stdout",
     "output_type": "stream",
     "text": [
      "0.9126705506483743\n"
     ]
    }
   ],
   "source": [
    "#Decision Tree\n",
    "decision_model = DecisionTreeClassifier(max_depth = 2).fit(X_train, y_train) \n",
    "decision_predictions = decision_model.predict(X_test) \n",
    "  \n",
    "#Returning accuracy score\n",
    "decision_accuracy = accuracy_score(y_test, decision_predictions)\n",
    "\n",
    "# # creating a confusion matrix \n",
    "# decision_cm = confusion_matrix(y_test, decision_predictions) \n",
    "\n",
    "print(decision_accuracy)\n",
    "# print(decision_cm)"
   ]
  },
  {
   "cell_type": "code",
   "execution_count": null,
   "metadata": {
    "colab": {
     "base_uri": "https://localhost:8080/",
     "height": 72
    },
    "colab_type": "code",
    "id": "jXVoQeG3uHmf",
    "outputId": "1d9f2408-f534-4eb8-e97f-4434238d6c92"
   },
   "outputs": [],
   "source": [
    "# Support Vector Machine\n",
    "y_train_svm = np.argmax(y_train, axis=1)\n",
    "y_test_svm = np.argmax(y_test, axis=1)\n",
    "\n",
    "svm_model= SVC(kernel = 'linear', C=1).fit(X_train, y_train_svm) \n",
    "svm_predictions = svm_model.predict(X_test) \n",
    "  \n",
    "# model accuracy for X_test   \n",
    "svm_accuracy = svm_model.score(X_test, y_test)  \n",
    "# # creating a confusion matrix \n",
    "# svm_cm = confusion_matrix(y_test, svm_predictions) \n",
    "\n",
    "print(svm_accuracy)\n",
    "# print(svm_cm)"
   ]
  },
  {
   "cell_type": "code",
   "execution_count": null,
   "metadata": {
    "colab": {
     "base_uri": "https://localhost:8080/",
     "height": 90
    },
    "colab_type": "code",
    "id": "ZipJKy_YmAbv",
    "outputId": "ab333c1c-9e71-4c40-eed5-de61e8ffd60e"
   },
   "outputs": [],
   "source": [
    "#Naive-Bayes\n",
    "\n",
    "nb_model = GaussianNB().fit(X_train_list, y_train_list) \n",
    "gnb_predictions = nb_model.predict(X_test) \n",
    "\n",
    "# accuracy on X_test \n",
    "nb_accuracy = nb_model.score(X_test_list, y_test_list) \n",
    "print(nb_accuracy) \n",
    "\n",
    "# creating a confusion matrix \n",
    "# nb_cm = confusion_matrix(y_test, gnb_predictions) "
   ]
  },
  {
   "cell_type": "code",
   "execution_count": null,
   "metadata": {},
   "outputs": [],
   "source": [
    "#Implementing Logistic Regression\n",
    "logreg = LogisticRegression()\n",
    "logreg.fit(X_train_list, y_train_list)\n",
    "y_pred = logreg.predict(X_test_list)\n",
    "print(metrics.accuracy_score(y_test_list, y_pred))"
   ]
  },
  {
   "cell_type": "code",
   "execution_count": null,
   "metadata": {},
   "outputs": [],
   "source": [
    "#Implementing Random Forest\n",
    "from sklearn.ensemble import RandomForestRegressor\n",
    "\n",
    "regressor = RandomForestRegressor(n_estimators=20, random_state=0)  \n",
    "regressor.fit(X_train, y_train)  \n",
    "y_pred = regressor.predict(X_test)  \n",
    "print(metrics.accuracy_score(y_test, y_pred))"
   ]
  }
 ],
 "metadata": {
  "accelerator": "GPU",
  "colab": {
   "collapsed_sections": [],
   "name": "ecommerce.ipynb",
   "provenance": [],
   "version": "0.3.2"
  },
  "kernelspec": {
   "display_name": "Python 3",
   "language": "python",
   "name": "python3"
  },
  "language_info": {
   "codemirror_mode": {
    "name": "ipython",
    "version": 3
   },
   "file_extension": ".py",
   "mimetype": "text/x-python",
   "name": "python",
   "nbconvert_exporter": "python",
   "pygments_lexer": "ipython3",
   "version": "3.6.7"
  }
 },
 "nbformat": 4,
 "nbformat_minor": 1
}
