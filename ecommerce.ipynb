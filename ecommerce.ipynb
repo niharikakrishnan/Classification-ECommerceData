{
 "cells": [
  {
   "cell_type": "markdown",
   "metadata": {
    "colab_type": "text",
    "id": "QYg_pZ9NuHkY"
   },
   "source": [
    "# Customer Classification using E-Commerce Dataset\n"
   ]
  },
  {
   "cell_type": "markdown",
   "metadata": {
    "colab_type": "text",
    "id": "J4zKjTKxuHka"
   },
   "source": [
    "## About Dataset\n",
    "This is a transnational data set which contains all the transactions occurring between 01/12/2010 and 09/12/2011 for a UK-based and registered non-store online retail.The company mainly sells unique all-occasion gifts. Many customers of the company are wholesalers."
   ]
  },
  {
   "cell_type": "markdown",
   "metadata": {
    "colab_type": "text",
    "id": "kh6nl9youHkd"
   },
   "source": [
    "## Aim\n",
    "We aim to implement various classification algorithms like SVM, Logistic Regression, Naive Bayes, Random Forest, SGD, k-NN to predict a customer's origin and to compare the performance of these supervised machine learning models."
   ]
  },
  {
   "cell_type": "markdown",
   "metadata": {
    "colab_type": "text",
    "id": "khoVbiFRuHke"
   },
   "source": [
    "### 1. Data Processing"
   ]
  },
  {
   "cell_type": "code",
   "execution_count": 115,
   "metadata": {
    "colab": {},
    "colab_type": "code",
    "id": "20hOiKQsuHkf"
   },
   "outputs": [],
   "source": [
    "#Importing necessary libraries\n",
    "import numpy as np\n",
    "import pandas as pd \n",
    "import matplotlib.pyplot as plt\n",
    "import seaborn as sns\n",
    "import sklearn\n",
    "import warnings\n",
    "warnings.filterwarnings('ignore')"
   ]
  },
  {
   "cell_type": "code",
   "execution_count": 116,
   "metadata": {
    "colab": {},
    "colab_type": "code",
    "id": "-yBy3NZRuHkm"
   },
   "outputs": [],
   "source": [
    "#Loading dataset\n",
    "df = pd.read_csv('data.csv', encoding = 'ISO-8859-1')"
   ]
  },
  {
   "cell_type": "code",
   "execution_count": 117,
   "metadata": {
    "colab": {},
    "colab_type": "code",
    "id": "9yLCOoyEuHks",
    "scrolled": false
   },
   "outputs": [],
   "source": [
    "#Function to display information about the dataset\n",
    "def information(df):\n",
    "    print(df.describe())\n",
    "    print(df.dtypes)\n",
    "    print(df.head())\n",
    "\n",
    "def shape(df):\n",
    "    print(df.shape)"
   ]
  },
  {
   "cell_type": "code",
   "execution_count": 79,
   "metadata": {
    "colab": {},
    "colab_type": "code",
    "id": "mLSH97nHuHkx"
   },
   "outputs": [
    {
     "name": "stdout",
     "output_type": "stream",
     "text": [
      "(541909, 8)\n",
      "None\n"
     ]
    }
   ],
   "source": [
    "# Displaying data set information\n",
    "print(shape(df))\n",
    "# print(information(df)"
   ]
  },
  {
   "cell_type": "code",
   "execution_count": 118,
   "metadata": {
    "colab": {},
    "colab_type": "code",
    "id": "bX5Die5GXg9g"
   },
   "outputs": [],
   "source": [
    "#Extracting Year, Month, Day and Hour from TimeStamp\n",
    "df.InvoiceDate = pd.to_datetime(df.InvoiceDate, format=\"%m/%d/%Y %H:%M\")\n",
    "df['Year'] = df['InvoiceDate'].dt.year\n",
    "df['Month'] = df['InvoiceDate'].dt.month \n",
    "df['Day'] = df['InvoiceDate'].dt.day \n",
    "df['Hour'] = df['InvoiceDate'].dt.hour "
   ]
  },
  {
   "cell_type": "code",
   "execution_count": 119,
   "metadata": {
    "colab": {
     "base_uri": "https://localhost:8080/",
     "height": 246
    },
    "colab_type": "code",
    "id": "62BVs0RpuHk4",
    "outputId": "54b2dba9-4bb2-4a5e-993e-2ac9ade6d040"
   },
   "outputs": [
    {
     "data": {
      "text/plain": [
       "CustomerID     135080\n",
       "Description      1454\n",
       "Hour                0\n",
       "Day                 0\n",
       "Month               0\n",
       "Year                0\n",
       "Country             0\n",
       "UnitPrice           0\n",
       "InvoiceDate         0\n",
       "Quantity            0\n",
       "StockCode           0\n",
       "InvoiceNo           0\n",
       "dtype: int64"
      ]
     },
     "execution_count": 119,
     "metadata": {},
     "output_type": "execute_result"
    }
   ],
   "source": [
    "#Check missing values for each column\n",
    "df.isnull().sum().sort_values(ascending=False)"
   ]
  },
  {
   "cell_type": "code",
   "execution_count": 120,
   "metadata": {
    "colab": {
     "base_uri": "https://localhost:8080/",
     "height": 34
    },
    "colab_type": "code",
    "id": "j0Ukwc8fuHlE",
    "outputId": "61b4ab1a-17f4-4cd4-f5c2-a726e1e1a41d"
   },
   "outputs": [
    {
     "name": "stdout",
     "output_type": "stream",
     "text": [
      "(536641, 12)\n"
     ]
    }
   ],
   "source": [
    "# Drop duplicates by keeping the first value\n",
    "df.drop_duplicates(keep='first', inplace=True)\n",
    "shape(df)"
   ]
  },
  {
   "cell_type": "code",
   "execution_count": 121,
   "metadata": {},
   "outputs": [
    {
     "name": "stdout",
     "output_type": "stream",
     "text": [
      "(536641, 11)\n"
     ]
    }
   ],
   "source": [
    "# Drop Invoice Date since values extracted\n",
    "df.drop(columns=['InvoiceDate'], inplace=True)\n",
    "shape(df)"
   ]
  },
  {
   "cell_type": "markdown",
   "metadata": {
    "colab_type": "text",
    "id": "z82wfOiKuHlL"
   },
   "source": [
    "### 2. Exploratory Data Analysis"
   ]
  },
  {
   "cell_type": "markdown",
   "metadata": {
    "colab_type": "text",
    "id": "0lzZ5ERyuHlM"
   },
   "source": [
    "#### Exploring the content of variables\n",
    "\n",
    "This dataframe contains 8 variables that correspond to:\n",
    "<br><br>\n",
    "__InvoiceNo:__ Invoice number. Nominal - A 6-digit integral number uniquely assigned to each transaction. If this code starts with letter 'C', it indicates a cancellation. <br>\n",
    "__StockCode:__ Product code. Nominal - A 5-digit integral number uniquely assigned to each distinct product.<br>\n",
    "__Description:__ Product (item) name. Nominal. \n",
    "<br>\n",
    "__Quantity:__ Numeric - The quantities of each product (item) per transaction. <br>\n",
    "__InvoiceDate:__ Invice Date and time. Numeric - The day and time when each transaction was generated. <br>\n",
    "__UnitPrice:__ Unit price. Numeric - Price per unit of the product <br>\n",
    "__CustomerID:__ Customer number. Nominal - A 5-digit integral number uniquely assigned to each customer. <br>\n",
    "__Country:__ Country name. Nominal - The name of the country where each customer resides.<br>"
   ]
  },
  {
   "cell_type": "code",
   "execution_count": 122,
   "metadata": {},
   "outputs": [
    {
     "name": "stdout",
     "output_type": "stream",
     "text": [
      "38\n",
      "4223\n",
      "4070\n",
      "25900\n",
      "4372\n"
     ]
    }
   ],
   "source": [
    "#Count the total number of countries - y label - multi-class classification with 37 classes\n",
    "print(df['Country'].nunique())\n",
    "print(df['Description'].nunique())\n",
    "print(df['StockCode'].nunique())\n",
    "print(df['InvoiceNo'].nunique())\n",
    "print(df['CustomerID'].nunique())"
   ]
  },
  {
   "cell_type": "code",
   "execution_count": 123,
   "metadata": {},
   "outputs": [
    {
     "name": "stdout",
     "output_type": "stream",
     "text": [
      "(536641, 12)\n"
     ]
    }
   ],
   "source": [
    "#We now add another variable - Total Price for better EDA\n",
    "df['TotalPrice'] = df['UnitPrice'] * df['Quantity']\n",
    "shape(df)"
   ]
  },
  {
   "cell_type": "code",
   "execution_count": 124,
   "metadata": {},
   "outputs": [
    {
     "data": {
      "image/png": "[encoded data removed]",
      "text/plain": [
       "<Figure size 432x288 with 1 Axes>"
      ]
     },
     "metadata": {
      "needs_background": "light"
     },
     "output_type": "display_data"
    }
   ],
   "source": [
    "# Number of orders made by each country\n",
    "total_orders=df.groupby('Country')['Quantity'].count().sort_values(ascending=False)\n",
    "total_orders.plot('bar')\n",
    "plt.xlabel('Country')\n",
    "plt.ylabel('Number of Orders')\n",
    "plt.title('Number of Orders per Country', fontsize=16)\n",
    "plt.show()"
   ]
  },
  {
   "cell_type": "code",
   "execution_count": 125,
   "metadata": {},
   "outputs": [
    {
     "data": {
      "image/png": "[encoded data removed]",
      "text/plain": [
       "<Figure size 432x288 with 1 Axes>"
      ]
     },
     "metadata": {
      "needs_background": "light"
     },
     "output_type": "display_data"
    }
   ],
   "source": [
    "#Total amount spent per country\n",
    "total_amount=df.groupby('Country')['TotalPrice'].mean().sort_values(ascending=False)\n",
    "total_amount.plot('bar')\n",
    "plt.xlabel('Country')\n",
    "plt.ylabel('Total amount')\n",
    "plt.title('Total amount spent per Country', fontsize=16)\n",
    "plt.show()"
   ]
  },
  {
   "cell_type": "code",
   "execution_count": 126,
   "metadata": {},
   "outputs": [
    {
     "data": {
      "image/png": "[encoded data removed]",
      "text/plain": [
       "<Figure size 432x288 with 1 Axes>"
      ]
     },
     "metadata": {
      "needs_background": "light"
     },
     "output_type": "display_data"
    }
   ],
   "source": [
    "#Mean amount spent per country plot\n",
    "mean_amount=df.groupby('Country')['TotalPrice'].mean().sort_values(ascending=False)\n",
    "mean_amount.plot('bar')\n",
    "plt.xlabel('Country')\n",
    "plt.ylabel('Total Purchase')\n",
    "plt.title('Amount spent by every Country', fontsize=16)\n",
    "plt.show()"
   ]
  },
  {
   "cell_type": "code",
   "execution_count": 134,
   "metadata": {},
   "outputs": [
    {
     "data": {
      "image/png": "[encoded data removed]",
      "text/plain": [
       "<Figure size 432x288 with 1 Axes>"
      ]
     },
     "metadata": {
      "needs_background": "light"
     },
     "output_type": "display_data"
    }
   ],
   "source": [
    "high_descrip = df.groupby('Description')['Quantity'].count().sort_values(ascending=False)[:10]\n",
    "high_descrip.plot('bar')\n",
    "plt.xlabel('Description')\n",
    "plt.ylabel('Total Quantity')\n",
    "plt.title('Items most purchased', fontsize=16)\n",
    "plt.show()"
   ]
  },
  {
   "cell_type": "code",
   "execution_count": 135,
   "metadata": {},
   "outputs": [],
   "source": [
    "#Assign numbers categorically to each unique description \n",
    "df['Description'] = pd.Categorical(df['Description'])\n",
    "df['Description_Code'] = df['Description'].cat.codes\n",
    "df.drop(columns=['Description'], inplace=True)"
   ]
  },
  {
   "cell_type": "code",
   "execution_count": 136,
   "metadata": {},
   "outputs": [],
   "source": [
    "#Assign numbers categorically to each unique description  \n",
    "df['Country'] = pd.Categorical(df['Country'])\n",
    "df['Country_Code'] = df['Country'].cat.codes\n",
    "df.drop(columns=['Country'], inplace=True)"
   ]
  },
  {
   "cell_type": "code",
   "execution_count": 137,
   "metadata": {
    "colab": {
     "base_uri": "https://localhost:8080/",
     "height": 330
    },
    "colab_type": "code",
    "id": "ewhiDy-zr5Qg",
    "outputId": "52427f4d-f47b-4624-fdde-ff15f2c34ef1",
    "scrolled": true
   },
   "outputs": [
    {
     "data": {
      "image/png": "[encoded data removed]",
      "text/plain": [
       "<Figure size 432x288 with 1 Axes>"
      ]
     },
     "metadata": {},
     "output_type": "display_data"
    }
   ],
   "source": [
    "# Analysing the percentage of not null customers in the dataset. Inference - 25.2% Null, 74.8% Not Null\n",
    "CustomerID_notnull = df.loc[~df['CustomerID'].isnull()] \n",
    "CustomerID_null = df.loc[df['CustomerID'].isnull()] \n",
    "\n",
    "pie_data = []\n",
    "pie_data.append(len(CustomerID_null))\n",
    "pie_data.append(len(CustomerID_notnull))\n",
    "plt.pie(pie_data, labels=['Null', 'Not Null'], autopct='%1.1f%%',)\n",
    "plt.show()"
   ]
  },
  {
   "cell_type": "code",
   "execution_count": 138,
   "metadata": {
    "colab": {
     "base_uri": "https://localhost:8080/",
     "height": 210
    },
    "colab_type": "code",
    "id": "VomsM3TG5O4B",
    "outputId": "5b8301be-15c0-473d-dca5-b6c404f1df18"
   },
   "outputs": [
    {
     "data": {
      "text/plain": [
       "Country_Code\n",
       "36    133572\n",
       "10       709\n",
       "16       284\n",
       "37       201\n",
       "33       117\n",
       "13        66\n",
       "18        47\n",
       "27        39\n",
       "2          2\n",
       "dtype: int64"
      ]
     },
     "execution_count": 138,
     "metadata": {},
     "output_type": "execute_result"
    }
   ],
   "source": [
    "# To find from which country the maximum number of Null occurs\n",
    "CustomerID_null.groupby(['Country_Code']).size().sort_values(ascending=False)"
   ]
  },
  {
   "cell_type": "code",
   "execution_count": 139,
   "metadata": {
    "colab": {
     "base_uri": "https://localhost:8080/",
     "height": 574
    },
    "colab_type": "code",
    "id": "nRBcL7Kt0ch2",
    "outputId": "ef8b5596-270d-44ec-9f4a-e78a0a34a312"
   },
   "outputs": [
    {
     "data": {
      "text/plain": [
       "<matplotlib.axes._subplots.AxesSubplot at 0x23fe14741d0>"
      ]
     },
     "execution_count": 139,
     "metadata": {},
     "output_type": "execute_result"
    },
    {
     "data": {
      "image/png": "[encoded data removed]",
      "text/plain": [
       "<Figure size 1008x648 with 2 Axes>"
      ]
     },
     "metadata": {
      "needs_background": "light"
     },
     "output_type": "display_data"
    }
   ],
   "source": [
    "#To find the ratio of quantity of units purchased by null & not null customers\n",
    "month_null = (CustomerID_null.groupby(['Month'])['Quantity'].sum())\n",
    "month_notnull  = (CustomerID_notnull.groupby(['Month'])['Quantity'].sum())\n",
    "month = pd.DataFrame([month_null, month_notnull]).transpose()\n",
    "\n",
    "fig, axes = plt.subplots(nrows=1, ncols=2, figsize=(14,9))\n",
    "month.plot.bar(stacked=True, ax=axes[0])\n",
    "\n",
    "month.plot.box(ax=axes[1])"
   ]
  },
  {
   "cell_type": "code",
   "execution_count": 140,
   "metadata": {
    "colab": {
     "base_uri": "https://localhost:8080/",
     "height": 330
    },
    "colab_type": "code",
    "id": "72ME1IA35pM9",
    "outputId": "30288e51-0878-412b-a348-dd55545ae77e"
   },
   "outputs": [
    {
     "data": {
      "image/png": "[encoded data removed]",
      "text/plain": [
       "<Figure size 432x288 with 1 Axes>"
      ]
     },
     "metadata": {},
     "output_type": "display_data"
    }
   ],
   "source": [
    "pie_data = []\n",
    "pie_data.append(CustomerID_null['Quantity'].sum())\n",
    "pie_data.append(CustomerID_notnull['Quantity'].sum())\n",
    "plt.pie(pie_data, labels=['Null', 'Non Null'], autopct='%1.1f%%',)\n",
    "plt.show()"
   ]
  },
  {
   "cell_type": "code",
   "execution_count": 141,
   "metadata": {
    "colab": {},
    "colab_type": "code",
    "id": "VtcMIb5O54ZF"
   },
   "outputs": [
    {
     "data": {
      "image/png": "[encoded data removed]",
      "text/plain": [
       "<Figure size 432x288 with 1 Axes>"
      ]
     },
     "metadata": {},
     "output_type": "display_data"
    }
   ],
   "source": [
    "#To find the ratio of amount spent by null & not null customers\n",
    "CustomerID_notnull['Total_Amount'] = CustomerID_notnull['Quantity']*CustomerID_notnull['UnitPrice']\n",
    "CustomerID_null['Total_Amount'] = CustomerID_null['Quantity']*CustomerID_null['UnitPrice']\n",
    "pie_data = []\n",
    "pie_data.append(CustomerID_null['Total_Amount'].sum())\n",
    "pie_data.append(CustomerID_notnull['Total_Amount'].sum())\n",
    "plt.pie(pie_data, labels=['Null', 'Non Null'], autopct='%1.1f%%',)\n",
    "plt.show()"
   ]
  },
  {
   "cell_type": "code",
   "execution_count": 142,
   "metadata": {
    "colab": {
     "base_uri": "https://localhost:8080/",
     "height": 347
    },
    "colab_type": "code",
    "id": "e-UYeLeB6msp",
    "outputId": "1858602f-8caa-4e39-e593-bbea45d40a3f"
   },
   "outputs": [
    {
     "name": "stdout",
     "output_type": "stream",
     "text": [
      "[]\n"
     ]
    }
   ],
   "source": [
    "# To analyse if any invoice intersects with the null/notnull CustomerID - Inference: None\n",
    "intersect = pd.Series(np.intersect1d(CustomerID_null['InvoiceNo'].values, CustomerID_notnull['InvoiceNo'].values))\n",
    "# intersect = pd.Series(np.intersect1d(CustomerID_null['Description_Code'].values, CustomerID_notnull['Description_Code'].values))\n",
    "print(intersect.values)"
   ]
  },
  {
   "cell_type": "code",
   "execution_count": 143,
   "metadata": {
    "colab": {
     "base_uri": "https://localhost:8080/",
     "height": 238
    },
    "colab_type": "code",
    "id": "yYhxGkSImxbc",
    "outputId": "82791ad8-9412-4e57-f8dc-04e5d566d622"
   },
   "outputs": [
    {
     "data": {
      "text/html": [
       "<style  type=\"text/css\" >\n",
       "    #T_eb5f441c_29cf_11e9_997e_4c3488ea64a0row0_col0 {\n",
       "            background-color:  #b40426;\n",
       "        }    #T_eb5f441c_29cf_11e9_997e_4c3488ea64a0row0_col1 {\n",
       "            background-color:  #3b4cc0;\n",
       "        }    #T_eb5f441c_29cf_11e9_997e_4c3488ea64a0row0_col2 {\n",
       "            background-color:  #7597f6;\n",
       "        }    #T_eb5f441c_29cf_11e9_997e_4c3488ea64a0row0_col3 {\n",
       "            background-color:  #a5c3fe;\n",
       "        }    #T_eb5f441c_29cf_11e9_997e_4c3488ea64a0row0_col4 {\n",
       "            background-color:  #92b4fe;\n",
       "        }    #T_eb5f441c_29cf_11e9_997e_4c3488ea64a0row0_col5 {\n",
       "            background-color:  #98b9ff;\n",
       "        }    #T_eb5f441c_29cf_11e9_997e_4c3488ea64a0row0_col6 {\n",
       "            background-color:  #6282ea;\n",
       "        }    #T_eb5f441c_29cf_11e9_997e_4c3488ea64a0row0_col7 {\n",
       "            background-color:  #f18f71;\n",
       "        }    #T_eb5f441c_29cf_11e9_997e_4c3488ea64a0row0_col8 {\n",
       "            background-color:  #9dbdff;\n",
       "        }    #T_eb5f441c_29cf_11e9_997e_4c3488ea64a0row0_col9 {\n",
       "            background-color:  #6384eb;\n",
       "        }    #T_eb5f441c_29cf_11e9_997e_4c3488ea64a0row1_col0 {\n",
       "            background-color:  #3b4cc0;\n",
       "        }    #T_eb5f441c_29cf_11e9_997e_4c3488ea64a0row1_col1 {\n",
       "            background-color:  #b40426;\n",
       "        }    #T_eb5f441c_29cf_11e9_997e_4c3488ea64a0row1_col2 {\n",
       "            background-color:  #94b6ff;\n",
       "        }    #T_eb5f441c_29cf_11e9_997e_4c3488ea64a0row1_col3 {\n",
       "            background-color:  #88abfd;\n",
       "        }    #T_eb5f441c_29cf_11e9_997e_4c3488ea64a0row1_col4 {\n",
       "            background-color:  #97b8ff;\n",
       "        }    #T_eb5f441c_29cf_11e9_997e_4c3488ea64a0row1_col5 {\n",
       "            background-color:  #97b8ff;\n",
       "        }    #T_eb5f441c_29cf_11e9_997e_4c3488ea64a0row1_col6 {\n",
       "            background-color:  #9ebeff;\n",
       "        }    #T_eb5f441c_29cf_11e9_997e_4c3488ea64a0row1_col7 {\n",
       "            background-color:  #e0dbd8;\n",
       "        }    #T_eb5f441c_29cf_11e9_997e_4c3488ea64a0row1_col8 {\n",
       "            background-color:  #96b7ff;\n",
       "        }    #T_eb5f441c_29cf_11e9_997e_4c3488ea64a0row1_col9 {\n",
       "            background-color:  #9bbcff;\n",
       "        }    #T_eb5f441c_29cf_11e9_997e_4c3488ea64a0row2_col0 {\n",
       "            background-color:  #3f53c6;\n",
       "        }    #T_eb5f441c_29cf_11e9_997e_4c3488ea64a0row2_col1 {\n",
       "            background-color:  #6282ea;\n",
       "        }    #T_eb5f441c_29cf_11e9_997e_4c3488ea64a0row2_col2 {\n",
       "            background-color:  #b40426;\n",
       "        }    #T_eb5f441c_29cf_11e9_997e_4c3488ea64a0row2_col3 {\n",
       "            background-color:  #5a78e4;\n",
       "        }    #T_eb5f441c_29cf_11e9_997e_4c3488ea64a0row2_col4 {\n",
       "            background-color:  #6f92f3;\n",
       "        }    #T_eb5f441c_29cf_11e9_997e_4c3488ea64a0row2_col5 {\n",
       "            background-color:  #6485ec;\n",
       "        }    #T_eb5f441c_29cf_11e9_997e_4c3488ea64a0row2_col6 {\n",
       "            background-color:  #7699f6;\n",
       "        }    #T_eb5f441c_29cf_11e9_997e_4c3488ea64a0row2_col7 {\n",
       "            background-color:  #3b4cc0;\n",
       "        }    #T_eb5f441c_29cf_11e9_997e_4c3488ea64a0row2_col8 {\n",
       "            background-color:  #6384eb;\n",
       "        }    #T_eb5f441c_29cf_11e9_997e_4c3488ea64a0row2_col9 {\n",
       "            background-color:  #dddcdc;\n",
       "        }    #T_eb5f441c_29cf_11e9_997e_4c3488ea64a0row3_col0 {\n",
       "            background-color:  #adc9fd;\n",
       "        }    #T_eb5f441c_29cf_11e9_997e_4c3488ea64a0row3_col1 {\n",
       "            background-color:  #93b5fe;\n",
       "        }    #T_eb5f441c_29cf_11e9_997e_4c3488ea64a0row3_col2 {\n",
       "            background-color:  #98b9ff;\n",
       "        }    #T_eb5f441c_29cf_11e9_997e_4c3488ea64a0row3_col3 {\n",
       "            background-color:  #b40426;\n",
       "        }    #T_eb5f441c_29cf_11e9_997e_4c3488ea64a0row3_col4 {\n",
       "            background-color:  #3b4cc0;\n",
       "        }    #T_eb5f441c_29cf_11e9_997e_4c3488ea64a0row3_col5 {\n",
       "            background-color:  #c6d6f1;\n",
       "        }    #T_eb5f441c_29cf_11e9_997e_4c3488ea64a0row3_col6 {\n",
       "            background-color:  #9fbfff;\n",
       "        }    #T_eb5f441c_29cf_11e9_997e_4c3488ea64a0row3_col7 {\n",
       "            background-color:  #a3c2fe;\n",
       "        }    #T_eb5f441c_29cf_11e9_997e_4c3488ea64a0row3_col8 {\n",
       "            background-color:  #a6c4fe;\n",
       "        }    #T_eb5f441c_29cf_11e9_997e_4c3488ea64a0row3_col9 {\n",
       "            background-color:  #9abbff;\n",
       "        }    #T_eb5f441c_29cf_11e9_997e_4c3488ea64a0row4_col0 {\n",
       "            background-color:  #9bbcff;\n",
       "        }    #T_eb5f441c_29cf_11e9_997e_4c3488ea64a0row4_col1 {\n",
       "            background-color:  #a1c0ff;\n",
       "        }    #T_eb5f441c_29cf_11e9_997e_4c3488ea64a0row4_col2 {\n",
       "            background-color:  #a9c6fd;\n",
       "        }    #T_eb5f441c_29cf_11e9_997e_4c3488ea64a0row4_col3 {\n",
       "            background-color:  #3b4cc0;\n",
       "        }    #T_eb5f441c_29cf_11e9_997e_4c3488ea64a0row4_col4 {\n",
       "            background-color:  #b40426;\n",
       "        }    #T_eb5f441c_29cf_11e9_997e_4c3488ea64a0row4_col5 {\n",
       "            background-color:  #7da0f9;\n",
       "        }    #T_eb5f441c_29cf_11e9_997e_4c3488ea64a0row4_col6 {\n",
       "            background-color:  #a7c5fe;\n",
       "        }    #T_eb5f441c_29cf_11e9_997e_4c3488ea64a0row4_col7 {\n",
       "            background-color:  #9abbff;\n",
       "        }    #T_eb5f441c_29cf_11e9_997e_4c3488ea64a0row4_col8 {\n",
       "            background-color:  #a3c2fe;\n",
       "        }    #T_eb5f441c_29cf_11e9_997e_4c3488ea64a0row4_col9 {\n",
       "            background-color:  #a6c4fe;\n",
       "        }    #T_eb5f441c_29cf_11e9_997e_4c3488ea64a0row5_col0 {\n",
       "            background-color:  #6485ec;\n",
       "        }    #T_eb5f441c_29cf_11e9_997e_4c3488ea64a0row5_col1 {\n",
       "            background-color:  #6282ea;\n",
       "        }    #T_eb5f441c_29cf_11e9_997e_4c3488ea64a0row5_col2 {\n",
       "            background-color:  #6282ea;\n",
       "        }    #T_eb5f441c_29cf_11e9_997e_4c3488ea64a0row5_col3 {\n",
       "            background-color:  #94b6ff;\n",
       "        }    #T_eb5f441c_29cf_11e9_997e_4c3488ea64a0row5_col4 {\n",
       "            background-color:  #3b4cc0;\n",
       "        }    #T_eb5f441c_29cf_11e9_997e_4c3488ea64a0row5_col5 {\n",
       "            background-color:  #b40426;\n",
       "        }    #T_eb5f441c_29cf_11e9_997e_4c3488ea64a0row5_col6 {\n",
       "            background-color:  #6384eb;\n",
       "        }    #T_eb5f441c_29cf_11e9_997e_4c3488ea64a0row5_col7 {\n",
       "            background-color:  #6485ec;\n",
       "        }    #T_eb5f441c_29cf_11e9_997e_4c3488ea64a0row5_col8 {\n",
       "            background-color:  #6485ec;\n",
       "        }    #T_eb5f441c_29cf_11e9_997e_4c3488ea64a0row5_col9 {\n",
       "            background-color:  #6282ea;\n",
       "        }    #T_eb5f441c_29cf_11e9_997e_4c3488ea64a0row6_col0 {\n",
       "            background-color:  #3b4cc0;\n",
       "        }    #T_eb5f441c_29cf_11e9_997e_4c3488ea64a0row6_col1 {\n",
       "            background-color:  #7a9df8;\n",
       "        }    #T_eb5f441c_29cf_11e9_997e_4c3488ea64a0row6_col2 {\n",
       "            background-color:  #82a6fb;\n",
       "        }    #T_eb5f441c_29cf_11e9_997e_4c3488ea64a0row6_col3 {\n",
       "            background-color:  #6f92f3;\n",
       "        }    #T_eb5f441c_29cf_11e9_997e_4c3488ea64a0row6_col4 {\n",
       "            background-color:  #7a9df8;\n",
       "        }    #T_eb5f441c_29cf_11e9_997e_4c3488ea64a0row6_col5 {\n",
       "            background-color:  #7295f4;\n",
       "        }    #T_eb5f441c_29cf_11e9_997e_4c3488ea64a0row6_col6 {\n",
       "            background-color:  #b40426;\n",
       "        }    #T_eb5f441c_29cf_11e9_997e_4c3488ea64a0row6_col7 {\n",
       "            background-color:  #3d50c3;\n",
       "        }    #T_eb5f441c_29cf_11e9_997e_4c3488ea64a0row6_col8 {\n",
       "            background-color:  #7093f3;\n",
       "        }    #T_eb5f441c_29cf_11e9_997e_4c3488ea64a0row6_col9 {\n",
       "            background-color:  #96b7ff;\n",
       "        }    #T_eb5f441c_29cf_11e9_997e_4c3488ea64a0row7_col0 {\n",
       "            background-color:  #f59c7d;\n",
       "        }    #T_eb5f441c_29cf_11e9_997e_4c3488ea64a0row7_col1 {\n",
       "            background-color:  #cdd9ec;\n",
       "        }    #T_eb5f441c_29cf_11e9_997e_4c3488ea64a0row7_col2 {\n",
       "            background-color:  #485fd1;\n",
       "        }    #T_eb5f441c_29cf_11e9_997e_4c3488ea64a0row7_col3 {\n",
       "            background-color:  #7699f6;\n",
       "        }    #T_eb5f441c_29cf_11e9_997e_4c3488ea64a0row7_col4 {\n",
       "            background-color:  #6b8df0;\n",
       "        }    #T_eb5f441c_29cf_11e9_997e_4c3488ea64a0row7_col5 {\n",
       "            background-color:  #7396f5;\n",
       "        }    #T_eb5f441c_29cf_11e9_997e_4c3488ea64a0row7_col6 {\n",
       "            background-color:  #3d50c3;\n",
       "        }    #T_eb5f441c_29cf_11e9_997e_4c3488ea64a0row7_col7 {\n",
       "            background-color:  #b40426;\n",
       "        }    #T_eb5f441c_29cf_11e9_997e_4c3488ea64a0row7_col8 {\n",
       "            background-color:  #7699f6;\n",
       "        }    #T_eb5f441c_29cf_11e9_997e_4c3488ea64a0row7_col9 {\n",
       "            background-color:  #3b4cc0;\n",
       "        }    #T_eb5f441c_29cf_11e9_997e_4c3488ea64a0row8_col0 {\n",
       "            background-color:  #455cce;\n",
       "        }    #T_eb5f441c_29cf_11e9_997e_4c3488ea64a0row8_col1 {\n",
       "            background-color:  #3d50c3;\n",
       "        }    #T_eb5f441c_29cf_11e9_997e_4c3488ea64a0row8_col2 {\n",
       "            background-color:  #3d50c3;\n",
       "        }    #T_eb5f441c_29cf_11e9_997e_4c3488ea64a0row8_col3 {\n",
       "            background-color:  #455cce;\n",
       "        }    #T_eb5f441c_29cf_11e9_997e_4c3488ea64a0row8_col4 {\n",
       "            background-color:  #4257c9;\n",
       "        }    #T_eb5f441c_29cf_11e9_997e_4c3488ea64a0row8_col5 {\n",
       "            background-color:  #4055c8;\n",
       "        }    #T_eb5f441c_29cf_11e9_997e_4c3488ea64a0row8_col6 {\n",
       "            background-color:  #3d50c3;\n",
       "        }    #T_eb5f441c_29cf_11e9_997e_4c3488ea64a0row8_col7 {\n",
       "            background-color:  #4257c9;\n",
       "        }    #T_eb5f441c_29cf_11e9_997e_4c3488ea64a0row8_col8 {\n",
       "            background-color:  #b40426;\n",
       "        }    #T_eb5f441c_29cf_11e9_997e_4c3488ea64a0row8_col9 {\n",
       "            background-color:  #3b4cc0;\n",
       "        }    #T_eb5f441c_29cf_11e9_997e_4c3488ea64a0row9_col0 {\n",
       "            background-color:  #3c4ec2;\n",
       "        }    #T_eb5f441c_29cf_11e9_997e_4c3488ea64a0row9_col1 {\n",
       "            background-color:  #779af7;\n",
       "        }    #T_eb5f441c_29cf_11e9_997e_4c3488ea64a0row9_col2 {\n",
       "            background-color:  #e3d9d3;\n",
       "        }    #T_eb5f441c_29cf_11e9_997e_4c3488ea64a0row9_col3 {\n",
       "            background-color:  #6a8bef;\n",
       "        }    #T_eb5f441c_29cf_11e9_997e_4c3488ea64a0row9_col4 {\n",
       "            background-color:  #7a9df8;\n",
       "        }    #T_eb5f441c_29cf_11e9_997e_4c3488ea64a0row9_col5 {\n",
       "            background-color:  #7295f4;\n",
       "        }    #T_eb5f441c_29cf_11e9_997e_4c3488ea64a0row9_col6 {\n",
       "            background-color:  #97b8ff;\n",
       "        }    #T_eb5f441c_29cf_11e9_997e_4c3488ea64a0row9_col7 {\n",
       "            background-color:  #3b4cc0;\n",
       "        }    #T_eb5f441c_29cf_11e9_997e_4c3488ea64a0row9_col8 {\n",
       "            background-color:  #6e90f2;\n",
       "        }    #T_eb5f441c_29cf_11e9_997e_4c3488ea64a0row9_col9 {\n",
       "            background-color:  #b40426;\n",
       "        }</style>  \n",
       "<table id=\"T_eb5f441c_29cf_11e9_997e_4c3488ea64a0\" > \n",
       "<thead>    <tr> \n",
       "        <th class=\"blank level0\" ></th> \n",
       "        <th class=\"col_heading level0 col0\" >Quantity</th> \n",
       "        <th class=\"col_heading level0 col1\" >UnitPrice</th> \n",
       "        <th class=\"col_heading level0 col2\" >CustomerID</th> \n",
       "        <th class=\"col_heading level0 col3\" >Year</th> \n",
       "        <th class=\"col_heading level0 col4\" >Month</th> \n",
       "        <th class=\"col_heading level0 col5\" >Day</th> \n",
       "        <th class=\"col_heading level0 col6\" >Hour</th> \n",
       "        <th class=\"col_heading level0 col7\" >TotalPrice</th> \n",
       "        <th class=\"col_heading level0 col8\" >Description_Code</th> \n",
       "        <th class=\"col_heading level0 col9\" >Country_Code</th> \n",
       "    </tr></thead> \n",
       "<tbody>    <tr> \n",
       "        <th id=\"T_eb5f441c_29cf_11e9_997e_4c3488ea64a0level0_row0\" class=\"row_heading level0 row0\" >Quantity</th> \n",
       "        <td id=\"T_eb5f441c_29cf_11e9_997e_4c3488ea64a0row0_col0\" class=\"data row0 col0\" >1.0</td> \n",
       "        <td id=\"T_eb5f441c_29cf_11e9_997e_4c3488ea64a0row0_col1\" class=\"data row0 col1\" >-0.39</td> \n",
       "        <td id=\"T_eb5f441c_29cf_11e9_997e_4c3488ea64a0row0_col2\" class=\"data row0 col2\" >-0.14</td> \n",
       "        <td id=\"T_eb5f441c_29cf_11e9_997e_4c3488ea64a0row0_col3\" class=\"data row0 col3\" >0.051</td> \n",
       "        <td id=\"T_eb5f441c_29cf_11e9_997e_4c3488ea64a0row0_col4\" class=\"data row0 col4\" >-0.023</td> \n",
       "        <td id=\"T_eb5f441c_29cf_11e9_997e_4c3488ea64a0row0_col5\" class=\"data row0 col5\" >0.0049</td> \n",
       "        <td id=\"T_eb5f441c_29cf_11e9_997e_4c3488ea64a0row0_col6\" class=\"data row0 col6\" >-0.21</td> \n",
       "        <td id=\"T_eb5f441c_29cf_11e9_997e_4c3488ea64a0row0_col7\" class=\"data row0 col7\" >0.69</td> \n",
       "        <td id=\"T_eb5f441c_29cf_11e9_997e_4c3488ea64a0row0_col8\" class=\"data row0 col8\" >0.022</td> \n",
       "        <td id=\"T_eb5f441c_29cf_11e9_997e_4c3488ea64a0row0_col9\" class=\"data row0 col9\" >-0.21</td> \n",
       "    </tr>    <tr> \n",
       "        <th id=\"T_eb5f441c_29cf_11e9_997e_4c3488ea64a0level0_row1\" class=\"row_heading level0 row1\" >UnitPrice</th> \n",
       "        <td id=\"T_eb5f441c_29cf_11e9_997e_4c3488ea64a0row1_col0\" class=\"data row1 col0\" >-0.39</td> \n",
       "        <td id=\"T_eb5f441c_29cf_11e9_997e_4c3488ea64a0row1_col1\" class=\"data row1 col1\" >1.0</td> \n",
       "        <td id=\"T_eb5f441c_29cf_11e9_997e_4c3488ea64a0row1_col2\" class=\"data row1 col2\" >-0.013</td> \n",
       "        <td id=\"T_eb5f441c_29cf_11e9_997e_4c3488ea64a0row1_col3\" class=\"data row1 col3\" >-0.059</td> \n",
       "        <td id=\"T_eb5f441c_29cf_11e9_997e_4c3488ea64a0row1_col4\" class=\"data row1 col4\" >-0.0024</td> \n",
       "        <td id=\"T_eb5f441c_29cf_11e9_997e_4c3488ea64a0row1_col5\" class=\"data row1 col5\" >-0.0018</td> \n",
       "        <td id=\"T_eb5f441c_29cf_11e9_997e_4c3488ea64a0row1_col6\" class=\"data row1 col6\" >0.026</td> \n",
       "        <td id=\"T_eb5f441c_29cf_11e9_997e_4c3488ea64a0row1_col7\" class=\"data row1 col7\" >0.32</td> \n",
       "        <td id=\"T_eb5f441c_29cf_11e9_997e_4c3488ea64a0row1_col8\" class=\"data row1 col8\" >-0.0073</td> \n",
       "        <td id=\"T_eb5f441c_29cf_11e9_997e_4c3488ea64a0row1_col9\" class=\"data row1 col9\" >0.014</td> \n",
       "    </tr>    <tr> \n",
       "        <th id=\"T_eb5f441c_29cf_11e9_997e_4c3488ea64a0level0_row2\" class=\"row_heading level0 row2\" >CustomerID</th> \n",
       "        <td id=\"T_eb5f441c_29cf_11e9_997e_4c3488ea64a0row2_col0\" class=\"data row2 col0\" >-0.14</td> \n",
       "        <td id=\"T_eb5f441c_29cf_11e9_997e_4c3488ea64a0row2_col1\" class=\"data row2 col1\" >-0.013</td> \n",
       "        <td id=\"T_eb5f441c_29cf_11e9_997e_4c3488ea64a0row2_col2\" class=\"data row2 col2\" >1.0</td> \n",
       "        <td id=\"T_eb5f441c_29cf_11e9_997e_4c3488ea64a0row2_col3\" class=\"data row2 col3\" >-0.036</td> \n",
       "        <td id=\"T_eb5f441c_29cf_11e9_997e_4c3488ea64a0row2_col4\" class=\"data row2 col4\" >0.032</td> \n",
       "        <td id=\"T_eb5f441c_29cf_11e9_997e_4c3488ea64a0row2_col5\" class=\"data row2 col5\" >-0.0025</td> \n",
       "        <td id=\"T_eb5f441c_29cf_11e9_997e_4c3488ea64a0row2_col6\" class=\"data row2 col6\" >0.056</td> \n",
       "        <td id=\"T_eb5f441c_29cf_11e9_997e_4c3488ea64a0row2_col7\" class=\"data row2 col7\" >-0.16</td> \n",
       "        <td id=\"T_eb5f441c_29cf_11e9_997e_4c3488ea64a0row2_col8\" class=\"data row2 col8\" >-0.0046</td> \n",
       "        <td id=\"T_eb5f441c_29cf_11e9_997e_4c3488ea64a0row2_col9\" class=\"data row2 col9\" >0.42</td> \n",
       "    </tr>    <tr> \n",
       "        <th id=\"T_eb5f441c_29cf_11e9_997e_4c3488ea64a0level0_row3\" class=\"row_heading level0 row3\" >Year</th> \n",
       "        <td id=\"T_eb5f441c_29cf_11e9_997e_4c3488ea64a0row3_col0\" class=\"data row3 col0\" >0.051</td> \n",
       "        <td id=\"T_eb5f441c_29cf_11e9_997e_4c3488ea64a0row3_col1\" class=\"data row3 col1\" >-0.059</td> \n",
       "        <td id=\"T_eb5f441c_29cf_11e9_997e_4c3488ea64a0row3_col2\" class=\"data row3 col2\" >-0.036</td> \n",
       "        <td id=\"T_eb5f441c_29cf_11e9_997e_4c3488ea64a0row3_col3\" class=\"data row3 col3\" >1.0</td> \n",
       "        <td id=\"T_eb5f441c_29cf_11e9_997e_4c3488ea64a0row3_col4\" class=\"data row3 col4\" >-0.44</td> \n",
       "        <td id=\"T_eb5f441c_29cf_11e9_997e_4c3488ea64a0row3_col5\" class=\"data row3 col5\" >0.16</td> \n",
       "        <td id=\"T_eb5f441c_29cf_11e9_997e_4c3488ea64a0row3_col6\" class=\"data row3 col6\" >-0.0094</td> \n",
       "        <td id=\"T_eb5f441c_29cf_11e9_997e_4c3488ea64a0row3_col7\" class=\"data row3 col7\" >0.009</td> \n",
       "        <td id=\"T_eb5f441c_29cf_11e9_997e_4c3488ea64a0row3_col8\" class=\"data row3 col8\" >0.021</td> \n",
       "        <td id=\"T_eb5f441c_29cf_11e9_997e_4c3488ea64a0row3_col9\" class=\"data row3 col9\" >-0.03</td> \n",
       "    </tr>    <tr> \n",
       "        <th id=\"T_eb5f441c_29cf_11e9_997e_4c3488ea64a0level0_row4\" class=\"row_heading level0 row4\" >Month</th> \n",
       "        <td id=\"T_eb5f441c_29cf_11e9_997e_4c3488ea64a0row4_col0\" class=\"data row4 col0\" >-0.023</td> \n",
       "        <td id=\"T_eb5f441c_29cf_11e9_997e_4c3488ea64a0row4_col1\" class=\"data row4 col1\" >-0.0024</td> \n",
       "        <td id=\"T_eb5f441c_29cf_11e9_997e_4c3488ea64a0row4_col2\" class=\"data row4 col2\" >0.032</td> \n",
       "        <td id=\"T_eb5f441c_29cf_11e9_997e_4c3488ea64a0row4_col3\" class=\"data row4 col3\" >-0.44</td> \n",
       "        <td id=\"T_eb5f441c_29cf_11e9_997e_4c3488ea64a0row4_col4\" class=\"data row4 col4\" >1.0</td> \n",
       "        <td id=\"T_eb5f441c_29cf_11e9_997e_4c3488ea64a0row4_col5\" class=\"data row4 col5\" >-0.15</td> \n",
       "        <td id=\"T_eb5f441c_29cf_11e9_997e_4c3488ea64a0row4_col6\" class=\"data row4 col6\" >0.027</td> \n",
       "        <td id=\"T_eb5f441c_29cf_11e9_997e_4c3488ea64a0row4_col7\" class=\"data row4 col7\" >-0.028</td> \n",
       "        <td id=\"T_eb5f441c_29cf_11e9_997e_4c3488ea64a0row4_col8\" class=\"data row4 col8\" >0.011</td> \n",
       "        <td id=\"T_eb5f441c_29cf_11e9_997e_4c3488ea64a0row4_col9\" class=\"data row4 col9\" >0.023</td> \n",
       "    </tr>    <tr> \n",
       "        <th id=\"T_eb5f441c_29cf_11e9_997e_4c3488ea64a0level0_row5\" class=\"row_heading level0 row5\" >Day</th> \n",
       "        <td id=\"T_eb5f441c_29cf_11e9_997e_4c3488ea64a0row5_col0\" class=\"data row5 col0\" >0.0049</td> \n",
       "        <td id=\"T_eb5f441c_29cf_11e9_997e_4c3488ea64a0row5_col1\" class=\"data row5 col1\" >-0.0018</td> \n",
       "        <td id=\"T_eb5f441c_29cf_11e9_997e_4c3488ea64a0row5_col2\" class=\"data row5 col2\" >-0.0025</td> \n",
       "        <td id=\"T_eb5f441c_29cf_11e9_997e_4c3488ea64a0row5_col3\" class=\"data row5 col3\" >0.16</td> \n",
       "        <td id=\"T_eb5f441c_29cf_11e9_997e_4c3488ea64a0row5_col4\" class=\"data row5 col4\" >-0.15</td> \n",
       "        <td id=\"T_eb5f441c_29cf_11e9_997e_4c3488ea64a0row5_col5\" class=\"data row5 col5\" >1.0</td> \n",
       "        <td id=\"T_eb5f441c_29cf_11e9_997e_4c3488ea64a0row5_col6\" class=\"data row5 col6\" >0.00074</td> \n",
       "        <td id=\"T_eb5f441c_29cf_11e9_997e_4c3488ea64a0row5_col7\" class=\"data row5 col7\" >0.0039</td> \n",
       "        <td id=\"T_eb5f441c_29cf_11e9_997e_4c3488ea64a0row5_col8\" class=\"data row5 col8\" >0.0045</td> \n",
       "        <td id=\"T_eb5f441c_29cf_11e9_997e_4c3488ea64a0row5_col9\" class=\"data row5 col9\" >-0.0049</td> \n",
       "    </tr>    <tr> \n",
       "        <th id=\"T_eb5f441c_29cf_11e9_997e_4c3488ea64a0level0_row6\" class=\"row_heading level0 row6\" >Hour</th> \n",
       "        <td id=\"T_eb5f441c_29cf_11e9_997e_4c3488ea64a0row6_col0\" class=\"data row6 col0\" >-0.21</td> \n",
       "        <td id=\"T_eb5f441c_29cf_11e9_997e_4c3488ea64a0row6_col1\" class=\"data row6 col1\" >0.026</td> \n",
       "        <td id=\"T_eb5f441c_29cf_11e9_997e_4c3488ea64a0row6_col2\" class=\"data row6 col2\" >0.056</td> \n",
       "        <td id=\"T_eb5f441c_29cf_11e9_997e_4c3488ea64a0row6_col3\" class=\"data row6 col3\" >-0.0094</td> \n",
       "        <td id=\"T_eb5f441c_29cf_11e9_997e_4c3488ea64a0row6_col4\" class=\"data row6 col4\" >0.027</td> \n",
       "        <td id=\"T_eb5f441c_29cf_11e9_997e_4c3488ea64a0row6_col5\" class=\"data row6 col5\" >0.00074</td> \n",
       "        <td id=\"T_eb5f441c_29cf_11e9_997e_4c3488ea64a0row6_col6\" class=\"data row6 col6\" >1.0</td> \n",
       "        <td id=\"T_eb5f441c_29cf_11e9_997e_4c3488ea64a0row6_col7\" class=\"data row6 col7\" >-0.2</td> \n",
       "        <td id=\"T_eb5f441c_29cf_11e9_997e_4c3488ea64a0row6_col8\" class=\"data row6 col8\" >-0.0067</td> \n",
       "        <td id=\"T_eb5f441c_29cf_11e9_997e_4c3488ea64a0row6_col9\" class=\"data row6 col9\" >0.12</td> \n",
       "    </tr>    <tr> \n",
       "        <th id=\"T_eb5f441c_29cf_11e9_997e_4c3488ea64a0level0_row7\" class=\"row_heading level0 row7\" >TotalPrice</th> \n",
       "        <td id=\"T_eb5f441c_29cf_11e9_997e_4c3488ea64a0row7_col0\" class=\"data row7 col0\" >0.69</td> \n",
       "        <td id=\"T_eb5f441c_29cf_11e9_997e_4c3488ea64a0row7_col1\" class=\"data row7 col1\" >0.32</td> \n",
       "        <td id=\"T_eb5f441c_29cf_11e9_997e_4c3488ea64a0row7_col2\" class=\"data row7 col2\" >-0.16</td> \n",
       "        <td id=\"T_eb5f441c_29cf_11e9_997e_4c3488ea64a0row7_col3\" class=\"data row7 col3\" >0.009</td> \n",
       "        <td id=\"T_eb5f441c_29cf_11e9_997e_4c3488ea64a0row7_col4\" class=\"data row7 col4\" >-0.028</td> \n",
       "        <td id=\"T_eb5f441c_29cf_11e9_997e_4c3488ea64a0row7_col5\" class=\"data row7 col5\" >0.0039</td> \n",
       "        <td id=\"T_eb5f441c_29cf_11e9_997e_4c3488ea64a0row7_col6\" class=\"data row7 col6\" >-0.2</td> \n",
       "        <td id=\"T_eb5f441c_29cf_11e9_997e_4c3488ea64a0row7_col7\" class=\"data row7 col7\" >1.0</td> \n",
       "        <td id=\"T_eb5f441c_29cf_11e9_997e_4c3488ea64a0row7_col8\" class=\"data row7 col8\" >0.011</td> \n",
       "        <td id=\"T_eb5f441c_29cf_11e9_997e_4c3488ea64a0row7_col9\" class=\"data row7 col9\" >-0.21</td> \n",
       "    </tr>    <tr> \n",
       "        <th id=\"T_eb5f441c_29cf_11e9_997e_4c3488ea64a0level0_row8\" class=\"row_heading level0 row8\" >Description_Code</th> \n",
       "        <td id=\"T_eb5f441c_29cf_11e9_997e_4c3488ea64a0row8_col0\" class=\"data row8 col0\" >0.022</td> \n",
       "        <td id=\"T_eb5f441c_29cf_11e9_997e_4c3488ea64a0row8_col1\" class=\"data row8 col1\" >-0.0073</td> \n",
       "        <td id=\"T_eb5f441c_29cf_11e9_997e_4c3488ea64a0row8_col2\" class=\"data row8 col2\" >-0.0046</td> \n",
       "        <td id=\"T_eb5f441c_29cf_11e9_997e_4c3488ea64a0row8_col3\" class=\"data row8 col3\" >0.021</td> \n",
       "        <td id=\"T_eb5f441c_29cf_11e9_997e_4c3488ea64a0row8_col4\" class=\"data row8 col4\" >0.011</td> \n",
       "        <td id=\"T_eb5f441c_29cf_11e9_997e_4c3488ea64a0row8_col5\" class=\"data row8 col5\" >0.0045</td> \n",
       "        <td id=\"T_eb5f441c_29cf_11e9_997e_4c3488ea64a0row8_col6\" class=\"data row8 col6\" >-0.0067</td> \n",
       "        <td id=\"T_eb5f441c_29cf_11e9_997e_4c3488ea64a0row8_col7\" class=\"data row8 col7\" >0.011</td> \n",
       "        <td id=\"T_eb5f441c_29cf_11e9_997e_4c3488ea64a0row8_col8\" class=\"data row8 col8\" >1.0</td> \n",
       "        <td id=\"T_eb5f441c_29cf_11e9_997e_4c3488ea64a0row8_col9\" class=\"data row8 col9\" >-0.016</td> \n",
       "    </tr>    <tr> \n",
       "        <th id=\"T_eb5f441c_29cf_11e9_997e_4c3488ea64a0level0_row9\" class=\"row_heading level0 row9\" >Country_Code</th> \n",
       "        <td id=\"T_eb5f441c_29cf_11e9_997e_4c3488ea64a0row9_col0\" class=\"data row9 col0\" >-0.21</td> \n",
       "        <td id=\"T_eb5f441c_29cf_11e9_997e_4c3488ea64a0row9_col1\" class=\"data row9 col1\" >0.014</td> \n",
       "        <td id=\"T_eb5f441c_29cf_11e9_997e_4c3488ea64a0row9_col2\" class=\"data row9 col2\" >0.42</td> \n",
       "        <td id=\"T_eb5f441c_29cf_11e9_997e_4c3488ea64a0row9_col3\" class=\"data row9 col3\" >-0.03</td> \n",
       "        <td id=\"T_eb5f441c_29cf_11e9_997e_4c3488ea64a0row9_col4\" class=\"data row9 col4\" >0.023</td> \n",
       "        <td id=\"T_eb5f441c_29cf_11e9_997e_4c3488ea64a0row9_col5\" class=\"data row9 col5\" >-0.0049</td> \n",
       "        <td id=\"T_eb5f441c_29cf_11e9_997e_4c3488ea64a0row9_col6\" class=\"data row9 col6\" >0.12</td> \n",
       "        <td id=\"T_eb5f441c_29cf_11e9_997e_4c3488ea64a0row9_col7\" class=\"data row9 col7\" >-0.21</td> \n",
       "        <td id=\"T_eb5f441c_29cf_11e9_997e_4c3488ea64a0row9_col8\" class=\"data row9 col8\" >-0.016</td> \n",
       "        <td id=\"T_eb5f441c_29cf_11e9_997e_4c3488ea64a0row9_col9\" class=\"data row9 col9\" >1.0</td> \n",
       "    </tr></tbody> \n",
       "</table> "
      ],
      "text/plain": [
       "<pandas.io.formats.style.Styler at 0x23fd1430ba8>"
      ]
     },
     "execution_count": 143,
     "metadata": {},
     "output_type": "execute_result"
    }
   ],
   "source": [
    "#Finding correlation between Country and other columns - pearson method\n",
    "df.corr(method='spearman').style.format(\"{:.2}\").background_gradient(cmap=plt.get_cmap('coolwarm'), axis=1)"
   ]
  },
  {
   "cell_type": "code",
   "execution_count": 144,
   "metadata": {
    "colab": {
     "base_uri": "https://localhost:8080/",
     "height": 238
    },
    "colab_type": "code",
    "id": "m05sO7ksnB5p",
    "outputId": "475c3c4b-c5b1-46c5-a453-89c128e6a17e"
   },
   "outputs": [
    {
     "data": {
      "text/html": [
       "<style  type=\"text/css\" >\n",
       "    #T_eff3bc18_29cf_11e9_ae2e_4c3488ea64a0row0_col0 {\n",
       "            background-color:  #b40426;\n",
       "        }    #T_eff3bc18_29cf_11e9_ae2e_4c3488ea64a0row0_col1 {\n",
       "            background-color:  #3b4cc0;\n",
       "        }    #T_eff3bc18_29cf_11e9_ae2e_4c3488ea64a0row0_col2 {\n",
       "            background-color:  #6a8bef;\n",
       "        }    #T_eff3bc18_29cf_11e9_ae2e_4c3488ea64a0row0_col3 {\n",
       "            background-color:  #90b2fe;\n",
       "        }    #T_eff3bc18_29cf_11e9_ae2e_4c3488ea64a0row0_col4 {\n",
       "            background-color:  #80a3fa;\n",
       "        }    #T_eff3bc18_29cf_11e9_ae2e_4c3488ea64a0row0_col5 {\n",
       "            background-color:  #85a8fc;\n",
       "        }    #T_eff3bc18_29cf_11e9_ae2e_4c3488ea64a0row0_col6 {\n",
       "            background-color:  #5a78e4;\n",
       "        }    #T_eff3bc18_29cf_11e9_ae2e_4c3488ea64a0row0_col7 {\n",
       "            background-color:  #f5c1a9;\n",
       "        }    #T_eff3bc18_29cf_11e9_ae2e_4c3488ea64a0row0_col8 {\n",
       "            background-color:  #89acfd;\n",
       "        }    #T_eff3bc18_29cf_11e9_ae2e_4c3488ea64a0row0_col9 {\n",
       "            background-color:  #5673e0;\n",
       "        }    #T_eff3bc18_29cf_11e9_ae2e_4c3488ea64a0row1_col0 {\n",
       "            background-color:  #3b4cc0;\n",
       "        }    #T_eff3bc18_29cf_11e9_ae2e_4c3488ea64a0row1_col1 {\n",
       "            background-color:  #b40426;\n",
       "        }    #T_eff3bc18_29cf_11e9_ae2e_4c3488ea64a0row1_col2 {\n",
       "            background-color:  #82a6fb;\n",
       "        }    #T_eff3bc18_29cf_11e9_ae2e_4c3488ea64a0row1_col3 {\n",
       "            background-color:  #779af7;\n",
       "        }    #T_eff3bc18_29cf_11e9_ae2e_4c3488ea64a0row1_col4 {\n",
       "            background-color:  #84a7fc;\n",
       "        }    #T_eff3bc18_29cf_11e9_ae2e_4c3488ea64a0row1_col5 {\n",
       "            background-color:  #84a7fc;\n",
       "        }    #T_eff3bc18_29cf_11e9_ae2e_4c3488ea64a0row1_col6 {\n",
       "            background-color:  #89acfd;\n",
       "        }    #T_eff3bc18_29cf_11e9_ae2e_4c3488ea64a0row1_col7 {\n",
       "            background-color:  #c4d5f3;\n",
       "        }    #T_eff3bc18_29cf_11e9_ae2e_4c3488ea64a0row1_col8 {\n",
       "            background-color:  #82a6fb;\n",
       "        }    #T_eff3bc18_29cf_11e9_ae2e_4c3488ea64a0row1_col9 {\n",
       "            background-color:  #88abfd;\n",
       "        }    #T_eff3bc18_29cf_11e9_ae2e_4c3488ea64a0row2_col0 {\n",
       "            background-color:  #3d50c3;\n",
       "        }    #T_eff3bc18_29cf_11e9_ae2e_4c3488ea64a0row2_col1 {\n",
       "            background-color:  #5572df;\n",
       "        }    #T_eff3bc18_29cf_11e9_ae2e_4c3488ea64a0row2_col2 {\n",
       "            background-color:  #b40426;\n",
       "        }    #T_eff3bc18_29cf_11e9_ae2e_4c3488ea64a0row2_col3 {\n",
       "            background-color:  #4f69d9;\n",
       "        }    #T_eff3bc18_29cf_11e9_ae2e_4c3488ea64a0row2_col4 {\n",
       "            background-color:  #5e7de7;\n",
       "        }    #T_eff3bc18_29cf_11e9_ae2e_4c3488ea64a0row2_col5 {\n",
       "            background-color:  #5875e1;\n",
       "        }    #T_eff3bc18_29cf_11e9_ae2e_4c3488ea64a0row2_col6 {\n",
       "            background-color:  #6384eb;\n",
       "        }    #T_eff3bc18_29cf_11e9_ae2e_4c3488ea64a0row2_col7 {\n",
       "            background-color:  #3b4cc0;\n",
       "        }    #T_eff3bc18_29cf_11e9_ae2e_4c3488ea64a0row2_col8 {\n",
       "            background-color:  #5673e0;\n",
       "        }    #T_eff3bc18_29cf_11e9_ae2e_4c3488ea64a0row2_col9 {\n",
       "            background-color:  #c0d4f5;\n",
       "        }    #T_eff3bc18_29cf_11e9_ae2e_4c3488ea64a0row3_col0 {\n",
       "            background-color:  #a1c0ff;\n",
       "        }    #T_eff3bc18_29cf_11e9_ae2e_4c3488ea64a0row3_col1 {\n",
       "            background-color:  #89acfd;\n",
       "        }    #T_eff3bc18_29cf_11e9_ae2e_4c3488ea64a0row3_col2 {\n",
       "            background-color:  #8db0fe;\n",
       "        }    #T_eff3bc18_29cf_11e9_ae2e_4c3488ea64a0row3_col3 {\n",
       "            background-color:  #b40426;\n",
       "        }    #T_eff3bc18_29cf_11e9_ae2e_4c3488ea64a0row3_col4 {\n",
       "            background-color:  #3b4cc0;\n",
       "        }    #T_eff3bc18_29cf_11e9_ae2e_4c3488ea64a0row3_col5 {\n",
       "            background-color:  #b7cff9;\n",
       "        }    #T_eff3bc18_29cf_11e9_ae2e_4c3488ea64a0row3_col6 {\n",
       "            background-color:  #93b5fe;\n",
       "        }    #T_eff3bc18_29cf_11e9_ae2e_4c3488ea64a0row3_col7 {\n",
       "            background-color:  #97b8ff;\n",
       "        }    #T_eff3bc18_29cf_11e9_ae2e_4c3488ea64a0row3_col8 {\n",
       "            background-color:  #9abbff;\n",
       "        }    #T_eff3bc18_29cf_11e9_ae2e_4c3488ea64a0row3_col9 {\n",
       "            background-color:  #8db0fe;\n",
       "        }    #T_eff3bc18_29cf_11e9_ae2e_4c3488ea64a0row4_col0 {\n",
       "            background-color:  #92b4fe;\n",
       "        }    #T_eff3bc18_29cf_11e9_ae2e_4c3488ea64a0row4_col1 {\n",
       "            background-color:  #96b7ff;\n",
       "        }    #T_eff3bc18_29cf_11e9_ae2e_4c3488ea64a0row4_col2 {\n",
       "            background-color:  #9bbcff;\n",
       "        }    #T_eff3bc18_29cf_11e9_ae2e_4c3488ea64a0row4_col3 {\n",
       "            background-color:  #3b4cc0;\n",
       "        }    #T_eff3bc18_29cf_11e9_ae2e_4c3488ea64a0row4_col4 {\n",
       "            background-color:  #b40426;\n",
       "        }    #T_eff3bc18_29cf_11e9_ae2e_4c3488ea64a0row4_col5 {\n",
       "            background-color:  #7a9df8;\n",
       "        }    #T_eff3bc18_29cf_11e9_ae2e_4c3488ea64a0row4_col6 {\n",
       "            background-color:  #9bbcff;\n",
       "        }    #T_eff3bc18_29cf_11e9_ae2e_4c3488ea64a0row4_col7 {\n",
       "            background-color:  #90b2fe;\n",
       "        }    #T_eff3bc18_29cf_11e9_ae2e_4c3488ea64a0row4_col8 {\n",
       "            background-color:  #97b8ff;\n",
       "        }    #T_eff3bc18_29cf_11e9_ae2e_4c3488ea64a0row4_col9 {\n",
       "            background-color:  #9abbff;\n",
       "        }    #T_eff3bc18_29cf_11e9_ae2e_4c3488ea64a0row5_col0 {\n",
       "            background-color:  #5977e3;\n",
       "        }    #T_eff3bc18_29cf_11e9_ae2e_4c3488ea64a0row5_col1 {\n",
       "            background-color:  #5875e1;\n",
       "        }    #T_eff3bc18_29cf_11e9_ae2e_4c3488ea64a0row5_col2 {\n",
       "            background-color:  #5673e0;\n",
       "        }    #T_eff3bc18_29cf_11e9_ae2e_4c3488ea64a0row5_col3 {\n",
       "            background-color:  #81a4fb;\n",
       "        }    #T_eff3bc18_29cf_11e9_ae2e_4c3488ea64a0row5_col4 {\n",
       "            background-color:  #3b4cc0;\n",
       "        }    #T_eff3bc18_29cf_11e9_ae2e_4c3488ea64a0row5_col5 {\n",
       "            background-color:  #b40426;\n",
       "        }    #T_eff3bc18_29cf_11e9_ae2e_4c3488ea64a0row5_col6 {\n",
       "            background-color:  #5875e1;\n",
       "        }    #T_eff3bc18_29cf_11e9_ae2e_4c3488ea64a0row5_col7 {\n",
       "            background-color:  #5875e1;\n",
       "        }    #T_eff3bc18_29cf_11e9_ae2e_4c3488ea64a0row5_col8 {\n",
       "            background-color:  #5977e3;\n",
       "        }    #T_eff3bc18_29cf_11e9_ae2e_4c3488ea64a0row5_col9 {\n",
       "            background-color:  #5673e0;\n",
       "        }    #T_eff3bc18_29cf_11e9_ae2e_4c3488ea64a0row6_col0 {\n",
       "            background-color:  #3b4cc0;\n",
       "        }    #T_eff3bc18_29cf_11e9_ae2e_4c3488ea64a0row6_col1 {\n",
       "            background-color:  #6b8df0;\n",
       "        }    #T_eff3bc18_29cf_11e9_ae2e_4c3488ea64a0row6_col2 {\n",
       "            background-color:  #7093f3;\n",
       "        }    #T_eff3bc18_29cf_11e9_ae2e_4c3488ea64a0row6_col3 {\n",
       "            background-color:  #6384eb;\n",
       "        }    #T_eff3bc18_29cf_11e9_ae2e_4c3488ea64a0row6_col4 {\n",
       "            background-color:  #6b8df0;\n",
       "        }    #T_eff3bc18_29cf_11e9_ae2e_4c3488ea64a0row6_col5 {\n",
       "            background-color:  #6687ed;\n",
       "        }    #T_eff3bc18_29cf_11e9_ae2e_4c3488ea64a0row6_col6 {\n",
       "            background-color:  #b40426;\n",
       "        }    #T_eff3bc18_29cf_11e9_ae2e_4c3488ea64a0row6_col7 {\n",
       "            background-color:  #3e51c5;\n",
       "        }    #T_eff3bc18_29cf_11e9_ae2e_4c3488ea64a0row6_col8 {\n",
       "            background-color:  #6485ec;\n",
       "        }    #T_eff3bc18_29cf_11e9_ae2e_4c3488ea64a0row6_col9 {\n",
       "            background-color:  #85a8fc;\n",
       "        }    #T_eff3bc18_29cf_11e9_ae2e_4c3488ea64a0row7_col0 {\n",
       "            background-color:  #f1ccb8;\n",
       "        }    #T_eff3bc18_29cf_11e9_ae2e_4c3488ea64a0row7_col1 {\n",
       "            background-color:  #afcafc;\n",
       "        }    #T_eff3bc18_29cf_11e9_ae2e_4c3488ea64a0row7_col2 {\n",
       "            background-color:  #4b64d5;\n",
       "        }    #T_eff3bc18_29cf_11e9_ae2e_4c3488ea64a0row7_col3 {\n",
       "            background-color:  #6b8df0;\n",
       "        }    #T_eff3bc18_29cf_11e9_ae2e_4c3488ea64a0row7_col4 {\n",
       "            background-color:  #6384eb;\n",
       "        }    #T_eff3bc18_29cf_11e9_ae2e_4c3488ea64a0row7_col5 {\n",
       "            background-color:  #6a8bef;\n",
       "        }    #T_eff3bc18_29cf_11e9_ae2e_4c3488ea64a0row7_col6 {\n",
       "            background-color:  #4257c9;\n",
       "        }    #T_eff3bc18_29cf_11e9_ae2e_4c3488ea64a0row7_col7 {\n",
       "            background-color:  #b40426;\n",
       "        }    #T_eff3bc18_29cf_11e9_ae2e_4c3488ea64a0row7_col8 {\n",
       "            background-color:  #6b8df0;\n",
       "        }    #T_eff3bc18_29cf_11e9_ae2e_4c3488ea64a0row7_col9 {\n",
       "            background-color:  #3b4cc0;\n",
       "        }    #T_eff3bc18_29cf_11e9_ae2e_4c3488ea64a0row8_col0 {\n",
       "            background-color:  #4358cb;\n",
       "        }    #T_eff3bc18_29cf_11e9_ae2e_4c3488ea64a0row8_col1 {\n",
       "            background-color:  #3c4ec2;\n",
       "        }    #T_eff3bc18_29cf_11e9_ae2e_4c3488ea64a0row8_col2 {\n",
       "            background-color:  #3d50c3;\n",
       "        }    #T_eff3bc18_29cf_11e9_ae2e_4c3488ea64a0row8_col3 {\n",
       "            background-color:  #4358cb;\n",
       "        }    #T_eff3bc18_29cf_11e9_ae2e_4c3488ea64a0row8_col4 {\n",
       "            background-color:  #4055c8;\n",
       "        }    #T_eff3bc18_29cf_11e9_ae2e_4c3488ea64a0row8_col5 {\n",
       "            background-color:  #3f53c6;\n",
       "        }    #T_eff3bc18_29cf_11e9_ae2e_4c3488ea64a0row8_col6 {\n",
       "            background-color:  #3d50c3;\n",
       "        }    #T_eff3bc18_29cf_11e9_ae2e_4c3488ea64a0row8_col7 {\n",
       "            background-color:  #4055c8;\n",
       "        }    #T_eff3bc18_29cf_11e9_ae2e_4c3488ea64a0row8_col8 {\n",
       "            background-color:  #b40426;\n",
       "        }    #T_eff3bc18_29cf_11e9_ae2e_4c3488ea64a0row8_col9 {\n",
       "            background-color:  #3b4cc0;\n",
       "        }    #T_eff3bc18_29cf_11e9_ae2e_4c3488ea64a0row9_col0 {\n",
       "            background-color:  #3b4cc0;\n",
       "        }    #T_eff3bc18_29cf_11e9_ae2e_4c3488ea64a0row9_col1 {\n",
       "            background-color:  #6c8ff1;\n",
       "        }    #T_eff3bc18_29cf_11e9_ae2e_4c3488ea64a0row9_col2 {\n",
       "            background-color:  #cbd8ee;\n",
       "        }    #T_eff3bc18_29cf_11e9_ae2e_4c3488ea64a0row9_col3 {\n",
       "            background-color:  #6180e9;\n",
       "        }    #T_eff3bc18_29cf_11e9_ae2e_4c3488ea64a0row9_col4 {\n",
       "            background-color:  #6f92f3;\n",
       "        }    #T_eff3bc18_29cf_11e9_ae2e_4c3488ea64a0row9_col5 {\n",
       "            background-color:  #688aef;\n",
       "        }    #T_eff3bc18_29cf_11e9_ae2e_4c3488ea64a0row9_col6 {\n",
       "            background-color:  #88abfd;\n",
       "        }    #T_eff3bc18_29cf_11e9_ae2e_4c3488ea64a0row9_col7 {\n",
       "            background-color:  #3b4cc0;\n",
       "        }    #T_eff3bc18_29cf_11e9_ae2e_4c3488ea64a0row9_col8 {\n",
       "            background-color:  #6687ed;\n",
       "        }    #T_eff3bc18_29cf_11e9_ae2e_4c3488ea64a0row9_col9 {\n",
       "            background-color:  #b40426;\n",
       "        }</style>  \n",
       "<table id=\"T_eff3bc18_29cf_11e9_ae2e_4c3488ea64a0\" > \n",
       "<thead>    <tr> \n",
       "        <th class=\"blank level0\" ></th> \n",
       "        <th class=\"col_heading level0 col0\" >Quantity</th> \n",
       "        <th class=\"col_heading level0 col1\" >UnitPrice</th> \n",
       "        <th class=\"col_heading level0 col2\" >CustomerID</th> \n",
       "        <th class=\"col_heading level0 col3\" >Year</th> \n",
       "        <th class=\"col_heading level0 col4\" >Month</th> \n",
       "        <th class=\"col_heading level0 col5\" >Day</th> \n",
       "        <th class=\"col_heading level0 col6\" >Hour</th> \n",
       "        <th class=\"col_heading level0 col7\" >TotalPrice</th> \n",
       "        <th class=\"col_heading level0 col8\" >Description_Code</th> \n",
       "        <th class=\"col_heading level0 col9\" >Country_Code</th> \n",
       "    </tr></thead> \n",
       "<tbody>    <tr> \n",
       "        <th id=\"T_eff3bc18_29cf_11e9_ae2e_4c3488ea64a0level0_row0\" class=\"row_heading level0 row0\" >Quantity</th> \n",
       "        <td id=\"T_eff3bc18_29cf_11e9_ae2e_4c3488ea64a0row0_col0\" class=\"data row0 col0\" >1.0</td> \n",
       "        <td id=\"T_eff3bc18_29cf_11e9_ae2e_4c3488ea64a0row0_col1\" class=\"data row0 col1\" >-0.29</td> \n",
       "        <td id=\"T_eff3bc18_29cf_11e9_ae2e_4c3488ea64a0row0_col2\" class=\"data row0 col2\" >-0.098</td> \n",
       "        <td id=\"T_eff3bc18_29cf_11e9_ae2e_4c3488ea64a0row0_col3\" class=\"data row0 col3\" >0.044</td> \n",
       "        <td id=\"T_eff3bc18_29cf_11e9_ae2e_4c3488ea64a0row0_col4\" class=\"data row0 col4\" >-0.017</td> \n",
       "        <td id=\"T_eff3bc18_29cf_11e9_ae2e_4c3488ea64a0row0_col5\" class=\"data row0 col5\" >0.0035</td> \n",
       "        <td id=\"T_eff3bc18_29cf_11e9_ae2e_4c3488ea64a0row0_col6\" class=\"data row0 col6\" >-0.16</td> \n",
       "        <td id=\"T_eff3bc18_29cf_11e9_ae2e_4c3488ea64a0row0_col7\" class=\"data row0 col7\" >0.53</td> \n",
       "        <td id=\"T_eff3bc18_29cf_11e9_ae2e_4c3488ea64a0row0_col8\" class=\"data row0 col8\" >0.015</td> \n",
       "        <td id=\"T_eff3bc18_29cf_11e9_ae2e_4c3488ea64a0row0_col9\" class=\"data row0 col9\" >-0.17</td> \n",
       "    </tr>    <tr> \n",
       "        <th id=\"T_eff3bc18_29cf_11e9_ae2e_4c3488ea64a0level0_row1\" class=\"row_heading level0 row1\" >UnitPrice</th> \n",
       "        <td id=\"T_eff3bc18_29cf_11e9_ae2e_4c3488ea64a0row1_col0\" class=\"data row1 col0\" >-0.29</td> \n",
       "        <td id=\"T_eff3bc18_29cf_11e9_ae2e_4c3488ea64a0row1_col1\" class=\"data row1 col1\" >1.0</td> \n",
       "        <td id=\"T_eff3bc18_29cf_11e9_ae2e_4c3488ea64a0row1_col2\" class=\"data row1 col2\" >-0.009</td> \n",
       "        <td id=\"T_eff3bc18_29cf_11e9_ae2e_4c3488ea64a0row1_col3\" class=\"data row1 col3\" >-0.049</td> \n",
       "        <td id=\"T_eff3bc18_29cf_11e9_ae2e_4c3488ea64a0row1_col4\" class=\"data row1 col4\" >-0.0016</td> \n",
       "        <td id=\"T_eff3bc18_29cf_11e9_ae2e_4c3488ea64a0row1_col5\" class=\"data row1 col5\" >-0.0013</td> \n",
       "        <td id=\"T_eff3bc18_29cf_11e9_ae2e_4c3488ea64a0row1_col6\" class=\"data row1 col6\" >0.019</td> \n",
       "        <td id=\"T_eff3bc18_29cf_11e9_ae2e_4c3488ea64a0row1_col7\" class=\"data row1 col7\" >0.24</td> \n",
       "        <td id=\"T_eff3bc18_29cf_11e9_ae2e_4c3488ea64a0row1_col8\" class=\"data row1 col8\" >-0.0069</td> \n",
       "        <td id=\"T_eff3bc18_29cf_11e9_ae2e_4c3488ea64a0row1_col9\" class=\"data row1 col9\" >0.011</td> \n",
       "    </tr>    <tr> \n",
       "        <th id=\"T_eff3bc18_29cf_11e9_ae2e_4c3488ea64a0level0_row2\" class=\"row_heading level0 row2\" >CustomerID</th> \n",
       "        <td id=\"T_eff3bc18_29cf_11e9_ae2e_4c3488ea64a0row2_col0\" class=\"data row2 col0\" >-0.098</td> \n",
       "        <td id=\"T_eff3bc18_29cf_11e9_ae2e_4c3488ea64a0row2_col1\" class=\"data row2 col1\" >-0.009</td> \n",
       "        <td id=\"T_eff3bc18_29cf_11e9_ae2e_4c3488ea64a0row2_col2\" class=\"data row2 col2\" >1.0</td> \n",
       "        <td id=\"T_eff3bc18_29cf_11e9_ae2e_4c3488ea64a0row2_col3\" class=\"data row2 col3\" >-0.03</td> \n",
       "        <td id=\"T_eff3bc18_29cf_11e9_ae2e_4c3488ea64a0row2_col4\" class=\"data row2 col4\" >0.022</td> \n",
       "        <td id=\"T_eff3bc18_29cf_11e9_ae2e_4c3488ea64a0row2_col5\" class=\"data row2 col5\" >-0.0018</td> \n",
       "        <td id=\"T_eff3bc18_29cf_11e9_ae2e_4c3488ea64a0row2_col6\" class=\"data row2 col6\" >0.039</td> \n",
       "        <td id=\"T_eff3bc18_29cf_11e9_ae2e_4c3488ea64a0row2_col7\" class=\"data row2 col7\" >-0.11</td> \n",
       "        <td id=\"T_eff3bc18_29cf_11e9_ae2e_4c3488ea64a0row2_col8\" class=\"data row2 col8\" >-0.0031</td> \n",
       "        <td id=\"T_eff3bc18_29cf_11e9_ae2e_4c3488ea64a0row2_col9\" class=\"data row2 col9\" >0.34</td> \n",
       "    </tr>    <tr> \n",
       "        <th id=\"T_eff3bc18_29cf_11e9_ae2e_4c3488ea64a0level0_row3\" class=\"row_heading level0 row3\" >Year</th> \n",
       "        <td id=\"T_eff3bc18_29cf_11e9_ae2e_4c3488ea64a0row3_col0\" class=\"data row3 col0\" >0.044</td> \n",
       "        <td id=\"T_eff3bc18_29cf_11e9_ae2e_4c3488ea64a0row3_col1\" class=\"data row3 col1\" >-0.049</td> \n",
       "        <td id=\"T_eff3bc18_29cf_11e9_ae2e_4c3488ea64a0row3_col2\" class=\"data row3 col2\" >-0.03</td> \n",
       "        <td id=\"T_eff3bc18_29cf_11e9_ae2e_4c3488ea64a0row3_col3\" class=\"data row3 col3\" >1.0</td> \n",
       "        <td id=\"T_eff3bc18_29cf_11e9_ae2e_4c3488ea64a0row3_col4\" class=\"data row3 col4\" >-0.38</td> \n",
       "        <td id=\"T_eff3bc18_29cf_11e9_ae2e_4c3488ea64a0row3_col5\" class=\"data row3 col5\" >0.13</td> \n",
       "        <td id=\"T_eff3bc18_29cf_11e9_ae2e_4c3488ea64a0row3_col6\" class=\"data row3 col6\" >-0.0081</td> \n",
       "        <td id=\"T_eff3bc18_29cf_11e9_ae2e_4c3488ea64a0row3_col7\" class=\"data row3 col7\" >0.0074</td> \n",
       "        <td id=\"T_eff3bc18_29cf_11e9_ae2e_4c3488ea64a0row3_col8\" class=\"data row3 col8\" >0.017</td> \n",
       "        <td id=\"T_eff3bc18_29cf_11e9_ae2e_4c3488ea64a0row3_col9\" class=\"data row3 col9\" >-0.029</td> \n",
       "    </tr>    <tr> \n",
       "        <th id=\"T_eff3bc18_29cf_11e9_ae2e_4c3488ea64a0level0_row4\" class=\"row_heading level0 row4\" >Month</th> \n",
       "        <td id=\"T_eff3bc18_29cf_11e9_ae2e_4c3488ea64a0row4_col0\" class=\"data row4 col0\" >-0.017</td> \n",
       "        <td id=\"T_eff3bc18_29cf_11e9_ae2e_4c3488ea64a0row4_col1\" class=\"data row4 col1\" >-0.0016</td> \n",
       "        <td id=\"T_eff3bc18_29cf_11e9_ae2e_4c3488ea64a0row4_col2\" class=\"data row4 col2\" >0.022</td> \n",
       "        <td id=\"T_eff3bc18_29cf_11e9_ae2e_4c3488ea64a0row4_col3\" class=\"data row4 col3\" >-0.38</td> \n",
       "        <td id=\"T_eff3bc18_29cf_11e9_ae2e_4c3488ea64a0row4_col4\" class=\"data row4 col4\" >1.0</td> \n",
       "        <td id=\"T_eff3bc18_29cf_11e9_ae2e_4c3488ea64a0row4_col5\" class=\"data row4 col5\" >-0.11</td> \n",
       "        <td id=\"T_eff3bc18_29cf_11e9_ae2e_4c3488ea64a0row4_col6\" class=\"data row4 col6\" >0.02</td> \n",
       "        <td id=\"T_eff3bc18_29cf_11e9_ae2e_4c3488ea64a0row4_col7\" class=\"data row4 col7\" >-0.019</td> \n",
       "        <td id=\"T_eff3bc18_29cf_11e9_ae2e_4c3488ea64a0row4_col8\" class=\"data row4 col8\" >0.0074</td> \n",
       "        <td id=\"T_eff3bc18_29cf_11e9_ae2e_4c3488ea64a0row4_col9\" class=\"data row4 col9\" >0.02</td> \n",
       "    </tr>    <tr> \n",
       "        <th id=\"T_eff3bc18_29cf_11e9_ae2e_4c3488ea64a0level0_row5\" class=\"row_heading level0 row5\" >Day</th> \n",
       "        <td id=\"T_eff3bc18_29cf_11e9_ae2e_4c3488ea64a0row5_col0\" class=\"data row5 col0\" >0.0035</td> \n",
       "        <td id=\"T_eff3bc18_29cf_11e9_ae2e_4c3488ea64a0row5_col1\" class=\"data row5 col1\" >-0.0013</td> \n",
       "        <td id=\"T_eff3bc18_29cf_11e9_ae2e_4c3488ea64a0row5_col2\" class=\"data row5 col2\" >-0.0018</td> \n",
       "        <td id=\"T_eff3bc18_29cf_11e9_ae2e_4c3488ea64a0row5_col3\" class=\"data row5 col3\" >0.13</td> \n",
       "        <td id=\"T_eff3bc18_29cf_11e9_ae2e_4c3488ea64a0row5_col4\" class=\"data row5 col4\" >-0.11</td> \n",
       "        <td id=\"T_eff3bc18_29cf_11e9_ae2e_4c3488ea64a0row5_col5\" class=\"data row5 col5\" >1.0</td> \n",
       "        <td id=\"T_eff3bc18_29cf_11e9_ae2e_4c3488ea64a0row5_col6\" class=\"data row5 col6\" >0.00056</td> \n",
       "        <td id=\"T_eff3bc18_29cf_11e9_ae2e_4c3488ea64a0row5_col7\" class=\"data row5 col7\" >0.0027</td> \n",
       "        <td id=\"T_eff3bc18_29cf_11e9_ae2e_4c3488ea64a0row5_col8\" class=\"data row5 col8\" >0.0031</td> \n",
       "        <td id=\"T_eff3bc18_29cf_11e9_ae2e_4c3488ea64a0row5_col9\" class=\"data row5 col9\" >-0.0039</td> \n",
       "    </tr>    <tr> \n",
       "        <th id=\"T_eff3bc18_29cf_11e9_ae2e_4c3488ea64a0level0_row6\" class=\"row_heading level0 row6\" >Hour</th> \n",
       "        <td id=\"T_eff3bc18_29cf_11e9_ae2e_4c3488ea64a0row6_col0\" class=\"data row6 col0\" >-0.16</td> \n",
       "        <td id=\"T_eff3bc18_29cf_11e9_ae2e_4c3488ea64a0row6_col1\" class=\"data row6 col1\" >0.019</td> \n",
       "        <td id=\"T_eff3bc18_29cf_11e9_ae2e_4c3488ea64a0row6_col2\" class=\"data row6 col2\" >0.039</td> \n",
       "        <td id=\"T_eff3bc18_29cf_11e9_ae2e_4c3488ea64a0row6_col3\" class=\"data row6 col3\" >-0.0081</td> \n",
       "        <td id=\"T_eff3bc18_29cf_11e9_ae2e_4c3488ea64a0row6_col4\" class=\"data row6 col4\" >0.02</td> \n",
       "        <td id=\"T_eff3bc18_29cf_11e9_ae2e_4c3488ea64a0row6_col5\" class=\"data row6 col5\" >0.00056</td> \n",
       "        <td id=\"T_eff3bc18_29cf_11e9_ae2e_4c3488ea64a0row6_col6\" class=\"data row6 col6\" >1.0</td> \n",
       "        <td id=\"T_eff3bc18_29cf_11e9_ae2e_4c3488ea64a0row6_col7\" class=\"data row6 col7\" >-0.14</td> \n",
       "        <td id=\"T_eff3bc18_29cf_11e9_ae2e_4c3488ea64a0row6_col8\" class=\"data row6 col8\" >-0.0047</td> \n",
       "        <td id=\"T_eff3bc18_29cf_11e9_ae2e_4c3488ea64a0row6_col9\" class=\"data row6 col9\" >0.1</td> \n",
       "    </tr>    <tr> \n",
       "        <th id=\"T_eff3bc18_29cf_11e9_ae2e_4c3488ea64a0level0_row7\" class=\"row_heading level0 row7\" >TotalPrice</th> \n",
       "        <td id=\"T_eff3bc18_29cf_11e9_ae2e_4c3488ea64a0row7_col0\" class=\"data row7 col0\" >0.53</td> \n",
       "        <td id=\"T_eff3bc18_29cf_11e9_ae2e_4c3488ea64a0row7_col1\" class=\"data row7 col1\" >0.24</td> \n",
       "        <td id=\"T_eff3bc18_29cf_11e9_ae2e_4c3488ea64a0row7_col2\" class=\"data row7 col2\" >-0.11</td> \n",
       "        <td id=\"T_eff3bc18_29cf_11e9_ae2e_4c3488ea64a0row7_col3\" class=\"data row7 col3\" >0.0074</td> \n",
       "        <td id=\"T_eff3bc18_29cf_11e9_ae2e_4c3488ea64a0row7_col4\" class=\"data row7 col4\" >-0.019</td> \n",
       "        <td id=\"T_eff3bc18_29cf_11e9_ae2e_4c3488ea64a0row7_col5\" class=\"data row7 col5\" >0.0027</td> \n",
       "        <td id=\"T_eff3bc18_29cf_11e9_ae2e_4c3488ea64a0row7_col6\" class=\"data row7 col6\" >-0.14</td> \n",
       "        <td id=\"T_eff3bc18_29cf_11e9_ae2e_4c3488ea64a0row7_col7\" class=\"data row7 col7\" >1.0</td> \n",
       "        <td id=\"T_eff3bc18_29cf_11e9_ae2e_4c3488ea64a0row7_col8\" class=\"data row7 col8\" >0.0074</td> \n",
       "        <td id=\"T_eff3bc18_29cf_11e9_ae2e_4c3488ea64a0row7_col9\" class=\"data row7 col9\" >-0.17</td> \n",
       "    </tr>    <tr> \n",
       "        <th id=\"T_eff3bc18_29cf_11e9_ae2e_4c3488ea64a0level0_row8\" class=\"row_heading level0 row8\" >Description_Code</th> \n",
       "        <td id=\"T_eff3bc18_29cf_11e9_ae2e_4c3488ea64a0row8_col0\" class=\"data row8 col0\" >0.015</td> \n",
       "        <td id=\"T_eff3bc18_29cf_11e9_ae2e_4c3488ea64a0row8_col1\" class=\"data row8 col1\" >-0.0069</td> \n",
       "        <td id=\"T_eff3bc18_29cf_11e9_ae2e_4c3488ea64a0row8_col2\" class=\"data row8 col2\" >-0.0031</td> \n",
       "        <td id=\"T_eff3bc18_29cf_11e9_ae2e_4c3488ea64a0row8_col3\" class=\"data row8 col3\" >0.017</td> \n",
       "        <td id=\"T_eff3bc18_29cf_11e9_ae2e_4c3488ea64a0row8_col4\" class=\"data row8 col4\" >0.0074</td> \n",
       "        <td id=\"T_eff3bc18_29cf_11e9_ae2e_4c3488ea64a0row8_col5\" class=\"data row8 col5\" >0.0031</td> \n",
       "        <td id=\"T_eff3bc18_29cf_11e9_ae2e_4c3488ea64a0row8_col6\" class=\"data row8 col6\" >-0.0047</td> \n",
       "        <td id=\"T_eff3bc18_29cf_11e9_ae2e_4c3488ea64a0row8_col7\" class=\"data row8 col7\" >0.0074</td> \n",
       "        <td id=\"T_eff3bc18_29cf_11e9_ae2e_4c3488ea64a0row8_col8\" class=\"data row8 col8\" >1.0</td> \n",
       "        <td id=\"T_eff3bc18_29cf_11e9_ae2e_4c3488ea64a0row8_col9\" class=\"data row8 col9\" >-0.013</td> \n",
       "    </tr>    <tr> \n",
       "        <th id=\"T_eff3bc18_29cf_11e9_ae2e_4c3488ea64a0level0_row9\" class=\"row_heading level0 row9\" >Country_Code</th> \n",
       "        <td id=\"T_eff3bc18_29cf_11e9_ae2e_4c3488ea64a0row9_col0\" class=\"data row9 col0\" >-0.17</td> \n",
       "        <td id=\"T_eff3bc18_29cf_11e9_ae2e_4c3488ea64a0row9_col1\" class=\"data row9 col1\" >0.011</td> \n",
       "        <td id=\"T_eff3bc18_29cf_11e9_ae2e_4c3488ea64a0row9_col2\" class=\"data row9 col2\" >0.34</td> \n",
       "        <td id=\"T_eff3bc18_29cf_11e9_ae2e_4c3488ea64a0row9_col3\" class=\"data row9 col3\" >-0.029</td> \n",
       "        <td id=\"T_eff3bc18_29cf_11e9_ae2e_4c3488ea64a0row9_col4\" class=\"data row9 col4\" >0.02</td> \n",
       "        <td id=\"T_eff3bc18_29cf_11e9_ae2e_4c3488ea64a0row9_col5\" class=\"data row9 col5\" >-0.0039</td> \n",
       "        <td id=\"T_eff3bc18_29cf_11e9_ae2e_4c3488ea64a0row9_col6\" class=\"data row9 col6\" >0.1</td> \n",
       "        <td id=\"T_eff3bc18_29cf_11e9_ae2e_4c3488ea64a0row9_col7\" class=\"data row9 col7\" >-0.17</td> \n",
       "        <td id=\"T_eff3bc18_29cf_11e9_ae2e_4c3488ea64a0row9_col8\" class=\"data row9 col8\" >-0.013</td> \n",
       "        <td id=\"T_eff3bc18_29cf_11e9_ae2e_4c3488ea64a0row9_col9\" class=\"data row9 col9\" >1.0</td> \n",
       "    </tr></tbody> \n",
       "</table> "
      ],
      "text/plain": [
       "<pandas.io.formats.style.Styler at 0x23fd58bfdd8>"
      ]
     },
     "execution_count": 144,
     "metadata": {},
     "output_type": "execute_result"
    }
   ],
   "source": [
    "#Correlation using Kendall's method\n",
    "df.corr(method ='kendall').style.format(\"{:.2}\").background_gradient(cmap=plt.get_cmap('coolwarm'), axis=1) "
   ]
  },
  {
   "cell_type": "code",
   "execution_count": 0,
   "metadata": {
    "colab": {},
    "colab_type": "code",
    "id": "h5yZEMFPuHmH"
   },
   "outputs": [],
   "source": [
    "#Creating X_train dataset\n",
    "d={'Customer_ID': df['CustomerID'], 'Description': df['descriptioncode'], 'Quantity': df['Quantity'], 'Unit_Price': df['UnitPrice']}\n",
    "X = pd.DataFrame(d)"
   ]
  },
  {
   "cell_type": "code",
   "execution_count": 0,
   "metadata": {
    "colab": {},
    "colab_type": "code",
    "id": "7rqVOtl5uHmK"
   },
   "outputs": [],
   "source": [
    "#Creating Y_train dataset\n",
    "y_d = {'Country': df['countrycode']}\n",
    "Y=pd.DataFrame(y_d)"
   ]
  },
  {
   "cell_type": "code",
   "execution_count": 0,
   "metadata": {
    "colab": {},
    "colab_type": "code",
    "id": "bFudhsCluHmP"
   },
   "outputs": [],
   "source": [
    "from sklearn.model_selection import train_test_split\n",
    "from sklearn.metrics import confusion_matrix \n",
    "from sklearn.metrics import accuracy_score\n",
    "from sklearn.tree import DecisionTreeClassifier \n",
    "from sklearn.svm import SVC\n",
    "from sklearn.neighbors import KNeighborsClassifier\n",
    "from sklearn.naive_bayes import GaussianNB\n",
    "\n",
    "#Splitting the dataset: 75% train, 25% test\n",
    "X_train, X_test, y_train, y_test = train_test_split(X, Y, random_state = 0)"
   ]
  },
  {
   "cell_type": "code",
   "execution_count": 0,
   "metadata": {
    "colab": {
     "base_uri": "https://localhost:8080/",
     "height": 34
    },
    "colab_type": "code",
    "id": "3Dc49GHWj3r7",
    "outputId": "ce495091-243a-4e5b-cd9f-6351a8ce7567"
   },
   "outputs": [
    {
     "name": "stdout",
     "output_type": "stream",
     "text": [
      "0.9157279309967032\n"
     ]
    }
   ],
   "source": [
    "#Decision Tree\n",
    "decision_model = DecisionTreeClassifier(max_depth = 2).fit(X_train, y_train) \n",
    "decision_predictions = decision_model.predict(X_test) \n",
    "  \n",
    "# creating a confusion matrix \n",
    "decision_cm = confusion_matrix(y_test, decision_predictions) \n",
    "#Returning accuracy score\n",
    "decision_accuracy = accuracy_score(y_test, decision_predictions)\n",
    "print(decision_accuracy)"
   ]
  },
  {
   "cell_type": "code",
   "execution_count": 0,
   "metadata": {
    "colab": {
     "base_uri": "https://localhost:8080/",
     "height": 72
    },
    "colab_type": "code",
    "id": "jXVoQeG3uHmf",
    "outputId": "1d9f2408-f534-4eb8-e97f-4434238d6c92"
   },
   "outputs": [
    {
     "name": "stderr",
     "output_type": "stream",
     "text": [
      "/usr/local/lib/python3.6/dist-packages/sklearn/utils/validation.py:761: DataConversionWarning: A column-vector y was passed when a 1d array was expected. Please change the shape of y to (n_samples, ), for example using ravel().\n",
      "  y = column_or_1d(y, warn=True)\n"
     ]
    }
   ],
   "source": [
    "# Support Vector Machine\n",
    "svm_model= SVC(kernel = 'linear').fit(X_train, y_train) \n",
    "svm_predictions = svm_model.predict(X_test) \n",
    "  \n",
    "# model accuracy for X_test   \n",
    "svm_accuracy = svm_model.score(X_test, y_test)  \n",
    "# creating a confusion matrix \n",
    "svm_cm = confusion_matrix(y_test, svm_predictions) \n",
    "print(svm_accuracy)"
   ]
  },
  {
   "cell_type": "code",
   "execution_count": 0,
   "metadata": {
    "colab": {
     "base_uri": "https://localhost:8080/",
     "height": 90
    },
    "colab_type": "code",
    "id": "GDfiFqiGkaW3",
    "outputId": "36ba007d-8c9c-4530-d379-bcd1935289d7"
   },
   "outputs": [
    {
     "name": "stderr",
     "output_type": "stream",
     "text": [
      "/usr/local/lib/python3.6/dist-packages/ipykernel_launcher.py:2: DataConversionWarning: A column-vector y was passed when a 1d array was expected. Please change the shape of y to (n_samples, ), for example using ravel().\n",
      "  \n"
     ]
    },
    {
     "name": "stdout",
     "output_type": "stream",
     "text": [
      "0.9589047917849424\n"
     ]
    }
   ],
   "source": [
    "#K-NN\n",
    "\n",
    "knn_model = KNeighborsClassifier().fit(X_train, y_train)\n",
    "\n",
    "# creating a confusion matrix \n",
    "knn_predictions = knn_model.predict(X_test)  \n",
    "knn_cm = confusion_matrix(y_test, knn_predictions) \n",
    "\n",
    "# accuracy on X_test \n",
    "knn_accuracy = knn_model.score(X_test, y_test) \n",
    "print(knn_accuracy) "
   ]
  },
  {
   "cell_type": "code",
   "execution_count": 0,
   "metadata": {
    "colab": {
     "base_uri": "https://localhost:8080/",
     "height": 90
    },
    "colab_type": "code",
    "id": "ZipJKy_YmAbv",
    "outputId": "ab333c1c-9e71-4c40-eed5-de61e8ffd60e"
   },
   "outputs": [
    {
     "name": "stderr",
     "output_type": "stream",
     "text": [
      "/usr/local/lib/python3.6/dist-packages/sklearn/utils/validation.py:761: DataConversionWarning: A column-vector y was passed when a 1d array was expected. Please change the shape of y to (n_samples, ), for example using ravel().\n",
      "  y = column_or_1d(y, warn=True)\n"
     ]
    },
    {
     "name": "stdout",
     "output_type": "stream",
     "text": [
      "0.7237776516170158\n"
     ]
    }
   ],
   "source": [
    "#Naive-Bayes\n",
    "\n",
    "nb_model = GaussianNB().fit(X_train, y_train) \n",
    "gnb_predictions = nb_model.predict(X_test) \n",
    "\n",
    "# accuracy on X_test \n",
    "nb_accuracy = nb_model.score(X_test, y_test) \n",
    "print(nb_accuracy) \n",
    "\n",
    "# creating a confusion matrix \n",
    "nb_cm = confusion_matrix(y_test, gnb_predictions) "
   ]
  },
  {
   "cell_type": "code",
   "execution_count": 0,
   "metadata": {
    "colab": {},
    "colab_type": "code",
    "id": "ZlKOAliQncmH"
   },
   "outputs": [],
   "source": []
  }
 ],
 "metadata": {
  "accelerator": "GPU",
  "colab": {
   "collapsed_sections": [],
   "name": "ecommerce.ipynb",
   "provenance": [],
   "version": "0.3.2"
  },
  "kernelspec": {
   "display_name": "Python 3",
   "language": "python",
   "name": "python3"
  },
  "language_info": {
   "codemirror_mode": {
    "name": "ipython",
    "version": 3
   },
   "file_extension": ".py",
   "mimetype": "text/x-python",
   "name": "python",
   "nbconvert_exporter": "python",
   "pygments_lexer": "ipython3",
   "version": "3.6.7"
  }
 },
 "nbformat": 4,
 "nbformat_minor": 1
}
