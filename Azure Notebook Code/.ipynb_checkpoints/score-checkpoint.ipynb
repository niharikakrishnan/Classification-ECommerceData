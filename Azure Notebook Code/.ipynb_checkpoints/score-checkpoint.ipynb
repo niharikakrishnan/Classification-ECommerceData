{
  "cells": [
    {
      "metadata": {
        "trusted": true
      },
      "cell_type": "code",
      "source": "# import things required by this script\nimport json\nimport os\nfrom sklearn.externals import joblib\nfrom Train.preprocess import getdescription\nfrom azureml.core.model import Model",
      "execution_count": 114,
      "outputs": []
    },
    {
      "metadata": {
        "trusted": true
      },
      "cell_type": "code",
      "source": "# load the model\ndef init():\n    global model\n    model_path = Model.get_model_path('ecommerce_model.pkl')\n    model = joblib.load(model_path)",
      "execution_count": 115,
      "outputs": []
    },
    {
      "metadata": {
        "trusted": true
      },
      "cell_type": "code",
      "source": "d={}\nd=getdescription()",
      "execution_count": 116,
      "outputs": []
    },
    {
      "metadata": {
        "trusted": true
      },
      "cell_type": "code",
      "source": "with open(\"test.json\", \"r+\") as f:\n    data = json.load(f)\n    for i in range(len(data[\"data\"])):\n        key=data[\"data\"][i]['description']\n        timestamp = data[\"data\"][i]['timestamp']\n        date = timestamp.split()[0]\n        time = timestamp.split()[1]\n        if '/' in date:\n            date=date.split('/')\n            data[\"data\"][i][\"month\"] = date[0] \n            data[\"data\"][i][\"day\"] = date[1]\n            data[\"data\"][i][\"hour\"] = time.split(':')[0] \n            del data[\"data\"][i]['timestamp']\n        elif '-' in date:\n            date = date.split('-')\n            data[\"data\"][i][\"month\"] = date[0] \n            data[\"data\"][i][\"day\"] = date[1]\n            data[\"data\"][i][\"hour\"] = time.split(':')[0]\n            del data[\"data\"][i]['timestamp']\n\n        if key in d:\n            data[\"data\"][i]['description']=d[key]\n        else:\n            print(\"Description not found\")\n\n    f.seek(0)  # rewind\n    json.dump(data, f)\n    f.truncate()",
      "execution_count": 118,
      "outputs": []
    },
    {
      "metadata": {
        "trusted": true
      },
      "cell_type": "code",
      "source": "predictions=[]\nwith open(\"test.json\", \"r+\") as f:\n    data = json.load(f)\n    for i in range(len(data[\"data\"])):\n        final_dict={}\n        final_dict=data[\"data\"][i]\n        arr = np.array([final_dict[key] for key in ('description', 'quantity', 'unitprice', 'month', 'day', 'hour')]).T\n        arr1 = np.reshape(arr, (-1, 6))\n        y_pred = model.predict(arr1)\n        print(y_pred)\n        y_class = y_hat.argmax(axis=-1)\n        print(y_class)",
      "execution_count": 119,
      "outputs": [
        {
          "output_type": "stream",
          "text": "[[0. 0. 0. 0. 0. 0. 0. 0. 0. 0. 0. 0. 0. 0. 0. 0. 0. 0. 0. 0. 0. 0. 0. 0.\n  0. 0. 0. 0. 0. 0. 0. 0. 0. 0. 0. 0. 1. 0.]]\n[36]\n[[0. 0. 0. 0. 0. 0. 0. 0. 0. 0. 0. 0. 0. 0. 0. 0. 0. 0. 0. 0. 0. 0. 0. 0.\n  0. 0. 0. 0. 0. 0. 0. 0. 0. 0. 0. 0. 1. 0.]]\n[36]\n[[0. 0. 0. 0. 0. 0. 0. 0. 0. 0. 0. 0. 0. 0. 0. 0. 0. 0. 0. 0. 0. 0. 0. 0.\n  0. 0. 0. 0. 0. 0. 0. 0. 0. 0. 0. 0. 1. 0.]]\n[36]\n",
          "name": "stdout"
        }
      ]
    }
  ],
  "metadata": {
    "kernelspec": {
      "name": "python36",
      "display_name": "Python 3.6",
      "language": "python"
    },
    "language_info": {
      "mimetype": "text/x-python",
      "nbconvert_exporter": "python",
      "name": "python",
      "pygments_lexer": "ipython3",
      "version": "3.6.6",
      "file_extension": ".py",
      "codemirror_mode": {
        "version": 3,
        "name": "ipython"
      }
    }
  },
  "nbformat": 4,
  "nbformat_minor": 2
}