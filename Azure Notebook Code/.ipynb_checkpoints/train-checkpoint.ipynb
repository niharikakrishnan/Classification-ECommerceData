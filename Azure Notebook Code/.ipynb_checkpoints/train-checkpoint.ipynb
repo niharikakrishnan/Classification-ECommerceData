{
  "cells": [
    {
      "metadata": {
        "colab_type": "text",
        "id": "QYg_pZ9NuHkY"
      },
      "cell_type": "markdown",
      "source": "# Customer Classification using E-Commerce Dataset\n"
    },
    {
      "metadata": {
        "colab_type": "text",
        "id": "J4zKjTKxuHka"
      },
      "cell_type": "markdown",
      "source": "## About Dataset\nThis is a transnational data set which contains all the transactions occurring between 01/12/2010 and 09/12/2011 for a UK-based and registered non-store online retail.The company mainly sells unique all-occasion gifts. Many customers of the company are wholesalers."
    },
    {
      "metadata": {
        "colab_type": "text",
        "id": "kh6nl9youHkd"
      },
      "cell_type": "markdown",
      "source": "## Aim\nWe aim to implement various classification algorithms like SVM, Logistic Regression, Naive Bayes, Random Forest, SGD, k-NN to predict a customer's origin and to compare the performance of these supervised machine learning models."
    },
    {
      "metadata": {
        "colab_type": "text",
        "id": "khoVbiFRuHke"
      },
      "cell_type": "markdown",
      "source": "### 1. Data Processing"
    },
    {
      "metadata": {},
      "cell_type": "markdown",
      "source": "Importing necessary libraries for data preprocessing, data augmentation and classification"
    },
    {
      "metadata": {
        "colab": {},
        "colab_type": "code",
        "id": "20hOiKQsuHkf",
        "trusted": true
      },
      "cell_type": "code",
      "source": "import numpy as np\nimport pandas as pd \nimport matplotlib.pyplot as plt\nimport seaborn as sns\nimport sklearn\nimport warnings\nimport nltk\nwarnings.filterwarnings('ignore')",
      "execution_count": 3,
      "outputs": []
    },
    {
      "metadata": {},
      "cell_type": "markdown",
      "source": "Load comma separated value dataset. File should be present in the same directory else path must be sent as an argument"
    },
    {
      "metadata": {
        "colab": {},
        "colab_type": "code",
        "id": "-yBy3NZRuHkm",
        "trusted": true
      },
      "cell_type": "code",
      "source": "df = pd.read_csv('data.csv', encoding = 'ISO-8859-1')",
      "execution_count": 15,
      "outputs": []
    },
    {
      "metadata": {},
      "cell_type": "markdown",
      "source": "Function \"information\" to display the description, head and dtypes of the dataset. Function \"shape\" that returns the shape of the dataset. Functions can be called at any instance of the dataset"
    },
    {
      "metadata": {
        "trusted": true
      },
      "cell_type": "code",
      "source": "from azureml.core import Run\nrun = Run.get_context()",
      "execution_count": 17,
      "outputs": []
    },
    {
      "metadata": {},
      "cell_type": "markdown",
      "source": "Creating new columns by extracting Year, Month, Day and Hour from TimeStamp ~ Inference: Helps to bucketize and perform analysis on the basis of month, day and hour of the purchase"
    },
    {
      "metadata": {
        "colab": {},
        "colab_type": "code",
        "id": "bX5Die5GXg9g",
        "trusted": true
      },
      "cell_type": "code",
      "source": "df.InvoiceDate = pd.to_datetime(df.InvoiceDate, format=\"%m/%d/%Y %H:%M\")\ndf['Year'] = df['InvoiceDate'].dt.year\ndf['Month'] = df['InvoiceDate'].dt.month \ndf['Day'] = df['InvoiceDate'].dt.day \ndf['Hour'] = df['InvoiceDate'].dt.hour ",
      "execution_count": 19,
      "outputs": []
    },
    {
      "metadata": {},
      "cell_type": "markdown",
      "source": "Drop column \"Invoice Date\" from dataset since the individual features are extracted. Shape of the dataset: (541909, 11)"
    },
    {
      "metadata": {
        "trusted": true
      },
      "cell_type": "code",
      "source": "df.drop(columns=['InvoiceDate'], inplace=True)\nshape(df)",
      "execution_count": 20,
      "outputs": [
        {
          "output_type": "stream",
          "text": "(541909, 11)\n",
          "name": "stdout"
        }
      ]
    },
    {
      "metadata": {},
      "cell_type": "markdown",
      "source": "Drop duplicates by keeping the first value. Inference - 5269 rows are removed from the dataset"
    },
    {
      "metadata": {
        "trusted": true
      },
      "cell_type": "code",
      "source": "df.drop_duplicates(keep='first', inplace=True)\nshape(df)",
      "execution_count": 21,
      "outputs": [
        {
          "output_type": "stream",
          "text": "(536640, 11)\n",
          "name": "stdout"
        }
      ]
    },
    {
      "metadata": {},
      "cell_type": "markdown",
      "source": "Another column in the data is added which gives the total amount spent per transaction. Usecase: Analysis of amount spent by each country, customer"
    },
    {
      "metadata": {
        "colab": {
          "base_uri": "https://localhost:8080/",
          "height": 34
        },
        "colab_type": "code",
        "id": "j0Ukwc8fuHlE",
        "outputId": "61b4ab1a-17f4-4cd4-f5c2-a726e1e1a41d",
        "trusted": true
      },
      "cell_type": "code",
      "source": "df['TotalPrice'] = df['UnitPrice'] * df['Quantity']\nshape(df)",
      "execution_count": 22,
      "outputs": [
        {
          "output_type": "stream",
          "text": "(536640, 12)\n",
          "name": "stdout"
        }
      ]
    },
    {
      "metadata": {},
      "cell_type": "markdown",
      "source": "Check and display the total number of rows that have missing values in each column. Usecase: Data needs to synthesised or removed based on the below figures"
    },
    {
      "metadata": {
        "trusted": true
      },
      "cell_type": "code",
      "source": "df.isnull().sum().sort_values(ascending=False)",
      "execution_count": 23,
      "outputs": [
        {
          "output_type": "execute_result",
          "execution_count": 23,
          "data": {
            "text/plain": "CustomerID     135037\nDescription      1454\nTotalPrice          0\nHour                0\nDay                 0\nMonth               0\nYear                0\nCountry             0\nUnitPrice           0\nQuantity            0\nStockCode           0\nInvoiceNo           0\ndtype: int64"
          },
          "metadata": {}
        }
      ]
    },
    {
      "metadata": {},
      "cell_type": "markdown",
      "source": "Count the total number unique values in each column of the dataset. \n\nInference: No of countries is 38. Hence, it is a supervised multi-class classification problem"
    },
    {
      "metadata": {
        "trusted": true
      },
      "cell_type": "code",
      "source": "df.nunique()",
      "execution_count": 24,
      "outputs": [
        {
          "output_type": "execute_result",
          "execution_count": 24,
          "data": {
            "text/plain": "InvoiceNo      25900\nStockCode       4070\nDescription     4223\nQuantity         722\nUnitPrice       1630\nCustomerID      4372\nCountry           38\nYear               2\nMonth             12\nDay               31\nHour              15\nTotalPrice      6204\ndtype: int64"
          },
          "metadata": {}
        }
      ]
    },
    {
      "metadata": {
        "trusted": true
      },
      "cell_type": "code",
      "source": "df.drop([61619, 61624, 540421, 540422], inplace=True)",
      "execution_count": 34,
      "outputs": []
    },
    {
      "metadata": {
        "trusted": true
      },
      "cell_type": "code",
      "source": "df.drop([4287, 74614, 115818, 225528, 225529, 225530, 502122], inplace=True)",
      "execution_count": 36,
      "outputs": []
    },
    {
      "metadata": {
        "trusted": true
      },
      "cell_type": "code",
      "source": "df.drop([299983, 299984], inplace=True)",
      "execution_count": 42,
      "outputs": []
    },
    {
      "metadata": {
        "trusted": true
      },
      "cell_type": "code",
      "source": "#Hence removed the outliers\ndf.drop([222681, 524602, 43702, 43703], inplace=True)",
      "execution_count": 45,
      "outputs": []
    },
    {
      "metadata": {
        "trusted": true
      },
      "cell_type": "code",
      "source": "df = df[df[\"Description\"].str.startswith(\"?\") == False]\ndf = df[df[\"Description\"].str.isupper() == True]\ndf = df[df[\"Description\"].str.contains(\"LOST\") == False]",
      "execution_count": 57,
      "outputs": []
    },
    {
      "metadata": {
        "trusted": true
      },
      "cell_type": "code",
      "source": "df[\"CustomerID\"].fillna(df[\"InvoiceNo\"], inplace=True)",
      "execution_count": 65,
      "outputs": []
    },
    {
      "metadata": {},
      "cell_type": "markdown",
      "source": "## Model Training"
    },
    {
      "metadata": {},
      "cell_type": "markdown",
      "source": "### 1. Modifying categorical features"
    },
    {
      "metadata": {
        "trusted": true
      },
      "cell_type": "code",
      "source": "from sklearn.preprocessing import LabelBinarizer\nencoder = LabelBinarizer()\ncountry_one_hot = encoder.fit_transform(df['Country'])\nY_onehot=country_one_hot",
      "execution_count": 66,
      "outputs": []
    },
    {
      "metadata": {
        "trusted": true
      },
      "cell_type": "code",
      "source": "Y_onehot",
      "execution_count": 67,
      "outputs": [
        {
          "output_type": "execute_result",
          "execution_count": 67,
          "data": {
            "text/plain": "array([[0, 0, 0, ..., 0, 1, 0],\n       [0, 0, 0, ..., 0, 1, 0],\n       [0, 0, 0, ..., 0, 1, 0],\n       ...,\n       [0, 0, 0, ..., 0, 0, 0],\n       [0, 0, 0, ..., 0, 0, 0],\n       [0, 0, 0, ..., 0, 0, 0]])"
          },
          "metadata": {}
        }
      ]
    },
    {
      "metadata": {
        "trusted": true
      },
      "cell_type": "code",
      "source": "from sklearn.preprocessing import LabelEncoder\nen = LabelEncoder()\ndf[\"Description_Code\"] = en.fit_transform(df[\"Description\"])",
      "execution_count": null,
      "outputs": []
    },
    {
      "metadata": {
        "trusted": true
      },
      "cell_type": "code",
      "source": "#Creating X_train dataset\nd = {'Description': df['Description_Code'], 'Quantity': df['Quantity'], 'Unit Price': df['UnitPrice'], 'Month': df['Month'], 'Day': df['Day'], 'Hour': df['Hour']}",
      "execution_count": 72,
      "outputs": []
    },
    {
      "metadata": {
        "trusted": true
      },
      "cell_type": "code",
      "source": "X=pd.DataFrame(d)",
      "execution_count": 73,
      "outputs": []
    },
    {
      "metadata": {},
      "cell_type": "markdown",
      "source": "#### Implementing Supervised Machine Learning Classification Algorithms"
    },
    {
      "metadata": {
        "colab": {},
        "colab_type": "code",
        "id": "bFudhsCluHmP",
        "trusted": true
      },
      "cell_type": "code",
      "source": "from sklearn import metrics\nfrom sklearn.model_selection import train_test_split, GridSearchCV, KFold\nfrom sklearn.datasets import make_classification\nfrom sklearn.tree import DecisionTreeClassifier ",
      "execution_count": 75,
      "outputs": []
    },
    {
      "metadata": {
        "trusted": false
      },
      "cell_type": "code",
      "source": "#Splitting the dataset: 75% train, 25% test\nX_train_onehot, X_test_onehot, y_train_onehot, y_test_onehot = train_test_split(X, Y_onehot, random_state = 0)",
      "execution_count": 66,
      "outputs": []
    },
    {
      "metadata": {
        "colab": {
          "base_uri": "https://localhost:8080/",
          "height": 34
        },
        "colab_type": "code",
        "id": "3Dc49GHWj3r7",
        "outputId": "ce495091-243a-4e5b-cd9f-6351a8ce7567",
        "trusted": false
      },
      "cell_type": "code",
      "source": "#Decision Tree\ndepth=7\ndecision_model = DecisionTreeClassifier(max_depth = value)\ndecision_model.fit(X_train_onehot, y_train_onehot)\ny_decision_pred = decision_model.predict(X_test_onehot)\ny_classes_pred = y_decision_pred.argmax(axis=-1)\ny_classes_test = y_test_onehot.argmax(axis=-1)\ndecision_test_accuracy = metrics.accuracy_score(y_classes_test, y_classes_pred)",
      "execution_count": 64,
      "outputs": [
        {
          "name": "stdout",
          "output_type": "stream",
          "text": "0.9130457661775319\n0.9130457661775319\n0.9128728650469088\n0.9143538008178975\n0.9129029348087563\n0.9138350974260284\n0.9132186673081549\n0.911106266538369\n0.9069641568438778\n0.9021755472696656\n0.897995850372865\n0.8940567115708443\n0.891681200384893\n0.8902378518162136\n0.8890876834255472\n0.8888997474140005\n"
        },
        {
          "data": {
            "text/plain": "<matplotlib.legend.Legend at 0x20898740780>"
          },
          "execution_count": 64,
          "metadata": {},
          "output_type": "execute_result"
        },
        {
          "data": {
            "image/png": "[encoded data removed]",
            "text/plain": "<Figure size 432x288 with 1 Axes>"
          },
          "metadata": {},
          "output_type": "display_data"
        }
      ]
    },
    {
      "metadata": {
        "colab": {
          "base_uri": "https://localhost:8080/",
          "height": 90
        },
        "colab_type": "code",
        "id": "ZipJKy_YmAbv",
        "outputId": "ab333c1c-9e71-4c40-eed5-de61e8ffd60e",
        "trusted": false
      },
      "cell_type": "code",
      "source": "#Naive-Bayes\n#Since Gaussian NB does not accept any parameters there is no hyperparameter tuning\nnb = GaussianNB()\nnb_model = nb.fit(X_train_list, y_train_list)\ny_nb_pred = nb_model.predict_proba(X_test_list)\ny_classes_pred = y_nb_pred.argmax(axis=-1)\nnb_test_accuracy = metrics.accuracy_score(y_test_list, y_classes_pred)\nprint(nb_test_accuracy)",
      "execution_count": 68,
      "outputs": [
        {
          "name": "stdout",
          "output_type": "stream",
          "text": "0.8950790834736589\n"
        }
      ]
    },
    {
      "metadata": {
        "collapsed": true,
        "trusted": false
      },
      "cell_type": "code",
      "source": "#Alternate linear SVM\nmodel = LinearSVC()\nmodel.fit(X_train_list, y_train_list)\ny_pred = model.predict(X_test_list)",
      "execution_count": 75,
      "outputs": [
        {
          "ename": "NameError",
          "evalue": "name 'accuracy_score' is not defined",
          "output_type": "error",
          "traceback": [
            "\u001b[1;31m---------------------------------------------------------------------------\u001b[0m",
            "\u001b[1;31mNameError\u001b[0m                                 Traceback (most recent call last)",
            "\u001b[1;32m<ipython-input-75-e82befef49fb>\u001b[0m in \u001b[0;36m<module>\u001b[1;34m\u001b[0m\n\u001b[0;32m      6\u001b[0m \u001b[0mmodel\u001b[0m\u001b[1;33m.\u001b[0m\u001b[0mfit\u001b[0m\u001b[1;33m(\u001b[0m\u001b[0mX_train_list\u001b[0m\u001b[1;33m,\u001b[0m \u001b[0my_train_list\u001b[0m\u001b[1;33m)\u001b[0m\u001b[1;33m\u001b[0m\u001b[1;33m\u001b[0m\u001b[0m\n\u001b[0;32m      7\u001b[0m \u001b[0my_pred\u001b[0m \u001b[1;33m=\u001b[0m \u001b[0mmodel\u001b[0m\u001b[1;33m.\u001b[0m\u001b[0mpredict\u001b[0m\u001b[1;33m(\u001b[0m\u001b[0mX_test_list\u001b[0m\u001b[1;33m)\u001b[0m\u001b[1;33m\u001b[0m\u001b[1;33m\u001b[0m\u001b[0m\n\u001b[1;32m----> 8\u001b[1;33m \u001b[0mprint\u001b[0m\u001b[1;33m(\u001b[0m\u001b[0maccuracy_score\u001b[0m\u001b[1;33m(\u001b[0m\u001b[0my_test_list\u001b[0m\u001b[1;33m,\u001b[0m \u001b[0my_pred\u001b[0m\u001b[1;33m)\u001b[0m\u001b[1;33m)\u001b[0m\u001b[1;33m\u001b[0m\u001b[1;33m\u001b[0m\u001b[0m\n\u001b[0m",
            "\u001b[1;31mNameError\u001b[0m: name 'accuracy_score' is not defined"
          ]
        }
      ]
    },
    {
      "metadata": {
        "trusted": false
      },
      "cell_type": "code",
      "source": "print(metrics.accuracy_score(y_test_list, y_pred))",
      "execution_count": 76,
      "outputs": [
        {
          "name": "stdout",
          "output_type": "stream",
          "text": "0.9096704354101516\n"
        }
      ]
    },
    {
      "metadata": {
        "trusted": false
      },
      "cell_type": "code",
      "source": "from sklearn.ensemble import RandomForestClassifier\nrf = RandomForestClassifier()\nparams_rf = {'n_estimators': [50, 100, 200]}\nrf_gs = GridSearchCV(rf, params_rf, cv=5)\nrf_gs.fit(X_train_onehot, y_train_onehot)\nrf_best = rf_gs.best_estimator_\nprint(rf_gs.best_params_)",
      "execution_count": 68,
      "outputs": [
        {
          "name": "stdout",
          "output_type": "stream",
          "text": "{'n_estimators': 200}\n"
        }
      ]
    },
    {
      "metadata": {
        "trusted": true
      },
      "cell_type": "code",
      "source": "os.makedirs('outputs', exist_ok=True)\n# note file saved in the outputs folder is automatically uploaded into experiment record\njoblib.dump(value=clf, filename='outputs/sklearn_mnist_model.pkl')",
      "execution_count": null,
      "outputs": []
    },
    {
      "metadata": {
        "trusted": true
      },
      "cell_type": "code",
      "source": "",
      "execution_count": null,
      "outputs": []
    },
    {
      "metadata": {
        "trusted": true
      },
      "cell_type": "code",
      "source": "",
      "execution_count": null,
      "outputs": []
    }
  ],
  "metadata": {
    "accelerator": "GPU",
    "colab": {
      "collapsed_sections": [],
      "name": "ecommerce.ipynb",
      "provenance": [],
      "version": "0.3.2"
    },
    "kernelspec": {
      "name": "python36",
      "display_name": "Python 3.6",
      "language": "python"
    },
    "language_info": {
      "mimetype": "text/x-python",
      "nbconvert_exporter": "python",
      "name": "python",
      "pygments_lexer": "ipython3",
      "version": "3.6.6",
      "file_extension": ".py",
      "codemirror_mode": {
        "version": 3,
        "name": "ipython"
      }
    }
  },
  "nbformat": 4,
  "nbformat_minor": 1
}