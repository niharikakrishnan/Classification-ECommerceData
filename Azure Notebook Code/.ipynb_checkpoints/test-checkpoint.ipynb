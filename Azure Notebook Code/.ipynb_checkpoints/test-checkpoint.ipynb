{
  "cells": [
    {
      "metadata": {
        "trusted": true
      },
      "cell_type": "code",
      "source": "%matplotlib inline\nimport numpy as np\nimport matplotlib\nimport matplotlib.pyplot as plt\n \nimport azureml\nfrom azureml.core import Workspace, Run\n\n# display the core SDK version number\nprint(\"Azure ML SDK Version: \", azureml.core.VERSION)",
      "execution_count": 25,
      "outputs": [
        {
          "output_type": "stream",
          "text": "Azure ML SDK Version:  1.0.17\n",
          "name": "stdout"
        }
      ]
    },
    {
      "metadata": {
        "trusted": true
      },
      "cell_type": "code",
      "source": "from azureml.core import Workspace\nfrom azureml.core.model import Model\n\nws = Workspace.from_config()\nmodel = Model(ws, id='final_model:1', version=2)\nmodel.download(target_dir='.', exist_ok=True)",
      "execution_count": 2,
      "outputs": [
        {
          "output_type": "stream",
          "text": "Warning: Falling back to use azure cli login credentials.\nIf you run your code in unattended mode, i.e., where you can't give a user input, then we recommend to use ServicePrincipalAuthentication or MsiAuthentication.\nPlease refer to aka.ms/aml-notebook-auth for different authentication mechanisms in azureml-sdk.\n",
          "name": "stderr"
        },
        {
          "output_type": "stream",
          "text": "Found the config file in: /home/nbuser/library/config.json\nPerforming interactive authentication. Please follow the instructions on the terminal.\nTo sign in, use a web browser to open the page https://microsoft.com/devicelogin and enter the code F5MANFJG8 to authenticate.\nInteractive authentication successfully completed.\n",
          "name": "stdout"
        },
        {
          "output_type": "execute_result",
          "execution_count": 2,
          "data": {
            "text/plain": "'ecommerce_model.pkl'"
          },
          "metadata": {}
        }
      ]
    },
    {
      "metadata": {
        "trusted": true
      },
      "cell_type": "code",
      "source": "# verify the downloaded model file\nimport os\nfile_path = os.path.join(os.getcwd(), \"ecommerce_model.pkl\")\nos.stat(file_path)",
      "execution_count": 4,
      "outputs": [
        {
          "output_type": "execute_result",
          "execution_count": 4,
          "data": {
            "text/plain": "os.stat_result(st_mode=33188, st_ino=13, st_dev=49, st_nlink=1, st_uid=1200, st_gid=1200, st_size=171742, st_atime=0, st_mtime=1553073442, st_ctime=1553073442)"
          },
          "metadata": {}
        }
      ]
    },
    {
      "metadata": {
        "trusted": true
      },
      "cell_type": "code",
      "source": "from azureml.core.model import Model\n\nmodel_obj = Model.register(model_path = file_path,\n                       model_name = \"final_model\",\n                       tags = {\"key\": \"0.4\"},\n                       description = \"test\",\n                       workspace = ws)",
      "execution_count": 10,
      "outputs": [
        {
          "output_type": "stream",
          "text": "Registering model final_model\n",
          "name": "stdout"
        }
      ]
    },
    {
      "metadata": {
        "trusted": true
      },
      "cell_type": "code",
      "source": "print(model_obj)",
      "execution_count": 12,
      "outputs": [
        {
          "output_type": "stream",
          "text": "<azureml.core.model.Model object at 0x7fe3bb16b6a0>\n",
          "name": "stdout"
        }
      ]
    },
    {
      "metadata": {
        "trusted": true
      },
      "cell_type": "code",
      "source": "from azureml.core.image import ContainerImage\n\n# Image configuration\nimage_config = ContainerImage.image_configuration(execution_script = \"score.py\",\n                                                 runtime = \"python\",\n                                                 conda_file = \"myenv.yml\"\n                                                 )",
      "execution_count": 6,
      "outputs": []
    },
    {
      "metadata": {
        "trusted": true
      },
      "cell_type": "code",
      "source": "# Register the image from the image configuration\nimage = ContainerImage.create(name = \"ecommerceimage\", \n                              models = [model_obj], #this is the model object\n                              image_config = image_config,\n                              workspace = ws\n                              )",
      "execution_count": 14,
      "outputs": [
        {
          "output_type": "stream",
          "text": "Creating image\n",
          "name": "stdout"
        }
      ]
    },
    {
      "metadata": {
        "trusted": true
      },
      "cell_type": "code",
      "source": "from azureml.core.webservice import Webservice, AksWebservice\naks_config = AksWebservice.deploy_configuration(autoscale_enabled=True,\n                                                autoscale_target_utilization=10,\n                                                autoscale_min_replicas=1,\n                                                autoscale_max_replicas=4)",
      "execution_count": 21,
      "outputs": []
    },
    {
      "metadata": {
        "trusted": true
      },
      "cell_type": "code",
      "source": "from math import ceil\n# target requests per second\ntargetRps = 20\n# time to process the request (in seconds)\nreqTime = 10\n# Maximum requests per container\nmaxReqPerContainer = 1\n# target_utilization. 70% in this example\ntargetUtilization = .7\n\nconcurrentRequests = targetRps * reqTime / targetUtilization\nprint(concurrentRequests)\n# Number of container replicas\nreplicas = ceil(concurrentRequests / maxReqPerContainer)\nprint(replicas)",
      "execution_count": 18,
      "outputs": [
        {
          "output_type": "stream",
          "text": "285.7142857142857\n286\n",
          "name": "stdout"
        }
      ]
    },
    {
      "metadata": {
        "trusted": true
      },
      "cell_type": "code",
      "source": "from azureml.core.compute import AksCompute, ComputeTarget\n\n# Use the default configuration (you can also provide parameters to customize this)\nprov_config = AksCompute.provisioning_configuration()\n\naks_name = 'ecommerceaks'\n# Create the cluster\naks_target = ComputeTarget.create(workspace = ws,\n                                    name = aks_name,\n                                    provisioning_configuration = prov_config)\n\n# Wait for the create process to complete\naks_target.wait_for_completion(show_output = True)\nprint(aks_target.provisioning_state)\nprint(aks_target.provisioning_errors)",
      "execution_count": 29,
      "outputs": [
        {
          "output_type": "stream",
          "text": "Creating.......................................\nFailedProvisioning operation finished, operation \"Failed\"\nAsync operation failed with\nStatusCode: 400\nMessage: The request is invalid\nCompute object has provisioning state \"Failed\"\nand provisioning errors: [{'code': 'BadRequest', 'message': 'The request is invalid', 'error': {'code': 'BadRequest', 'statusCode': 400, 'message': 'The request is invalid', 'details': [{'code': 'The request is invalid', 'message': 'RequestId: 94f8a1e5-681e-4132-8b25-58a2a7202b5d\\nError code: \\'InvalidTemplateDeployment\\'. Target: \\'\\'. Message: \\'The template deployment \\'e3380b54-dbbb-4dd5-92ef-5e358169bf32\\' is not valid according to the validation procedure. The tracking id is \\'94f8a1e5-681e-4132-8b25-58a2a7202b5d\\'. See inner errors for details. Please see https://aka.ms/arm-deploy for usage details.\\'\\n    Error code: \\'QuotaExceeded\\'. Target: \\'\\'. Message: \\'Provisioning of resource(s) for container service ecommerceaks11c643712f in resource group ecommerce-aml failed. Message: {\\n      \"code\": \"QuotaExceeded\",\\n      \"message\": \"Provisioning of resource(s) for container service ecommerceaks11c643712f in resource group ecommerce-aml failed. Message: Operation results in exceeding quota limits of Core. Maximum allowed: 4, Current in use: 0, Additional requested: 12. Please read more about quota increase at https://aka.ms/ProdportalCRP/?#create/Microsoft.Support/Parameters/{\\\\\"subId\\\\\":\\\\\"22ca3877-d6ed-4eaa-94e7-b636d1078dbd\\\\\",\\\\\"pesId\\\\\":\\\\\"15621\\\\\",\\\\\"supportTopicId\\\\\":\\\\\"32447243\\\\\"}.. Details: \"\\n     }. Details: \\'\\n'}]}}]\n\nFailed\n[{'code': 'BadRequest', 'message': 'The request is invalid', 'error': {'code': 'BadRequest', 'statusCode': 400, 'message': 'The request is invalid', 'details': [{'code': 'The request is invalid', 'message': 'RequestId: 94f8a1e5-681e-4132-8b25-58a2a7202b5d\\nError code: \\'InvalidTemplateDeployment\\'. Target: \\'\\'. Message: \\'The template deployment \\'e3380b54-dbbb-4dd5-92ef-5e358169bf32\\' is not valid according to the validation procedure. The tracking id is \\'94f8a1e5-681e-4132-8b25-58a2a7202b5d\\'. See inner errors for details. Please see https://aka.ms/arm-deploy for usage details.\\'\\n    Error code: \\'QuotaExceeded\\'. Target: \\'\\'. Message: \\'Provisioning of resource(s) for container service ecommerceaks11c643712f in resource group ecommerce-aml failed. Message: {\\n      \"code\": \"QuotaExceeded\",\\n      \"message\": \"Provisioning of resource(s) for container service ecommerceaks11c643712f in resource group ecommerce-aml failed. Message: Operation results in exceeding quota limits of Core. Maximum allowed: 4, Current in use: 0, Additional requested: 12. Please read more about quota increase at https://aka.ms/ProdportalCRP/?#create/Microsoft.Support/Parameters/{\\\\\"subId\\\\\":\\\\\"22ca3877-d6ed-4eaa-94e7-b636d1078dbd\\\\\",\\\\\"pesId\\\\\":\\\\\"15621\\\\\",\\\\\"supportTopicId\\\\\":\\\\\"32447243\\\\\"}.. Details: \"\\n     }. Details: \\'\\n'}]}}]\n",
          "name": "stdout"
        }
      ]
    },
    {
      "metadata": {
        "trusted": true
      },
      "cell_type": "code",
      "source": "from azureml.core.compute import AksCompute, ComputeTarget\n\n# Use the default configuration (you can also provide parameters to customize this)\nprov_config = AksCompute.provisioning_configuration(agent_count=2, vm_size=2)\n\naks_name = 'ecommerceaks'\n# Create the cluster\naks_target = ComputeTarget.create(workspace = ws,\n                                    name = aks_name,\n                                    provisioning_configuration = prov_config)\n\n# Wait for the create process to complete\naks_target.wait_for_completion(show_output = True)\nprint(aks_target.provisioning_state)\nprint(aks_target.provisioning_errors)",
      "execution_count": 27,
      "outputs": [
        {
          "output_type": "stream",
          "text": "Creating.\nFailedProvisioning operation finished, operation \"Failed\"\nAsync operation failed with\nStatusCode: 400\nMessage: The request is invalid\nCompute object has provisioning state \"Failed\"\nand provisioning errors: [{'code': 'BadRequest', 'message': 'The request is invalid', 'error': {'code': 'BadRequest', 'statusCode': 400, 'message': 'The request is invalid', 'details': [{'code': 'BadRequestFormat', 'message': \"agentVmSize '2' is not allowed. Available VM Sizes are Standard_B1ls,Standard_B1ms,Standard_B1s,Standard_B2ms,Standard_B2s,Standard_B4ms,Standard_B8ms,Standard_DS1_v2,Standard_DS2_v2,Standard_DS3_v2,Standard_DS4_v2,Standard_DS5_v2,Standard_DS11-1_v2,Standard_DS11_v2,Standard_DS12-1_v2,Standard_DS12-2_v2,Standard_DS12_v2,Standard_DS13-2_v2,Standard_DS13-4_v2,Standard_DS13_v2,Standard_DS14-4_v2,Standard_DS14-8_v2,Standard_DS14_v2,Standard_DS15_v2,Standard_DS2_v2_Promo,Standard_DS3_v2_Promo,Standard_DS4_v2_Promo,Standard_DS5_v2_Promo,Standard_DS11_v2_Promo,Standard_DS12_v2_Promo,Standard_DS13_v2_Promo,Standard_DS14_v2_Promo,Standard_F1s,Standard_F2s,Standard_F4s,Standard_F8s,Standard_F16s,Standard_D2s_v3,Standard_D4s_v3,Standard_D8s_v3,Standard_D16s_v3,Standard_D32s_v3,Standard_A0,Standard_A1,Standard_A2,Standard_A3,Standard_A5,Standard_A4,Standard_A6,Standard_A7,Basic_A0,Basic_A1,Basic_A2,Basic_A3,Basic_A4,Standard_D1_v2,Standard_D2_v2,Standard_D3_v2,Standard_D4_v2,Standard_D5_v2,Standard_D11_v2,Standard_D12_v2,Standard_D13_v2,Standard_D14_v2,Standard_D15_v2,Standard_D2_v2_Promo,Standard_D3_v2_Promo,Standard_D4_v2_Promo,Standard_D5_v2_Promo,Standard_D11_v2_Promo,Standard_D12_v2_Promo,Standard_D13_v2_Promo,Standard_D14_v2_Promo,Standard_F1,Standard_F2,Standard_F4,Standard_F8,Standard_F16,Standard_A1_v2,Standard_A2m_v2,Standard_A2_v2,Standard_A4m_v2,Standard_A4_v2,Standard_A8m_v2,Standard_A8_v2,Standard_D2_v3,Standard_D4_v3,Standard_D8_v3,Standard_D16_v3,Standard_D32_v3,Standard_D64_v3,Standard_D64s_v3,Standard_E2_v3,Standard_E4_v3,Standard_E8_v3,Standard_E16_v3,Standard_E20_v3,Standard_E32_v3,Standard_E64i_v3,Standard_E64_v3,Standard_E2s_v3,Standard_E4-2s_v3,Standard_E4s_v3,Standard_E8-2s_v3,Standard_E8-4s_v3,Standard_E8s_v3,Standard_E16-4s_v3,Standard_E16-8s_v3,Standard_E16s_v3,Standard_E20s_v3,Standard_E32-8s_v3,Standard_E32-16s_v3,Standard_E32s_v3,Standard_E64-16s_v3,Standard_E64-32s_v3,Standard_E64is_v3,Standard_E64s_v3,Standard_H8,Standard_H16,Standard_H8m,Standard_H16m,Standard_H16r,Standard_H16mr,Standard_D1,Standard_D2,Standard_D3,Standard_D4,Standard_D11,Standard_D12,Standard_D13,Standard_D14,Standard_NV6,Standard_NV12,Standard_NV24,Standard_NC6s_v2,Standard_NC12s_v2,Standard_NC24rs_v2,Standard_NC24s_v2,Standard_NC6,Standard_NC12,Standard_NC24,Standard_NC24r,Standard_F2s_v2,Standard_F4s_v2,Standard_F8s_v2,Standard_F16s_v2,Standard_F32s_v2,Standard_F64s_v2,Standard_F72s_v2,Standard_DS1,Standard_DS2,Standard_DS3,Standard_DS4,Standard_DS11,Standard_DS12,Standard_DS13,Standard_DS14,Standard_ND6s,Standard_ND12s,Standard_ND24rs,Standard_ND24s,Standard_DC2s,Standard_DC4s,Standard_NC6s_v3,Standard_NC12s_v3,Standard_NC24rs_v3,Standard_NC24s_v3,Standard_L8s_v2,Standard_L16s_v2,Standard_L32s_v2,Standard_L64s_v2,Standard_L80s_v2,Standard_A8,Standard_A9,Standard_A10,Standard_A11,Standard_M8-2ms,Standard_M8-4ms,Standard_M8ms,Standard_M16-4ms,Standard_M16-8ms,Standard_M16ms,Standard_M32-8ms,Standard_M32-16ms,Standard_M32ls,Standard_M32ms,Standard_M32ts,Standard_M64-16ms,Standard_M64-32ms,Standard_M64ls,Standard_M64ms,Standard_M64s,Standard_M128-32ms,Standard_M128-64ms,Standard_M128ms,Standard_M128s,Standard_M64,Standard_M64m,Standard_M128,Standard_M128m.\"}]}}]\n\nFailed\n[{'code': 'BadRequest', 'message': 'The request is invalid', 'error': {'code': 'BadRequest', 'statusCode': 400, 'message': 'The request is invalid', 'details': [{'code': 'BadRequestFormat', 'message': \"agentVmSize '2' is not allowed. Available VM Sizes are Standard_B1ls,Standard_B1ms,Standard_B1s,Standard_B2ms,Standard_B2s,Standard_B4ms,Standard_B8ms,Standard_DS1_v2,Standard_DS2_v2,Standard_DS3_v2,Standard_DS4_v2,Standard_DS5_v2,Standard_DS11-1_v2,Standard_DS11_v2,Standard_DS12-1_v2,Standard_DS12-2_v2,Standard_DS12_v2,Standard_DS13-2_v2,Standard_DS13-4_v2,Standard_DS13_v2,Standard_DS14-4_v2,Standard_DS14-8_v2,Standard_DS14_v2,Standard_DS15_v2,Standard_DS2_v2_Promo,Standard_DS3_v2_Promo,Standard_DS4_v2_Promo,Standard_DS5_v2_Promo,Standard_DS11_v2_Promo,Standard_DS12_v2_Promo,Standard_DS13_v2_Promo,Standard_DS14_v2_Promo,Standard_F1s,Standard_F2s,Standard_F4s,Standard_F8s,Standard_F16s,Standard_D2s_v3,Standard_D4s_v3,Standard_D8s_v3,Standard_D16s_v3,Standard_D32s_v3,Standard_A0,Standard_A1,Standard_A2,Standard_A3,Standard_A5,Standard_A4,Standard_A6,Standard_A7,Basic_A0,Basic_A1,Basic_A2,Basic_A3,Basic_A4,Standard_D1_v2,Standard_D2_v2,Standard_D3_v2,Standard_D4_v2,Standard_D5_v2,Standard_D11_v2,Standard_D12_v2,Standard_D13_v2,Standard_D14_v2,Standard_D15_v2,Standard_D2_v2_Promo,Standard_D3_v2_Promo,Standard_D4_v2_Promo,Standard_D5_v2_Promo,Standard_D11_v2_Promo,Standard_D12_v2_Promo,Standard_D13_v2_Promo,Standard_D14_v2_Promo,Standard_F1,Standard_F2,Standard_F4,Standard_F8,Standard_F16,Standard_A1_v2,Standard_A2m_v2,Standard_A2_v2,Standard_A4m_v2,Standard_A4_v2,Standard_A8m_v2,Standard_A8_v2,Standard_D2_v3,Standard_D4_v3,Standard_D8_v3,Standard_D16_v3,Standard_D32_v3,Standard_D64_v3,Standard_D64s_v3,Standard_E2_v3,Standard_E4_v3,Standard_E8_v3,Standard_E16_v3,Standard_E20_v3,Standard_E32_v3,Standard_E64i_v3,Standard_E64_v3,Standard_E2s_v3,Standard_E4-2s_v3,Standard_E4s_v3,Standard_E8-2s_v3,Standard_E8-4s_v3,Standard_E8s_v3,Standard_E16-4s_v3,Standard_E16-8s_v3,Standard_E16s_v3,Standard_E20s_v3,Standard_E32-8s_v3,Standard_E32-16s_v3,Standard_E32s_v3,Standard_E64-16s_v3,Standard_E64-32s_v3,Standard_E64is_v3,Standard_E64s_v3,Standard_H8,Standard_H16,Standard_H8m,Standard_H16m,Standard_H16r,Standard_H16mr,Standard_D1,Standard_D2,Standard_D3,Standard_D4,Standard_D11,Standard_D12,Standard_D13,Standard_D14,Standard_NV6,Standard_NV12,Standard_NV24,Standard_NC6s_v2,Standard_NC12s_v2,Standard_NC24rs_v2,Standard_NC24s_v2,Standard_NC6,Standard_NC12,Standard_NC24,Standard_NC24r,Standard_F2s_v2,Standard_F4s_v2,Standard_F8s_v2,Standard_F16s_v2,Standard_F32s_v2,Standard_F64s_v2,Standard_F72s_v2,Standard_DS1,Standard_DS2,Standard_DS3,Standard_DS4,Standard_DS11,Standard_DS12,Standard_DS13,Standard_DS14,Standard_ND6s,Standard_ND12s,Standard_ND24rs,Standard_ND24s,Standard_DC2s,Standard_DC4s,Standard_NC6s_v3,Standard_NC12s_v3,Standard_NC24rs_v3,Standard_NC24s_v3,Standard_L8s_v2,Standard_L16s_v2,Standard_L32s_v2,Standard_L64s_v2,Standard_L80s_v2,Standard_A8,Standard_A9,Standard_A10,Standard_A11,Standard_M8-2ms,Standard_M8-4ms,Standard_M8ms,Standard_M16-4ms,Standard_M16-8ms,Standard_M16ms,Standard_M32-8ms,Standard_M32-16ms,Standard_M32ls,Standard_M32ms,Standard_M32ts,Standard_M64-16ms,Standard_M64-32ms,Standard_M64ls,Standard_M64ms,Standard_M64s,Standard_M128-32ms,Standard_M128-64ms,Standard_M128ms,Standard_M128s,Standard_M64,Standard_M64m,Standard_M128,Standard_M128m.\"}]}}]\n",
          "name": "stdout"
        }
      ]
    },
    {
      "metadata": {},
      "cell_type": "markdown",
      "source": "https://social.msdn.microsoft.com/Forums/sqlserver/en-US/1cd4681e-0f34-43a1-baa5-157d10352fc9/is-there-a-core-limit-for-the-azure-trial?forum=WAVirtualMachinesforWindows\n\nhttps://feedback.azure.com/forums/170030-signup-and-billing/suggestions/16926685-up-the-core-limit-on-the-azure-free-trial-to-at-le\n\n"
    },
    {
      "metadata": {
        "trusted": true
      },
      "cell_type": "code",
      "source": "from azureml.core.webservice import Webservice, AksWebservice\n\n# Set configuration and service name\naks_config = AksWebservice.deploy_configuration()\naks_service_name ='aks-service-1'\n# Deploy from image\nservice = Webservice.deploy_from_image(workspace = ws,\n                                            name = aks_service_name,\n                                            image = image,\n                                            deployment_config = aks_config,\n                                            deployment_target = aks_target)\n# Wait for the deployment to complete\nservice.wait_for_deployment(show_output = True)\nprint(service.state)",
      "execution_count": null,
      "outputs": []
    }
  ],
  "metadata": {
    "kernelspec": {
      "name": "python36",
      "display_name": "Python 3.6",
      "language": "python"
    },
    "language_info": {
      "mimetype": "text/x-python",
      "nbconvert_exporter": "python",
      "name": "python",
      "pygments_lexer": "ipython3",
      "version": "3.6.6",
      "file_extension": ".py",
      "codemirror_mode": {
        "version": 3,
        "name": "ipython"
      }
    }
  },
  "nbformat": 4,
  "nbformat_minor": 2
}