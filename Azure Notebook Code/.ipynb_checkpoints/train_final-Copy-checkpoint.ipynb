{
  "cells": [
    {
      "metadata": {
        "colab_type": "text",
        "id": "QYg_pZ9NuHkY"
      },
      "cell_type": "markdown",
      "source": "# Customer Classification using E-Commerce Dataset\n"
    },
    {
      "metadata": {
        "colab_type": "text",
        "id": "J4zKjTKxuHka"
      },
      "cell_type": "markdown",
      "source": "## About Dataset\nThis is a transnational data set which contains all the transactions occurring between 01/12/2010 and 09/12/2011 for a UK-based and registered non-store online retail.The company mainly sells unique all-occasion gifts. Many customers of the company are wholesalers."
    },
    {
      "metadata": {
        "colab_type": "text",
        "id": "kh6nl9youHkd"
      },
      "cell_type": "markdown",
      "source": "## Aim\nWe aim to implement various classification algorithms like SVM, Logistic Regression, Naive Bayes, Random Forest, SGD, k-NN to predict a customer's origin and to compare the performance of these supervised machine learning models."
    },
    {
      "metadata": {
        "colab_type": "text",
        "id": "khoVbiFRuHke"
      },
      "cell_type": "markdown",
      "source": "### 1. Data Processing"
    },
    {
      "metadata": {},
      "cell_type": "markdown",
      "source": "Importing necessary libraries for data preprocessing, data augmentation and classification"
    },
    {
      "metadata": {
        "colab": {},
        "colab_type": "code",
        "id": "20hOiKQsuHkf",
        "trusted": true
      },
      "cell_type": "code",
      "source": "import numpy as np\nimport pandas as pd \nimport matplotlib.pyplot as plt\nimport seaborn as sns\nimport sklearn\nimport nltk",
      "execution_count": 1,
      "outputs": []
    },
    {
      "metadata": {
        "trusted": true
      },
      "cell_type": "code",
      "source": "from azureml.core import Run\nrun = Run.get_context()",
      "execution_count": 3,
      "outputs": []
    },
    {
      "metadata": {
        "trusted": true
      },
      "cell_type": "code",
      "source": "run.log('Accuracy', 100)",
      "execution_count": 4,
      "outputs": [
        {
          "output_type": "stream",
          "text": "Attempted to log scalar metric Accuracy:\n100\n",
          "name": "stdout"
        }
      ]
    },
    {
      "metadata": {
        "trusted": true
      },
      "cell_type": "code",
      "source": "run.complete()",
      "execution_count": 5,
      "outputs": []
    }
  ],
  "metadata": {
    "accelerator": "GPU",
    "colab": {
      "collapsed_sections": [],
      "name": "ecommerce.ipynb",
      "provenance": [],
      "version": "0.3.2"
    },
    "kernelspec": {
      "name": "python36",
      "display_name": "Python 3.6",
      "language": "python"
    },
    "language_info": {
      "mimetype": "text/x-python",
      "nbconvert_exporter": "python",
      "name": "python",
      "pygments_lexer": "ipython3",
      "version": "3.6.6",
      "file_extension": ".py",
      "codemirror_mode": {
        "version": 3,
        "name": "ipython"
      }
    }
  },
  "nbformat": 4,
  "nbformat_minor": 1
}