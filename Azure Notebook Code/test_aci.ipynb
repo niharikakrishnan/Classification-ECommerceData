{
  "cells": [
    {
      "metadata": {
        "trusted": true
      },
      "cell_type": "code",
      "source": "%matplotlib inline\nimport numpy as np\nimport matplotlib\nimport matplotlib.pyplot as plt\n \nimport azureml\nfrom azureml.core import Workspace, Run\n\n# display the core SDK version number\nprint(\"Azure ML SDK Version: \", azureml.core.VERSION)",
      "execution_count": 1,
      "outputs": [
        {
          "output_type": "stream",
          "text": "Azure ML SDK Version:  1.0.17\n",
          "name": "stdout"
        }
      ]
    },
    {
      "metadata": {
        "trusted": true
      },
      "cell_type": "code",
      "source": "from azureml.core import Workspace\nfrom azureml.core.model import Model\n\nws = Workspace.from_config()\nmodel = Model(ws, 'test_model')\nmodel.download(target_dir='.', exist_ok=True)\n\n# verify the downloaded model file\nimport os\nfile_path = os.path.join(os.getcwd(), \"test_model.pkl\")\nos.stat(file_path)",
      "execution_count": 2,
      "outputs": [
        {
          "output_type": "stream",
          "text": "Warning: Falling back to use azure cli login credentials.\nIf you run your code in unattended mode, i.e., where you can't give a user input, then we recommend to use ServicePrincipalAuthentication or MsiAuthentication.\nPlease refer to aka.ms/aml-notebook-auth for different authentication mechanisms in azureml-sdk.\n",
          "name": "stderr"
        },
        {
          "output_type": "stream",
          "text": "Found the config file in: /home/nbuser/library/config.json\nPerforming interactive authentication. Please follow the instructions on the terminal.\nTo sign in, use a web browser to open the page https://microsoft.com/devicelogin and enter the code F8F22PTKG to authenticate.\nInteractive authentication successfully completed.\n",
          "name": "stdout"
        },
        {
          "output_type": "execute_result",
          "execution_count": 2,
          "data": {
            "text/plain": "os.stat_result(st_mode=33188, st_ino=4, st_dev=49, st_nlink=1, st_uid=1200, st_gid=1200, st_size=171742, st_atime=0, st_mtime=1554107787, st_ctime=1554107787)"
          },
          "metadata": {}
        }
      ]
    },
    {
      "metadata": {
        "trusted": true
      },
      "cell_type": "code",
      "source": "from azureml.core.webservice import AciWebservice\n\naciconfig = AciWebservice.deploy_configuration(cpu_cores=1, \n                                               memory_gb=1, \n                                               tags={\"data\": \"ecommerce\",  \"method\" : \"sklearn\"}, \n                                               description='Customer Classification')",
      "execution_count": 3,
      "outputs": []
    },
    {
      "metadata": {
        "trusted": true
      },
      "cell_type": "code",
      "source": "from azureml.core.webservice import Webservice\nfrom azureml.core.image import ContainerImage\n\n# configure the image\nimage_config = ContainerImage.image_configuration(execution_script=\"score.py\", \n                                                  runtime=\"python\", \n                                                  conda_file=\"conda_dependencies.yml\")",
      "execution_count": 37,
      "outputs": []
    },
    {
      "metadata": {
        "trusted": true
      },
      "cell_type": "code",
      "source": "service = Webservice.deploy_from_model(workspace=ws,\n                                       name='deployimagefinal8',\n                                       deployment_config=aciconfig,\n                                       models=[model],\n                                       image_config=image_config)",
      "execution_count": 38,
      "outputs": [
        {
          "output_type": "stream",
          "text": "Creating image\nImage creation operation finished for image deployimagefinal8:1, operation \"Succeeded\"\nCreating service\n",
          "name": "stdout"
        }
      ]
    },
    {
      "metadata": {
        "trusted": true
      },
      "cell_type": "code",
      "source": "service.wait_for_deployment(show_output=True)",
      "execution_count": 39,
      "outputs": [
        {
          "output_type": "stream",
          "text": "Running.....\nSucceededACI service creation operation finished, operation \"Succeeded\"\n",
          "name": "stdout"
        }
      ]
    },
    {
      "metadata": {
        "trusted": true
      },
      "cell_type": "code",
      "source": "print(service.scoring_uri)",
      "execution_count": 40,
      "outputs": [
        {
          "output_type": "stream",
          "text": "http://20.185.111.89:80/score\n",
          "name": "stdout"
        }
      ]
    },
    {
      "metadata": {
        "trusted": true
      },
      "cell_type": "code",
      "source": "jsondata = \"\"\"{\"data\": [\n    {\"description\": \"YELLOW COAT RACK PARIS FASHION\", \n    \"quantity\": \"100\", \n    \"unitprice\": \"4.95\", \n    \"timestamp\": \"03-12-2010 11:26\"\n    }, \n\n    {\"description\": \"HAND WARMER BIRD DESIGN\", \n    \"quantity\": \"3\", \n    \"unitprice\": \"4.21\", \n    \"timestamp\": \"6/30/2011 11:56\"\n    }, \n\n    {\"description\": \"BLUE DINER WALL CLOCK\", \n    \"quantity\": \"10\", \n    \"unitprice\": \"8.5\",\n    \"timestamp\": \"11/17/2011 10:35\"\n    }]}\"\"\"",
      "execution_count": 43,
      "outputs": []
    },
    {
      "metadata": {
        "trusted": true
      },
      "cell_type": "code",
      "source": "result = service.run(jsondata)",
      "execution_count": 44,
      "outputs": []
    },
    {
      "metadata": {
        "trusted": true
      },
      "cell_type": "code",
      "source": "finalclass = result[0]",
      "execution_count": 52,
      "outputs": []
    },
    {
      "metadata": {
        "trusted": true
      },
      "cell_type": "code",
      "source": "country = {36: 'United Kingdom', 13: 'France', 0: 'Australia', 24: 'Netherlands', 14: 'Germany', 25: 'Norway', 10: 'EIRE', 33: 'Switzerland', 31: 'Spain', 26: 'Poland', 27: 'Portugal', 19: 'Italy', 3: 'Belgium', 22: 'Lithuania', 20: 'Japan', 17: 'Iceland', 6: 'Channel Islands', 9: 'Denmark', 7: 'Cyprus', 32: 'Sweden', 1: 'Austria', 18: 'Israel', 12: 'Finland', 2: 'Bahrain', 15: 'Greece', 16: 'Hong Kong', 30: 'Singapore', 21: 'Lebanon', 35: 'United Arab Emirates', 29: 'Saudi Arabia', 8: 'Czech Republic', 5: 'Canada', 37: 'Unspecified', 4: 'Brazil', 34: 'USA', 11: 'European Community', 23: 'Malta', 28: 'RSA'}",
      "execution_count": 50,
      "outputs": []
    },
    {
      "metadata": {
        "trusted": true
      },
      "cell_type": "code",
      "source": "if finalclass in country:\n    print(country[finalclass])",
      "execution_count": 53,
      "outputs": [
        {
          "output_type": "stream",
          "text": "United Kingdom\n",
          "name": "stdout"
        }
      ]
    },
    {
      "metadata": {
        "trusted": true
      },
      "cell_type": "code",
      "source": "import requests\nheaders = {'Content-Type':'application/json'}\nresp = requests.post(service.scoring_uri, jsondata, headers=headers)\nprint(\"prediction:\", resp.text)\nprint(type(resp.text))",
      "execution_count": 54,
      "outputs": [
        {
          "output_type": "stream",
          "text": "prediction: [36]\n<class 'str'>\n",
          "name": "stdout"
        }
      ]
    },
    {
      "metadata": {
        "trusted": true
      },
      "cell_type": "code",
      "source": "print(int(resp.text.strip('[]')))",
      "execution_count": 59,
      "outputs": [
        {
          "output_type": "stream",
          "text": "36\n",
          "name": "stdout"
        }
      ]
    },
    {
      "metadata": {
        "trusted": true
      },
      "cell_type": "code",
      "source": "",
      "execution_count": null,
      "outputs": []
    }
  ],
  "metadata": {
    "kernelspec": {
      "name": "python36",
      "display_name": "Python 3.6",
      "language": "python"
    },
    "language_info": {
      "mimetype": "text/x-python",
      "nbconvert_exporter": "python",
      "name": "python",
      "pygments_lexer": "ipython3",
      "version": "3.6.6",
      "file_extension": ".py",
      "codemirror_mode": {
        "version": 3,
        "name": "ipython"
      }
    }
  },
  "nbformat": 4,
  "nbformat_minor": 2
}